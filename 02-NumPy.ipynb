{
 "cells": [
  {
   "cell_type": "markdown",
   "metadata": {},
   "source": [
    "# NumPy and ndarrays"
   ]
  },
  {
   "cell_type": "code",
   "execution_count": 1,
   "metadata": {},
   "outputs": [],
   "source": [
    "import numpy as np # Standard alias for importing NumPy"
   ]
  },
  {
   "cell_type": "code",
   "execution_count": 2,
   "metadata": {},
   "outputs": [
    {
     "data": {
      "text/plain": [
       "array([[ 1.67246295, -2.03053364, -0.3411926 ],\n",
       "       [ 0.80677096,  0.5491076 ,  1.41378973]])"
      ]
     },
     "execution_count": 2,
     "metadata": {},
     "output_type": "execute_result"
    }
   ],
   "source": [
    "data = np.random.randn(2,3)\n",
    "data"
   ]
  },
  {
   "cell_type": "code",
   "execution_count": 3,
   "metadata": {},
   "outputs": [
    {
     "data": {
      "text/plain": [
       "array([[ 16.72462954, -20.30533644,  -3.41192602],\n",
       "       [  8.0677096 ,   5.49107599,  14.13789731]])"
      ]
     },
     "execution_count": 3,
     "metadata": {},
     "output_type": "execute_result"
    }
   ],
   "source": [
    "data*10"
   ]
  },
  {
   "cell_type": "code",
   "execution_count": 4,
   "metadata": {},
   "outputs": [
    {
     "data": {
      "text/plain": [
       "array([[ 3.34492591, -4.06106729, -0.6823852 ],\n",
       "       [ 1.61354192,  1.0982152 ,  2.82757946]])"
      ]
     },
     "execution_count": 4,
     "metadata": {},
     "output_type": "execute_result"
    }
   ],
   "source": [
    "data + data"
   ]
  },
  {
   "cell_type": "code",
   "execution_count": 5,
   "metadata": {},
   "outputs": [
    {
     "data": {
      "text/plain": [
       "(2, 3)"
      ]
     },
     "execution_count": 5,
     "metadata": {},
     "output_type": "execute_result"
    }
   ],
   "source": [
    "data.shape"
   ]
  },
  {
   "cell_type": "code",
   "execution_count": 6,
   "metadata": {},
   "outputs": [
    {
     "data": {
      "text/plain": [
       "dtype('float64')"
      ]
     },
     "execution_count": 6,
     "metadata": {},
     "output_type": "execute_result"
    }
   ],
   "source": [
    "data.dtype"
   ]
  },
  {
   "cell_type": "markdown",
   "metadata": {
    "collapsed": true
   },
   "source": [
    "# Array creation functions"
   ]
  },
  {
   "cell_type": "code",
   "execution_count": 7,
   "metadata": {},
   "outputs": [
    {
     "data": {
      "text/plain": [
       "array([6. , 7.5, 8. , 0. , 1. ])"
      ]
     },
     "execution_count": 7,
     "metadata": {},
     "output_type": "execute_result"
    }
   ],
   "source": [
    "arr_fromlist = np.array( [ 6, 7.5, 8, 0, 1 ])\n",
    "arr_fromlist"
   ]
  },
  {
   "cell_type": "code",
   "execution_count": 8,
   "metadata": {},
   "outputs": [
    {
     "data": {
      "text/plain": [
       "array([[ 1,  2,  3,  4,  5],\n",
       "       [ 6,  7,  8,  9, 10]])"
      ]
     },
     "execution_count": 8,
     "metadata": {},
     "output_type": "execute_result"
    }
   ],
   "source": [
    "arr_fromlist2D = np.array( [[1, 2, 3, 4, 5], [6, 7, 8, 9, 10]] )\n",
    "arr_fromlist2D"
   ]
  },
  {
   "cell_type": "code",
   "execution_count": 9,
   "metadata": {},
   "outputs": [
    {
     "data": {
      "text/plain": [
       "array([[0., 0., 0., 0., 0., 0., 0.],\n",
       "       [0., 0., 0., 0., 0., 0., 0.],\n",
       "       [0., 0., 0., 0., 0., 0., 0.],\n",
       "       [0., 0., 0., 0., 0., 0., 0.]])"
      ]
     },
     "execution_count": 9,
     "metadata": {},
     "output_type": "execute_result"
    }
   ],
   "source": [
    "arr_zeros = np.zeros( (4,7) )\n",
    "arr_zeros"
   ]
  },
  {
   "cell_type": "code",
   "execution_count": 10,
   "metadata": {},
   "outputs": [
    {
     "data": {
      "text/plain": [
       "array([[1., 1., 1., 1.],\n",
       "       [1., 1., 1., 1.],\n",
       "       [1., 1., 1., 1.],\n",
       "       [1., 1., 1., 1.],\n",
       "       [1., 1., 1., 1.],\n",
       "       [1., 1., 1., 1.],\n",
       "       [1., 1., 1., 1.]])"
      ]
     },
     "execution_count": 10,
     "metadata": {},
     "output_type": "execute_result"
    }
   ],
   "source": [
    "arr_ones = np.ones( (7,4) )\n",
    "arr_ones"
   ]
  },
  {
   "cell_type": "code",
   "execution_count": 11,
   "metadata": {},
   "outputs": [
    {
     "data": {
      "text/plain": [
       "array([[0., 0., 0., 0.],\n",
       "       [0., 0., 0., 0.],\n",
       "       [0., 0., 0., 0.],\n",
       "       [0., 0., 0., 0.],\n",
       "       [0., 0., 0., 0.],\n",
       "       [0., 0., 0., 0.],\n",
       "       [0., 0., 0., 0.]])"
      ]
     },
     "execution_count": 11,
     "metadata": {},
     "output_type": "execute_result"
    }
   ],
   "source": [
    "arr_zeroslike = np.zeros_like( arr_ones )\n",
    "arr_zeroslike"
   ]
  },
  {
   "cell_type": "code",
   "execution_count": 12,
   "metadata": {},
   "outputs": [
    {
     "data": {
      "text/plain": [
       "array([[1., 1., 1., 1., 1., 1., 1.],\n",
       "       [1., 1., 1., 1., 1., 1., 1.],\n",
       "       [1., 1., 1., 1., 1., 1., 1.],\n",
       "       [1., 1., 1., 1., 1., 1., 1.]])"
      ]
     },
     "execution_count": 12,
     "metadata": {},
     "output_type": "execute_result"
    }
   ],
   "source": [
    "arr_oneslike = np.ones_like( arr_zeros )\n",
    "arr_oneslike"
   ]
  },
  {
   "cell_type": "code",
   "execution_count": 13,
   "metadata": {},
   "outputs": [
    {
     "data": {
      "text/plain": [
       "array([ 3,  5,  7,  9, 11, 13, 15])"
      ]
     },
     "execution_count": 13,
     "metadata": {},
     "output_type": "execute_result"
    }
   ],
   "source": [
    "arr_arange = np.arange( 3,17,2 ) # Same format as slicing: begin, end, step\n",
    "arr_arange"
   ]
  },
  {
   "cell_type": "code",
   "execution_count": 14,
   "metadata": {},
   "outputs": [
    {
     "data": {
      "text/plain": [
       "array([[1., 0., 0., 0., 0.],\n",
       "       [0., 1., 0., 0., 0.],\n",
       "       [0., 0., 1., 0., 0.],\n",
       "       [0., 0., 0., 1., 0.],\n",
       "       [0., 0., 0., 0., 1.]])"
      ]
     },
     "execution_count": 14,
     "metadata": {},
     "output_type": "execute_result"
    }
   ],
   "source": [
    "arr_id = np.identity( 5 )\n",
    "arr_id"
   ]
  },
  {
   "cell_type": "code",
   "execution_count": 15,
   "metadata": {},
   "outputs": [
    {
     "data": {
      "text/plain": [
       "array([[1., 0., 0.],\n",
       "       [0., 1., 0.]])"
      ]
     },
     "execution_count": 15,
     "metadata": {},
     "output_type": "execute_result"
    }
   ],
   "source": [
    "arr_eye = np.eye( 2, 3 )\n",
    "arr_eye"
   ]
  },
  {
   "cell_type": "code",
   "execution_count": 16,
   "metadata": {},
   "outputs": [
    {
     "data": {
      "text/plain": [
       "array([[4.04738577e-320, 2.92486862e-321, 0.00000000e+000,\n",
       "        5.07112250e-310, 4.94065646e-324, 5.07112250e-310,\n",
       "        5.07112250e-310, 4.94065646e-324, 5.07112250e-310,\n",
       "        5.07112250e-310, 1.18575755e-322, 6.57762008e-310,\n",
       "        4.88059032e-313, 0.00000000e+000, 4.94065646e-324,\n",
       "        1.90979621e-313, 1.18575755e-322, 6.57762885e-310,\n",
       "        4.94065646e-324, 1.90979621e-313],\n",
       "       [2.54639495e-313, 2.97079411e-313, 1.03753786e-322,\n",
       "        5.07112250e-310, 6.57763062e-310, 1.90979621e-313,\n",
       "        2.54639495e-313, 4.24399158e-313, 4.94065646e-324,\n",
       "        5.07112250e-310, 5.07112250e-310, 9.88131292e-324,\n",
       "        5.07112250e-310, 5.07112250e-310, 5.07112250e-310,\n",
       "        5.07093334e-310, 6.57763142e-310, 0.00000000e+000,\n",
       "        4.94065646e-324, 4.88059032e-313],\n",
       "       [5.30498948e-313, 5.07093334e-310, 6.57763142e-310,\n",
       "        0.00000000e+000, 1.18575755e-322, 5.51718906e-313,\n",
       "        5.94158821e-313, 9.88131292e-323, 6.57762013e-310,\n",
       "        0.00000000e+000, 1.18575755e-322, 4.66839074e-313,\n",
       "        6.15378779e-313, 0.00000000e+000, 5.07112250e-310,\n",
       "        0.00000000e+000, 8.39911598e-323, 5.07112250e-310,\n",
       "        5.07112250e-310, 5.07112250e-310],\n",
       "       [2.54639495e-313, 6.57818695e-313, 2.96439388e-323,\n",
       "        5.07112250e-310, 5.07112250e-310, 0.00000000e+000,\n",
       "        5.57800114e-321, 5.07112250e-310, 5.43472210e-323,\n",
       "        5.07112250e-310, 4.94065646e-324, 6.57818695e-313,\n",
       "        0.00000000e+000, 5.07112250e-310, 0.00000000e+000,\n",
       "        5.07093334e-310, 5.07112250e-310, 5.07112250e-310,\n",
       "        5.59282311e-321, 5.07112250e-310],\n",
       "       [5.43472210e-323, 5.07112250e-310, 5.51718911e-313,\n",
       "        5.07112250e-310, 5.43472210e-323, 5.07112250e-310,\n",
       "        5.61752639e-321, 5.07112250e-310, 5.43472210e-323,\n",
       "        5.07112250e-310, 5.57306049e-321, 5.07112250e-310,\n",
       "        3.95252517e-323, 0.00000000e+000, 5.57800114e-321,\n",
       "        5.07112250e-310, 3.95252517e-323, 5.07112250e-310,\n",
       "        5.58294180e-321, 5.07112250e-310],\n",
       "       [3.95252517e-323, 5.07112250e-310, 5.58788245e-321,\n",
       "        5.07112250e-310, 3.95252517e-323, 5.07112250e-310,\n",
       "        5.59282311e-321, 5.07112250e-310, 3.95252517e-323,\n",
       "        5.07112250e-310, 5.59776377e-321, 5.07112250e-310,\n",
       "        5.07093334e-310, 5.07112250e-310, 5.61752639e-321,\n",
       "        5.07112250e-310, 5.07093334e-310, 5.07112250e-310,\n",
       "        9.88131292e-323, 6.57763142e-310],\n",
       "       [0.00000000e+000, 0.00000000e+000, 4.88059032e-313,\n",
       "        5.30498948e-313, 9.88131292e-323, 6.57763142e-310,\n",
       "        0.00000000e+000, 4.94065646e-324, 4.88059032e-313,\n",
       "        5.30498948e-313, 5.61258574e-321, 5.07112250e-310,\n",
       "        5.07093334e-310, 5.07112250e-310, 5.60270442e-321,\n",
       "        5.07112250e-310, 3.95252517e-323, 5.07112250e-310,\n",
       "        4.66839080e-313, 5.07112250e-310],\n",
       "       [3.95252517e-323, 5.07112250e-310, 5.50389129e-321,\n",
       "        5.07112250e-310, 3.95252517e-323, 5.07112250e-310,\n",
       "        5.49895064e-321, 5.07112250e-310, 3.95252517e-323,\n",
       "        5.07112250e-310, 5.45942539e-321, 5.07112250e-310,\n",
       "        3.95252517e-323, 5.07112250e-310, 5.57306049e-321,\n",
       "        5.07112250e-310, 4.94065646e-323, 0.00000000e+000,\n",
       "        5.57800114e-321, 5.07112250e-310],\n",
       "       [4.94065646e-323, 5.07112250e-310, 5.58294180e-321,\n",
       "        5.07112250e-310, 4.94065646e-323, 5.07112250e-310,\n",
       "        5.58788245e-321, 5.07112250e-310, 5.07093334e-310,\n",
       "        5.07112250e-310, 5.59282311e-321, 5.07112250e-310,\n",
       "        5.07093334e-310, 5.07112250e-310, 4.66839080e-313,\n",
       "        5.07112250e-310, 4.94065646e-323, 5.07112250e-310,\n",
       "        5.61752639e-321, 5.07112250e-310],\n",
       "       [4.94065646e-323, 5.07112250e-310, 6.57755035e-310,\n",
       "        6.57763142e-310, 0.00000000e+000, 2.97079411e-313,\n",
       "        5.51718906e-313, 5.94158821e-313, 9.88131292e-323,\n",
       "        6.57763142e-310, 0.00000000e+000, 2.97079411e-313,\n",
       "        5.51718906e-313, 5.94158821e-313, 5.61258574e-321,\n",
       "        5.07112250e-310, 2.54639495e-313, 5.07112250e-310,\n",
       "        5.60270442e-321, 5.07112250e-310],\n",
       "       [4.94065646e-323, 5.07112250e-310, 5.50883195e-321,\n",
       "        5.07112250e-310, 4.94065646e-323, 5.07112250e-310,\n",
       "        5.50389129e-321, 5.07112250e-310, 5.07093334e-310,\n",
       "        5.07112250e-310, 5.07093334e-310, 5.07112250e-310,\n",
       "        5.07093334e-310, 5.07112250e-310, 5.07093334e-310,\n",
       "        5.07112250e-310, 5.07093334e-310, 5.07112250e-310,\n",
       "        0.00000000e+000, 5.07112250e-310],\n",
       "       [0.00000000e+000, 4.94065646e-324, 5.07112250e-310,\n",
       "        5.07112250e-310, 9.88131292e-324, 5.07112250e-310,\n",
       "        5.07112250e-310, 5.07112250e-310, 5.07093334e-310,\n",
       "        5.07112250e-310, 5.07093334e-310, 5.92878775e-323,\n",
       "        4.66839074e-313, 6.15378779e-313, 0.00000000e+000,\n",
       "        5.07112250e-310, 0.00000000e+000, 4.94065646e-324,\n",
       "        5.07112250e-310, 5.07112250e-310],\n",
       "       [9.88131292e-324, 5.07112250e-310, 5.07112250e-310,\n",
       "        5.07112250e-310, 6.57755035e-310, 5.07112250e-310,\n",
       "        4.94065646e-324, 3.18299369e-313, 4.66839074e-313,\n",
       "        6.15378779e-313, 5.07093334e-310, 5.07112250e-310,\n",
       "        5.43472210e-323, 5.07112250e-310, 4.24399164e-313,\n",
       "        5.07112250e-310, 5.07093334e-310, 5.07112250e-310,\n",
       "        5.50883195e-321, 5.07112250e-310],\n",
       "       [6.57818695e-313, 5.07112250e-310, 6.57755035e-310,\n",
       "        5.07112250e-310, 5.43472210e-323, 5.07112250e-310,\n",
       "        2.97079416e-313, 5.07112250e-310, 5.07093334e-310,\n",
       "        5.07112250e-310, 5.07093334e-310, 5.07112250e-310,\n",
       "        5.07093334e-310, 5.07112250e-310, 0.00000000e+000,\n",
       "        5.07112250e-310, 0.00000000e+000, 4.94065646e-324,\n",
       "        5.07112250e-310, 5.07112250e-310],\n",
       "       [5.07093334e-310, 6.57763142e-310, 5.07112250e-310,\n",
       "        0.00000000e+000, 4.66839074e-313, 6.15378779e-313,\n",
       "        5.07093334e-310, 5.07112250e-310, 5.07093334e-310,\n",
       "        5.07112250e-310, 5.07093334e-310, 6.57762885e-310,\n",
       "        5.07093334e-310, 5.92878775e-323, 2.54639495e-313,\n",
       "        2.97079411e-313, 5.07093334e-310, 6.57762885e-310,\n",
       "        4.94065646e-324, 0.00000000e+000],\n",
       "       [2.54639495e-313, 2.97079411e-313, 1.18575755e-322,\n",
       "        6.57762885e-310, 6.57818695e-313, 4.98018171e-321,\n",
       "        2.54639495e-313, 2.97079411e-313, 5.07093334e-310,\n",
       "        5.07112250e-310, 5.07093334e-310, 5.07112250e-310,\n",
       "        5.84479659e-321, 5.07112250e-310, 1.48219694e-323,\n",
       "        5.07112250e-310, 4.94065646e-324, 5.07112250e-310,\n",
       "        5.07112250e-310, 5.57306049e-321],\n",
       "       [5.07112250e-310, 5.92878775e-323, 5.07112250e-310,\n",
       "        6.57755035e-310, 5.07112250e-310, 5.92878775e-323,\n",
       "        5.07112250e-310, 1.90979627e-313, 5.07112250e-310,\n",
       "        6.57755035e-310, 5.07112250e-310, 5.58788245e-321,\n",
       "        5.07112250e-310, 1.90979621e-313, 5.07112250e-310,\n",
       "        6.57755035e-310, 5.07112250e-310, 5.92878775e-323,\n",
       "        5.07112250e-310, 1.90979627e-313],\n",
       "       [5.07112250e-310, 5.07093334e-310, 5.07112250e-310,\n",
       "        5.07093334e-310, 5.07112250e-310, 5.07093334e-310,\n",
       "        5.07112250e-310, 5.07093334e-310, 6.57762885e-310,\n",
       "        6.57755035e-310, 4.94065646e-324, 2.54639495e-313,\n",
       "        2.97079411e-313, 1.90979621e-313, 6.57763062e-310,\n",
       "        6.57755035e-310, 9.88131292e-324, 3.18299369e-313,\n",
       "        4.24399158e-313, 1.90979621e-313],\n",
       "       [5.07112250e-310, 6.57763062e-310, 4.94065646e-324,\n",
       "        2.54639495e-313, 4.24399158e-313, 5.07093334e-310,\n",
       "        5.07112250e-310, 5.07112250e-310, 0.00000000e+000,\n",
       "        2.54639495e-313, 6.57818695e-313, 5.07093334e-310,\n",
       "        6.57762885e-310, 5.07093334e-310, 6.91691904e-323,\n",
       "        2.54639495e-313, 2.97079411e-313, 5.07093334e-310,\n",
       "        5.07112250e-310, 5.07093334e-310],\n",
       "       [5.07112250e-310, 5.07093334e-310, 5.07112250e-310,\n",
       "        5.07093334e-310, 5.07112250e-310, 5.07093334e-310,\n",
       "        5.07112250e-310, 5.07093334e-310, 5.07112250e-310,\n",
       "        6.57755035e-310, 5.07112250e-310, 5.92878775e-323,\n",
       "        5.07112250e-310, 1.90979627e-313, 5.07112250e-310,\n",
       "        6.57755035e-310, 5.07112250e-310, 5.45942539e-321,\n",
       "        5.07112250e-310, 1.90979621e-313]])"
      ]
     },
     "execution_count": 16,
     "metadata": {},
     "output_type": "execute_result"
    }
   ],
   "source": [
    "arr_empty = np.empty( (20,20) ) # Uninitialized memory will not necessarily contain zeros\n",
    "arr_empty"
   ]
  },
  {
   "cell_type": "code",
   "execution_count": 17,
   "metadata": {},
   "outputs": [
    {
     "data": {
      "text/plain": [
       "array([[0.79741067, 0.16034122, 0.06552294, 0.79678148, 0.0384136 ,\n",
       "        0.64517968, 0.79160088, 0.83436658, 0.21843133, 0.44179613],\n",
       "       [0.74081822, 0.142938  , 0.79976036, 0.61764306, 0.69661124,\n",
       "        0.02170713, 0.28541288, 0.64435818, 0.16935475, 0.38891851],\n",
       "       [0.27111805, 0.54154442, 0.33177112, 0.54834202, 0.24287281,\n",
       "        0.69426736, 0.85048416, 0.08958082, 0.45574957, 0.19881558],\n",
       "       [0.27182754, 0.88023724, 0.75570932, 0.52741242, 0.85544874,\n",
       "        0.81688097, 0.41328406, 0.99740293, 0.51897584, 0.99694061],\n",
       "       [0.26648555, 0.17028581, 0.77704029, 0.12429879, 0.93047703,\n",
       "        0.00444893, 0.33918062, 0.62918732, 0.59748207, 0.30361359],\n",
       "       [0.29703211, 0.68093475, 0.16783642, 0.82163352, 0.75535537,\n",
       "        0.82234386, 0.48706473, 0.31521811, 0.33865206, 0.90109983],\n",
       "       [0.84907521, 0.0451598 , 0.00718639, 0.94442626, 0.93965068,\n",
       "        0.20738861, 0.85133516, 0.58103587, 0.86477766, 0.33236404],\n",
       "       [0.44418094, 0.1911127 , 0.49738124, 0.35595084, 0.52643041,\n",
       "        0.05626781, 0.21363964, 0.8081892 , 0.39858791, 0.88599077],\n",
       "       [0.80074575, 0.9031617 , 0.10757055, 0.96010456, 0.06181384,\n",
       "        0.01965435, 0.00332452, 0.08586283, 0.37309033, 0.08608697],\n",
       "       [0.59793017, 0.2121336 , 0.68322554, 0.74552608, 0.84357214,\n",
       "        0.73017057, 0.28828278, 0.56098905, 0.62655855, 0.33143579]])"
      ]
     },
     "execution_count": 17,
     "metadata": {},
     "output_type": "execute_result"
    }
   ],
   "source": [
    "arr_randu = np.random.rand( 10,10 ) # Uniform distribution in (0,1)\n",
    "arr_randu"
   ]
  },
  {
   "cell_type": "code",
   "execution_count": 18,
   "metadata": {},
   "outputs": [
    {
     "data": {
      "text/plain": [
       "array([[ 0.12211245,  1.01822169, -0.18634889, -0.36214363,  1.14439655,\n",
       "         0.37858659, -1.44385068, -1.25457364, -0.60100197,  0.73497756],\n",
       "       [-0.20053126,  1.75341021,  0.5079387 ,  1.6199876 , -0.77073188,\n",
       "         0.30220328, -0.73535293,  1.54833427,  0.50462177,  0.27666234],\n",
       "       [-0.52284479,  0.83141357, -0.11053433,  2.84564102,  1.9459868 ,\n",
       "         1.50565573,  2.40087917, -0.3923572 ,  0.04666982,  1.09406982],\n",
       "       [-1.33267004,  0.98852901, -2.12346645, -1.07794021, -0.04758912,\n",
       "        -0.37882237, -1.52453563,  0.7453488 , -0.211071  ,  0.83819883],\n",
       "       [-0.53401978,  1.79649071,  1.8221364 , -0.75559814,  0.33827678,\n",
       "         2.15876822,  0.57588405,  0.19969812, -1.06605442, -1.29494746],\n",
       "       [ 0.70419482, -0.42202616,  0.41244266,  1.13391958, -0.81508552,\n",
       "         2.28912305,  0.1988693 , -1.92785251, -0.11625138, -0.38198829],\n",
       "       [-1.03506755,  1.70539787,  0.61364559,  0.83921221, -0.4556428 ,\n",
       "        -0.24674061, -0.22480884, -0.66005219,  0.62865201, -1.04161197],\n",
       "       [ 0.39083886,  0.37135849,  1.67768825, -2.17530604,  0.7187848 ,\n",
       "        -1.27680622,  0.32983667,  0.59722699, -1.3497488 ,  0.0146583 ],\n",
       "       [-0.630078  , -0.92193006,  0.85507601, -0.56328951,  0.39259596,\n",
       "         0.14875247, -0.57653401,  0.07997976, -0.09517562, -0.87476826],\n",
       "       [-0.41344152, -1.31305584,  0.40403221,  1.12062057, -0.76655591,\n",
       "         0.75529561,  0.84983764,  0.41054357,  0.41094699,  1.52077523]])"
      ]
     },
     "execution_count": 18,
     "metadata": {},
     "output_type": "execute_result"
    }
   ],
   "source": [
    "arr_randn = np.random.randn( 10, 10 ) # Standard normal distribution\n",
    "arr_randn"
   ]
  },
  {
   "cell_type": "markdown",
   "metadata": {},
   "source": [
    "# Conversions between dtypes"
   ]
  },
  {
   "cell_type": "code",
   "execution_count": 19,
   "metadata": {},
   "outputs": [
    {
     "data": {
      "text/plain": [
       "array([[ 0,  1,  0,  0,  1,  0, -1, -1,  0,  0],\n",
       "       [ 0,  1,  0,  1,  0,  0,  0,  1,  0,  0],\n",
       "       [ 0,  0,  0,  2,  1,  1,  2,  0,  0,  1],\n",
       "       [-1,  0, -2, -1,  0,  0, -1,  0,  0,  0],\n",
       "       [ 0,  1,  1,  0,  0,  2,  0,  0, -1, -1],\n",
       "       [ 0,  0,  0,  1,  0,  2,  0, -1,  0,  0],\n",
       "       [-1,  1,  0,  0,  0,  0,  0,  0,  0, -1],\n",
       "       [ 0,  0,  1, -2,  0, -1,  0,  0, -1,  0],\n",
       "       [ 0,  0,  0,  0,  0,  0,  0,  0,  0,  0],\n",
       "       [ 0, -1,  0,  1,  0,  0,  0,  0,  0,  1]], dtype=int32)"
      ]
     },
     "execution_count": 19,
     "metadata": {},
     "output_type": "execute_result"
    }
   ],
   "source": [
    "arr_randn_asint = arr_randn.astype( np.int32 )\n",
    "arr_randn_asint # When converting from float64 to int32, the number is truncated"
   ]
  },
  {
   "cell_type": "code",
   "execution_count": 20,
   "metadata": {},
   "outputs": [
    {
     "data": {
      "text/plain": [
       "array([ 3.,  5.,  7.,  9., 11., 13., 15.], dtype=float128)"
      ]
     },
     "execution_count": 20,
     "metadata": {},
     "output_type": "execute_result"
    }
   ],
   "source": [
    "arr_arange_asfloat = arr_arange.astype( np.float128 )\n",
    "arr_arange_asfloat"
   ]
  },
  {
   "cell_type": "code",
   "execution_count": 21,
   "metadata": {},
   "outputs": [
    {
     "data": {
      "text/plain": [
       "array([ 1.25, -9.6 , 42.  ])"
      ]
     },
     "execution_count": 21,
     "metadata": {},
     "output_type": "execute_result"
    }
   ],
   "source": [
    "numeric_strings = np.array( ['1.25', '-9.6', '42'], dtype=np.bytes_ )\n",
    "numeric_strings.astype( float ) # We can use astype() to convert between strings and numerical types"
   ]
  },
  {
   "cell_type": "markdown",
   "metadata": {
    "collapsed": true
   },
   "source": [
    "# Broadcasting"
   ]
  },
  {
   "cell_type": "code",
   "execution_count": 22,
   "metadata": {},
   "outputs": [
    {
     "data": {
      "text/plain": [
       "array([0, 1, 2, 3])"
      ]
     },
     "execution_count": 22,
     "metadata": {},
     "output_type": "execute_result"
    }
   ],
   "source": [
    "x = np.arange( 4 )\n",
    "x"
   ]
  },
  {
   "cell_type": "code",
   "execution_count": 23,
   "metadata": {},
   "outputs": [
    {
     "data": {
      "text/plain": [
       "array([[0],\n",
       "       [1],\n",
       "       [2],\n",
       "       [3]])"
      ]
     },
     "execution_count": 23,
     "metadata": {},
     "output_type": "execute_result"
    }
   ],
   "source": [
    "xx = x.reshape( 4, 1 )\n",
    "xx"
   ]
  },
  {
   "cell_type": "code",
   "execution_count": 24,
   "metadata": {},
   "outputs": [
    {
     "data": {
      "text/plain": [
       "array([1., 1., 1., 1., 1.])"
      ]
     },
     "execution_count": 24,
     "metadata": {},
     "output_type": "execute_result"
    }
   ],
   "source": [
    "y = np.ones(5)\n",
    "y"
   ]
  },
  {
   "cell_type": "code",
   "execution_count": 25,
   "metadata": {},
   "outputs": [
    {
     "data": {
      "text/plain": [
       "(4,)"
      ]
     },
     "execution_count": 25,
     "metadata": {},
     "output_type": "execute_result"
    }
   ],
   "source": [
    "x.shape"
   ]
  },
  {
   "cell_type": "code",
   "execution_count": 26,
   "metadata": {},
   "outputs": [
    {
     "data": {
      "text/plain": [
       "(5,)"
      ]
     },
     "execution_count": 26,
     "metadata": {},
     "output_type": "execute_result"
    }
   ],
   "source": [
    "y.shape"
   ]
  },
  {
   "cell_type": "code",
   "execution_count": 27,
   "metadata": {},
   "outputs": [],
   "source": [
    "# x+y\n",
    "# ---------------------------------------------------------------------------\n",
    "# ValueError                                Traceback (most recent call last)\n",
    "# <ipython-input-27-f6b1ff77d955> in <module>()\n",
    "# ----> 1 x+y\n",
    "#\n",
    "#ValueError: operands could not be broadcast together with shapes (4,) (5,) "
   ]
  },
  {
   "cell_type": "code",
   "execution_count": 28,
   "metadata": {},
   "outputs": [
    {
     "data": {
      "text/plain": [
       "(4, 1)"
      ]
     },
     "execution_count": 28,
     "metadata": {},
     "output_type": "execute_result"
    }
   ],
   "source": [
    "xx.shape"
   ]
  },
  {
   "cell_type": "code",
   "execution_count": 29,
   "metadata": {},
   "outputs": [
    {
     "data": {
      "text/plain": [
       "(5,)"
      ]
     },
     "execution_count": 29,
     "metadata": {},
     "output_type": "execute_result"
    }
   ],
   "source": [
    "y.shape"
   ]
  },
  {
   "cell_type": "code",
   "execution_count": 30,
   "metadata": {},
   "outputs": [
    {
     "data": {
      "text/plain": [
       "array([[1., 1., 1., 1., 1.],\n",
       "       [2., 2., 2., 2., 2.],\n",
       "       [3., 3., 3., 3., 3.],\n",
       "       [4., 4., 4., 4., 4.]])"
      ]
     },
     "execution_count": 30,
     "metadata": {},
     "output_type": "execute_result"
    }
   ],
   "source": [
    "xx+y"
   ]
  },
  {
   "cell_type": "code",
   "execution_count": 31,
   "metadata": {},
   "outputs": [
    {
     "data": {
      "text/plain": [
       "(4, 5)"
      ]
     },
     "execution_count": 31,
     "metadata": {},
     "output_type": "execute_result"
    }
   ],
   "source": [
    "(xx+y).shape"
   ]
  },
  {
   "cell_type": "code",
   "execution_count": 32,
   "metadata": {},
   "outputs": [
    {
     "data": {
      "text/plain": [
       "array([[0., 0., 0., 0., 0.],\n",
       "       [1., 1., 1., 1., 1.],\n",
       "       [2., 2., 2., 2., 2.],\n",
       "       [3., 3., 3., 3., 3.]])"
      ]
     },
     "execution_count": 32,
     "metadata": {},
     "output_type": "execute_result"
    }
   ],
   "source": [
    "broadcast_1 = np.ones(5) * xx # This is the first broadcast when performing xx + y\n",
    "broadcast_1"
   ]
  },
  {
   "cell_type": "code",
   "execution_count": 33,
   "metadata": {},
   "outputs": [
    {
     "data": {
      "text/plain": [
       "array([[1., 1., 1., 1., 1.],\n",
       "       [1., 1., 1., 1., 1.],\n",
       "       [1., 1., 1., 1., 1.],\n",
       "       [1., 1., 1., 1., 1.]])"
      ]
     },
     "execution_count": 33,
     "metadata": {},
     "output_type": "execute_result"
    }
   ],
   "source": [
    "broadcast_2 = np.ones( (4,1) ) * y # This is the second broadcast\n",
    "broadcast_2"
   ]
  },
  {
   "cell_type": "code",
   "execution_count": 34,
   "metadata": {},
   "outputs": [
    {
     "data": {
      "text/plain": [
       "array([[1., 1., 1., 1., 1.],\n",
       "       [2., 2., 2., 2., 2.],\n",
       "       [3., 3., 3., 3., 3.],\n",
       "       [4., 4., 4., 4., 4.]])"
      ]
     },
     "execution_count": 34,
     "metadata": {},
     "output_type": "execute_result"
    }
   ],
   "source": [
    "broadcast_1 + broadcast_2 # This is the final operation"
   ]
  },
  {
   "cell_type": "code",
   "execution_count": 35,
   "metadata": {},
   "outputs": [
    {
     "data": {
      "text/plain": [
       "True"
      ]
     },
     "execution_count": 35,
     "metadata": {},
     "output_type": "execute_result"
    }
   ],
   "source": [
    "np.array_equal( xx + y, broadcast_1 + broadcast_2 )"
   ]
  },
  {
   "cell_type": "code",
   "execution_count": 36,
   "metadata": {},
   "outputs": [
    {
     "data": {
      "text/plain": [
       "(array([[0, 0, 0, 0, 0],\n",
       "        [1, 1, 1, 1, 1],\n",
       "        [2, 2, 2, 2, 2],\n",
       "        [3, 3, 3, 3, 3]]),\n",
       " array([[1., 1., 1., 1., 1.],\n",
       "        [1., 1., 1., 1., 1.],\n",
       "        [1., 1., 1., 1., 1.],\n",
       "        [1., 1., 1., 1., 1.]]))"
      ]
     },
     "execution_count": 36,
     "metadata": {},
     "output_type": "execute_result"
    }
   ],
   "source": [
    "np.broadcast_arrays( xx, y ) # np.broadcast_arrays() performs broadcasting on any number of arrays and returns the result"
   ]
  },
  {
   "cell_type": "markdown",
   "metadata": {},
   "source": [
    "# Indexing"
   ]
  },
  {
   "cell_type": "markdown",
   "metadata": {},
   "source": [
    "## Basic 1D indexing"
   ]
  },
  {
   "cell_type": "code",
   "execution_count": 37,
   "metadata": {},
   "outputs": [
    {
     "data": {
      "text/plain": [
       "array([0, 1, 2, 3, 4, 5, 6, 7, 8, 9])"
      ]
     },
     "execution_count": 37,
     "metadata": {},
     "output_type": "execute_result"
    }
   ],
   "source": [
    "arr = np.arange( 10 )\n",
    "arr"
   ]
  },
  {
   "cell_type": "code",
   "execution_count": 38,
   "metadata": {},
   "outputs": [
    {
     "data": {
      "text/plain": [
       "np.int64(5)"
      ]
     },
     "execution_count": 38,
     "metadata": {},
     "output_type": "execute_result"
    }
   ],
   "source": [
    "arr[5]"
   ]
  },
  {
   "cell_type": "code",
   "execution_count": 39,
   "metadata": {},
   "outputs": [
    {
     "data": {
      "text/plain": [
       "array([5, 6, 7])"
      ]
     },
     "execution_count": 39,
     "metadata": {},
     "output_type": "execute_result"
    }
   ],
   "source": [
    "arr[5:8]"
   ]
  },
  {
   "cell_type": "code",
   "execution_count": 40,
   "metadata": {},
   "outputs": [
    {
     "data": {
      "text/plain": [
       "array([ 0,  1,  2,  3,  4, 12, 12, 12,  8,  9])"
      ]
     },
     "execution_count": 40,
     "metadata": {},
     "output_type": "execute_result"
    }
   ],
   "source": [
    "arr[5:8] = 12 # The assignment operator is just a regular operator, so broadcasting works as usual.\n",
    "arr"
   ]
  },
  {
   "cell_type": "markdown",
   "metadata": {},
   "source": [
    "## Slices are views over the original array, not copies"
   ]
  },
  {
   "cell_type": "code",
   "execution_count": 41,
   "metadata": {},
   "outputs": [
    {
     "data": {
      "text/plain": [
       "array([12, 12, 12])"
      ]
     },
     "execution_count": 41,
     "metadata": {},
     "output_type": "execute_result"
    }
   ],
   "source": [
    "arr_slice = arr[5:8]\n",
    "arr_slice"
   ]
  },
  {
   "cell_type": "code",
   "execution_count": 42,
   "metadata": {},
   "outputs": [
    {
     "data": {
      "text/plain": [
       "array([   12, 12345,    12])"
      ]
     },
     "execution_count": 42,
     "metadata": {},
     "output_type": "execute_result"
    }
   ],
   "source": [
    "arr_slice[1] = 12345\n",
    "arr_slice"
   ]
  },
  {
   "cell_type": "code",
   "execution_count": 43,
   "metadata": {},
   "outputs": [
    {
     "data": {
      "text/plain": [
       "array([    0,     1,     2,     3,     4,    12, 12345,    12,     8,\n",
       "           9])"
      ]
     },
     "execution_count": 43,
     "metadata": {},
     "output_type": "execute_result"
    }
   ],
   "source": [
    "arr"
   ]
  },
  {
   "cell_type": "code",
   "execution_count": 44,
   "metadata": {},
   "outputs": [
    {
     "data": {
      "text/plain": [
       "array([64, 64, 64])"
      ]
     },
     "execution_count": 44,
     "metadata": {},
     "output_type": "execute_result"
    }
   ],
   "source": [
    "arr_slice[:] = 64\n",
    "arr_slice"
   ]
  },
  {
   "cell_type": "code",
   "execution_count": 45,
   "metadata": {},
   "outputs": [
    {
     "data": {
      "text/plain": [
       "array([ 0,  1,  2,  3,  4, 64, 64, 64,  8,  9])"
      ]
     },
     "execution_count": 45,
     "metadata": {},
     "output_type": "execute_result"
    }
   ],
   "source": [
    "arr"
   ]
  },
  {
   "cell_type": "markdown",
   "metadata": {},
   "source": [
    "## Multidimensional indexing"
   ]
  },
  {
   "cell_type": "code",
   "execution_count": 46,
   "metadata": {},
   "outputs": [
    {
     "data": {
      "text/plain": [
       "array([7, 8, 9])"
      ]
     },
     "execution_count": 46,
     "metadata": {},
     "output_type": "execute_result"
    }
   ],
   "source": [
    "arr2D = np.array( [[1, 2, 3], [4, 5, 6], [7, 8, 9]] )\n",
    "arr2D[2]"
   ]
  },
  {
   "cell_type": "code",
   "execution_count": 47,
   "metadata": {},
   "outputs": [
    {
     "data": {
      "text/plain": [
       "np.int64(3)"
      ]
     },
     "execution_count": 47,
     "metadata": {},
     "output_type": "execute_result"
    }
   ],
   "source": [
    "arr2D[0][2]"
   ]
  },
  {
   "cell_type": "code",
   "execution_count": 48,
   "metadata": {},
   "outputs": [
    {
     "data": {
      "text/plain": [
       "np.int64(3)"
      ]
     },
     "execution_count": 48,
     "metadata": {},
     "output_type": "execute_result"
    }
   ],
   "source": [
    "arr2D[0,2] # We can create a comma-separated list of indices."
   ]
  },
  {
   "cell_type": "code",
   "execution_count": 49,
   "metadata": {},
   "outputs": [
    {
     "data": {
      "text/plain": [
       "array([[[ 1,  2,  3],\n",
       "        [ 4,  5,  6]],\n",
       "\n",
       "       [[ 7,  8,  9],\n",
       "        [10, 11, 12]]])"
      ]
     },
     "execution_count": 49,
     "metadata": {},
     "output_type": "execute_result"
    }
   ],
   "source": [
    "arr3D = np.array( [[[1, 2, 3], [4, 5, 6]], [[7, 8, 9], [10, 11, 12]]] )\n",
    "arr3D"
   ]
  },
  {
   "cell_type": "code",
   "execution_count": 50,
   "metadata": {},
   "outputs": [
    {
     "data": {
      "text/plain": [
       "array([[1, 2, 3],\n",
       "       [4, 5, 6]])"
      ]
     },
     "execution_count": 50,
     "metadata": {},
     "output_type": "execute_result"
    }
   ],
   "source": [
    "arr3D[0]"
   ]
  },
  {
   "cell_type": "code",
   "execution_count": 51,
   "metadata": {},
   "outputs": [
    {
     "data": {
      "text/plain": [
       "array([[[42, 42, 42],\n",
       "        [42, 42, 42]],\n",
       "\n",
       "       [[ 7,  8,  9],\n",
       "        [10, 11, 12]]])"
      ]
     },
     "execution_count": 51,
     "metadata": {},
     "output_type": "execute_result"
    }
   ],
   "source": [
    "old_values = arr3D[0].copy()\n",
    "arr3D[0] = 42 # Broadcasting works as usual working on views.\n",
    "arr3D"
   ]
  },
  {
   "cell_type": "code",
   "execution_count": 52,
   "metadata": {},
   "outputs": [
    {
     "data": {
      "text/plain": [
       "array([[[ 1,  2,  3],\n",
       "        [ 4,  5,  6]],\n",
       "\n",
       "       [[ 7,  8,  9],\n",
       "        [10, 11, 12]]])"
      ]
     },
     "execution_count": 52,
     "metadata": {},
     "output_type": "execute_result"
    }
   ],
   "source": [
    "arr3D[0] = old_values\n",
    "arr3D"
   ]
  },
  {
   "cell_type": "code",
   "execution_count": 53,
   "metadata": {},
   "outputs": [
    {
     "data": {
      "text/plain": [
       "array([7, 8, 9])"
      ]
     },
     "execution_count": 53,
     "metadata": {},
     "output_type": "execute_result"
    }
   ],
   "source": [
    "arr3D[1,0]"
   ]
  },
  {
   "cell_type": "markdown",
   "metadata": {
    "collapsed": true
   },
   "source": [
    "## Slice indexing"
   ]
  },
  {
   "cell_type": "code",
   "execution_count": 54,
   "metadata": {},
   "outputs": [
    {
     "data": {
      "text/plain": [
       "array([ 1,  2,  3,  4, 64])"
      ]
     },
     "execution_count": 54,
     "metadata": {},
     "output_type": "execute_result"
    }
   ],
   "source": [
    "arr[1:6]"
   ]
  },
  {
   "cell_type": "code",
   "execution_count": 55,
   "metadata": {},
   "outputs": [
    {
     "data": {
      "text/plain": [
       "array([[1, 2, 3],\n",
       "       [4, 5, 6],\n",
       "       [7, 8, 9]])"
      ]
     },
     "execution_count": 55,
     "metadata": {},
     "output_type": "execute_result"
    }
   ],
   "source": [
    "arr2D"
   ]
  },
  {
   "cell_type": "code",
   "execution_count": 56,
   "metadata": {},
   "outputs": [
    {
     "data": {
      "text/plain": [
       "array([[1, 2, 3],\n",
       "       [4, 5, 6]])"
      ]
     },
     "execution_count": 56,
     "metadata": {},
     "output_type": "execute_result"
    }
   ],
   "source": [
    "arr2D[:2]"
   ]
  },
  {
   "cell_type": "code",
   "execution_count": 57,
   "metadata": {},
   "outputs": [
    {
     "data": {
      "text/plain": [
       "array([[2, 3],\n",
       "       [5, 6]])"
      ]
     },
     "execution_count": 57,
     "metadata": {},
     "output_type": "execute_result"
    }
   ],
   "source": [
    "arr2D[:2,1:]"
   ]
  },
  {
   "cell_type": "code",
   "execution_count": 58,
   "metadata": {},
   "outputs": [
    {
     "data": {
      "text/plain": [
       "array([4, 5])"
      ]
     },
     "execution_count": 58,
     "metadata": {},
     "output_type": "execute_result"
    }
   ],
   "source": [
    "arr2D[1,:2]"
   ]
  },
  {
   "cell_type": "code",
   "execution_count": 59,
   "metadata": {},
   "outputs": [
    {
     "data": {
      "text/plain": [
       "array([7])"
      ]
     },
     "execution_count": 59,
     "metadata": {},
     "output_type": "execute_result"
    }
   ],
   "source": [
    "arr2D[2,:1]"
   ]
  },
  {
   "cell_type": "code",
   "execution_count": 60,
   "metadata": {},
   "outputs": [
    {
     "data": {
      "text/plain": [
       "array([[1],\n",
       "       [4],\n",
       "       [7]])"
      ]
     },
     "execution_count": 60,
     "metadata": {},
     "output_type": "execute_result"
    }
   ],
   "source": [
    "arr2D[:,:1]"
   ]
  },
  {
   "cell_type": "code",
   "execution_count": 61,
   "metadata": {},
   "outputs": [
    {
     "data": {
      "text/plain": [
       "array([[1, 0, 0],\n",
       "       [4, 0, 0],\n",
       "       [7, 8, 9]])"
      ]
     },
     "execution_count": 61,
     "metadata": {},
     "output_type": "execute_result"
    }
   ],
   "source": [
    "arr2D[:2,1:] = 0 # As expected, broadcasting still works when indexing with slices\n",
    "arr2D"
   ]
  },
  {
   "cell_type": "markdown",
   "metadata": {},
   "source": [
    "## Boolean indexing"
   ]
  },
  {
   "cell_type": "code",
   "execution_count": 62,
   "metadata": {},
   "outputs": [
    {
     "data": {
      "text/plain": [
       "array([[ 1.73874882, -1.07139833, -1.15822372, -0.55296017],\n",
       "       [-0.37536226,  0.24707072, -0.7914763 , -0.90092101],\n",
       "       [-0.68539627, -0.65953811,  0.24717781, -0.87548443],\n",
       "       [ 0.61174083,  0.44614995,  0.02511782, -2.32069799],\n",
       "       [ 0.4285355 , -0.07266612,  0.43287344, -1.05864447],\n",
       "       [-0.02502278,  0.83456489,  0.34745125,  0.8499242 ],\n",
       "       [ 0.11147799,  0.37794363, -0.15826889,  1.31831922]])"
      ]
     },
     "execution_count": 62,
     "metadata": {},
     "output_type": "execute_result"
    }
   ],
   "source": [
    "planets = np.array( ['Caladan', 'Ix', 'Corrin', 'Caladan', 'Corrin', 'Ix', 'Ix' ])\n",
    "data = np.random.randn( 7, 4 )\n",
    "data"
   ]
  },
  {
   "cell_type": "code",
   "execution_count": 63,
   "metadata": {},
   "outputs": [
    {
     "data": {
      "text/plain": [
       "array([ True, False, False,  True, False, False, False])"
      ]
     },
     "execution_count": 63,
     "metadata": {},
     "output_type": "execute_result"
    }
   ],
   "source": [
    "planets == 'Caladan' # If each data row corresponds to a row in the planet array, we can select the rows associated to a given planet"
   ]
  },
  {
   "cell_type": "code",
   "execution_count": 64,
   "metadata": {},
   "outputs": [
    {
     "data": {
      "text/plain": [
       "array([[ 1.73874882, -1.07139833, -1.15822372, -0.55296017],\n",
       "       [ 0.61174083,  0.44614995,  0.02511782, -2.32069799]])"
      ]
     },
     "execution_count": 64,
     "metadata": {},
     "output_type": "execute_result"
    }
   ],
   "source": [
    "data[ planets == 'Caladan' ]"
   ]
  },
  {
   "cell_type": "code",
   "execution_count": 65,
   "metadata": {},
   "outputs": [
    {
     "data": {
      "text/plain": [
       "array([[-1.15822372, -0.55296017],\n",
       "       [ 0.02511782, -2.32069799]])"
      ]
     },
     "execution_count": 65,
     "metadata": {},
     "output_type": "execute_result"
    }
   ],
   "source": [
    "data[ planets == 'Caladan', 2:] # We can mix all the different indexing types"
   ]
  },
  {
   "cell_type": "code",
   "execution_count": 66,
   "metadata": {},
   "outputs": [
    {
     "data": {
      "text/plain": [
       "array([-0.55296017, -2.32069799])"
      ]
     },
     "execution_count": 66,
     "metadata": {},
     "output_type": "execute_result"
    }
   ],
   "source": [
    "data[ planets == 'Caladan', 3]"
   ]
  },
  {
   "cell_type": "code",
   "execution_count": 67,
   "metadata": {},
   "outputs": [
    {
     "data": {
      "text/plain": [
       "array([[-0.37536226,  0.24707072, -0.7914763 , -0.90092101],\n",
       "       [-0.68539627, -0.65953811,  0.24717781, -0.87548443],\n",
       "       [ 0.4285355 , -0.07266612,  0.43287344, -1.05864447],\n",
       "       [-0.02502278,  0.83456489,  0.34745125,  0.8499242 ],\n",
       "       [ 0.11147799,  0.37794363, -0.15826889,  1.31831922]])"
      ]
     },
     "execution_count": 67,
     "metadata": {},
     "output_type": "execute_result"
    }
   ],
   "source": [
    "data[ planets != 'Caladan']"
   ]
  },
  {
   "cell_type": "code",
   "execution_count": 68,
   "metadata": {},
   "outputs": [
    {
     "data": {
      "text/plain": [
       "array([ True, False,  True,  True,  True, False, False])"
      ]
     },
     "execution_count": 68,
     "metadata": {},
     "output_type": "execute_result"
    }
   ],
   "source": [
    "mask = (planets == 'Caladan') | (planets == 'Corrin') # We build the mask using boolean operations on arrays\n",
    "mask"
   ]
  },
  {
   "cell_type": "code",
   "execution_count": 69,
   "metadata": {},
   "outputs": [
    {
     "data": {
      "text/plain": [
       "array([[ 1.73874882, -1.07139833, -1.15822372, -0.55296017],\n",
       "       [-0.68539627, -0.65953811,  0.24717781, -0.87548443],\n",
       "       [ 0.61174083,  0.44614995,  0.02511782, -2.32069799],\n",
       "       [ 0.4285355 , -0.07266612,  0.43287344, -1.05864447]])"
      ]
     },
     "execution_count": 69,
     "metadata": {},
     "output_type": "execute_result"
    }
   ],
   "source": [
    "data[mask]"
   ]
  },
  {
   "cell_type": "code",
   "execution_count": 70,
   "metadata": {},
   "outputs": [
    {
     "data": {
      "text/plain": [
       "array([[1.73874882, 0.        , 0.        , 0.        ],\n",
       "       [0.        , 0.24707072, 0.        , 0.        ],\n",
       "       [0.        , 0.        , 0.24717781, 0.        ],\n",
       "       [0.61174083, 0.44614995, 0.02511782, 0.        ],\n",
       "       [0.4285355 , 0.        , 0.43287344, 0.        ],\n",
       "       [0.        , 0.83456489, 0.34745125, 0.8499242 ],\n",
       "       [0.11147799, 0.37794363, 0.        , 1.31831922]])"
      ]
     },
     "execution_count": 70,
     "metadata": {},
     "output_type": "execute_result"
    }
   ],
   "source": [
    "data[ data < 0 ] = 0 # Boolean masks can also be used when assigning\n",
    "data"
   ]
  },
  {
   "cell_type": "code",
   "execution_count": 71,
   "metadata": {},
   "outputs": [
    {
     "data": {
      "text/plain": [
       "array([[7.        , 7.        , 7.        , 7.        ],\n",
       "       [0.        , 0.24707072, 0.        , 0.        ],\n",
       "       [7.        , 7.        , 7.        , 7.        ],\n",
       "       [7.        , 7.        , 7.        , 7.        ],\n",
       "       [7.        , 7.        , 7.        , 7.        ],\n",
       "       [0.        , 0.83456489, 0.34745125, 0.8499242 ],\n",
       "       [0.11147799, 0.37794363, 0.        , 1.31831922]])"
      ]
     },
     "execution_count": 71,
     "metadata": {},
     "output_type": "execute_result"
    }
   ],
   "source": [
    "data[ planets != 'Ix' ] = 7\n",
    "data"
   ]
  },
  {
   "cell_type": "markdown",
   "metadata": {},
   "source": [
    "## Fancy indexing"
   ]
  },
  {
   "cell_type": "code",
   "execution_count": 72,
   "metadata": {},
   "outputs": [
    {
     "data": {
      "text/plain": [
       "array([[0., 0., 0., 0.],\n",
       "       [1., 1., 1., 1.],\n",
       "       [2., 2., 2., 2.],\n",
       "       [3., 3., 3., 3.],\n",
       "       [4., 4., 4., 4.],\n",
       "       [5., 5., 5., 5.],\n",
       "       [6., 6., 6., 6.],\n",
       "       [7., 7., 7., 7.]])"
      ]
     },
     "execution_count": 72,
     "metadata": {},
     "output_type": "execute_result"
    }
   ],
   "source": [
    "arr = np.multiply( np.arange(8).reshape((8,1)), np.ones( (1,4) ) )\n",
    "arr"
   ]
  },
  {
   "cell_type": "code",
   "execution_count": 73,
   "metadata": {},
   "outputs": [
    {
     "data": {
      "text/plain": [
       "array([[4., 4., 4., 4.],\n",
       "       [3., 3., 3., 3.],\n",
       "       [0., 0., 0., 0.],\n",
       "       [6., 6., 6., 6.]])"
      ]
     },
     "execution_count": 73,
     "metadata": {},
     "output_type": "execute_result"
    }
   ],
   "source": [
    "arr[ [4, 3, 0, 6] ]"
   ]
  },
  {
   "cell_type": "code",
   "execution_count": 74,
   "metadata": {},
   "outputs": [
    {
     "data": {
      "text/plain": [
       "array([[5., 5., 5., 5.],\n",
       "       [3., 3., 3., 3.],\n",
       "       [1., 1., 1., 1.]])"
      ]
     },
     "execution_count": 74,
     "metadata": {},
     "output_type": "execute_result"
    }
   ],
   "source": [
    "arr[ [-3, -5, -7] ] # Negative indices refer to positions counting from the end of the array."
   ]
  },
  {
   "cell_type": "code",
   "execution_count": 75,
   "metadata": {},
   "outputs": [
    {
     "data": {
      "text/plain": [
       "array([[ 0,  1,  2,  3],\n",
       "       [ 4,  5,  6,  7],\n",
       "       [ 8,  9, 10, 11],\n",
       "       [12, 13, 14, 15],\n",
       "       [16, 17, 18, 19],\n",
       "       [20, 21, 22, 23],\n",
       "       [24, 25, 26, 27],\n",
       "       [28, 29, 30, 31]])"
      ]
     },
     "execution_count": 75,
     "metadata": {},
     "output_type": "execute_result"
    }
   ],
   "source": [
    "arr = np.arange(32).reshape( (8,4) )\n",
    "arr"
   ]
  },
  {
   "cell_type": "code",
   "execution_count": 76,
   "metadata": {},
   "outputs": [
    {
     "data": {
      "text/plain": [
       "array([ 4, 23, 29, 10])"
      ]
     },
     "execution_count": 76,
     "metadata": {},
     "output_type": "execute_result"
    }
   ],
   "source": [
    "arr[ [1, 5, 7, 2], [0, 3, 1, 2] ] # Multiple arrays: zip() and selection of (1,0), (5, 3), (7,1), y (2, 2)"
   ]
  },
  {
   "cell_type": "code",
   "execution_count": 77,
   "metadata": {},
   "outputs": [
    {
     "data": {
      "text/plain": [
       "array([[ 4,  7,  5,  6],\n",
       "       [20, 23, 21, 22],\n",
       "       [24, 27, 25, 26],\n",
       "       [ 8, 11,  9, 10]])"
      ]
     },
     "execution_count": 77,
     "metadata": {},
     "output_type": "execute_result"
    }
   ],
   "source": [
    "arr[ [1, 5, 6, 2] ] [:, [0, 3, 1, 2]] # Cartesian product: (1, 0), (1, 3), (1, 1), (1, 2); (5, 0), (5, 3), (5, 1), (5, 2); ..."
   ]
  },
  {
   "cell_type": "code",
   "execution_count": 78,
   "metadata": {},
   "outputs": [
    {
     "data": {
      "text/plain": [
       "array([[ 4,  7,  5,  6],\n",
       "       [20, 23, 21, 22],\n",
       "       [28, 31, 29, 30],\n",
       "       [ 8, 11,  9, 10]])"
      ]
     },
     "execution_count": 78,
     "metadata": {},
     "output_type": "execute_result"
    }
   ],
   "source": [
    "arr[ np.ix_( [1, 5, 7, 2], [0, 3, 1, 2] ) ] # np.ix_() implements the same feature (rectangular selection)"
   ]
  },
  {
   "cell_type": "markdown",
   "metadata": {},
   "source": [
    "## Transposition and other transformations"
   ]
  },
  {
   "cell_type": "code",
   "execution_count": 79,
   "metadata": {},
   "outputs": [
    {
     "data": {
      "text/plain": [
       "array([[ 0,  1,  2,  3,  4],\n",
       "       [ 5,  6,  7,  8,  9],\n",
       "       [10, 11, 12, 13, 14]])"
      ]
     },
     "execution_count": 79,
     "metadata": {},
     "output_type": "execute_result"
    }
   ],
   "source": [
    "arr = np.arange( 15 ).reshape( (3, 5) )\n",
    "arr"
   ]
  },
  {
   "cell_type": "code",
   "execution_count": 80,
   "metadata": {},
   "outputs": [
    {
     "data": {
      "text/plain": [
       "array([[ 0,  5, 10],\n",
       "       [ 1,  6, 11],\n",
       "       [ 2,  7, 12],\n",
       "       [ 3,  8, 13],\n",
       "       [ 4,  9, 14]])"
      ]
     },
     "execution_count": 80,
     "metadata": {},
     "output_type": "execute_result"
    }
   ],
   "source": [
    "arr.T"
   ]
  },
  {
   "cell_type": "code",
   "execution_count": 81,
   "metadata": {},
   "outputs": [
    {
     "data": {
      "text/plain": [
       "array([[125, 140, 155, 170, 185],\n",
       "       [140, 158, 176, 194, 212],\n",
       "       [155, 176, 197, 218, 239],\n",
       "       [170, 194, 218, 242, 266],\n",
       "       [185, 212, 239, 266, 293]])"
      ]
     },
     "execution_count": 81,
     "metadata": {},
     "output_type": "execute_result"
    }
   ],
   "source": [
    "np.dot( arr.T, arr ) "
   ]
  },
  {
   "cell_type": "code",
   "execution_count": 82,
   "metadata": {},
   "outputs": [
    {
     "data": {
      "text/plain": [
       "array([[[ 0,  1,  2,  3],\n",
       "        [ 4,  5,  6,  7]],\n",
       "\n",
       "       [[ 8,  9, 10, 11],\n",
       "        [12, 13, 14, 15]]])"
      ]
     },
     "execution_count": 82,
     "metadata": {},
     "output_type": "execute_result"
    }
   ],
   "source": [
    "arr = np.arange( 16 ).reshape( (2, 2, 4) )\n",
    "arr"
   ]
  },
  {
   "cell_type": "code",
   "execution_count": 83,
   "metadata": {},
   "outputs": [
    {
     "data": {
      "text/plain": [
       "array([[[ 0,  1,  2,  3],\n",
       "        [ 8,  9, 10, 11]],\n",
       "\n",
       "       [[ 4,  5,  6,  7],\n",
       "        [12, 13, 14, 15]]])"
      ]
     },
     "execution_count": 83,
     "metadata": {},
     "output_type": "execute_result"
    }
   ],
   "source": [
    "arr.transpose( (1, 0, 2) ) # Reordering array dimensions: [i,j,k] becomes [j,i,k]"
   ]
  },
  {
   "cell_type": "code",
   "execution_count": 84,
   "metadata": {},
   "outputs": [
    {
     "data": {
      "text/plain": [
       "array([[[ 0,  4],\n",
       "        [ 1,  5],\n",
       "        [ 2,  6],\n",
       "        [ 3,  7]],\n",
       "\n",
       "       [[ 8, 12],\n",
       "        [ 9, 13],\n",
       "        [10, 14],\n",
       "        [11, 15]]])"
      ]
     },
     "execution_count": 84,
     "metadata": {},
     "output_type": "execute_result"
    }
   ],
   "source": [
    "arr.transpose( (0, 2, 1) ) # [i, j, k] -> [i, k, j]"
   ]
  },
  {
   "cell_type": "code",
   "execution_count": 85,
   "metadata": {},
   "outputs": [
    {
     "data": {
      "text/plain": [
       "array([[[ 0,  8],\n",
       "        [ 1,  9],\n",
       "        [ 2, 10],\n",
       "        [ 3, 11]],\n",
       "\n",
       "       [[ 4, 12],\n",
       "        [ 5, 13],\n",
       "        [ 6, 14],\n",
       "        [ 7, 15]]])"
      ]
     },
     "execution_count": 85,
     "metadata": {},
     "output_type": "execute_result"
    }
   ],
   "source": [
    "arr.transpose( (1, 2, 0) ) # [i, j, k] -> [j, k, i]"
   ]
  },
  {
   "cell_type": "code",
   "execution_count": 86,
   "metadata": {},
   "outputs": [
    {
     "data": {
      "text/plain": [
       "array([[[ 0,  4],\n",
       "        [ 1,  5],\n",
       "        [ 2,  6],\n",
       "        [ 3,  7]],\n",
       "\n",
       "       [[ 8, 12],\n",
       "        [ 9, 13],\n",
       "        [10, 14],\n",
       "        [11, 15]]])"
      ]
     },
     "execution_count": 86,
     "metadata": {},
     "output_type": "execute_result"
    }
   ],
   "source": [
    "arr.swapaxes( 1, 2 ) # [i, j, k] -> [i, k, j]"
   ]
  },
  {
   "cell_type": "markdown",
   "metadata": {},
   "source": [
    "# Universal functions"
   ]
  },
  {
   "cell_type": "code",
   "execution_count": 87,
   "metadata": {},
   "outputs": [
    {
     "data": {
      "text/plain": [
       "array([0, 1, 2, 3, 4, 5, 6, 7, 8, 9])"
      ]
     },
     "execution_count": 87,
     "metadata": {},
     "output_type": "execute_result"
    }
   ],
   "source": [
    "arr = np.arange(10)\n",
    "arr"
   ]
  },
  {
   "cell_type": "code",
   "execution_count": 88,
   "metadata": {},
   "outputs": [
    {
     "data": {
      "text/plain": [
       "array([0.        , 1.        , 1.41421356, 1.73205081, 2.        ,\n",
       "       2.23606798, 2.44948974, 2.64575131, 2.82842712, 3.        ])"
      ]
     },
     "execution_count": 88,
     "metadata": {},
     "output_type": "execute_result"
    }
   ],
   "source": [
    "np.sqrt( arr ) # unary ufuncs"
   ]
  },
  {
   "cell_type": "code",
   "execution_count": 89,
   "metadata": {},
   "outputs": [
    {
     "data": {
      "text/plain": [
       "array([1.00000000e+00, 2.71828183e+00, 7.38905610e+00, 2.00855369e+01,\n",
       "       5.45981500e+01, 1.48413159e+02, 4.03428793e+02, 1.09663316e+03,\n",
       "       2.98095799e+03, 8.10308393e+03])"
      ]
     },
     "execution_count": 89,
     "metadata": {},
     "output_type": "execute_result"
    }
   ],
   "source": [
    "np.exp( arr )"
   ]
  },
  {
   "cell_type": "code",
   "execution_count": 90,
   "metadata": {},
   "outputs": [
    {
     "data": {
      "text/plain": [
       "array([ 1.19482552, -4.72074684, -1.13156683,  7.2896151 , -4.45104878,\n",
       "       -6.08776474, -1.90441577, -1.16238378])"
      ]
     },
     "execution_count": 90,
     "metadata": {},
     "output_type": "execute_result"
    }
   ],
   "source": [
    "x = np.random.randn( 8 ) * 5\n",
    "x"
   ]
  },
  {
   "cell_type": "code",
   "execution_count": 91,
   "metadata": {},
   "outputs": [
    {
     "data": {
      "text/plain": [
       "array([-5.26716075,  0.93020273,  3.66789319, -3.93659093,  4.45797046,\n",
       "       -1.14222853,  1.06306761,  0.62760937])"
      ]
     },
     "execution_count": 91,
     "metadata": {},
     "output_type": "execute_result"
    }
   ],
   "source": [
    "y = np.random.randn( 8 ) * 5\n",
    "y"
   ]
  },
  {
   "cell_type": "code",
   "execution_count": 92,
   "metadata": {},
   "outputs": [
    {
     "data": {
      "text/plain": [
       "array([ 1.19482552,  0.93020273,  3.66789319,  7.2896151 ,  4.45797046,\n",
       "       -1.14222853,  1.06306761,  0.62760937])"
      ]
     },
     "execution_count": 92,
     "metadata": {},
     "output_type": "execute_result"
    }
   ],
   "source": [
    "np.maximum( x, y ) # binary ufuncs"
   ]
  },
  {
   "cell_type": "code",
   "execution_count": 93,
   "metadata": {},
   "outputs": [
    {
     "data": {
      "text/plain": [
       "(array([ 0.19482552, -0.72074684, -0.13156683,  0.2896151 , -0.45104878,\n",
       "        -0.08776474, -0.90441577, -0.16238378]),\n",
       " array([ 1., -4., -1.,  7., -4., -6., -1., -1.]))"
      ]
     },
     "execution_count": 93,
     "metadata": {},
     "output_type": "execute_result"
    }
   ],
   "source": [
    "np.modf( x ) # ufunc returning two arrays"
   ]
  },
  {
   "cell_type": "markdown",
   "metadata": {
    "collapsed": true
   },
   "source": [
    "# Data processing\n",
    "## Case study: calculating sqrt( x^2 + y^2 ) in a 2D mesh"
   ]
  },
  {
   "cell_type": "code",
   "execution_count": 94,
   "metadata": {},
   "outputs": [],
   "source": [
    "%matplotlib inline\n",
    "import matplotlib.pyplot as plt"
   ]
  },
  {
   "cell_type": "code",
   "execution_count": 95,
   "metadata": {},
   "outputs": [
    {
     "data": {
      "text/plain": [
       "array([[-5.  , -4.99, -4.98, ...,  4.97,  4.98,  4.99],\n",
       "       [-5.  , -4.99, -4.98, ...,  4.97,  4.98,  4.99],\n",
       "       [-5.  , -4.99, -4.98, ...,  4.97,  4.98,  4.99],\n",
       "       ...,\n",
       "       [-5.  , -4.99, -4.98, ...,  4.97,  4.98,  4.99],\n",
       "       [-5.  , -4.99, -4.98, ...,  4.97,  4.98,  4.99],\n",
       "       [-5.  , -4.99, -4.98, ...,  4.97,  4.98,  4.99]],\n",
       "      shape=(1000, 1000))"
      ]
     },
     "execution_count": 95,
     "metadata": {},
     "output_type": "execute_result"
    }
   ],
   "source": [
    "points = np.arange( -5, 5, 0.01 ) # 1000 equispaced points\n",
    "xs, ys = np.meshgrid( points, points ) # Cartesian product builds the 2D mesh\n",
    "xs"
   ]
  },
  {
   "cell_type": "code",
   "execution_count": 96,
   "metadata": {},
   "outputs": [
    {
     "data": {
      "text/plain": [
       "array([[-5.  , -5.  , -5.  , ..., -5.  , -5.  , -5.  ],\n",
       "       [-4.99, -4.99, -4.99, ..., -4.99, -4.99, -4.99],\n",
       "       [-4.98, -4.98, -4.98, ..., -4.98, -4.98, -4.98],\n",
       "       ...,\n",
       "       [ 4.97,  4.97,  4.97, ...,  4.97,  4.97,  4.97],\n",
       "       [ 4.98,  4.98,  4.98, ...,  4.98,  4.98,  4.98],\n",
       "       [ 4.99,  4.99,  4.99, ...,  4.99,  4.99,  4.99]],\n",
       "      shape=(1000, 1000))"
      ]
     },
     "execution_count": 96,
     "metadata": {},
     "output_type": "execute_result"
    }
   ],
   "source": [
    "ys"
   ]
  },
  {
   "cell_type": "code",
   "execution_count": 97,
   "metadata": {},
   "outputs": [
    {
     "data": {
      "text/plain": [
       "array([[7.07106781, 7.06400028, 7.05693985, ..., 7.04988652, 7.05693985,\n",
       "        7.06400028],\n",
       "       [7.06400028, 7.05692568, 7.04985815, ..., 7.04279774, 7.04985815,\n",
       "        7.05692568],\n",
       "       [7.05693985, 7.04985815, 7.04278354, ..., 7.03571603, 7.04278354,\n",
       "        7.04985815],\n",
       "       ...,\n",
       "       [7.04988652, 7.04279774, 7.03571603, ..., 7.0286414 , 7.03571603,\n",
       "        7.04279774],\n",
       "       [7.05693985, 7.04985815, 7.04278354, ..., 7.03571603, 7.04278354,\n",
       "        7.04985815],\n",
       "       [7.06400028, 7.05692568, 7.04985815, ..., 7.04279774, 7.04985815,\n",
       "        7.05692568]], shape=(1000, 1000))"
      ]
     },
     "execution_count": 97,
     "metadata": {},
     "output_type": "execute_result"
    }
   ],
   "source": [
    "z = np.sqrt( xs ** 2 + ys ** 2 )\n",
    "z"
   ]
  },
  {
   "cell_type": "code",
   "execution_count": 98,
   "metadata": {},
   "outputs": [
    {
     "name": "stderr",
     "output_type": "stream",
     "text": [
      "<>:3: SyntaxWarning: invalid escape sequence '\\s'\n",
      "<>:3: SyntaxWarning: invalid escape sequence '\\s'\n",
      "/tmp/ipykernel_5819/3884611055.py:3: SyntaxWarning: invalid escape sequence '\\s'\n",
      "  plt.title( u\"Plot of $\\sqrt{x^2 + y^2}$ in a 2D mesh\" );\n"
     ]
    },
    {
     "data": {
      "image/png": "[encoded data removed]",
      "text/plain": [
       "<Figure size 640x480 with 2 Axes>"
      ]
     },
     "metadata": {},
     "output_type": "display_data"
    }
   ],
   "source": [
    "plt.imshow( z, cmap = plt.cm.gray );\n",
    "plt.colorbar();\n",
    "plt.title( u\"Plot of $\\sqrt{x^2 + y^2}$ in a 2D mesh\" );"
   ]
  },
  {
   "cell_type": "markdown",
   "metadata": {
    "collapsed": true
   },
   "source": [
    "## Conditional logic"
   ]
  },
  {
   "cell_type": "code",
   "execution_count": 99,
   "metadata": {},
   "outputs": [],
   "source": [
    "xarr = np.random.randn( 10000 )\n",
    "yarr = np.random.randn( 10000 )"
   ]
  },
  {
   "cell_type": "code",
   "execution_count": 100,
   "metadata": {},
   "outputs": [
    {
     "name": "stdout",
     "output_type": "stream",
     "text": [
      "9.08 μs ± 8.98 ns per loop (mean ± std. dev. of 7 runs, 100,000 loops each)\n"
     ]
    }
   ],
   "source": [
    "%timeit result = np.where( xarr > 0, xarr, yarr )"
   ]
  },
  {
   "cell_type": "code",
   "execution_count": 101,
   "metadata": {},
   "outputs": [
    {
     "name": "stdout",
     "output_type": "stream",
     "text": [
      "657 μs ± 24.1 μs per loop (mean ± std. dev. of 7 runs, 1,000 loops each)\n"
     ]
    }
   ],
   "source": [
    "%timeit result = [ (x if c else y) for (x, y, c) in zip(xarr, yarr, xarr > 0) ]"
   ]
  },
  {
   "cell_type": "code",
   "execution_count": 102,
   "metadata": {},
   "outputs": [
    {
     "data": {
      "text/plain": [
       "array([[ 0.88325815,  1.75812538, -1.65818357, -1.75058318],\n",
       "       [ 0.06146979,  0.12282011, -0.74412964, -0.79440165],\n",
       "       [ 0.23578032,  0.47431047, -1.64289739,  0.46587314],\n",
       "       [-1.18216297,  0.50777723, -0.39797997, -0.4785678 ]])"
      ]
     },
     "execution_count": 102,
     "metadata": {},
     "output_type": "execute_result"
    }
   ],
   "source": [
    "arr = np.random.randn( 4, 4 )\n",
    "arr"
   ]
  },
  {
   "cell_type": "code",
   "execution_count": 103,
   "metadata": {},
   "outputs": [
    {
     "data": {
      "text/plain": [
       "array([[ 2,  2, -2, -2],\n",
       "       [ 2,  2, -2, -2],\n",
       "       [ 2,  2, -2,  2],\n",
       "       [-2,  2, -2, -2]])"
      ]
     },
     "execution_count": 103,
     "metadata": {},
     "output_type": "execute_result"
    }
   ],
   "source": [
    "np.where( arr > 0, 2, -2 )"
   ]
  },
  {
   "cell_type": "code",
   "execution_count": 104,
   "metadata": {},
   "outputs": [
    {
     "data": {
      "text/plain": [
       "array([[ 2.        ,  2.        , -1.65818357, -1.75058318],\n",
       "       [ 2.        ,  2.        , -0.74412964, -0.79440165],\n",
       "       [ 2.        ,  2.        , -1.64289739,  2.        ],\n",
       "       [-1.18216297,  2.        , -0.39797997, -0.4785678 ]])"
      ]
     },
     "execution_count": 104,
     "metadata": {},
     "output_type": "execute_result"
    }
   ],
   "source": [
    "np.where( arr > 0, 2, arr)"
   ]
  },
  {
   "cell_type": "code",
   "execution_count": 105,
   "metadata": {},
   "outputs": [
    {
     "data": {
      "text/plain": [
       "(array([0, 0, 1, 1, 2, 2, 2, 3]), array([0, 1, 0, 1, 0, 1, 3, 1]))"
      ]
     },
     "execution_count": 105,
     "metadata": {},
     "output_type": "execute_result"
    }
   ],
   "source": [
    "np.where( arr > 0 ) # Without arguments, np.where() returns a tuple of index arrays"
   ]
  },
  {
   "cell_type": "code",
   "execution_count": 106,
   "metadata": {},
   "outputs": [
    {
     "data": {
      "text/plain": [
       "array([[ 2.        ,  2.        , -1.65818357, -1.75058318],\n",
       "       [ 2.        ,  2.        , -0.74412964, -0.79440165],\n",
       "       [ 2.        ,  2.        , -1.64289739,  2.        ],\n",
       "       [-1.18216297,  2.        , -0.39797997, -0.4785678 ]])"
      ]
     },
     "execution_count": 106,
     "metadata": {},
     "output_type": "execute_result"
    }
   ],
   "source": [
    "arr[ np.where( arr > 0 ) ] = 2\n",
    "arr"
   ]
  },
  {
   "cell_type": "markdown",
   "metadata": {},
   "source": [
    "## Mathematics and statistics"
   ]
  },
  {
   "cell_type": "code",
   "execution_count": 107,
   "metadata": {},
   "outputs": [
    {
     "data": {
      "text/plain": [
       "array([[-0.97218931, -0.39229957,  1.70831235, -0.4685878 ],\n",
       "       [ 2.78480096, -1.26777941, -0.21823134, -1.22710963],\n",
       "       [ 1.022799  ,  0.47795829, -0.28216755, -0.68748229],\n",
       "       [ 1.3256954 , -1.52145168,  0.66403617, -0.20499125],\n",
       "       [ 1.17453304,  0.4415763 ,  0.42171041,  1.16776508]])"
      ]
     },
     "execution_count": 107,
     "metadata": {},
     "output_type": "execute_result"
    }
   ],
   "source": [
    "arr = np.random.randn(5,4)\n",
    "arr"
   ]
  },
  {
   "cell_type": "code",
   "execution_count": 108,
   "metadata": {},
   "outputs": [
    {
     "data": {
      "text/plain": [
       "np.float64(0.1973448579739053)"
      ]
     },
     "execution_count": 108,
     "metadata": {},
     "output_type": "execute_result"
    }
   ],
   "source": [
    "arr.mean()"
   ]
  },
  {
   "cell_type": "code",
   "execution_count": 109,
   "metadata": {},
   "outputs": [
    {
     "data": {
      "text/plain": [
       "array([ 1.06712782, -0.45239921,  0.45873201, -0.28408118])"
      ]
     },
     "execution_count": 109,
     "metadata": {},
     "output_type": "execute_result"
    }
   ],
   "source": [
    "arr.mean(axis=0) # Reduction methods accept the axis to apply the reduction on."
   ]
  },
  {
   "cell_type": "code",
   "execution_count": 110,
   "metadata": {},
   "outputs": [
    {
     "data": {
      "text/plain": [
       "array([-0.03119108,  0.01792015,  0.13277686,  0.06582216,  0.80139621])"
      ]
     },
     "execution_count": 110,
     "metadata": {},
     "output_type": "execute_result"
    }
   ],
   "source": [
    "arr.mean(axis=1)"
   ]
  },
  {
   "cell_type": "code",
   "execution_count": 111,
   "metadata": {},
   "outputs": [
    {
     "data": {
      "text/plain": [
       "array([-0.97218931, -1.36448888,  0.34382346, -0.12476434,  2.66003663,\n",
       "        1.39225722,  1.17402588, -0.05308376,  0.96971524,  1.44767353,\n",
       "        1.16550598,  0.47802369,  1.80371909,  0.28226741,  0.94630358,\n",
       "        0.74131233,  1.91584538,  2.35742168,  2.77913208,  3.94689716])"
      ]
     },
     "execution_count": 111,
     "metadata": {},
     "output_type": "execute_result"
    }
   ],
   "source": [
    "arr.cumsum()"
   ]
  },
  {
   "cell_type": "code",
   "execution_count": 112,
   "metadata": {},
   "outputs": [
    {
     "data": {
      "text/plain": [
       "array([[-0.97218931, -0.39229957,  1.70831235, -0.4685878 ],\n",
       "       [ 1.81261165, -1.66007898,  1.490081  , -1.69569743],\n",
       "       [ 2.83541065, -1.18212069,  1.20791345, -2.38317972],\n",
       "       [ 4.16110605, -2.70357237,  1.87194962, -2.58817097],\n",
       "       [ 5.33563909, -2.26199607,  2.29366003, -1.42040589]])"
      ]
     },
     "execution_count": 112,
     "metadata": {},
     "output_type": "execute_result"
    }
   ],
   "source": [
    "arr.cumsum(axis=0) # In cumulative methods the axis parameter indicates the axis over which to accumulate."
   ]
  },
  {
   "cell_type": "code",
   "execution_count": 113,
   "metadata": {},
   "outputs": [
    {
     "data": {
      "text/plain": [
       "array([[-0.97218931, -1.36448888,  0.34382346, -0.12476434],\n",
       "       [ 2.78480096,  1.51702155,  1.29879021,  0.07168058],\n",
       "       [ 1.022799  ,  1.50075729,  1.21858973,  0.53110744],\n",
       "       [ 1.3256954 , -0.19575627,  0.4682799 ,  0.26328865],\n",
       "       [ 1.17453304,  1.61610934,  2.03781975,  3.20558483]])"
      ]
     },
     "execution_count": 113,
     "metadata": {},
     "output_type": "execute_result"
    }
   ],
   "source": [
    "arr.cumsum(axis=1)"
   ]
  },
  {
   "cell_type": "markdown",
   "metadata": {},
   "source": [
    "# Boolean arrays"
   ]
  },
  {
   "cell_type": "code",
   "execution_count": 114,
   "metadata": {},
   "outputs": [
    {
     "data": {
      "text/plain": [
       "array([[ True,  True, False,  True],\n",
       "       [False,  True,  True,  True],\n",
       "       [False, False,  True,  True],\n",
       "       [False,  True, False,  True],\n",
       "       [False, False, False, False]])"
      ]
     },
     "execution_count": 114,
     "metadata": {},
     "output_type": "execute_result"
    }
   ],
   "source": [
    "bools = np.array( arr < 0 )\n",
    "bools"
   ]
  },
  {
   "cell_type": "code",
   "execution_count": 115,
   "metadata": {},
   "outputs": [
    {
     "data": {
      "text/plain": [
       "np.True_"
      ]
     },
     "execution_count": 115,
     "metadata": {},
     "output_type": "execute_result"
    }
   ],
   "source": [
    "bools.any() # Same as bools.sum() > 0"
   ]
  },
  {
   "cell_type": "code",
   "execution_count": 116,
   "metadata": {},
   "outputs": [
    {
     "data": {
      "text/plain": [
       "np.False_"
      ]
     },
     "execution_count": 116,
     "metadata": {},
     "output_type": "execute_result"
    }
   ],
   "source": [
    "bools.all() # Same as bools.prod() > 0"
   ]
  },
  {
   "cell_type": "code",
   "execution_count": 117,
   "metadata": {},
   "outputs": [
    {
     "data": {
      "text/plain": [
       "array([ True,  True,  True,  True])"
      ]
     },
     "execution_count": 117,
     "metadata": {},
     "output_type": "execute_result"
    }
   ],
   "source": [
    "bools.any( axis = 0 ) # Same as bools.sum(axis=0) > 0"
   ]
  },
  {
   "cell_type": "code",
   "execution_count": 118,
   "metadata": {},
   "outputs": [
    {
     "data": {
      "text/plain": [
       "array([False, False, False, False, False])"
      ]
     },
     "execution_count": 118,
     "metadata": {},
     "output_type": "execute_result"
    }
   ],
   "source": [
    "bools.all( axis = 1 ) # Same as bools.prod(axis=1) > 0"
   ]
  },
  {
   "cell_type": "markdown",
   "metadata": {},
   "source": [
    "## Sorting"
   ]
  },
  {
   "cell_type": "code",
   "execution_count": 119,
   "metadata": {},
   "outputs": [
    {
     "data": {
      "text/plain": [
       "array([[-1.24847069,  0.76699532,  1.9425549 ],\n",
       "       [-0.49857996,  0.55184327, -0.23845925],\n",
       "       [-0.65334302,  2.3380665 ,  0.23519836],\n",
       "       [ 1.85168563, -0.66669993,  0.60598266],\n",
       "       [ 0.532276  ,  1.99877099,  0.20124418]])"
      ]
     },
     "execution_count": 119,
     "metadata": {},
     "output_type": "execute_result"
    }
   ],
   "source": [
    "arr = np.random.randn( 5, 3 )\n",
    "arr"
   ]
  },
  {
   "cell_type": "code",
   "execution_count": 120,
   "metadata": {},
   "outputs": [
    {
     "data": {
      "text/plain": [
       "array([[-1.24847069,  0.76699532,  1.9425549 ],\n",
       "       [-0.49857996, -0.23845925,  0.55184327],\n",
       "       [-0.65334302,  0.23519836,  2.3380665 ],\n",
       "       [-0.66669993,  0.60598266,  1.85168563],\n",
       "       [ 0.20124418,  0.532276  ,  1.99877099]])"
      ]
     },
     "execution_count": 120,
     "metadata": {},
     "output_type": "execute_result"
    }
   ],
   "source": [
    "np.sort(arr)"
   ]
  },
  {
   "cell_type": "code",
   "execution_count": 121,
   "metadata": {},
   "outputs": [
    {
     "data": {
      "text/plain": [
       "array([[-1.24847069, -0.66669993, -0.23845925],\n",
       "       [-0.65334302,  0.55184327,  0.20124418],\n",
       "       [-0.49857996,  0.76699532,  0.23519836],\n",
       "       [ 0.532276  ,  1.99877099,  0.60598266],\n",
       "       [ 1.85168563,  2.3380665 ,  1.9425549 ]])"
      ]
     },
     "execution_count": 121,
     "metadata": {},
     "output_type": "execute_result"
    }
   ],
   "source": [
    "np.sort(arr, axis=0)"
   ]
  },
  {
   "cell_type": "code",
   "execution_count": 122,
   "metadata": {},
   "outputs": [
    {
     "data": {
      "text/plain": [
       "np.float64(-1.6086513213910614)"
      ]
     },
     "execution_count": 122,
     "metadata": {},
     "output_type": "execute_result"
    }
   ],
   "source": [
    "# Sorting can be used to compute quantiles\n",
    "arr = np.random.randn( 1000 )\n",
    "arr.sort()\n",
    "arr[int(0.05*len(arr))] # 0,05 quantile (5%)"
   ]
  },
  {
   "cell_type": "markdown",
   "metadata": {},
   "source": [
    "# Random numbers"
   ]
  },
  {
   "cell_type": "markdown",
   "metadata": {},
   "source": [
    "## Case study: random walks"
   ]
  },
  {
   "cell_type": "code",
   "execution_count": 123,
   "metadata": {},
   "outputs": [
    {
     "data": {
      "text/plain": [
       "array([0, 1, 0, 0, 0, 1, 0, 1, 0, 1, 0, 1, 1, 1, 1, 1, 0, 1, 0, 1, 0, 1,\n",
       "       0, 1, 0, 0, 0, 1, 0, 0, 1, 1, 1, 1, 0, 0, 0, 0, 1, 0, 1, 0, 1, 1,\n",
       "       1, 1, 0, 1, 1, 0, 1, 1, 1, 1, 0, 1, 1, 1, 1, 1, 0, 1, 0, 1, 1, 0,\n",
       "       1, 1, 0, 1, 0, 0, 1, 0, 0, 0, 0, 1, 1, 1, 0, 1, 1, 1, 1, 1, 1, 0,\n",
       "       1, 0, 1, 1, 1, 0, 0, 1, 1, 0, 0, 0, 0, 0, 1, 0, 0, 1, 1, 0, 0, 1,\n",
       "       1, 1, 1, 0, 0, 0, 1, 0, 0, 1, 1, 1, 1, 1, 0, 0, 1, 1, 0, 1, 0, 0,\n",
       "       1, 1, 0, 0, 0, 1, 0, 1, 1, 0, 0, 1, 0, 0, 0, 1, 0, 1, 0, 1, 1, 1,\n",
       "       0, 0, 1, 0, 1, 1, 1, 0, 0, 0, 1, 1, 1, 1, 1, 1, 1, 1, 0, 0, 1, 0,\n",
       "       0, 1, 1, 1, 1, 0, 0, 0, 0, 1, 0, 0, 0, 1, 1, 0, 1, 0, 0, 0, 1, 0,\n",
       "       0, 1, 1, 1, 1, 0, 0, 0, 0, 0, 1, 1, 0, 1, 0, 1, 1, 1, 1, 1, 1, 0,\n",
       "       1, 0, 1, 1, 1, 0, 1, 0, 1, 1, 0, 0, 0, 1, 1, 1, 0, 0, 1, 0, 0, 0,\n",
       "       1, 1, 1, 1, 0, 0, 1, 0, 0, 1, 0, 0, 0, 1, 1, 0, 1, 0, 0, 1, 0, 1,\n",
       "       0, 0, 1, 1, 0, 0, 0, 1, 1, 0, 1, 1, 0, 1, 0, 1, 1, 0, 0, 1, 0, 1,\n",
       "       1, 1, 1, 1, 0, 1, 0, 1, 0, 0, 1, 1, 0, 0, 0, 1, 0, 0, 1, 1, 1, 1,\n",
       "       1, 1, 0, 1, 1, 0, 1, 0, 1, 0, 0, 1, 0, 1, 0, 1, 0, 0, 0, 1, 1, 0,\n",
       "       0, 1, 0, 0, 1, 1, 0, 1, 1, 1, 0, 1, 0, 0, 0, 0, 0, 1, 1, 1, 1, 0,\n",
       "       0, 0, 1, 0, 1, 1, 1, 1, 1, 1, 0, 1, 0, 1, 0, 0, 1, 0, 1, 1, 1, 0,\n",
       "       1, 1, 1, 0, 0, 0, 0, 0, 1, 0, 0, 1, 0, 0, 1, 1, 1, 1, 0, 0, 1, 0,\n",
       "       1, 0, 1, 1, 0, 1, 0, 1, 1, 1, 1, 1, 1, 1, 1, 1, 0, 0, 1, 1, 1, 0,\n",
       "       1, 0, 0, 0, 1, 1, 1, 1, 0, 1, 0, 1, 0, 0, 1, 0, 1, 1, 0, 0, 1, 0,\n",
       "       1, 1, 1, 0, 0, 0, 1, 1, 0, 0, 0, 0, 0, 0, 0, 0, 0, 1, 1, 1, 0, 1,\n",
       "       0, 0, 1, 1, 1, 1, 0, 0, 0, 0, 1, 0, 0, 1, 0, 1, 0, 1, 1, 0, 1, 0,\n",
       "       0, 0, 1, 0, 0, 0, 0, 1, 0, 0, 1, 0, 0, 1, 1, 1, 1, 0, 0, 1, 0, 1,\n",
       "       0, 1, 0, 0, 1, 1, 0, 1, 0, 1, 1, 0, 0, 1, 1, 0, 0, 1, 1, 1, 1, 1,\n",
       "       0, 0, 1, 1, 1, 1, 1, 1, 1, 0, 0, 1, 0, 0, 0, 0, 1, 1, 1, 1, 1, 1,\n",
       "       0, 1, 1, 1, 0, 1, 1, 1, 1, 1, 1, 1, 0, 0, 0, 0, 0, 0, 1, 0, 0, 0,\n",
       "       0, 1, 1, 0, 0, 0, 0, 0, 0, 0, 1, 0, 1, 1, 1, 0, 0, 0, 1, 0, 1, 0,\n",
       "       1, 0, 1, 1, 0, 0, 1, 1, 1, 0, 0, 1, 0, 0, 1, 0, 0, 0, 0, 0, 1, 1,\n",
       "       0, 1, 0, 1, 1, 0, 0, 1, 0, 0, 1, 0, 1, 1, 1, 1, 0, 0, 1, 0, 1, 1,\n",
       "       0, 1, 0, 1, 0, 0, 1, 0, 0, 0, 0, 1, 1, 0, 1, 0, 0, 0, 0, 0, 1, 1,\n",
       "       0, 1, 0, 0, 0, 0, 0, 0, 1, 0, 0, 0, 1, 0, 0, 1, 0, 0, 1, 1, 0, 0,\n",
       "       1, 1, 0, 1, 0, 1, 1, 0, 1, 0, 0, 1, 1, 0, 0, 1, 0, 1, 1, 0, 1, 1,\n",
       "       0, 0, 1, 0, 1, 1, 1, 1, 1, 0, 1, 1, 1, 0, 1, 1, 0, 0, 0, 0, 0, 0,\n",
       "       1, 1, 0, 1, 0, 0, 1, 0, 1, 0, 0, 1, 1, 0, 1, 0, 0, 0, 0, 1, 1, 0,\n",
       "       1, 1, 0, 1, 0, 1, 1, 1, 1, 1, 0, 0, 0, 1, 0, 0, 1, 1, 0, 0, 1, 1,\n",
       "       1, 1, 1, 0, 1, 1, 1, 0, 1, 0, 1, 0, 1, 0, 0, 1, 1, 0, 0, 1, 1, 0,\n",
       "       1, 0, 0, 0, 0, 1, 0, 0, 1, 0, 1, 1, 1, 1, 0, 0, 0, 1, 1, 1, 1, 1,\n",
       "       1, 1, 1, 0, 0, 0, 1, 0, 0, 0, 1, 1, 0, 1, 1, 0, 0, 1, 0, 1, 1, 0,\n",
       "       0, 1, 0, 1, 1, 0, 0, 1, 1, 1, 0, 0, 1, 0, 1, 1, 1, 0, 0, 1, 1, 0,\n",
       "       0, 0, 0, 1, 0, 1, 1, 1, 1, 0, 1, 1, 0, 1, 0, 0, 1, 0, 0, 1, 1, 1,\n",
       "       0, 0, 1, 0, 1, 0, 0, 0, 1, 1, 1, 1, 1, 0, 0, 0, 1, 1, 0, 1, 0, 1,\n",
       "       1, 0, 1, 0, 0, 0, 1, 1, 1, 1, 0, 0, 1, 1, 1, 0, 1, 0, 1, 0, 1, 0,\n",
       "       1, 1, 0, 0, 0, 1, 1, 0, 0, 0, 1, 0, 1, 0, 1, 1, 1, 1, 1, 0, 0, 0,\n",
       "       0, 1, 1, 1, 1, 1, 0, 1, 0, 1, 1, 1, 1, 0, 0, 1, 1, 0, 1, 1, 1, 1,\n",
       "       0, 1, 1, 1, 0, 0, 1, 1, 1, 1, 0, 1, 0, 1, 0, 1, 0, 1, 0, 1, 0, 1,\n",
       "       1, 0, 0, 1, 1, 0, 1, 1, 0, 0])"
      ]
     },
     "execution_count": 123,
     "metadata": {},
     "output_type": "execute_result"
    }
   ],
   "source": [
    "nsteps = 1000\n",
    "draws = np.random.randint( 0, 2, size=nsteps )\n",
    "draws"
   ]
  },
  {
   "cell_type": "code",
   "execution_count": 124,
   "metadata": {},
   "outputs": [
    {
     "data": {
      "text/plain": [
       "array([-1,  1, -1, -1, -1,  1, -1,  1, -1,  1, -1,  1,  1,  1,  1,  1, -1,\n",
       "        1, -1,  1, -1,  1, -1,  1, -1, -1, -1,  1, -1, -1,  1,  1,  1,  1,\n",
       "       -1, -1, -1, -1,  1, -1,  1, -1,  1,  1,  1,  1, -1,  1,  1, -1,  1,\n",
       "        1,  1,  1, -1,  1,  1,  1,  1,  1, -1,  1, -1,  1,  1, -1,  1,  1,\n",
       "       -1,  1, -1, -1,  1, -1, -1, -1, -1,  1,  1,  1, -1,  1,  1,  1,  1,\n",
       "        1,  1, -1,  1, -1,  1,  1,  1, -1, -1,  1,  1, -1, -1, -1, -1, -1,\n",
       "        1, -1, -1,  1,  1, -1, -1,  1,  1,  1,  1, -1, -1, -1,  1, -1, -1,\n",
       "        1,  1,  1,  1,  1, -1, -1,  1,  1, -1,  1, -1, -1,  1,  1, -1, -1,\n",
       "       -1,  1, -1,  1,  1, -1, -1,  1, -1, -1, -1,  1, -1,  1, -1,  1,  1,\n",
       "        1, -1, -1,  1, -1,  1,  1,  1, -1, -1, -1,  1,  1,  1,  1,  1,  1,\n",
       "        1,  1, -1, -1,  1, -1, -1,  1,  1,  1,  1, -1, -1, -1, -1,  1, -1,\n",
       "       -1, -1,  1,  1, -1,  1, -1, -1, -1,  1, -1, -1,  1,  1,  1,  1, -1,\n",
       "       -1, -1, -1, -1,  1,  1, -1,  1, -1,  1,  1,  1,  1,  1,  1, -1,  1,\n",
       "       -1,  1,  1,  1, -1,  1, -1,  1,  1, -1, -1, -1,  1,  1,  1, -1, -1,\n",
       "        1, -1, -1, -1,  1,  1,  1,  1, -1, -1,  1, -1, -1,  1, -1, -1, -1,\n",
       "        1,  1, -1,  1, -1, -1,  1, -1,  1, -1, -1,  1,  1, -1, -1, -1,  1,\n",
       "        1, -1,  1,  1, -1,  1, -1,  1,  1, -1, -1,  1, -1,  1,  1,  1,  1,\n",
       "        1, -1,  1, -1,  1, -1, -1,  1,  1, -1, -1, -1,  1, -1, -1,  1,  1,\n",
       "        1,  1,  1,  1, -1,  1,  1, -1,  1, -1,  1, -1, -1,  1, -1,  1, -1,\n",
       "        1, -1, -1, -1,  1,  1, -1, -1,  1, -1, -1,  1,  1, -1,  1,  1,  1,\n",
       "       -1,  1, -1, -1, -1, -1, -1,  1,  1,  1,  1, -1, -1, -1,  1, -1,  1,\n",
       "        1,  1,  1,  1,  1, -1,  1, -1,  1, -1, -1,  1, -1,  1,  1,  1, -1,\n",
       "        1,  1,  1, -1, -1, -1, -1, -1,  1, -1, -1,  1, -1, -1,  1,  1,  1,\n",
       "        1, -1, -1,  1, -1,  1, -1,  1,  1, -1,  1, -1,  1,  1,  1,  1,  1,\n",
       "        1,  1,  1,  1, -1, -1,  1,  1,  1, -1,  1, -1, -1, -1,  1,  1,  1,\n",
       "        1, -1,  1, -1,  1, -1, -1,  1, -1,  1,  1, -1, -1,  1, -1,  1,  1,\n",
       "        1, -1, -1, -1,  1,  1, -1, -1, -1, -1, -1, -1, -1, -1, -1,  1,  1,\n",
       "        1, -1,  1, -1, -1,  1,  1,  1,  1, -1, -1, -1, -1,  1, -1, -1,  1,\n",
       "       -1,  1, -1,  1,  1, -1,  1, -1, -1, -1,  1, -1, -1, -1, -1,  1, -1,\n",
       "       -1,  1, -1, -1,  1,  1,  1,  1, -1, -1,  1, -1,  1, -1,  1, -1, -1,\n",
       "        1,  1, -1,  1, -1,  1,  1, -1, -1,  1,  1, -1, -1,  1,  1,  1,  1,\n",
       "        1, -1, -1,  1,  1,  1,  1,  1,  1,  1, -1, -1,  1, -1, -1, -1, -1,\n",
       "        1,  1,  1,  1,  1,  1, -1,  1,  1,  1, -1,  1,  1,  1,  1,  1,  1,\n",
       "        1, -1, -1, -1, -1, -1, -1,  1, -1, -1, -1, -1,  1,  1, -1, -1, -1,\n",
       "       -1, -1, -1, -1,  1, -1,  1,  1,  1, -1, -1, -1,  1, -1,  1, -1,  1,\n",
       "       -1,  1,  1, -1, -1,  1,  1,  1, -1, -1,  1, -1, -1,  1, -1, -1, -1,\n",
       "       -1, -1,  1,  1, -1,  1, -1,  1,  1, -1, -1,  1, -1, -1,  1, -1,  1,\n",
       "        1,  1,  1, -1, -1,  1, -1,  1,  1, -1,  1, -1,  1, -1, -1,  1, -1,\n",
       "       -1, -1, -1,  1,  1, -1,  1, -1, -1, -1, -1, -1,  1,  1, -1,  1, -1,\n",
       "       -1, -1, -1, -1, -1,  1, -1, -1, -1,  1, -1, -1,  1, -1, -1,  1,  1,\n",
       "       -1, -1,  1,  1, -1,  1, -1,  1,  1, -1,  1, -1, -1,  1,  1, -1, -1,\n",
       "        1, -1,  1,  1, -1,  1,  1, -1, -1,  1, -1,  1,  1,  1,  1,  1, -1,\n",
       "        1,  1,  1, -1,  1,  1, -1, -1, -1, -1, -1, -1,  1,  1, -1,  1, -1,\n",
       "       -1,  1, -1,  1, -1, -1,  1,  1, -1,  1, -1, -1, -1, -1,  1,  1, -1,\n",
       "        1,  1, -1,  1, -1,  1,  1,  1,  1,  1, -1, -1, -1,  1, -1, -1,  1,\n",
       "        1, -1, -1,  1,  1,  1,  1,  1, -1,  1,  1,  1, -1,  1, -1,  1, -1,\n",
       "        1, -1, -1,  1,  1, -1, -1,  1,  1, -1,  1, -1, -1, -1, -1,  1, -1,\n",
       "       -1,  1, -1,  1,  1,  1,  1, -1, -1, -1,  1,  1,  1,  1,  1,  1,  1,\n",
       "        1, -1, -1, -1,  1, -1, -1, -1,  1,  1, -1,  1,  1, -1, -1,  1, -1,\n",
       "        1,  1, -1, -1,  1, -1,  1,  1, -1, -1,  1,  1,  1, -1, -1,  1, -1,\n",
       "        1,  1,  1, -1, -1,  1,  1, -1, -1, -1, -1,  1, -1,  1,  1,  1,  1,\n",
       "       -1,  1,  1, -1,  1, -1, -1,  1, -1, -1,  1,  1,  1, -1, -1,  1, -1,\n",
       "        1, -1, -1, -1,  1,  1,  1,  1,  1, -1, -1, -1,  1,  1, -1,  1, -1,\n",
       "        1,  1, -1,  1, -1, -1, -1,  1,  1,  1,  1, -1, -1,  1,  1,  1, -1,\n",
       "        1, -1,  1, -1,  1, -1,  1,  1, -1, -1, -1,  1,  1, -1, -1, -1,  1,\n",
       "       -1,  1, -1,  1,  1,  1,  1,  1, -1, -1, -1, -1,  1,  1,  1,  1,  1,\n",
       "       -1,  1, -1,  1,  1,  1,  1, -1, -1,  1,  1, -1,  1,  1,  1,  1, -1,\n",
       "        1,  1,  1, -1, -1,  1,  1,  1,  1, -1,  1, -1,  1, -1,  1, -1,  1,\n",
       "       -1,  1, -1,  1,  1, -1, -1,  1,  1, -1,  1,  1, -1, -1])"
      ]
     },
     "execution_count": 124,
     "metadata": {},
     "output_type": "execute_result"
    }
   ],
   "source": [
    "steps = np.where( draws == 0, -1, 1 )\n",
    "steps"
   ]
  },
  {
   "cell_type": "code",
   "execution_count": 125,
   "metadata": {},
   "outputs": [
    {
     "data": {
      "text/plain": [
       "array([-1,  0, -1, -2, -3, -2, -3, -2, -3, -2, -3, -2, -1,  0,  1,  2,  1,\n",
       "        2,  1,  2,  1,  2,  1,  2,  1,  0, -1,  0, -1, -2, -1,  0,  1,  2,\n",
       "        1,  0, -1, -2, -1, -2, -1, -2, -1,  0,  1,  2,  1,  2,  3,  2,  3,\n",
       "        4,  5,  6,  5,  6,  7,  8,  9, 10,  9, 10,  9, 10, 11, 10, 11, 12,\n",
       "       11, 12, 11, 10, 11, 10,  9,  8,  7,  8,  9, 10,  9, 10, 11, 12, 13,\n",
       "       14, 15, 14, 15, 14, 15, 16, 17, 16, 15, 16, 17, 16, 15, 14, 13, 12,\n",
       "       13, 12, 11, 12, 13, 12, 11, 12, 13, 14, 15, 14, 13, 12, 13, 12, 11,\n",
       "       12, 13, 14, 15, 16, 15, 14, 15, 16, 15, 16, 15, 14, 15, 16, 15, 14,\n",
       "       13, 14, 13, 14, 15, 14, 13, 14, 13, 12, 11, 12, 11, 12, 11, 12, 13,\n",
       "       14, 13, 12, 13, 12, 13, 14, 15, 14, 13, 12, 13, 14, 15, 16, 17, 18,\n",
       "       19, 20, 19, 18, 19, 18, 17, 18, 19, 20, 21, 20, 19, 18, 17, 18, 17,\n",
       "       16, 15, 16, 17, 16, 17, 16, 15, 14, 15, 14, 13, 14, 15, 16, 17, 16,\n",
       "       15, 14, 13, 12, 13, 14, 13, 14, 13, 14, 15, 16, 17, 18, 19, 18, 19,\n",
       "       18, 19, 20, 21, 20, 21, 20, 21, 22, 21, 20, 19, 20, 21, 22, 21, 20,\n",
       "       21, 20, 19, 18, 19, 20, 21, 22, 21, 20, 21, 20, 19, 20, 19, 18, 17,\n",
       "       18, 19, 18, 19, 18, 17, 18, 17, 18, 17, 16, 17, 18, 17, 16, 15, 16,\n",
       "       17, 16, 17, 18, 17, 18, 17, 18, 19, 18, 17, 18, 17, 18, 19, 20, 21,\n",
       "       22, 21, 22, 21, 22, 21, 20, 21, 22, 21, 20, 19, 20, 19, 18, 19, 20,\n",
       "       21, 22, 23, 24, 23, 24, 25, 24, 25, 24, 25, 24, 23, 24, 23, 24, 23,\n",
       "       24, 23, 22, 21, 22, 23, 22, 21, 22, 21, 20, 21, 22, 21, 22, 23, 24,\n",
       "       23, 24, 23, 22, 21, 20, 19, 20, 21, 22, 23, 22, 21, 20, 21, 20, 21,\n",
       "       22, 23, 24, 25, 26, 25, 26, 25, 26, 25, 24, 25, 24, 25, 26, 27, 26,\n",
       "       27, 28, 29, 28, 27, 26, 25, 24, 25, 24, 23, 24, 23, 22, 23, 24, 25,\n",
       "       26, 25, 24, 25, 24, 25, 24, 25, 26, 25, 26, 25, 26, 27, 28, 29, 30,\n",
       "       31, 32, 33, 34, 33, 32, 33, 34, 35, 34, 35, 34, 33, 32, 33, 34, 35,\n",
       "       36, 35, 36, 35, 36, 35, 34, 35, 34, 35, 36, 35, 34, 35, 34, 35, 36,\n",
       "       37, 36, 35, 34, 35, 36, 35, 34, 33, 32, 31, 30, 29, 28, 27, 28, 29,\n",
       "       30, 29, 30, 29, 28, 29, 30, 31, 32, 31, 30, 29, 28, 29, 28, 27, 28,\n",
       "       27, 28, 27, 28, 29, 28, 29, 28, 27, 26, 27, 26, 25, 24, 23, 24, 23,\n",
       "       22, 23, 22, 21, 22, 23, 24, 25, 24, 23, 24, 23, 24, 23, 24, 23, 22,\n",
       "       23, 24, 23, 24, 23, 24, 25, 24, 23, 24, 25, 24, 23, 24, 25, 26, 27,\n",
       "       28, 27, 26, 27, 28, 29, 30, 31, 32, 33, 32, 31, 32, 31, 30, 29, 28,\n",
       "       29, 30, 31, 32, 33, 34, 33, 34, 35, 36, 35, 36, 37, 38, 39, 40, 41,\n",
       "       42, 41, 40, 39, 38, 37, 36, 37, 36, 35, 34, 33, 34, 35, 34, 33, 32,\n",
       "       31, 30, 29, 28, 29, 28, 29, 30, 31, 30, 29, 28, 29, 28, 29, 28, 29,\n",
       "       28, 29, 30, 29, 28, 29, 30, 31, 30, 29, 30, 29, 28, 29, 28, 27, 26,\n",
       "       25, 24, 25, 26, 25, 26, 25, 26, 27, 26, 25, 26, 25, 24, 25, 24, 25,\n",
       "       26, 27, 28, 27, 26, 27, 26, 27, 28, 27, 28, 27, 28, 27, 26, 27, 26,\n",
       "       25, 24, 23, 24, 25, 24, 25, 24, 23, 22, 21, 20, 21, 22, 21, 22, 21,\n",
       "       20, 19, 18, 17, 16, 17, 16, 15, 14, 15, 14, 13, 14, 13, 12, 13, 14,\n",
       "       13, 12, 13, 14, 13, 14, 13, 14, 15, 14, 15, 14, 13, 14, 15, 14, 13,\n",
       "       14, 13, 14, 15, 14, 15, 16, 15, 14, 15, 14, 15, 16, 17, 18, 19, 18,\n",
       "       19, 20, 21, 20, 21, 22, 21, 20, 19, 18, 17, 16, 17, 18, 17, 18, 17,\n",
       "       16, 17, 16, 17, 16, 15, 16, 17, 16, 17, 16, 15, 14, 13, 14, 15, 14,\n",
       "       15, 16, 15, 16, 15, 16, 17, 18, 19, 20, 19, 18, 17, 18, 17, 16, 17,\n",
       "       18, 17, 16, 17, 18, 19, 20, 21, 20, 21, 22, 23, 22, 23, 22, 23, 22,\n",
       "       23, 22, 21, 22, 23, 22, 21, 22, 23, 22, 23, 22, 21, 20, 19, 20, 19,\n",
       "       18, 19, 18, 19, 20, 21, 22, 21, 20, 19, 20, 21, 22, 23, 24, 25, 26,\n",
       "       27, 26, 25, 24, 25, 24, 23, 22, 23, 24, 23, 24, 25, 24, 23, 24, 23,\n",
       "       24, 25, 24, 23, 24, 23, 24, 25, 24, 23, 24, 25, 26, 25, 24, 25, 24,\n",
       "       25, 26, 27, 26, 25, 26, 27, 26, 25, 24, 23, 24, 23, 24, 25, 26, 27,\n",
       "       26, 27, 28, 27, 28, 27, 26, 27, 26, 25, 26, 27, 28, 27, 26, 27, 26,\n",
       "       27, 26, 25, 24, 25, 26, 27, 28, 29, 28, 27, 26, 27, 28, 27, 28, 27,\n",
       "       28, 29, 28, 29, 28, 27, 26, 27, 28, 29, 30, 29, 28, 29, 30, 31, 30,\n",
       "       31, 30, 31, 30, 31, 30, 31, 32, 31, 30, 29, 30, 31, 30, 29, 28, 29,\n",
       "       28, 29, 28, 29, 30, 31, 32, 33, 32, 31, 30, 29, 30, 31, 32, 33, 34,\n",
       "       33, 34, 33, 34, 35, 36, 37, 36, 35, 36, 37, 36, 37, 38, 39, 40, 39,\n",
       "       40, 41, 42, 41, 40, 41, 42, 43, 44, 43, 44, 43, 44, 43, 44, 43, 44,\n",
       "       43, 44, 43, 44, 45, 44, 43, 44, 45, 44, 45, 46, 45, 44])"
      ]
     },
     "execution_count": 125,
     "metadata": {},
     "output_type": "execute_result"
    }
   ],
   "source": [
    "walk = steps.cumsum()\n",
    "walk"
   ]
  },
  {
   "cell_type": "code",
   "execution_count": 126,
   "metadata": {},
   "outputs": [
    {
     "data": {
      "image/png": "[encoded data removed]",
      "text/plain": [
       "<Figure size 640x480 with 1 Axes>"
      ]
     },
     "metadata": {},
     "output_type": "display_data"
    }
   ],
   "source": [
    "plt.plot( walk );"
   ]
  },
  {
   "cell_type": "code",
   "execution_count": 127,
   "metadata": {},
   "outputs": [
    {
     "data": {
      "text/plain": [
       "np.int64(-3)"
      ]
     },
     "execution_count": 127,
     "metadata": {},
     "output_type": "execute_result"
    }
   ],
   "source": [
    "walk.min()"
   ]
  },
  {
   "cell_type": "code",
   "execution_count": 128,
   "metadata": {},
   "outputs": [
    {
     "data": {
      "text/plain": [
       "np.int64(46)"
      ]
     },
     "execution_count": 128,
     "metadata": {},
     "output_type": "execute_result"
    }
   ],
   "source": [
    "walk.max()"
   ]
  },
  {
   "cell_type": "markdown",
   "metadata": {},
   "source": [
    "### Example: calculating the first time a walk deviates more than 10 units from zero"
   ]
  },
  {
   "cell_type": "code",
   "execution_count": 129,
   "metadata": {},
   "outputs": [
    {
     "data": {
      "text/plain": [
       "np.int64(64)"
      ]
     },
     "execution_count": 129,
     "metadata": {},
     "output_type": "execute_result"
    }
   ],
   "source": [
    "(np.abs(walk) > 10).argmax() # Si hay múltiples máximos, argmax() devuelve su primera ocurrencia"
   ]
  },
  {
   "cell_type": "markdown",
   "metadata": {},
   "source": [
    "## Example: generating multiple random walks simultaneously"
   ]
  },
  {
   "cell_type": "code",
   "execution_count": 130,
   "metadata": {},
   "outputs": [
    {
     "data": {
      "text/plain": [
       "array([[0, 0, 0, ..., 1, 0, 0],\n",
       "       [1, 0, 1, ..., 0, 0, 0],\n",
       "       [0, 1, 0, ..., 0, 1, 1],\n",
       "       ...,\n",
       "       [1, 1, 1, ..., 1, 1, 1],\n",
       "       [0, 1, 0, ..., 1, 1, 1],\n",
       "       [1, 0, 1, ..., 1, 1, 0]], shape=(5000, 1000))"
      ]
     },
     "execution_count": 130,
     "metadata": {},
     "output_type": "execute_result"
    }
   ],
   "source": [
    "nwalks = 5000\n",
    "nsteps = 1000\n",
    "draws = np.random.randint( 0, 2, size=(nwalks,nsteps) )\n",
    "draws"
   ]
  },
  {
   "cell_type": "code",
   "execution_count": 131,
   "metadata": {},
   "outputs": [
    {
     "data": {
      "text/plain": [
       "array([[-1, -1, -1, ...,  1, -1, -1],\n",
       "       [ 1, -1,  1, ..., -1, -1, -1],\n",
       "       [-1,  1, -1, ..., -1,  1,  1],\n",
       "       ...,\n",
       "       [ 1,  1,  1, ...,  1,  1,  1],\n",
       "       [-1,  1, -1, ...,  1,  1,  1],\n",
       "       [ 1, -1,  1, ...,  1,  1, -1]], shape=(5000, 1000))"
      ]
     },
     "execution_count": 131,
     "metadata": {},
     "output_type": "execute_result"
    }
   ],
   "source": [
    "steps = draws*2 - 1 # Another way to generate the steps array\n",
    "steps"
   ]
  },
  {
   "cell_type": "code",
   "execution_count": 132,
   "metadata": {},
   "outputs": [
    {
     "data": {
      "text/plain": [
       "array([[ -1,  -2,  -3, ..., -20, -21, -22],\n",
       "       [  1,   0,   1, ...,  28,  27,  26],\n",
       "       [ -1,   0,  -1, ..., -22, -21, -20],\n",
       "       ...,\n",
       "       [  1,   2,   3, ...,   8,   9,  10],\n",
       "       [ -1,   0,  -1, ..., -16, -15, -14],\n",
       "       [  1,   0,   1, ...,  62,  63,  62]], shape=(5000, 1000))"
      ]
     },
     "execution_count": 132,
     "metadata": {},
     "output_type": "execute_result"
    }
   ],
   "source": [
    "walks = steps.cumsum( axis = 1 )\n",
    "walks"
   ]
  },
  {
   "cell_type": "code",
   "execution_count": 133,
   "metadata": {},
   "outputs": [
    {
     "data": {
      "text/plain": [
       "np.int64(123)"
      ]
     },
     "execution_count": 133,
     "metadata": {},
     "output_type": "execute_result"
    }
   ],
   "source": [
    "walks.max()"
   ]
  },
  {
   "cell_type": "code",
   "execution_count": 134,
   "metadata": {},
   "outputs": [
    {
     "data": {
      "text/plain": [
       "np.int64(-117)"
      ]
     },
     "execution_count": 134,
     "metadata": {},
     "output_type": "execute_result"
    }
   ],
   "source": [
    "walks.min()"
   ]
  },
  {
   "cell_type": "markdown",
   "metadata": {},
   "source": [
    "### Ex. calculate, through all walks, the first time that one of them deviates more than 30 units from cero"
   ]
  },
  {
   "cell_type": "code",
   "execution_count": 135,
   "metadata": {},
   "outputs": [
    {
     "data": {
      "text/plain": [
       "array([ True,  True, False, ..., False, False,  True], shape=(5000,))"
      ]
     },
     "execution_count": 135,
     "metadata": {},
     "output_type": "execute_result"
    }
   ],
   "source": [
    "# No todos los paseos llegan a 30. Se calcula una máscara para aquéllos que sí lo hacen\n",
    "hits30 = (np.abs( walks ) > 30).any( axis = 1 )\n",
    "hits30"
   ]
  },
  {
   "cell_type": "code",
   "execution_count": 136,
   "metadata": {},
   "outputs": [
    {
     "data": {
      "text/plain": [
       "np.int64(3265)"
      ]
     },
     "execution_count": 136,
     "metadata": {},
     "output_type": "execute_result"
    }
   ],
   "source": [
    "hits30.sum() # Número de paseos que sí llegan a alejarse más de 30 unidades del cero"
   ]
  },
  {
   "cell_type": "code",
   "execution_count": 137,
   "metadata": {},
   "outputs": [
    {
     "data": {
      "text/plain": [
       "array([746, 302, 966, ..., 396, 822, 472], shape=(3265,))"
      ]
     },
     "execution_count": 137,
     "metadata": {},
     "output_type": "execute_result"
    }
   ],
   "source": [
    "crossing_times = (np.abs(walks[hits30]) > 30).argmax( axis=1 )\n",
    "crossing_times"
   ]
  },
  {
   "cell_type": "code",
   "execution_count": 138,
   "metadata": {},
   "outputs": [
    {
     "data": {
      "text/plain": [
       "np.int64(56)"
      ]
     },
     "execution_count": 138,
     "metadata": {},
     "output_type": "execute_result"
    }
   ],
   "source": [
    "crossing_times.min()"
   ]
  },
  {
   "cell_type": "code",
   "execution_count": 139,
   "metadata": {},
   "outputs": [
    {
     "data": {
      "text/plain": [
       "np.int64(505)"
      ]
     },
     "execution_count": 139,
     "metadata": {},
     "output_type": "execute_result"
    }
   ],
   "source": [
    "min_pos = crossing_times.argmin()\n",
    "min_pos"
   ]
  },
  {
   "cell_type": "code",
   "execution_count": 140,
   "metadata": {},
   "outputs": [
    {
     "data": {
      "image/png": "[encoded data removed]",
      "text/plain": [
       "<Figure size 640x480 with 1 Axes>"
      ]
     },
     "metadata": {},
     "output_type": "display_data"
    }
   ],
   "source": [
    "plt.plot( walks[hits30][min_pos] );"
   ]
  },
  {
   "cell_type": "code",
   "execution_count": 141,
   "metadata": {},
   "outputs": [],
   "source": [
    "# Find out the original index of the selected walk\n",
    "orig_pos = (hits30.cumsum() == min_pos+1).argmax() # We need to add 1, since indices start at 0"
   ]
  },
  {
   "cell_type": "code",
   "execution_count": 142,
   "metadata": {},
   "outputs": [
    {
     "data": {
      "text/plain": [
       "True"
      ]
     },
     "execution_count": 142,
     "metadata": {},
     "output_type": "execute_result"
    }
   ],
   "source": [
    "np.array_equal( walks[orig_pos], walks[hits30][min_pos] )"
   ]
  },
  {
   "cell_type": "code",
   "execution_count": 143,
   "metadata": {},
   "outputs": [
    {
     "data": {
      "text/plain": [
       "np.float64(519.9516079632466)"
      ]
     },
     "execution_count": 143,
     "metadata": {},
     "output_type": "execute_result"
    }
   ],
   "source": [
    "crossing_times.mean()"
   ]
  }
 ],
 "metadata": {
  "kernelspec": {
   "display_name": "Python 3 (ipykernel)",
   "language": "python",
   "name": "python3"
  },
  "language_info": {
   "codemirror_mode": {
    "name": "ipython",
    "version": 3
   },
   "file_extension": ".py",
   "mimetype": "text/x-python",
   "name": "python",
   "nbconvert_exporter": "python",
   "pygments_lexer": "ipython3",
   "version": "3.13.1"
  }
 },
 "nbformat": 4,
 "nbformat_minor": 1
}
