{
 "cells": [
  {
   "cell_type": "markdown",
   "metadata": {},
   "source": [
    "# Pandas"
   ]
  },
  {
   "cell_type": "markdown",
   "metadata": {},
   "source": [
    "## Data structures"
   ]
  },
  {
   "cell_type": "markdown",
   "metadata": {},
   "source": [
    "### $\\texttt{Series}$"
   ]
  },
  {
   "cell_type": "code",
   "execution_count": 1,
   "metadata": {},
   "outputs": [],
   "source": [
    "from pandas import Series\n",
    "import pandas as pd\n",
    "import numpy as np"
   ]
  },
  {
   "cell_type": "markdown",
   "metadata": {},
   "source": [
    "The simplest way to build a Series is from a 1D data array"
   ]
  },
  {
   "cell_type": "code",
   "execution_count": 2,
   "metadata": {},
   "outputs": [
    {
     "data": {
      "text/plain": [
       "0    4\n",
       "1    7\n",
       "2   -5\n",
       "3    3\n",
       "dtype: int64"
      ]
     },
     "execution_count": 2,
     "metadata": {},
     "output_type": "execute_result"
    }
   ],
   "source": [
    "obj = Series( [4, 7, -5, 3] )\n",
    "obj"
   ]
  },
  {
   "cell_type": "markdown",
   "metadata": {},
   "source": [
    "The pretty printing of a Series object shows the indices in the left column and the data values in the right column. Since we did not specify any particular index values, a default one is created as $range(len(a))$.\n",
    "\n",
    "We can extract the indices and the data separately:"
   ]
  },
  {
   "cell_type": "code",
   "execution_count": 3,
   "metadata": {},
   "outputs": [
    {
     "data": {
      "text/plain": [
       "(RangeIndex(start=0, stop=4, step=1), array([ 4,  7, -5,  3]))"
      ]
     },
     "execution_count": 3,
     "metadata": {},
     "output_type": "execute_result"
    }
   ],
   "source": [
    "obj.index, obj.values"
   ]
  },
  {
   "cell_type": "markdown",
   "metadata": {},
   "source": [
    "It is often necessary to build a Series object specifying a particular set of indices:"
   ]
  },
  {
   "cell_type": "code",
   "execution_count": 4,
   "metadata": {},
   "outputs": [
    {
     "data": {
      "text/plain": [
       "d    4\n",
       "b    7\n",
       "a   -5\n",
       "c    3\n",
       "dtype: int64"
      ]
     },
     "execution_count": 4,
     "metadata": {},
     "output_type": "execute_result"
    }
   ],
   "source": [
    "obj2 = Series( [4, 7, -5, 3], index=['d', 'b', 'a', 'c'] )\n",
    "obj2"
   ]
  },
  {
   "cell_type": "code",
   "execution_count": 5,
   "metadata": {},
   "outputs": [
    {
     "data": {
      "text/plain": [
       "Index(['d', 'b', 'a', 'c'], dtype='object')"
      ]
     },
     "execution_count": 5,
     "metadata": {},
     "output_type": "execute_result"
    }
   ],
   "source": [
    "obj2.index"
   ]
  },
  {
   "cell_type": "markdown",
   "metadata": {},
   "source": [
    "If we compare a Series to a NumPy ndarray, the Series allows to select data through their indices:"
   ]
  },
  {
   "cell_type": "code",
   "execution_count": 6,
   "metadata": {},
   "outputs": [
    {
     "data": {
      "text/plain": [
       "-5"
      ]
     },
     "execution_count": 6,
     "metadata": {},
     "output_type": "execute_result"
    }
   ],
   "source": [
    "obj2['a']"
   ]
  },
  {
   "cell_type": "code",
   "execution_count": 7,
   "metadata": {},
   "outputs": [
    {
     "data": {
      "text/plain": [
       "c    3\n",
       "a   -5\n",
       "d    6\n",
       "dtype: int64"
      ]
     },
     "execution_count": 7,
     "metadata": {},
     "output_type": "execute_result"
    }
   ],
   "source": [
    "obj2['d'] = 6\n",
    "obj2[ ['c', 'a', 'd'] ] # Fancy indexing is supported"
   ]
  },
  {
   "cell_type": "markdown",
   "metadata": {},
   "source": [
    "NumPy features such as boolean indexing, scalar multiplication, or ufunc application preserves the index-data pairs:"
   ]
  },
  {
   "cell_type": "code",
   "execution_count": 8,
   "metadata": {},
   "outputs": [
    {
     "data": {
      "text/plain": [
       "d    6\n",
       "b    7\n",
       "a   -5\n",
       "c    3\n",
       "dtype: int64"
      ]
     },
     "execution_count": 8,
     "metadata": {},
     "output_type": "execute_result"
    }
   ],
   "source": [
    "obj2"
   ]
  },
  {
   "cell_type": "code",
   "execution_count": 9,
   "metadata": {},
   "outputs": [
    {
     "data": {
      "text/plain": [
       "d    6\n",
       "b    7\n",
       "c    3\n",
       "dtype: int64"
      ]
     },
     "execution_count": 9,
     "metadata": {},
     "output_type": "execute_result"
    }
   ],
   "source": [
    "obj2[obj2 > 0]"
   ]
  },
  {
   "cell_type": "code",
   "execution_count": 10,
   "metadata": {},
   "outputs": [
    {
     "data": {
      "text/plain": [
       "d    12\n",
       "b    14\n",
       "a   -10\n",
       "c     6\n",
       "dtype: int64"
      ]
     },
     "execution_count": 10,
     "metadata": {},
     "output_type": "execute_result"
    }
   ],
   "source": [
    "obj2 * 2"
   ]
  },
  {
   "cell_type": "code",
   "execution_count": 11,
   "metadata": {},
   "outputs": [
    {
     "data": {
      "text/plain": [
       "d     403.428793\n",
       "b    1096.633158\n",
       "a       0.006738\n",
       "c      20.085537\n",
       "dtype: float64"
      ]
     },
     "execution_count": 11,
     "metadata": {},
     "output_type": "execute_result"
    }
   ],
   "source": [
    "np.exp( obj2 )"
   ]
  },
  {
   "cell_type": "markdown",
   "metadata": {},
   "source": [
    "A Series is very similar to a dictionary. It supports the $in$ operator to determine whether it contains a particular index:"
   ]
  },
  {
   "cell_type": "code",
   "execution_count": 12,
   "metadata": {},
   "outputs": [
    {
     "data": {
      "text/plain": [
       "True"
      ]
     },
     "execution_count": 12,
     "metadata": {},
     "output_type": "execute_result"
    }
   ],
   "source": [
    "'b' in obj2"
   ]
  },
  {
   "cell_type": "code",
   "execution_count": 13,
   "metadata": {},
   "outputs": [
    {
     "data": {
      "text/plain": [
       "False"
      ]
     },
     "execution_count": 13,
     "metadata": {},
     "output_type": "execute_result"
    }
   ],
   "source": [
    "'e' in obj2"
   ]
  },
  {
   "cell_type": "markdown",
   "metadata": {},
   "source": [
    "We can create a Series from a dictionary:"
   ]
  },
  {
   "cell_type": "code",
   "execution_count": 14,
   "metadata": {},
   "outputs": [
    {
     "data": {
      "text/plain": [
       "Caladan        35000\n",
       "Corrin         71000\n",
       "Ix             16000\n",
       "Giedi Prime     5000\n",
       "dtype: int64"
      ]
     },
     "execution_count": 14,
     "metadata": {},
     "output_type": "execute_result"
    }
   ],
   "source": [
    "sdata = { 'Caladan': 35000, 'Corrin': 71000, 'Ix': 16000, 'Giedi Prime': 5000 }\n",
    "obj3 = Series( sdata )\n",
    "obj3"
   ]
  },
  {
   "cell_type": "markdown",
   "metadata": {},
   "source": [
    "Note that the indices of the Series have been sorted alphabetically. We can provide an array containing the new list of keys in the dictionary that should be used for building the Series object:"
   ]
  },
  {
   "cell_type": "code",
   "execution_count": 15,
   "metadata": {},
   "outputs": [
    {
     "data": {
      "text/plain": [
       "Kaitain        NaN\n",
       "Caladan    35000.0\n",
       "Ix         16000.0\n",
       "Corrin     71000.0\n",
       "dtype: float64"
      ]
     },
     "execution_count": 15,
     "metadata": {},
     "output_type": "execute_result"
    }
   ],
   "source": [
    "planets = [ 'Kaitain', 'Caladan', 'Ix', 'Corrin' ]\n",
    "obj4 = Series( sdata, index=planets )\n",
    "obj4"
   ]
  },
  {
   "cell_type": "markdown",
   "metadata": {},
   "source": [
    "In this case the keys have not been sorted alphabetically, but the order specified in the array has been preserved. Given that the dictionary did not include a value for the key $'Kaitain'$, the index is present in the Series with an associated value of $NaN$. In Pandas, $NaN$ is used to mark unknown values. The isnull() and notnull() are provided to build boolean masks over unknown and known values, respectively:"
   ]
  },
  {
   "cell_type": "code",
   "execution_count": 16,
   "metadata": {},
   "outputs": [
    {
     "data": {
      "text/plain": [
       "Kaitain     True\n",
       "Caladan    False\n",
       "Ix         False\n",
       "Corrin     False\n",
       "dtype: bool"
      ]
     },
     "execution_count": 16,
     "metadata": {},
     "output_type": "execute_result"
    }
   ],
   "source": [
    "pd.isnull(obj4)"
   ]
  },
  {
   "cell_type": "code",
   "execution_count": 17,
   "metadata": {},
   "outputs": [
    {
     "data": {
      "text/plain": [
       "Kaitain    False\n",
       "Caladan     True\n",
       "Ix          True\n",
       "Corrin      True\n",
       "dtype: bool"
      ]
     },
     "execution_count": 17,
     "metadata": {},
     "output_type": "execute_result"
    }
   ],
   "source": [
    "pd.notnull(obj4)"
   ]
  },
  {
   "cell_type": "markdown",
   "metadata": {},
   "source": [
    "These are also available as a class method of Series:"
   ]
  },
  {
   "cell_type": "code",
   "execution_count": 18,
   "metadata": {},
   "outputs": [
    {
     "data": {
      "text/plain": [
       "Kaitain     True\n",
       "Caladan    False\n",
       "Ix         False\n",
       "Corrin     False\n",
       "dtype: bool"
      ]
     },
     "execution_count": 18,
     "metadata": {},
     "output_type": "execute_result"
    }
   ],
   "source": [
    "obj4.isnull()"
   ]
  },
  {
   "cell_type": "markdown",
   "metadata": {},
   "source": [
    "A fundamental trait of Series is that the indices are automatically aligned when performing arithmetic:"
   ]
  },
  {
   "cell_type": "code",
   "execution_count": 19,
   "metadata": {},
   "outputs": [
    {
     "data": {
      "text/plain": [
       "Caladan        35000\n",
       "Corrin         71000\n",
       "Ix             16000\n",
       "Giedi Prime     5000\n",
       "dtype: int64"
      ]
     },
     "execution_count": 19,
     "metadata": {},
     "output_type": "execute_result"
    }
   ],
   "source": [
    "obj3"
   ]
  },
  {
   "cell_type": "code",
   "execution_count": 20,
   "metadata": {},
   "outputs": [
    {
     "data": {
      "text/plain": [
       "Kaitain        NaN\n",
       "Caladan    35000.0\n",
       "Ix         16000.0\n",
       "Corrin     71000.0\n",
       "dtype: float64"
      ]
     },
     "execution_count": 20,
     "metadata": {},
     "output_type": "execute_result"
    }
   ],
   "source": [
    "obj4"
   ]
  },
  {
   "cell_type": "markdown",
   "metadata": {},
   "source": [
    "Both the Series and its index have a $name$ attribute, a name wich allows to align indices and data when working with higher dimensionality objects (such as DataFrame):"
   ]
  },
  {
   "cell_type": "code",
   "execution_count": 21,
   "metadata": {},
   "outputs": [
    {
     "data": {
      "text/plain": [
       "planet\n",
       "Kaitain        NaN\n",
       "Caladan    35000.0\n",
       "Ix         16000.0\n",
       "Corrin     71000.0\n",
       "Name: population, dtype: float64"
      ]
     },
     "execution_count": 21,
     "metadata": {},
     "output_type": "execute_result"
    }
   ],
   "source": [
    "obj4.name = u'population'\n",
    "obj4.index.name = u'planet'\n",
    "obj4"
   ]
  },
  {
   "cell_type": "markdown",
   "metadata": {},
   "source": [
    "The index of a Series can be modified without creating a new Series object:"
   ]
  },
  {
   "cell_type": "code",
   "execution_count": 22,
   "metadata": {},
   "outputs": [
    {
     "data": {
      "text/plain": [
       "Joe     4\n",
       "Jane    7\n",
       "Mary   -5\n",
       "John    3\n",
       "dtype: int64"
      ]
     },
     "execution_count": 22,
     "metadata": {},
     "output_type": "execute_result"
    }
   ],
   "source": [
    "obj.index = ['Joe', 'Jane', 'Mary', 'John']\n",
    "obj"
   ]
  },
  {
   "cell_type": "markdown",
   "metadata": {},
   "source": [
    "### $\\texttt{DataFrame}$"
   ]
  },
  {
   "cell_type": "code",
   "execution_count": 23,
   "metadata": {},
   "outputs": [],
   "source": [
    "from pandas import DataFrame"
   ]
  },
  {
   "cell_type": "markdown",
   "metadata": {},
   "source": [
    "A common way to build a DataFrame is from a diccionary of lists of the same length:"
   ]
  },
  {
   "cell_type": "code",
   "execution_count": 24,
   "metadata": {},
   "outputs": [
    {
     "data": {
      "text/html": [
       "<div>\n",
       "<style scoped>\n",
       "    .dataframe tbody tr th:only-of-type {\n",
       "        vertical-align: middle;\n",
       "    }\n",
       "\n",
       "    .dataframe tbody tr th {\n",
       "        vertical-align: top;\n",
       "    }\n",
       "\n",
       "    .dataframe thead th {\n",
       "        text-align: right;\n",
       "    }\n",
       "</style>\n",
       "<table border=\"1\" class=\"dataframe\">\n",
       "  <thead>\n",
       "    <tr style=\"text-align: right;\">\n",
       "      <th></th>\n",
       "      <th>region</th>\n",
       "      <th>year</th>\n",
       "      <th>population</th>\n",
       "    </tr>\n",
       "  </thead>\n",
       "  <tbody>\n",
       "    <tr>\n",
       "      <th>0</th>\n",
       "      <td>Galicia</td>\n",
       "      <td>2000</td>\n",
       "      <td>2731900</td>\n",
       "    </tr>\n",
       "    <tr>\n",
       "      <th>1</th>\n",
       "      <td>Galicia</td>\n",
       "      <td>2001</td>\n",
       "      <td>2732926</td>\n",
       "    </tr>\n",
       "    <tr>\n",
       "      <th>2</th>\n",
       "      <td>Galicia</td>\n",
       "      <td>2002</td>\n",
       "      <td>2737370</td>\n",
       "    </tr>\n",
       "    <tr>\n",
       "      <th>3</th>\n",
       "      <td>Asturias</td>\n",
       "      <td>2001</td>\n",
       "      <td>1075329</td>\n",
       "    </tr>\n",
       "    <tr>\n",
       "      <th>4</th>\n",
       "      <td>Asturias</td>\n",
       "      <td>2002</td>\n",
       "      <td>1073971</td>\n",
       "    </tr>\n",
       "  </tbody>\n",
       "</table>\n",
       "</div>"
      ],
      "text/plain": [
       "     region  year  population\n",
       "0   Galicia  2000     2731900\n",
       "1   Galicia  2001     2732926\n",
       "2   Galicia  2002     2737370\n",
       "3  Asturias  2001     1075329\n",
       "4  Asturias  2002     1073971"
      ]
     },
     "execution_count": 24,
     "metadata": {},
     "output_type": "execute_result"
    }
   ],
   "source": [
    "data = { 'region': [ 'Galicia', 'Galicia', 'Galicia', 'Asturias', 'Asturias' ],\n",
    "         'year': [2000, 2001, 2002, 2001, 2002],\n",
    "         'population': [2731900, 2732926, 2737370, 1075329, 1073971] }\n",
    "frame = DataFrame(data)\n",
    "frame"
   ]
  },
  {
   "cell_type": "markdown",
   "metadata": {},
   "source": [
    "The new DataFrame has been asigned an index automatically, same as with Series, and the columns have been sorted alphabetically. We can specify a sequence of columns, and in that case the order will be preserved:"
   ]
  },
  {
   "cell_type": "code",
   "execution_count": 25,
   "metadata": {},
   "outputs": [
    {
     "data": {
      "text/html": [
       "<div>\n",
       "<style scoped>\n",
       "    .dataframe tbody tr th:only-of-type {\n",
       "        vertical-align: middle;\n",
       "    }\n",
       "\n",
       "    .dataframe tbody tr th {\n",
       "        vertical-align: top;\n",
       "    }\n",
       "\n",
       "    .dataframe thead th {\n",
       "        text-align: right;\n",
       "    }\n",
       "</style>\n",
       "<table border=\"1\" class=\"dataframe\">\n",
       "  <thead>\n",
       "    <tr style=\"text-align: right;\">\n",
       "      <th></th>\n",
       "      <th>population</th>\n",
       "      <th>region</th>\n",
       "      <th>year</th>\n",
       "    </tr>\n",
       "  </thead>\n",
       "  <tbody>\n",
       "    <tr>\n",
       "      <th>0</th>\n",
       "      <td>2731900</td>\n",
       "      <td>Galicia</td>\n",
       "      <td>2000</td>\n",
       "    </tr>\n",
       "    <tr>\n",
       "      <th>1</th>\n",
       "      <td>2732926</td>\n",
       "      <td>Galicia</td>\n",
       "      <td>2001</td>\n",
       "    </tr>\n",
       "    <tr>\n",
       "      <th>2</th>\n",
       "      <td>2737370</td>\n",
       "      <td>Galicia</td>\n",
       "      <td>2002</td>\n",
       "    </tr>\n",
       "    <tr>\n",
       "      <th>3</th>\n",
       "      <td>1075329</td>\n",
       "      <td>Asturias</td>\n",
       "      <td>2001</td>\n",
       "    </tr>\n",
       "    <tr>\n",
       "      <th>4</th>\n",
       "      <td>1073971</td>\n",
       "      <td>Asturias</td>\n",
       "      <td>2002</td>\n",
       "    </tr>\n",
       "  </tbody>\n",
       "</table>\n",
       "</div>"
      ],
      "text/plain": [
       "   population    region  year\n",
       "0     2731900   Galicia  2000\n",
       "1     2732926   Galicia  2001\n",
       "2     2737370   Galicia  2002\n",
       "3     1075329  Asturias  2001\n",
       "4     1073971  Asturias  2002"
      ]
     },
     "execution_count": 25,
     "metadata": {},
     "output_type": "execute_result"
    }
   ],
   "source": [
    "DataFrame( data, columns=['population', 'region', 'year'] )"
   ]
  },
  {
   "cell_type": "markdown",
   "metadata": {},
   "source": [
    "As with happened with Series, specifying a column not contained in $data$ will result in $NaN$ values:"
   ]
  },
  {
   "cell_type": "code",
   "execution_count": 26,
   "metadata": {},
   "outputs": [
    {
     "data": {
      "text/html": [
       "<div>\n",
       "<style scoped>\n",
       "    .dataframe tbody tr th:only-of-type {\n",
       "        vertical-align: middle;\n",
       "    }\n",
       "\n",
       "    .dataframe tbody tr th {\n",
       "        vertical-align: top;\n",
       "    }\n",
       "\n",
       "    .dataframe thead th {\n",
       "        text-align: right;\n",
       "    }\n",
       "</style>\n",
       "<table border=\"1\" class=\"dataframe\">\n",
       "  <thead>\n",
       "    <tr style=\"text-align: right;\">\n",
       "      <th></th>\n",
       "      <th>year</th>\n",
       "      <th>region</th>\n",
       "      <th>population</th>\n",
       "      <th>debt</th>\n",
       "    </tr>\n",
       "  </thead>\n",
       "  <tbody>\n",
       "    <tr>\n",
       "      <th>one</th>\n",
       "      <td>2000</td>\n",
       "      <td>Galicia</td>\n",
       "      <td>2731900</td>\n",
       "      <td>NaN</td>\n",
       "    </tr>\n",
       "    <tr>\n",
       "      <th>two</th>\n",
       "      <td>2001</td>\n",
       "      <td>Galicia</td>\n",
       "      <td>2732926</td>\n",
       "      <td>NaN</td>\n",
       "    </tr>\n",
       "    <tr>\n",
       "      <th>three</th>\n",
       "      <td>2002</td>\n",
       "      <td>Galicia</td>\n",
       "      <td>2737370</td>\n",
       "      <td>NaN</td>\n",
       "    </tr>\n",
       "    <tr>\n",
       "      <th>four</th>\n",
       "      <td>2001</td>\n",
       "      <td>Asturias</td>\n",
       "      <td>1075329</td>\n",
       "      <td>NaN</td>\n",
       "    </tr>\n",
       "    <tr>\n",
       "      <th>five</th>\n",
       "      <td>2002</td>\n",
       "      <td>Asturias</td>\n",
       "      <td>1073971</td>\n",
       "      <td>NaN</td>\n",
       "    </tr>\n",
       "  </tbody>\n",
       "</table>\n",
       "</div>"
      ],
      "text/plain": [
       "       year    region  population debt\n",
       "one    2000   Galicia     2731900  NaN\n",
       "two    2001   Galicia     2732926  NaN\n",
       "three  2002   Galicia     2737370  NaN\n",
       "four   2001  Asturias     1075329  NaN\n",
       "five   2002  Asturias     1073971  NaN"
      ]
     },
     "execution_count": 26,
     "metadata": {},
     "output_type": "execute_result"
    }
   ],
   "source": [
    "frame2 = DataFrame( data, columns=['year', 'region', 'population', 'debt'], \n",
    "                          index=['one', 'two', 'three', 'four', 'five' ] )\n",
    "frame2"
   ]
  },
  {
   "cell_type": "code",
   "execution_count": 27,
   "metadata": {},
   "outputs": [
    {
     "data": {
      "text/plain": [
       "Index(['year', 'region', 'population', 'debt'], dtype='object')"
      ]
     },
     "execution_count": 27,
     "metadata": {},
     "output_type": "execute_result"
    }
   ],
   "source": [
    "frame2.columns"
   ]
  },
  {
   "cell_type": "markdown",
   "metadata": {},
   "source": [
    "A column can be extracted from a DataFrame as a Series, either using dictionary or attribute notation:"
   ]
  },
  {
   "cell_type": "code",
   "execution_count": 28,
   "metadata": {},
   "outputs": [
    {
     "data": {
      "text/plain": [
       "one       Galicia\n",
       "two       Galicia\n",
       "three     Galicia\n",
       "four     Asturias\n",
       "five     Asturias\n",
       "Name: region, dtype: object"
      ]
     },
     "execution_count": 28,
     "metadata": {},
     "output_type": "execute_result"
    }
   ],
   "source": [
    "frame2['region']"
   ]
  },
  {
   "cell_type": "code",
   "execution_count": 29,
   "metadata": {},
   "outputs": [
    {
     "data": {
      "text/plain": [
       "one       Galicia\n",
       "two       Galicia\n",
       "three     Galicia\n",
       "four     Asturias\n",
       "five     Asturias\n",
       "Name: region, dtype: object"
      ]
     },
     "execution_count": 29,
     "metadata": {},
     "output_type": "execute_result"
    }
   ],
   "source": [
    "frame2.region"
   ]
  },
  {
   "cell_type": "markdown",
   "metadata": {},
   "source": [
    "The recovered Series preserves the DataFrame index, as well as its $name$ attribute. Using column names that are not valid variable names in Python (e.g., using accents) restricts this last possibility.\n",
    "\n",
    "We can also recover DataFrame rows through their index, using the index attribute $loc$:"
   ]
  },
  {
   "cell_type": "code",
   "execution_count": 30,
   "metadata": {},
   "outputs": [
    {
     "data": {
      "text/plain": [
       "year             2002\n",
       "region        Galicia\n",
       "population    2737370\n",
       "debt              NaN\n",
       "Name: three, dtype: object"
      ]
     },
     "execution_count": 30,
     "metadata": {},
     "output_type": "execute_result"
    }
   ],
   "source": [
    "frame2.loc['three']"
   ]
  },
  {
   "cell_type": "markdown",
   "metadata": {},
   "source": [
    "Data columns can be modified using simple assignments. For instance, we can assign a scalar value to the empty column $debt$:"
   ]
  },
  {
   "cell_type": "code",
   "execution_count": 31,
   "metadata": {},
   "outputs": [
    {
     "data": {
      "text/html": [
       "<div>\n",
       "<style scoped>\n",
       "    .dataframe tbody tr th:only-of-type {\n",
       "        vertical-align: middle;\n",
       "    }\n",
       "\n",
       "    .dataframe tbody tr th {\n",
       "        vertical-align: top;\n",
       "    }\n",
       "\n",
       "    .dataframe thead th {\n",
       "        text-align: right;\n",
       "    }\n",
       "</style>\n",
       "<table border=\"1\" class=\"dataframe\">\n",
       "  <thead>\n",
       "    <tr style=\"text-align: right;\">\n",
       "      <th></th>\n",
       "      <th>year</th>\n",
       "      <th>region</th>\n",
       "      <th>population</th>\n",
       "      <th>debt</th>\n",
       "    </tr>\n",
       "  </thead>\n",
       "  <tbody>\n",
       "    <tr>\n",
       "      <th>one</th>\n",
       "      <td>2000</td>\n",
       "      <td>Galicia</td>\n",
       "      <td>2731900</td>\n",
       "      <td>3000</td>\n",
       "    </tr>\n",
       "    <tr>\n",
       "      <th>two</th>\n",
       "      <td>2001</td>\n",
       "      <td>Galicia</td>\n",
       "      <td>2732926</td>\n",
       "      <td>3000</td>\n",
       "    </tr>\n",
       "    <tr>\n",
       "      <th>three</th>\n",
       "      <td>2002</td>\n",
       "      <td>Galicia</td>\n",
       "      <td>2737370</td>\n",
       "      <td>3000</td>\n",
       "    </tr>\n",
       "    <tr>\n",
       "      <th>four</th>\n",
       "      <td>2001</td>\n",
       "      <td>Asturias</td>\n",
       "      <td>1075329</td>\n",
       "      <td>3000</td>\n",
       "    </tr>\n",
       "    <tr>\n",
       "      <th>five</th>\n",
       "      <td>2002</td>\n",
       "      <td>Asturias</td>\n",
       "      <td>1073971</td>\n",
       "      <td>3000</td>\n",
       "    </tr>\n",
       "  </tbody>\n",
       "</table>\n",
       "</div>"
      ],
      "text/plain": [
       "       year    region  population  debt\n",
       "one    2000   Galicia     2731900  3000\n",
       "two    2001   Galicia     2732926  3000\n",
       "three  2002   Galicia     2737370  3000\n",
       "four   2001  Asturias     1075329  3000\n",
       "five   2002  Asturias     1073971  3000"
      ]
     },
     "execution_count": 31,
     "metadata": {},
     "output_type": "execute_result"
    }
   ],
   "source": [
    "frame2.debt = 3000\n",
    "frame2"
   ]
  },
  {
   "cell_type": "code",
   "execution_count": 32,
   "metadata": {},
   "outputs": [
    {
     "data": {
      "text/html": [
       "<div>\n",
       "<style scoped>\n",
       "    .dataframe tbody tr th:only-of-type {\n",
       "        vertical-align: middle;\n",
       "    }\n",
       "\n",
       "    .dataframe tbody tr th {\n",
       "        vertical-align: top;\n",
       "    }\n",
       "\n",
       "    .dataframe thead th {\n",
       "        text-align: right;\n",
       "    }\n",
       "</style>\n",
       "<table border=\"1\" class=\"dataframe\">\n",
       "  <thead>\n",
       "    <tr style=\"text-align: right;\">\n",
       "      <th></th>\n",
       "      <th>year</th>\n",
       "      <th>region</th>\n",
       "      <th>population</th>\n",
       "      <th>debt</th>\n",
       "    </tr>\n",
       "  </thead>\n",
       "  <tbody>\n",
       "    <tr>\n",
       "      <th>one</th>\n",
       "      <td>2000</td>\n",
       "      <td>Galicia</td>\n",
       "      <td>2731900</td>\n",
       "      <td>0</td>\n",
       "    </tr>\n",
       "    <tr>\n",
       "      <th>two</th>\n",
       "      <td>2001</td>\n",
       "      <td>Galicia</td>\n",
       "      <td>2732926</td>\n",
       "      <td>1</td>\n",
       "    </tr>\n",
       "    <tr>\n",
       "      <th>three</th>\n",
       "      <td>2002</td>\n",
       "      <td>Galicia</td>\n",
       "      <td>2737370</td>\n",
       "      <td>2</td>\n",
       "    </tr>\n",
       "    <tr>\n",
       "      <th>four</th>\n",
       "      <td>2001</td>\n",
       "      <td>Asturias</td>\n",
       "      <td>1075329</td>\n",
       "      <td>3</td>\n",
       "    </tr>\n",
       "    <tr>\n",
       "      <th>five</th>\n",
       "      <td>2002</td>\n",
       "      <td>Asturias</td>\n",
       "      <td>1073971</td>\n",
       "      <td>4</td>\n",
       "    </tr>\n",
       "  </tbody>\n",
       "</table>\n",
       "</div>"
      ],
      "text/plain": [
       "       year    region  population  debt\n",
       "one    2000   Galicia     2731900     0\n",
       "two    2001   Galicia     2732926     1\n",
       "three  2002   Galicia     2737370     2\n",
       "four   2001  Asturias     1075329     3\n",
       "five   2002  Asturias     1073971     4"
      ]
     },
     "execution_count": 32,
     "metadata": {},
     "output_type": "execute_result"
    }
   ],
   "source": [
    "frame2.debt = np.arange(5)\n",
    "frame2"
   ]
  },
  {
   "cell_type": "markdown",
   "metadata": {},
   "source": [
    "When assigning scalars, lists or arrays to a column, the rules of NumPy broadcasting apply. However, if we assign a Series, the assignment will be performed after aligning the indices, inserting $NaN$ for missing values. The indices in the Series which are not present in the DataFrame will be discarded:"
   ]
  },
  {
   "cell_type": "code",
   "execution_count": 33,
   "metadata": {},
   "outputs": [
    {
     "data": {
      "text/html": [
       "<div>\n",
       "<style scoped>\n",
       "    .dataframe tbody tr th:only-of-type {\n",
       "        vertical-align: middle;\n",
       "    }\n",
       "\n",
       "    .dataframe tbody tr th {\n",
       "        vertical-align: top;\n",
       "    }\n",
       "\n",
       "    .dataframe thead th {\n",
       "        text-align: right;\n",
       "    }\n",
       "</style>\n",
       "<table border=\"1\" class=\"dataframe\">\n",
       "  <thead>\n",
       "    <tr style=\"text-align: right;\">\n",
       "      <th></th>\n",
       "      <th>year</th>\n",
       "      <th>region</th>\n",
       "      <th>population</th>\n",
       "      <th>debt</th>\n",
       "    </tr>\n",
       "  </thead>\n",
       "  <tbody>\n",
       "    <tr>\n",
       "      <th>one</th>\n",
       "      <td>2000</td>\n",
       "      <td>Galicia</td>\n",
       "      <td>2731900</td>\n",
       "      <td>NaN</td>\n",
       "    </tr>\n",
       "    <tr>\n",
       "      <th>two</th>\n",
       "      <td>2001</td>\n",
       "      <td>Galicia</td>\n",
       "      <td>2732926</td>\n",
       "      <td>-1.2</td>\n",
       "    </tr>\n",
       "    <tr>\n",
       "      <th>three</th>\n",
       "      <td>2002</td>\n",
       "      <td>Galicia</td>\n",
       "      <td>2737370</td>\n",
       "      <td>NaN</td>\n",
       "    </tr>\n",
       "    <tr>\n",
       "      <th>four</th>\n",
       "      <td>2001</td>\n",
       "      <td>Asturias</td>\n",
       "      <td>1075329</td>\n",
       "      <td>-1.5</td>\n",
       "    </tr>\n",
       "    <tr>\n",
       "      <th>five</th>\n",
       "      <td>2002</td>\n",
       "      <td>Asturias</td>\n",
       "      <td>1073971</td>\n",
       "      <td>-1.7</td>\n",
       "    </tr>\n",
       "  </tbody>\n",
       "</table>\n",
       "</div>"
      ],
      "text/plain": [
       "       year    region  population  debt\n",
       "one    2000   Galicia     2731900   NaN\n",
       "two    2001   Galicia     2732926  -1.2\n",
       "three  2002   Galicia     2737370   NaN\n",
       "four   2001  Asturias     1075329  -1.5\n",
       "five   2002  Asturias     1073971  -1.7"
      ]
     },
     "execution_count": 33,
     "metadata": {},
     "output_type": "execute_result"
    }
   ],
   "source": [
    "val = Series( [-1.2, -1.5, -1.7, -1.9], index=['two', 'four', 'five', 'six'] )\n",
    "frame2.debt = val\n",
    "frame2"
   ]
  },
  {
   "cell_type": "markdown",
   "metadata": {},
   "source": [
    "Assigning a non-existing column will create a new one. The $del$ operator can be used to erase columns, same as when working with dictionaries:"
   ]
  },
  {
   "cell_type": "code",
   "execution_count": 34,
   "metadata": {},
   "outputs": [
    {
     "name": "stderr",
     "output_type": "stream",
     "text": [
      "/usr/lib/python3.7/site-packages/ipykernel_launcher.py:2: SettingWithCopyWarning: \n",
      "A value is trying to be set on a copy of a slice from a DataFrame\n",
      "\n",
      "See the caveats in the documentation: http://pandas.pydata.org/pandas-docs/stable/indexing.html#indexing-view-versus-copy\n",
      "  \n",
      "/usr/lib/python3.7/site-packages/pandas/core/generic.py:4405: SettingWithCopyWarning: \n",
      "A value is trying to be set on a copy of a slice from a DataFrame\n",
      "\n",
      "See the caveats in the documentation: http://pandas.pydata.org/pandas-docs/stable/indexing.html#indexing-view-versus-copy\n",
      "  self[name] = value\n"
     ]
    },
    {
     "data": {
      "text/html": [
       "<div>\n",
       "<style scoped>\n",
       "    .dataframe tbody tr th:only-of-type {\n",
       "        vertical-align: middle;\n",
       "    }\n",
       "\n",
       "    .dataframe tbody tr th {\n",
       "        vertical-align: top;\n",
       "    }\n",
       "\n",
       "    .dataframe thead th {\n",
       "        text-align: right;\n",
       "    }\n",
       "</style>\n",
       "<table border=\"1\" class=\"dataframe\">\n",
       "  <thead>\n",
       "    <tr style=\"text-align: right;\">\n",
       "      <th></th>\n",
       "      <th>year</th>\n",
       "      <th>region</th>\n",
       "      <th>population</th>\n",
       "      <th>debt</th>\n",
       "      <th>election</th>\n",
       "    </tr>\n",
       "  </thead>\n",
       "  <tbody>\n",
       "    <tr>\n",
       "      <th>one</th>\n",
       "      <td>2000</td>\n",
       "      <td>Galicia</td>\n",
       "      <td>2731900</td>\n",
       "      <td>NaN</td>\n",
       "      <td>False</td>\n",
       "    </tr>\n",
       "    <tr>\n",
       "      <th>two</th>\n",
       "      <td>2001</td>\n",
       "      <td>Galicia</td>\n",
       "      <td>2732926</td>\n",
       "      <td>-1.2</td>\n",
       "      <td>True</td>\n",
       "    </tr>\n",
       "    <tr>\n",
       "      <th>three</th>\n",
       "      <td>2002</td>\n",
       "      <td>Galicia</td>\n",
       "      <td>2737370</td>\n",
       "      <td>NaN</td>\n",
       "      <td>False</td>\n",
       "    </tr>\n",
       "    <tr>\n",
       "      <th>four</th>\n",
       "      <td>2001</td>\n",
       "      <td>Asturias</td>\n",
       "      <td>1075329</td>\n",
       "      <td>-1.5</td>\n",
       "      <td>False</td>\n",
       "    </tr>\n",
       "    <tr>\n",
       "      <th>five</th>\n",
       "      <td>2002</td>\n",
       "      <td>Asturias</td>\n",
       "      <td>1073971</td>\n",
       "      <td>-1.7</td>\n",
       "      <td>False</td>\n",
       "    </tr>\n",
       "  </tbody>\n",
       "</table>\n",
       "</div>"
      ],
      "text/plain": [
       "       year    region  population  debt  election\n",
       "one    2000   Galicia     2731900   NaN     False\n",
       "two    2001   Galicia     2732926  -1.2      True\n",
       "three  2002   Galicia     2737370   NaN     False\n",
       "four   2001  Asturias     1075329  -1.5     False\n",
       "five   2002  Asturias     1073971  -1.7     False"
      ]
     },
     "execution_count": 34,
     "metadata": {},
     "output_type": "execute_result"
    }
   ],
   "source": [
    "frame2['election'] = False\n",
    "frame2.election['two'] = True # View => changes are permanent\n",
    "frame2.loc['three'].election = True # Copy => changes are not permanent\n",
    "frame2"
   ]
  },
  {
   "cell_type": "code",
   "execution_count": 35,
   "metadata": {},
   "outputs": [
    {
     "data": {
      "text/html": [
       "<div>\n",
       "<style scoped>\n",
       "    .dataframe tbody tr th:only-of-type {\n",
       "        vertical-align: middle;\n",
       "    }\n",
       "\n",
       "    .dataframe tbody tr th {\n",
       "        vertical-align: top;\n",
       "    }\n",
       "\n",
       "    .dataframe thead th {\n",
       "        text-align: right;\n",
       "    }\n",
       "</style>\n",
       "<table border=\"1\" class=\"dataframe\">\n",
       "  <thead>\n",
       "    <tr style=\"text-align: right;\">\n",
       "      <th></th>\n",
       "      <th>year</th>\n",
       "      <th>region</th>\n",
       "      <th>population</th>\n",
       "      <th>debt</th>\n",
       "    </tr>\n",
       "  </thead>\n",
       "  <tbody>\n",
       "    <tr>\n",
       "      <th>one</th>\n",
       "      <td>2000</td>\n",
       "      <td>Galicia</td>\n",
       "      <td>2731900</td>\n",
       "      <td>NaN</td>\n",
       "    </tr>\n",
       "    <tr>\n",
       "      <th>two</th>\n",
       "      <td>2001</td>\n",
       "      <td>Galicia</td>\n",
       "      <td>2732926</td>\n",
       "      <td>-1.2</td>\n",
       "    </tr>\n",
       "    <tr>\n",
       "      <th>three</th>\n",
       "      <td>2002</td>\n",
       "      <td>Galicia</td>\n",
       "      <td>2737370</td>\n",
       "      <td>NaN</td>\n",
       "    </tr>\n",
       "    <tr>\n",
       "      <th>four</th>\n",
       "      <td>2001</td>\n",
       "      <td>Asturias</td>\n",
       "      <td>1075329</td>\n",
       "      <td>-1.5</td>\n",
       "    </tr>\n",
       "    <tr>\n",
       "      <th>five</th>\n",
       "      <td>2002</td>\n",
       "      <td>Asturias</td>\n",
       "      <td>1073971</td>\n",
       "      <td>-1.7</td>\n",
       "    </tr>\n",
       "  </tbody>\n",
       "</table>\n",
       "</div>"
      ],
      "text/plain": [
       "       year    region  population  debt\n",
       "one    2000   Galicia     2731900   NaN\n",
       "two    2001   Galicia     2732926  -1.2\n",
       "three  2002   Galicia     2737370   NaN\n",
       "four   2001  Asturias     1075329  -1.5\n",
       "five   2002  Asturias     1073971  -1.7"
      ]
     },
     "execution_count": 35,
     "metadata": {},
     "output_type": "execute_result"
    }
   ],
   "source": [
    "del frame2['election']\n",
    "frame2"
   ]
  },
  {
   "cell_type": "code",
   "execution_count": 36,
   "metadata": {},
   "outputs": [
    {
     "data": {
      "text/plain": [
       "Index(['year', 'region', 'population', 'debt'], dtype='object')"
      ]
     },
     "execution_count": 36,
     "metadata": {},
     "output_type": "execute_result"
    }
   ],
   "source": [
    "frame2.columns"
   ]
  },
  {
   "cell_type": "markdown",
   "metadata": {},
   "source": [
    "Another common way to build a DataFrame is using a dictionary of nested dictionaries:"
   ]
  },
  {
   "cell_type": "code",
   "execution_count": 37,
   "metadata": {},
   "outputs": [
    {
     "data": {
      "text/html": [
       "<div>\n",
       "<style scoped>\n",
       "    .dataframe tbody tr th:only-of-type {\n",
       "        vertical-align: middle;\n",
       "    }\n",
       "\n",
       "    .dataframe tbody tr th {\n",
       "        vertical-align: top;\n",
       "    }\n",
       "\n",
       "    .dataframe thead th {\n",
       "        text-align: right;\n",
       "    }\n",
       "</style>\n",
       "<table border=\"1\" class=\"dataframe\">\n",
       "  <thead>\n",
       "    <tr style=\"text-align: right;\">\n",
       "      <th></th>\n",
       "      <th>Asturias</th>\n",
       "      <th>Galicia</th>\n",
       "    </tr>\n",
       "  </thead>\n",
       "  <tbody>\n",
       "    <tr>\n",
       "      <th>2000</th>\n",
       "      <td>NaN</td>\n",
       "      <td>2731900</td>\n",
       "    </tr>\n",
       "    <tr>\n",
       "      <th>2001</th>\n",
       "      <td>1075329.0</td>\n",
       "      <td>2732926</td>\n",
       "    </tr>\n",
       "    <tr>\n",
       "      <th>2002</th>\n",
       "      <td>1073971.0</td>\n",
       "      <td>2737370</td>\n",
       "    </tr>\n",
       "  </tbody>\n",
       "</table>\n",
       "</div>"
      ],
      "text/plain": [
       "       Asturias  Galicia\n",
       "2000        NaN  2731900\n",
       "2001  1075329.0  2732926\n",
       "2002  1073971.0  2737370"
      ]
     },
     "execution_count": 37,
     "metadata": {},
     "output_type": "execute_result"
    }
   ],
   "source": [
    "pop = { 'Asturias': { 2001: 1075329, 2002: 1073971 }, 'Galicia': { 2000: 2731900, 2001: 2732926, 2002: 2737370 } }\n",
    "frame3 = DataFrame( pop )\n",
    "frame3"
   ]
  },
  {
   "cell_type": "markdown",
   "metadata": {},
   "source": [
    "Note that Pandas interprets the keys in the outer dictionary as columns, and those in the inner one as indices. We can transpose this:"
   ]
  },
  {
   "cell_type": "code",
   "execution_count": 38,
   "metadata": {},
   "outputs": [
    {
     "data": {
      "text/html": [
       "<div>\n",
       "<style scoped>\n",
       "    .dataframe tbody tr th:only-of-type {\n",
       "        vertical-align: middle;\n",
       "    }\n",
       "\n",
       "    .dataframe tbody tr th {\n",
       "        vertical-align: top;\n",
       "    }\n",
       "\n",
       "    .dataframe thead th {\n",
       "        text-align: right;\n",
       "    }\n",
       "</style>\n",
       "<table border=\"1\" class=\"dataframe\">\n",
       "  <thead>\n",
       "    <tr style=\"text-align: right;\">\n",
       "      <th></th>\n",
       "      <th>2000</th>\n",
       "      <th>2001</th>\n",
       "      <th>2002</th>\n",
       "    </tr>\n",
       "  </thead>\n",
       "  <tbody>\n",
       "    <tr>\n",
       "      <th>Asturias</th>\n",
       "      <td>NaN</td>\n",
       "      <td>1075329.0</td>\n",
       "      <td>1073971.0</td>\n",
       "    </tr>\n",
       "    <tr>\n",
       "      <th>Galicia</th>\n",
       "      <td>2731900.0</td>\n",
       "      <td>2732926.0</td>\n",
       "      <td>2737370.0</td>\n",
       "    </tr>\n",
       "  </tbody>\n",
       "</table>\n",
       "</div>"
      ],
      "text/plain": [
       "               2000       2001       2002\n",
       "Asturias        NaN  1075329.0  1073971.0\n",
       "Galicia   2731900.0  2732926.0  2737370.0"
      ]
     },
     "execution_count": 38,
     "metadata": {},
     "output_type": "execute_result"
    }
   ],
   "source": [
    "frame3.T"
   ]
  },
  {
   "cell_type": "markdown",
   "metadata": {},
   "source": [
    "A join operation on the keys of the inner dictionaries is applied, and the result sorted to build the final result. Otherwise, we can explicitly provide a sequence of indices:"
   ]
  },
  {
   "cell_type": "code",
   "execution_count": 39,
   "metadata": {},
   "outputs": [
    {
     "data": {
      "text/html": [
       "<div>\n",
       "<style scoped>\n",
       "    .dataframe tbody tr th:only-of-type {\n",
       "        vertical-align: middle;\n",
       "    }\n",
       "\n",
       "    .dataframe tbody tr th {\n",
       "        vertical-align: top;\n",
       "    }\n",
       "\n",
       "    .dataframe thead th {\n",
       "        text-align: right;\n",
       "    }\n",
       "</style>\n",
       "<table border=\"1\" class=\"dataframe\">\n",
       "  <thead>\n",
       "    <tr style=\"text-align: right;\">\n",
       "      <th></th>\n",
       "      <th>Asturias</th>\n",
       "      <th>Galicia</th>\n",
       "    </tr>\n",
       "  </thead>\n",
       "  <tbody>\n",
       "    <tr>\n",
       "      <th>2001</th>\n",
       "      <td>1075329.0</td>\n",
       "      <td>2732926.0</td>\n",
       "    </tr>\n",
       "    <tr>\n",
       "      <th>2002</th>\n",
       "      <td>1073971.0</td>\n",
       "      <td>2737370.0</td>\n",
       "    </tr>\n",
       "    <tr>\n",
       "      <th>2003</th>\n",
       "      <td>NaN</td>\n",
       "      <td>NaN</td>\n",
       "    </tr>\n",
       "  </tbody>\n",
       "</table>\n",
       "</div>"
      ],
      "text/plain": [
       "       Asturias    Galicia\n",
       "2001  1075329.0  2732926.0\n",
       "2002  1073971.0  2737370.0\n",
       "2003        NaN        NaN"
      ]
     },
     "execution_count": 39,
     "metadata": {},
     "output_type": "execute_result"
    }
   ],
   "source": [
    "DataFrame( pop, index=pd.Index([2001, 2002, 2003]) )"
   ]
  },
  {
   "cell_type": "markdown",
   "metadata": {},
   "source": [
    "We can use as input dictionaries of Series, which are treated in the same way:"
   ]
  },
  {
   "cell_type": "code",
   "execution_count": 40,
   "metadata": {},
   "outputs": [
    {
     "data": {
      "text/html": [
       "<div>\n",
       "<style scoped>\n",
       "    .dataframe tbody tr th:only-of-type {\n",
       "        vertical-align: middle;\n",
       "    }\n",
       "\n",
       "    .dataframe tbody tr th {\n",
       "        vertical-align: top;\n",
       "    }\n",
       "\n",
       "    .dataframe thead th {\n",
       "        text-align: right;\n",
       "    }\n",
       "</style>\n",
       "<table border=\"1\" class=\"dataframe\">\n",
       "  <thead>\n",
       "    <tr style=\"text-align: right;\">\n",
       "      <th></th>\n",
       "      <th>Galicia</th>\n",
       "      <th>Asturias</th>\n",
       "    </tr>\n",
       "  </thead>\n",
       "  <tbody>\n",
       "    <tr>\n",
       "      <th>2000</th>\n",
       "      <td>2731900</td>\n",
       "      <td>NaN</td>\n",
       "    </tr>\n",
       "    <tr>\n",
       "      <th>2001</th>\n",
       "      <td>2732926</td>\n",
       "      <td>1075329.0</td>\n",
       "    </tr>\n",
       "  </tbody>\n",
       "</table>\n",
       "</div>"
      ],
      "text/plain": [
       "      Galicia   Asturias\n",
       "2000  2731900        NaN\n",
       "2001  2732926  1075329.0"
      ]
     },
     "execution_count": 40,
     "metadata": {},
     "output_type": "execute_result"
    }
   ],
   "source": [
    "pdata = { 'Galicia': frame3['Galicia'][:-1], 'Asturias': frame3['Asturias'][:2] }\n",
    "DataFrame( pdata )"
   ]
  },
  {
   "cell_type": "markdown",
   "metadata": {},
   "source": [
    "If we assign the $name$ attributes of indices and columns, these will be shown when pretty printing the object:"
   ]
  },
  {
   "cell_type": "code",
   "execution_count": 41,
   "metadata": {},
   "outputs": [
    {
     "data": {
      "text/html": [
       "<div>\n",
       "<style scoped>\n",
       "    .dataframe tbody tr th:only-of-type {\n",
       "        vertical-align: middle;\n",
       "    }\n",
       "\n",
       "    .dataframe tbody tr th {\n",
       "        vertical-align: top;\n",
       "    }\n",
       "\n",
       "    .dataframe thead th {\n",
       "        text-align: right;\n",
       "    }\n",
       "</style>\n",
       "<table border=\"1\" class=\"dataframe\">\n",
       "  <thead>\n",
       "    <tr style=\"text-align: right;\">\n",
       "      <th>region</th>\n",
       "      <th>Asturias</th>\n",
       "      <th>Galicia</th>\n",
       "    </tr>\n",
       "    <tr>\n",
       "      <th>year</th>\n",
       "      <th></th>\n",
       "      <th></th>\n",
       "    </tr>\n",
       "  </thead>\n",
       "  <tbody>\n",
       "    <tr>\n",
       "      <th>2000</th>\n",
       "      <td>NaN</td>\n",
       "      <td>2731900</td>\n",
       "    </tr>\n",
       "    <tr>\n",
       "      <th>2001</th>\n",
       "      <td>1075329.0</td>\n",
       "      <td>2732926</td>\n",
       "    </tr>\n",
       "    <tr>\n",
       "      <th>2002</th>\n",
       "      <td>1073971.0</td>\n",
       "      <td>2737370</td>\n",
       "    </tr>\n",
       "  </tbody>\n",
       "</table>\n",
       "</div>"
      ],
      "text/plain": [
       "region   Asturias  Galicia\n",
       "year                      \n",
       "2000          NaN  2731900\n",
       "2001    1075329.0  2732926\n",
       "2002    1073971.0  2737370"
      ]
     },
     "execution_count": 41,
     "metadata": {},
     "output_type": "execute_result"
    }
   ],
   "source": [
    "frame3.index.name = 'year'\n",
    "frame3.columns.name = 'region'\n",
    "frame3"
   ]
  },
  {
   "cell_type": "markdown",
   "metadata": {},
   "source": [
    "Same as with Series, the $values$ attribute returns the data contained in the DataFrame, although in this case the returned array is 2D:"
   ]
  },
  {
   "cell_type": "code",
   "execution_count": 42,
   "metadata": {},
   "outputs": [
    {
     "data": {
      "text/plain": [
       "array([[     nan, 2731900.],\n",
       "       [1075329., 2732926.],\n",
       "       [1073971., 2737370.]])"
      ]
     },
     "execution_count": 42,
     "metadata": {},
     "output_type": "execute_result"
    }
   ],
   "source": [
    "frame3.values"
   ]
  },
  {
   "cell_type": "markdown",
   "metadata": {},
   "source": [
    "If the DataFrame columns have different data types, then the $dtype$ of the values array is chosen to be compatible with all of them:"
   ]
  },
  {
   "cell_type": "code",
   "execution_count": 43,
   "metadata": {},
   "outputs": [
    {
     "data": {
      "text/plain": [
       "array([[2000, 'Galicia', 2731900, nan],\n",
       "       [2001, 'Galicia', 2732926, -1.2],\n",
       "       [2002, 'Galicia', 2737370, nan],\n",
       "       [2001, 'Asturias', 1075329, -1.5],\n",
       "       [2002, 'Asturias', 1073971, -1.7]], dtype=object)"
      ]
     },
     "execution_count": 43,
     "metadata": {},
     "output_type": "execute_result"
    }
   ],
   "source": [
    "frame2.values"
   ]
  },
  {
   "cell_type": "markdown",
   "metadata": {
    "collapsed": true
   },
   "source": [
    "### $\\texttt{Index}$"
   ]
  },
  {
   "cell_type": "markdown",
   "metadata": {},
   "source": [
    "When an index array is used to build a Series or DataFrame, this is internally converted to an Index object:"
   ]
  },
  {
   "cell_type": "code",
   "execution_count": 44,
   "metadata": {},
   "outputs": [
    {
     "data": {
      "text/plain": [
       "Index(['a', 'b', 'c'], dtype='object')"
      ]
     },
     "execution_count": 44,
     "metadata": {},
     "output_type": "execute_result"
    }
   ],
   "source": [
    "obj = Series( range(3), index=['a', 'b', 'c'] )\n",
    "index = obj.index\n",
    "index"
   ]
  },
  {
   "cell_type": "markdown",
   "metadata": {},
   "source": [
    "We can access the values in an Index object as we would those in a ndarray:"
   ]
  },
  {
   "cell_type": "code",
   "execution_count": 45,
   "metadata": {},
   "outputs": [
    {
     "data": {
      "text/plain": [
       "Index(['b', 'c'], dtype='object')"
      ]
     },
     "execution_count": 45,
     "metadata": {},
     "output_type": "execute_result"
    }
   ],
   "source": [
    "index[1:]"
   ]
  },
  {
   "cell_type": "code",
   "execution_count": 46,
   "metadata": {},
   "outputs": [],
   "source": [
    "#index[1] = 'd' # Immutability\n",
    "#---------------------------------------------------------------------------\n",
    "#TypeError                                 Traceback (most recent call last)\n",
    "#<ipython-input-48-29170e49056c> in <module>()\n",
    "#----> 1 index[1] = 'd' # Immutability\n",
    "#\n",
    "#/usr/lib/python2.7/site-packages/pandas/core/index.pyc in __setitem__(self, key, value)\n",
    "#    920 \n",
    "#    921     def __setitem__(self, key, value):\n",
    "#--> 922         raise TypeError(\"Indexes does not support mutable operations\")\n",
    "#    923 \n",
    "#    924     def __getitem__(self, key):\n",
    "#\n",
    "#TypeError: Indexes does not support mutable operations"
   ]
  },
  {
   "cell_type": "markdown",
   "metadata": {},
   "source": [
    "Index objects may be shared between different Series and DataFrame objects, providing an implicit relationship amongst them. They are immutable objects, thus guaranteeing referential integrity:"
   ]
  },
  {
   "cell_type": "code",
   "execution_count": 47,
   "metadata": {},
   "outputs": [
    {
     "data": {
      "text/plain": [
       "True"
      ]
     },
     "execution_count": 47,
     "metadata": {},
     "output_type": "execute_result"
    }
   ],
   "source": [
    "obj2 = Series( [1.5, -2.5, 0], index=index )\n",
    "obj2.index is index"
   ]
  },
  {
   "cell_type": "markdown",
   "metadata": {},
   "source": [
    "Same as with Series, an Index supports the $in$ operator:"
   ]
  },
  {
   "cell_type": "code",
   "execution_count": 48,
   "metadata": {},
   "outputs": [
    {
     "data": {
      "text/plain": [
       "(True, False)"
      ]
     },
     "execution_count": 48,
     "metadata": {},
     "output_type": "execute_result"
    }
   ],
   "source": [
    "2000 in frame3.index, 2003 in frame3.index"
   ]
  },
  {
   "cell_type": "markdown",
   "metadata": {},
   "source": [
    "## Essential functions"
   ]
  },
  {
   "cell_type": "markdown",
   "metadata": {},
   "source": [
    "### Reindexing"
   ]
  },
  {
   "cell_type": "markdown",
   "metadata": {},
   "source": [
    "The $reindex()$ method of Series and DataFrame is used to build a new object with its data organized with respect to a new Index:"
   ]
  },
  {
   "cell_type": "code",
   "execution_count": 49,
   "metadata": {},
   "outputs": [
    {
     "data": {
      "text/plain": [
       "d    4.5\n",
       "b    7.2\n",
       "a   -5.3\n",
       "c    3.6\n",
       "dtype: float64"
      ]
     },
     "execution_count": 49,
     "metadata": {},
     "output_type": "execute_result"
    }
   ],
   "source": [
    "obj = Series( [4.5, 7.2, -5.3, 3.6], index=['d', 'b', 'a', 'c'] )\n",
    "obj"
   ]
  },
  {
   "cell_type": "code",
   "execution_count": 50,
   "metadata": {},
   "outputs": [
    {
     "data": {
      "text/plain": [
       "a   -5.3\n",
       "b    7.2\n",
       "c    3.6\n",
       "d    4.5\n",
       "e    NaN\n",
       "dtype: float64"
      ]
     },
     "execution_count": 50,
     "metadata": {},
     "output_type": "execute_result"
    }
   ],
   "source": [
    "obj2 = obj.reindex( ['a', 'b', 'c', 'd', 'e'] )\n",
    "obj2"
   ]
  },
  {
   "cell_type": "markdown",
   "metadata": {},
   "source": [
    "The data in the old object are sorted and new $NaN$ values are inserted as necessary. If we want to deal with unknown values in any other way, we can use the $fill_value$ parameter:"
   ]
  },
  {
   "cell_type": "code",
   "execution_count": 51,
   "metadata": {},
   "outputs": [
    {
     "data": {
      "text/plain": [
       "a   -5.3\n",
       "b    7.2\n",
       "c    3.6\n",
       "d    4.5\n",
       "e    0.0\n",
       "dtype: float64"
      ]
     },
     "execution_count": 51,
     "metadata": {},
     "output_type": "execute_result"
    }
   ],
   "source": [
    "obj.reindex( ['a', 'b', 'c', 'd', 'e'], fill_value=0 )"
   ]
  },
  {
   "cell_type": "markdown",
   "metadata": {},
   "source": [
    "When working with sorted data (e.g., time series) we may want to perform interpolation, or a smarter way of filling unknown values. The $method$ parameter allows to specify the filling method to use. Two different algorithms can be used: forward or backwards filling:"
   ]
  },
  {
   "cell_type": "code",
   "execution_count": 52,
   "metadata": {},
   "outputs": [
    {
     "data": {
      "text/plain": [
       "0      blue\n",
       "2    purple\n",
       "4    yellow\n",
       "dtype: object"
      ]
     },
     "execution_count": 52,
     "metadata": {},
     "output_type": "execute_result"
    }
   ],
   "source": [
    "obj3 = Series( ['blue', 'purple', 'yellow'], index=[0,2,4] )\n",
    "obj3"
   ]
  },
  {
   "cell_type": "code",
   "execution_count": 53,
   "metadata": {},
   "outputs": [
    {
     "data": {
      "text/plain": [
       "0      blue\n",
       "1      blue\n",
       "2    purple\n",
       "3    purple\n",
       "4    yellow\n",
       "5    yellow\n",
       "dtype: object"
      ]
     },
     "execution_count": 53,
     "metadata": {},
     "output_type": "execute_result"
    }
   ],
   "source": [
    "obj3.reindex( range(6), method='ffill' ) # Forward fill: fill with previous value"
   ]
  },
  {
   "cell_type": "code",
   "execution_count": 54,
   "metadata": {},
   "outputs": [
    {
     "data": {
      "text/plain": [
       "0      blue\n",
       "1    purple\n",
       "2    purple\n",
       "3    yellow\n",
       "4    yellow\n",
       "5       NaN\n",
       "dtype: object"
      ]
     },
     "execution_count": 54,
     "metadata": {},
     "output_type": "execute_result"
    }
   ],
   "source": [
    "obj3.reindex( range(6), method='bfill' ) # Backwards fill: fill with next value"
   ]
  },
  {
   "cell_type": "markdown",
   "metadata": {},
   "source": [
    "Working with DataFrame, reindex() can be used to change the index (default), the columns, or both:"
   ]
  },
  {
   "cell_type": "code",
   "execution_count": 55,
   "metadata": {},
   "outputs": [
    {
     "data": {
      "text/html": [
       "<div>\n",
       "<style scoped>\n",
       "    .dataframe tbody tr th:only-of-type {\n",
       "        vertical-align: middle;\n",
       "    }\n",
       "\n",
       "    .dataframe tbody tr th {\n",
       "        vertical-align: top;\n",
       "    }\n",
       "\n",
       "    .dataframe thead th {\n",
       "        text-align: right;\n",
       "    }\n",
       "</style>\n",
       "<table border=\"1\" class=\"dataframe\">\n",
       "  <thead>\n",
       "    <tr style=\"text-align: right;\">\n",
       "      <th></th>\n",
       "      <th>Caladan</th>\n",
       "      <th>Corrin</th>\n",
       "      <th>Ix</th>\n",
       "    </tr>\n",
       "  </thead>\n",
       "  <tbody>\n",
       "    <tr>\n",
       "      <th>a</th>\n",
       "      <td>0</td>\n",
       "      <td>1</td>\n",
       "      <td>2</td>\n",
       "    </tr>\n",
       "    <tr>\n",
       "      <th>c</th>\n",
       "      <td>3</td>\n",
       "      <td>4</td>\n",
       "      <td>5</td>\n",
       "    </tr>\n",
       "    <tr>\n",
       "      <th>d</th>\n",
       "      <td>6</td>\n",
       "      <td>7</td>\n",
       "      <td>8</td>\n",
       "    </tr>\n",
       "  </tbody>\n",
       "</table>\n",
       "</div>"
      ],
      "text/plain": [
       "   Caladan  Corrin  Ix\n",
       "a        0       1   2\n",
       "c        3       4   5\n",
       "d        6       7   8"
      ]
     },
     "execution_count": 55,
     "metadata": {},
     "output_type": "execute_result"
    }
   ],
   "source": [
    "frame = DataFrame( np.arange(9).reshape( (3, 3) ), index=['a', 'c', 'd'], columns=['Caladan', 'Corrin', 'Ix'] )\n",
    "frame"
   ]
  },
  {
   "cell_type": "code",
   "execution_count": 56,
   "metadata": {},
   "outputs": [
    {
     "data": {
      "text/html": [
       "<div>\n",
       "<style scoped>\n",
       "    .dataframe tbody tr th:only-of-type {\n",
       "        vertical-align: middle;\n",
       "    }\n",
       "\n",
       "    .dataframe tbody tr th {\n",
       "        vertical-align: top;\n",
       "    }\n",
       "\n",
       "    .dataframe thead th {\n",
       "        text-align: right;\n",
       "    }\n",
       "</style>\n",
       "<table border=\"1\" class=\"dataframe\">\n",
       "  <thead>\n",
       "    <tr style=\"text-align: right;\">\n",
       "      <th></th>\n",
       "      <th>Caladan</th>\n",
       "      <th>Corrin</th>\n",
       "      <th>Ix</th>\n",
       "    </tr>\n",
       "  </thead>\n",
       "  <tbody>\n",
       "    <tr>\n",
       "      <th>a</th>\n",
       "      <td>0.0</td>\n",
       "      <td>1.0</td>\n",
       "      <td>2.0</td>\n",
       "    </tr>\n",
       "    <tr>\n",
       "      <th>b</th>\n",
       "      <td>NaN</td>\n",
       "      <td>NaN</td>\n",
       "      <td>NaN</td>\n",
       "    </tr>\n",
       "    <tr>\n",
       "      <th>c</th>\n",
       "      <td>3.0</td>\n",
       "      <td>4.0</td>\n",
       "      <td>5.0</td>\n",
       "    </tr>\n",
       "    <tr>\n",
       "      <th>d</th>\n",
       "      <td>6.0</td>\n",
       "      <td>7.0</td>\n",
       "      <td>8.0</td>\n",
       "    </tr>\n",
       "  </tbody>\n",
       "</table>\n",
       "</div>"
      ],
      "text/plain": [
       "   Caladan  Corrin   Ix\n",
       "a      0.0     1.0  2.0\n",
       "b      NaN     NaN  NaN\n",
       "c      3.0     4.0  5.0\n",
       "d      6.0     7.0  8.0"
      ]
     },
     "execution_count": 56,
     "metadata": {},
     "output_type": "execute_result"
    }
   ],
   "source": [
    "frame2 = frame.reindex( ['a', 'b', 'c', 'd'] )\n",
    "frame2"
   ]
  },
  {
   "cell_type": "markdown",
   "metadata": {},
   "source": [
    "We can reindex the columns using the $columns$ parameter:"
   ]
  },
  {
   "cell_type": "code",
   "execution_count": 57,
   "metadata": {},
   "outputs": [
    {
     "data": {
      "text/html": [
       "<div>\n",
       "<style scoped>\n",
       "    .dataframe tbody tr th:only-of-type {\n",
       "        vertical-align: middle;\n",
       "    }\n",
       "\n",
       "    .dataframe tbody tr th {\n",
       "        vertical-align: top;\n",
       "    }\n",
       "\n",
       "    .dataframe thead th {\n",
       "        text-align: right;\n",
       "    }\n",
       "</style>\n",
       "<table border=\"1\" class=\"dataframe\">\n",
       "  <thead>\n",
       "    <tr style=\"text-align: right;\">\n",
       "      <th></th>\n",
       "      <th>Caladan</th>\n",
       "      <th>Giedi Prime</th>\n",
       "      <th>Ix</th>\n",
       "    </tr>\n",
       "  </thead>\n",
       "  <tbody>\n",
       "    <tr>\n",
       "      <th>a</th>\n",
       "      <td>0</td>\n",
       "      <td>NaN</td>\n",
       "      <td>2</td>\n",
       "    </tr>\n",
       "    <tr>\n",
       "      <th>c</th>\n",
       "      <td>3</td>\n",
       "      <td>NaN</td>\n",
       "      <td>5</td>\n",
       "    </tr>\n",
       "    <tr>\n",
       "      <th>d</th>\n",
       "      <td>6</td>\n",
       "      <td>NaN</td>\n",
       "      <td>8</td>\n",
       "    </tr>\n",
       "  </tbody>\n",
       "</table>\n",
       "</div>"
      ],
      "text/plain": [
       "   Caladan  Giedi Prime  Ix\n",
       "a        0          NaN   2\n",
       "c        3          NaN   5\n",
       "d        6          NaN   8"
      ]
     },
     "execution_count": 57,
     "metadata": {},
     "output_type": "execute_result"
    }
   ],
   "source": [
    "planets = ['Caladan', 'Giedi Prime', 'Ix']\n",
    "frame.reindex( columns=planets )"
   ]
  },
  {
   "cell_type": "markdown",
   "metadata": {},
   "source": [
    "We can simultaneously reindex rows and columns, although interpolating will only work over the rows:"
   ]
  },
  {
   "cell_type": "code",
   "execution_count": 58,
   "metadata": {},
   "outputs": [
    {
     "data": {
      "text/html": [
       "<div>\n",
       "<style scoped>\n",
       "    .dataframe tbody tr th:only-of-type {\n",
       "        vertical-align: middle;\n",
       "    }\n",
       "\n",
       "    .dataframe tbody tr th {\n",
       "        vertical-align: top;\n",
       "    }\n",
       "\n",
       "    .dataframe thead th {\n",
       "        text-align: right;\n",
       "    }\n",
       "</style>\n",
       "<table border=\"1\" class=\"dataframe\">\n",
       "  <thead>\n",
       "    <tr style=\"text-align: right;\">\n",
       "      <th></th>\n",
       "      <th>Caladan</th>\n",
       "      <th>Giedi Prime</th>\n",
       "      <th>Ix</th>\n",
       "    </tr>\n",
       "  </thead>\n",
       "  <tbody>\n",
       "    <tr>\n",
       "      <th>a</th>\n",
       "      <td>0</td>\n",
       "      <td>1</td>\n",
       "      <td>2</td>\n",
       "    </tr>\n",
       "    <tr>\n",
       "      <th>b</th>\n",
       "      <td>0</td>\n",
       "      <td>1</td>\n",
       "      <td>2</td>\n",
       "    </tr>\n",
       "    <tr>\n",
       "      <th>c</th>\n",
       "      <td>3</td>\n",
       "      <td>4</td>\n",
       "      <td>5</td>\n",
       "    </tr>\n",
       "    <tr>\n",
       "      <th>d</th>\n",
       "      <td>6</td>\n",
       "      <td>7</td>\n",
       "      <td>8</td>\n",
       "    </tr>\n",
       "  </tbody>\n",
       "</table>\n",
       "</div>"
      ],
      "text/plain": [
       "   Caladan  Giedi Prime  Ix\n",
       "a        0            1   2\n",
       "b        0            1   2\n",
       "c        3            4   5\n",
       "d        6            7   8"
      ]
     },
     "execution_count": 58,
     "metadata": {},
     "output_type": "execute_result"
    }
   ],
   "source": [
    "frame.reindex( index=['a', 'b', 'c', 'd'], method='ffill', columns=planets )"
   ]
  },
  {
   "cell_type": "markdown",
   "metadata": {},
   "source": [
    "We can more directly reindex through the $loc$ attribute:"
   ]
  },
  {
   "cell_type": "code",
   "execution_count": 59,
   "metadata": {},
   "outputs": [
    {
     "name": "stderr",
     "output_type": "stream",
     "text": [
      "/usr/lib/python3.7/site-packages/ipykernel_launcher.py:1: FutureWarning: \n",
      "Passing list-likes to .loc or [] with any missing label will raise\n",
      "KeyError in the future, you can use .reindex() as an alternative.\n",
      "\n",
      "See the documentation here:\n",
      "https://pandas.pydata.org/pandas-docs/stable/indexing.html#deprecate-loc-reindex-listlike\n",
      "  \"\"\"Entry point for launching an IPython kernel.\n"
     ]
    },
    {
     "data": {
      "text/html": [
       "<div>\n",
       "<style scoped>\n",
       "    .dataframe tbody tr th:only-of-type {\n",
       "        vertical-align: middle;\n",
       "    }\n",
       "\n",
       "    .dataframe tbody tr th {\n",
       "        vertical-align: top;\n",
       "    }\n",
       "\n",
       "    .dataframe thead th {\n",
       "        text-align: right;\n",
       "    }\n",
       "</style>\n",
       "<table border=\"1\" class=\"dataframe\">\n",
       "  <thead>\n",
       "    <tr style=\"text-align: right;\">\n",
       "      <th></th>\n",
       "      <th>Caladan</th>\n",
       "      <th>Giedi Prime</th>\n",
       "      <th>Ix</th>\n",
       "    </tr>\n",
       "  </thead>\n",
       "  <tbody>\n",
       "    <tr>\n",
       "      <th>a</th>\n",
       "      <td>0.0</td>\n",
       "      <td>NaN</td>\n",
       "      <td>2.0</td>\n",
       "    </tr>\n",
       "    <tr>\n",
       "      <th>b</th>\n",
       "      <td>NaN</td>\n",
       "      <td>NaN</td>\n",
       "      <td>NaN</td>\n",
       "    </tr>\n",
       "    <tr>\n",
       "      <th>c</th>\n",
       "      <td>3.0</td>\n",
       "      <td>NaN</td>\n",
       "      <td>5.0</td>\n",
       "    </tr>\n",
       "    <tr>\n",
       "      <th>d</th>\n",
       "      <td>6.0</td>\n",
       "      <td>NaN</td>\n",
       "      <td>8.0</td>\n",
       "    </tr>\n",
       "  </tbody>\n",
       "</table>\n",
       "</div>"
      ],
      "text/plain": [
       "   Caladan  Giedi Prime   Ix\n",
       "a      0.0          NaN  2.0\n",
       "b      NaN          NaN  NaN\n",
       "c      3.0          NaN  5.0\n",
       "d      6.0          NaN  8.0"
      ]
     },
     "execution_count": 59,
     "metadata": {},
     "output_type": "execute_result"
    }
   ],
   "source": [
    "frame.loc[ ['a', 'b', 'c', 'd'], planets ] # This syntax does not allow to use interpolation"
   ]
  },
  {
   "cell_type": "markdown",
   "metadata": {},
   "source": [
    "### Removing elements over an axis"
   ]
  },
  {
   "cell_type": "markdown",
   "metadata": {},
   "source": [
    "It is easy to remove elements from an axis if we have a sequence of indices to remove. In this case, the operation can be executed through reindex(). Otherwise, drop() can be used:"
   ]
  },
  {
   "cell_type": "code",
   "execution_count": 60,
   "metadata": {},
   "outputs": [
    {
     "data": {
      "text/plain": [
       "a    0\n",
       "b    1\n",
       "c    2\n",
       "d    3\n",
       "e    4\n",
       "dtype: int64"
      ]
     },
     "execution_count": 60,
     "metadata": {},
     "output_type": "execute_result"
    }
   ],
   "source": [
    "obj = Series( np.arange(5), index=['a', 'b', 'c', 'd', 'e'] )\n",
    "obj"
   ]
  },
  {
   "cell_type": "code",
   "execution_count": 61,
   "metadata": {},
   "outputs": [
    {
     "data": {
      "text/plain": [
       "a    0\n",
       "b    1\n",
       "d    3\n",
       "e    4\n",
       "dtype: int64"
      ]
     },
     "execution_count": 61,
     "metadata": {},
     "output_type": "execute_result"
    }
   ],
   "source": [
    "new_obj = obj.drop('c')\n",
    "new_obj"
   ]
  },
  {
   "cell_type": "code",
   "execution_count": 62,
   "metadata": {},
   "outputs": [
    {
     "data": {
      "text/plain": [
       "a    0\n",
       "b    1\n",
       "e    4\n",
       "dtype: int64"
      ]
     },
     "execution_count": 62,
     "metadata": {},
     "output_type": "execute_result"
    }
   ],
   "source": [
    "obj.drop( ['d', 'c'] )"
   ]
  },
  {
   "cell_type": "markdown",
   "metadata": {},
   "source": [
    "Working with DataFrame we can choose the axis over which to remove values:"
   ]
  },
  {
   "cell_type": "code",
   "execution_count": 63,
   "metadata": {},
   "outputs": [
    {
     "data": {
      "text/html": [
       "<div>\n",
       "<style scoped>\n",
       "    .dataframe tbody tr th:only-of-type {\n",
       "        vertical-align: middle;\n",
       "    }\n",
       "\n",
       "    .dataframe tbody tr th {\n",
       "        vertical-align: top;\n",
       "    }\n",
       "\n",
       "    .dataframe thead th {\n",
       "        text-align: right;\n",
       "    }\n",
       "</style>\n",
       "<table border=\"1\" class=\"dataframe\">\n",
       "  <thead>\n",
       "    <tr style=\"text-align: right;\">\n",
       "      <th></th>\n",
       "      <th>one</th>\n",
       "      <th>two</th>\n",
       "      <th>three</th>\n",
       "      <th>four</th>\n",
       "    </tr>\n",
       "  </thead>\n",
       "  <tbody>\n",
       "    <tr>\n",
       "      <th>Ix</th>\n",
       "      <td>0</td>\n",
       "      <td>1</td>\n",
       "      <td>2</td>\n",
       "      <td>3</td>\n",
       "    </tr>\n",
       "    <tr>\n",
       "      <th>Caladan</th>\n",
       "      <td>4</td>\n",
       "      <td>5</td>\n",
       "      <td>6</td>\n",
       "      <td>7</td>\n",
       "    </tr>\n",
       "    <tr>\n",
       "      <th>Giedi Prime</th>\n",
       "      <td>8</td>\n",
       "      <td>9</td>\n",
       "      <td>10</td>\n",
       "      <td>11</td>\n",
       "    </tr>\n",
       "    <tr>\n",
       "      <th>Corrin</th>\n",
       "      <td>12</td>\n",
       "      <td>13</td>\n",
       "      <td>14</td>\n",
       "      <td>15</td>\n",
       "    </tr>\n",
       "  </tbody>\n",
       "</table>\n",
       "</div>"
      ],
      "text/plain": [
       "             one  two  three  four\n",
       "Ix             0    1      2     3\n",
       "Caladan        4    5      6     7\n",
       "Giedi Prime    8    9     10    11\n",
       "Corrin        12   13     14    15"
      ]
     },
     "execution_count": 63,
     "metadata": {},
     "output_type": "execute_result"
    }
   ],
   "source": [
    "data = DataFrame( np.arange(16).reshape((4,4)), index=['Ix', 'Caladan', 'Giedi Prime', 'Corrin'], \n",
    "                  columns=['one', 'two', 'three', 'four'] )\n",
    "data"
   ]
  },
  {
   "cell_type": "code",
   "execution_count": 64,
   "metadata": {},
   "outputs": [
    {
     "data": {
      "text/html": [
       "<div>\n",
       "<style scoped>\n",
       "    .dataframe tbody tr th:only-of-type {\n",
       "        vertical-align: middle;\n",
       "    }\n",
       "\n",
       "    .dataframe tbody tr th {\n",
       "        vertical-align: top;\n",
       "    }\n",
       "\n",
       "    .dataframe thead th {\n",
       "        text-align: right;\n",
       "    }\n",
       "</style>\n",
       "<table border=\"1\" class=\"dataframe\">\n",
       "  <thead>\n",
       "    <tr style=\"text-align: right;\">\n",
       "      <th></th>\n",
       "      <th>one</th>\n",
       "      <th>two</th>\n",
       "      <th>three</th>\n",
       "      <th>four</th>\n",
       "    </tr>\n",
       "  </thead>\n",
       "  <tbody>\n",
       "    <tr>\n",
       "      <th>Giedi Prime</th>\n",
       "      <td>8</td>\n",
       "      <td>9</td>\n",
       "      <td>10</td>\n",
       "      <td>11</td>\n",
       "    </tr>\n",
       "    <tr>\n",
       "      <th>Corrin</th>\n",
       "      <td>12</td>\n",
       "      <td>13</td>\n",
       "      <td>14</td>\n",
       "      <td>15</td>\n",
       "    </tr>\n",
       "  </tbody>\n",
       "</table>\n",
       "</div>"
      ],
      "text/plain": [
       "             one  two  three  four\n",
       "Giedi Prime    8    9     10    11\n",
       "Corrin        12   13     14    15"
      ]
     },
     "execution_count": 64,
     "metadata": {},
     "output_type": "execute_result"
    }
   ],
   "source": [
    "data.drop( ['Caladan', 'Ix'] )"
   ]
  },
  {
   "cell_type": "code",
   "execution_count": 65,
   "metadata": {},
   "outputs": [
    {
     "data": {
      "text/html": [
       "<div>\n",
       "<style scoped>\n",
       "    .dataframe tbody tr th:only-of-type {\n",
       "        vertical-align: middle;\n",
       "    }\n",
       "\n",
       "    .dataframe tbody tr th {\n",
       "        vertical-align: top;\n",
       "    }\n",
       "\n",
       "    .dataframe thead th {\n",
       "        text-align: right;\n",
       "    }\n",
       "</style>\n",
       "<table border=\"1\" class=\"dataframe\">\n",
       "  <thead>\n",
       "    <tr style=\"text-align: right;\">\n",
       "      <th></th>\n",
       "      <th>one</th>\n",
       "      <th>three</th>\n",
       "      <th>four</th>\n",
       "    </tr>\n",
       "  </thead>\n",
       "  <tbody>\n",
       "    <tr>\n",
       "      <th>Ix</th>\n",
       "      <td>0</td>\n",
       "      <td>2</td>\n",
       "      <td>3</td>\n",
       "    </tr>\n",
       "    <tr>\n",
       "      <th>Caladan</th>\n",
       "      <td>4</td>\n",
       "      <td>6</td>\n",
       "      <td>7</td>\n",
       "    </tr>\n",
       "    <tr>\n",
       "      <th>Giedi Prime</th>\n",
       "      <td>8</td>\n",
       "      <td>10</td>\n",
       "      <td>11</td>\n",
       "    </tr>\n",
       "    <tr>\n",
       "      <th>Corrin</th>\n",
       "      <td>12</td>\n",
       "      <td>14</td>\n",
       "      <td>15</td>\n",
       "    </tr>\n",
       "  </tbody>\n",
       "</table>\n",
       "</div>"
      ],
      "text/plain": [
       "             one  three  four\n",
       "Ix             0      2     3\n",
       "Caladan        4      6     7\n",
       "Giedi Prime    8     10    11\n",
       "Corrin        12     14    15"
      ]
     },
     "execution_count": 65,
     "metadata": {},
     "output_type": "execute_result"
    }
   ],
   "source": [
    "data.drop( 'two', axis=1 )"
   ]
  },
  {
   "cell_type": "code",
   "execution_count": 66,
   "metadata": {},
   "outputs": [
    {
     "data": {
      "text/html": [
       "<div>\n",
       "<style scoped>\n",
       "    .dataframe tbody tr th:only-of-type {\n",
       "        vertical-align: middle;\n",
       "    }\n",
       "\n",
       "    .dataframe tbody tr th {\n",
       "        vertical-align: top;\n",
       "    }\n",
       "\n",
       "    .dataframe thead th {\n",
       "        text-align: right;\n",
       "    }\n",
       "</style>\n",
       "<table border=\"1\" class=\"dataframe\">\n",
       "  <thead>\n",
       "    <tr style=\"text-align: right;\">\n",
       "      <th></th>\n",
       "      <th>one</th>\n",
       "      <th>three</th>\n",
       "    </tr>\n",
       "  </thead>\n",
       "  <tbody>\n",
       "    <tr>\n",
       "      <th>Ix</th>\n",
       "      <td>0</td>\n",
       "      <td>2</td>\n",
       "    </tr>\n",
       "    <tr>\n",
       "      <th>Caladan</th>\n",
       "      <td>4</td>\n",
       "      <td>6</td>\n",
       "    </tr>\n",
       "    <tr>\n",
       "      <th>Giedi Prime</th>\n",
       "      <td>8</td>\n",
       "      <td>10</td>\n",
       "    </tr>\n",
       "    <tr>\n",
       "      <th>Corrin</th>\n",
       "      <td>12</td>\n",
       "      <td>14</td>\n",
       "    </tr>\n",
       "  </tbody>\n",
       "</table>\n",
       "</div>"
      ],
      "text/plain": [
       "             one  three\n",
       "Ix             0      2\n",
       "Caladan        4      6\n",
       "Giedi Prime    8     10\n",
       "Corrin        12     14"
      ]
     },
     "execution_count": 66,
     "metadata": {},
     "output_type": "execute_result"
    }
   ],
   "source": [
    "data.drop( ['two', 'four'], axis=1 )"
   ]
  },
  {
   "cell_type": "markdown",
   "metadata": {},
   "source": [
    "### Indexing, selection, and filtering"
   ]
  },
  {
   "cell_type": "markdown",
   "metadata": {},
   "source": [
    "Indexing Series objects is analogous to NumPy arrays, except that we can use either index labels or locations indistinctly:"
   ]
  },
  {
   "cell_type": "code",
   "execution_count": 67,
   "metadata": {},
   "outputs": [
    {
     "data": {
      "text/plain": [
       "a    0\n",
       "b    1\n",
       "c    2\n",
       "d    3\n",
       "dtype: int64"
      ]
     },
     "execution_count": 67,
     "metadata": {},
     "output_type": "execute_result"
    }
   ],
   "source": [
    "obj = Series( np.arange(4), index=['a', 'b', 'c', 'd'] )\n",
    "obj"
   ]
  },
  {
   "cell_type": "code",
   "execution_count": 68,
   "metadata": {},
   "outputs": [
    {
     "data": {
      "text/plain": [
       "(1, 1)"
      ]
     },
     "execution_count": 68,
     "metadata": {},
     "output_type": "execute_result"
    }
   ],
   "source": [
    "obj['b'], obj[1]"
   ]
  },
  {
   "cell_type": "code",
   "execution_count": 69,
   "metadata": {},
   "outputs": [
    {
     "data": {
      "text/plain": [
       "c    2\n",
       "d    3\n",
       "dtype: int64"
      ]
     },
     "execution_count": 69,
     "metadata": {},
     "output_type": "execute_result"
    }
   ],
   "source": [
    "obj[2:4]"
   ]
  },
  {
   "cell_type": "code",
   "execution_count": 70,
   "metadata": {},
   "outputs": [
    {
     "data": {
      "text/plain": [
       "b    1\n",
       "a    0\n",
       "d    3\n",
       "dtype: int64"
      ]
     },
     "execution_count": 70,
     "metadata": {},
     "output_type": "execute_result"
    }
   ],
   "source": [
    "obj[ ['b', 'a', 'd'] ]"
   ]
  },
  {
   "cell_type": "code",
   "execution_count": 71,
   "metadata": {},
   "outputs": [
    {
     "data": {
      "text/plain": [
       "b    1\n",
       "d    3\n",
       "dtype: int64"
      ]
     },
     "execution_count": 71,
     "metadata": {},
     "output_type": "execute_result"
    }
   ],
   "source": [
    "obj[ [1,3] ]"
   ]
  },
  {
   "cell_type": "code",
   "execution_count": 72,
   "metadata": {},
   "outputs": [
    {
     "data": {
      "text/plain": [
       "a    0\n",
       "b    1\n",
       "dtype: int64"
      ]
     },
     "execution_count": 72,
     "metadata": {},
     "output_type": "execute_result"
    }
   ],
   "source": [
    "obj[obj < 2]"
   ]
  },
  {
   "cell_type": "markdown",
   "metadata": {},
   "source": [
    "Slicing over the index works in a slightly different way, as the end of the slice is inclusive:"
   ]
  },
  {
   "cell_type": "code",
   "execution_count": 73,
   "metadata": {},
   "outputs": [
    {
     "data": {
      "text/plain": [
       "b    1\n",
       "c    2\n",
       "dtype: int64"
      ]
     },
     "execution_count": 73,
     "metadata": {},
     "output_type": "execute_result"
    }
   ],
   "source": [
    "obj['b':'c']"
   ]
  },
  {
   "cell_type": "markdown",
   "metadata": {},
   "source": [
    "We can modify the Series data using slice indexing:"
   ]
  },
  {
   "cell_type": "code",
   "execution_count": 74,
   "metadata": {},
   "outputs": [
    {
     "data": {
      "text/plain": [
       "a    0\n",
       "b    5\n",
       "c    5\n",
       "d    3\n",
       "dtype: int64"
      ]
     },
     "execution_count": 74,
     "metadata": {},
     "output_type": "execute_result"
    }
   ],
   "source": [
    "obj['b':'c'] = 5\n",
    "obj"
   ]
  },
  {
   "cell_type": "markdown",
   "metadata": {},
   "source": [
    "As we have seen before, indexing a DataFrame allows to extract one or more columns:"
   ]
  },
  {
   "cell_type": "code",
   "execution_count": 75,
   "metadata": {},
   "outputs": [
    {
     "data": {
      "text/html": [
       "<div>\n",
       "<style scoped>\n",
       "    .dataframe tbody tr th:only-of-type {\n",
       "        vertical-align: middle;\n",
       "    }\n",
       "\n",
       "    .dataframe tbody tr th {\n",
       "        vertical-align: top;\n",
       "    }\n",
       "\n",
       "    .dataframe thead th {\n",
       "        text-align: right;\n",
       "    }\n",
       "</style>\n",
       "<table border=\"1\" class=\"dataframe\">\n",
       "  <thead>\n",
       "    <tr style=\"text-align: right;\">\n",
       "      <th></th>\n",
       "      <th>one</th>\n",
       "      <th>two</th>\n",
       "      <th>three</th>\n",
       "      <th>four</th>\n",
       "    </tr>\n",
       "  </thead>\n",
       "  <tbody>\n",
       "    <tr>\n",
       "      <th>Ix</th>\n",
       "      <td>0</td>\n",
       "      <td>1</td>\n",
       "      <td>2</td>\n",
       "      <td>3</td>\n",
       "    </tr>\n",
       "    <tr>\n",
       "      <th>Caladan</th>\n",
       "      <td>4</td>\n",
       "      <td>5</td>\n",
       "      <td>6</td>\n",
       "      <td>7</td>\n",
       "    </tr>\n",
       "    <tr>\n",
       "      <th>Giedi Prime</th>\n",
       "      <td>8</td>\n",
       "      <td>9</td>\n",
       "      <td>10</td>\n",
       "      <td>11</td>\n",
       "    </tr>\n",
       "    <tr>\n",
       "      <th>Corrin</th>\n",
       "      <td>12</td>\n",
       "      <td>13</td>\n",
       "      <td>14</td>\n",
       "      <td>15</td>\n",
       "    </tr>\n",
       "  </tbody>\n",
       "</table>\n",
       "</div>"
      ],
      "text/plain": [
       "             one  two  three  four\n",
       "Ix             0    1      2     3\n",
       "Caladan        4    5      6     7\n",
       "Giedi Prime    8    9     10    11\n",
       "Corrin        12   13     14    15"
      ]
     },
     "execution_count": 75,
     "metadata": {},
     "output_type": "execute_result"
    }
   ],
   "source": [
    "data = DataFrame( np.arange(16).reshape((4,4)), index=['Ix', 'Caladan', 'Giedi Prime', 'Corrin'],\n",
    "                  columns=['one', 'two', 'three', 'four'] )\n",
    "data"
   ]
  },
  {
   "cell_type": "code",
   "execution_count": 76,
   "metadata": {},
   "outputs": [
    {
     "data": {
      "text/plain": [
       "Ix              1\n",
       "Caladan         5\n",
       "Giedi Prime     9\n",
       "Corrin         13\n",
       "Name: two, dtype: int64"
      ]
     },
     "execution_count": 76,
     "metadata": {},
     "output_type": "execute_result"
    }
   ],
   "source": [
    "data['two']"
   ]
  },
  {
   "cell_type": "code",
   "execution_count": 77,
   "metadata": {},
   "outputs": [
    {
     "data": {
      "text/html": [
       "<div>\n",
       "<style scoped>\n",
       "    .dataframe tbody tr th:only-of-type {\n",
       "        vertical-align: middle;\n",
       "    }\n",
       "\n",
       "    .dataframe tbody tr th {\n",
       "        vertical-align: top;\n",
       "    }\n",
       "\n",
       "    .dataframe thead th {\n",
       "        text-align: right;\n",
       "    }\n",
       "</style>\n",
       "<table border=\"1\" class=\"dataframe\">\n",
       "  <thead>\n",
       "    <tr style=\"text-align: right;\">\n",
       "      <th></th>\n",
       "      <th>three</th>\n",
       "      <th>one</th>\n",
       "    </tr>\n",
       "  </thead>\n",
       "  <tbody>\n",
       "    <tr>\n",
       "      <th>Ix</th>\n",
       "      <td>2</td>\n",
       "      <td>0</td>\n",
       "    </tr>\n",
       "    <tr>\n",
       "      <th>Caladan</th>\n",
       "      <td>6</td>\n",
       "      <td>4</td>\n",
       "    </tr>\n",
       "    <tr>\n",
       "      <th>Giedi Prime</th>\n",
       "      <td>10</td>\n",
       "      <td>8</td>\n",
       "    </tr>\n",
       "    <tr>\n",
       "      <th>Corrin</th>\n",
       "      <td>14</td>\n",
       "      <td>12</td>\n",
       "    </tr>\n",
       "  </tbody>\n",
       "</table>\n",
       "</div>"
      ],
      "text/plain": [
       "             three  one\n",
       "Ix               2    0\n",
       "Caladan          6    4\n",
       "Giedi Prime     10    8\n",
       "Corrin          14   12"
      ]
     },
     "execution_count": 77,
     "metadata": {},
     "output_type": "execute_result"
    }
   ],
   "source": [
    "data[ ['three', 'one'] ]"
   ]
  },
  {
   "cell_type": "markdown",
   "metadata": {},
   "source": [
    "Slicing and boolean indexing work over the rows. Although this can strike as inconsistent, it is done for convenience reasons:"
   ]
  },
  {
   "cell_type": "code",
   "execution_count": 78,
   "metadata": {},
   "outputs": [
    {
     "data": {
      "text/html": [
       "<div>\n",
       "<style scoped>\n",
       "    .dataframe tbody tr th:only-of-type {\n",
       "        vertical-align: middle;\n",
       "    }\n",
       "\n",
       "    .dataframe tbody tr th {\n",
       "        vertical-align: top;\n",
       "    }\n",
       "\n",
       "    .dataframe thead th {\n",
       "        text-align: right;\n",
       "    }\n",
       "</style>\n",
       "<table border=\"1\" class=\"dataframe\">\n",
       "  <thead>\n",
       "    <tr style=\"text-align: right;\">\n",
       "      <th></th>\n",
       "      <th>one</th>\n",
       "      <th>two</th>\n",
       "      <th>three</th>\n",
       "      <th>four</th>\n",
       "    </tr>\n",
       "  </thead>\n",
       "  <tbody>\n",
       "    <tr>\n",
       "      <th>Ix</th>\n",
       "      <td>0</td>\n",
       "      <td>1</td>\n",
       "      <td>2</td>\n",
       "      <td>3</td>\n",
       "    </tr>\n",
       "    <tr>\n",
       "      <th>Caladan</th>\n",
       "      <td>4</td>\n",
       "      <td>5</td>\n",
       "      <td>6</td>\n",
       "      <td>7</td>\n",
       "    </tr>\n",
       "  </tbody>\n",
       "</table>\n",
       "</div>"
      ],
      "text/plain": [
       "         one  two  three  four\n",
       "Ix         0    1      2     3\n",
       "Caladan    4    5      6     7"
      ]
     },
     "execution_count": 78,
     "metadata": {},
     "output_type": "execute_result"
    }
   ],
   "source": [
    "data[:2]"
   ]
  },
  {
   "cell_type": "code",
   "execution_count": 79,
   "metadata": {},
   "outputs": [
    {
     "data": {
      "text/html": [
       "<div>\n",
       "<style scoped>\n",
       "    .dataframe tbody tr th:only-of-type {\n",
       "        vertical-align: middle;\n",
       "    }\n",
       "\n",
       "    .dataframe tbody tr th {\n",
       "        vertical-align: top;\n",
       "    }\n",
       "\n",
       "    .dataframe thead th {\n",
       "        text-align: right;\n",
       "    }\n",
       "</style>\n",
       "<table border=\"1\" class=\"dataframe\">\n",
       "  <thead>\n",
       "    <tr style=\"text-align: right;\">\n",
       "      <th></th>\n",
       "      <th>one</th>\n",
       "      <th>two</th>\n",
       "      <th>three</th>\n",
       "      <th>four</th>\n",
       "    </tr>\n",
       "  </thead>\n",
       "  <tbody>\n",
       "    <tr>\n",
       "      <th>Caladan</th>\n",
       "      <td>4</td>\n",
       "      <td>5</td>\n",
       "      <td>6</td>\n",
       "      <td>7</td>\n",
       "    </tr>\n",
       "    <tr>\n",
       "      <th>Giedi Prime</th>\n",
       "      <td>8</td>\n",
       "      <td>9</td>\n",
       "      <td>10</td>\n",
       "      <td>11</td>\n",
       "    </tr>\n",
       "    <tr>\n",
       "      <th>Corrin</th>\n",
       "      <td>12</td>\n",
       "      <td>13</td>\n",
       "      <td>14</td>\n",
       "      <td>15</td>\n",
       "    </tr>\n",
       "  </tbody>\n",
       "</table>\n",
       "</div>"
      ],
      "text/plain": [
       "             one  two  three  four\n",
       "Caladan        4    5      6     7\n",
       "Giedi Prime    8    9     10    11\n",
       "Corrin        12   13     14    15"
      ]
     },
     "execution_count": 79,
     "metadata": {},
     "output_type": "execute_result"
    }
   ],
   "source": [
    "data[ data['three'] > 5 ]"
   ]
  },
  {
   "cell_type": "markdown",
   "metadata": {},
   "source": [
    "To get a DataFrame to behave as a NumPy array, indexing through a boolean DataFrame is also supported:"
   ]
  },
  {
   "cell_type": "code",
   "execution_count": 80,
   "metadata": {},
   "outputs": [
    {
     "data": {
      "text/html": [
       "<div>\n",
       "<style scoped>\n",
       "    .dataframe tbody tr th:only-of-type {\n",
       "        vertical-align: middle;\n",
       "    }\n",
       "\n",
       "    .dataframe tbody tr th {\n",
       "        vertical-align: top;\n",
       "    }\n",
       "\n",
       "    .dataframe thead th {\n",
       "        text-align: right;\n",
       "    }\n",
       "</style>\n",
       "<table border=\"1\" class=\"dataframe\">\n",
       "  <thead>\n",
       "    <tr style=\"text-align: right;\">\n",
       "      <th></th>\n",
       "      <th>one</th>\n",
       "      <th>two</th>\n",
       "      <th>three</th>\n",
       "      <th>four</th>\n",
       "    </tr>\n",
       "  </thead>\n",
       "  <tbody>\n",
       "    <tr>\n",
       "      <th>Ix</th>\n",
       "      <td>True</td>\n",
       "      <td>True</td>\n",
       "      <td>True</td>\n",
       "      <td>True</td>\n",
       "    </tr>\n",
       "    <tr>\n",
       "      <th>Caladan</th>\n",
       "      <td>True</td>\n",
       "      <td>False</td>\n",
       "      <td>False</td>\n",
       "      <td>False</td>\n",
       "    </tr>\n",
       "    <tr>\n",
       "      <th>Giedi Prime</th>\n",
       "      <td>False</td>\n",
       "      <td>False</td>\n",
       "      <td>False</td>\n",
       "      <td>False</td>\n",
       "    </tr>\n",
       "    <tr>\n",
       "      <th>Corrin</th>\n",
       "      <td>False</td>\n",
       "      <td>False</td>\n",
       "      <td>False</td>\n",
       "      <td>False</td>\n",
       "    </tr>\n",
       "  </tbody>\n",
       "</table>\n",
       "</div>"
      ],
      "text/plain": [
       "               one    two  three   four\n",
       "Ix            True   True   True   True\n",
       "Caladan       True  False  False  False\n",
       "Giedi Prime  False  False  False  False\n",
       "Corrin       False  False  False  False"
      ]
     },
     "execution_count": 80,
     "metadata": {},
     "output_type": "execute_result"
    }
   ],
   "source": [
    "data < 5"
   ]
  },
  {
   "cell_type": "code",
   "execution_count": 81,
   "metadata": {},
   "outputs": [
    {
     "data": {
      "text/html": [
       "<div>\n",
       "<style scoped>\n",
       "    .dataframe tbody tr th:only-of-type {\n",
       "        vertical-align: middle;\n",
       "    }\n",
       "\n",
       "    .dataframe tbody tr th {\n",
       "        vertical-align: top;\n",
       "    }\n",
       "\n",
       "    .dataframe thead th {\n",
       "        text-align: right;\n",
       "    }\n",
       "</style>\n",
       "<table border=\"1\" class=\"dataframe\">\n",
       "  <thead>\n",
       "    <tr style=\"text-align: right;\">\n",
       "      <th></th>\n",
       "      <th>one</th>\n",
       "      <th>two</th>\n",
       "      <th>three</th>\n",
       "      <th>four</th>\n",
       "    </tr>\n",
       "  </thead>\n",
       "  <tbody>\n",
       "    <tr>\n",
       "      <th>Ix</th>\n",
       "      <td>0.0</td>\n",
       "      <td>1.0</td>\n",
       "      <td>2.0</td>\n",
       "      <td>3.0</td>\n",
       "    </tr>\n",
       "    <tr>\n",
       "      <th>Caladan</th>\n",
       "      <td>4.0</td>\n",
       "      <td>NaN</td>\n",
       "      <td>NaN</td>\n",
       "      <td>NaN</td>\n",
       "    </tr>\n",
       "    <tr>\n",
       "      <th>Giedi Prime</th>\n",
       "      <td>NaN</td>\n",
       "      <td>NaN</td>\n",
       "      <td>NaN</td>\n",
       "      <td>NaN</td>\n",
       "    </tr>\n",
       "    <tr>\n",
       "      <th>Corrin</th>\n",
       "      <td>NaN</td>\n",
       "      <td>NaN</td>\n",
       "      <td>NaN</td>\n",
       "      <td>NaN</td>\n",
       "    </tr>\n",
       "  </tbody>\n",
       "</table>\n",
       "</div>"
      ],
      "text/plain": [
       "             one  two  three  four\n",
       "Ix           0.0  1.0    2.0   3.0\n",
       "Caladan      4.0  NaN    NaN   NaN\n",
       "Giedi Prime  NaN  NaN    NaN   NaN\n",
       "Corrin       NaN  NaN    NaN   NaN"
      ]
     },
     "execution_count": 81,
     "metadata": {},
     "output_type": "execute_result"
    }
   ],
   "source": [
    "data[ data<5 ]"
   ]
  },
  {
   "cell_type": "markdown",
   "metadata": {},
   "source": [
    "In order to index using index labels we use the $loc$ attribute. It obtains a subset of rows and columns using NumPy notation. As previously mentioned, it can also be used to reindex the DataFrame:"
   ]
  },
  {
   "cell_type": "code",
   "execution_count": 82,
   "metadata": {},
   "outputs": [
    {
     "data": {
      "text/plain": [
       "two      5\n",
       "three    6\n",
       "Name: Caladan, dtype: int64"
      ]
     },
     "execution_count": 82,
     "metadata": {},
     "output_type": "execute_result"
    }
   ],
   "source": [
    "data.loc['Caladan', ['two', 'three']]"
   ]
  },
  {
   "cell_type": "code",
   "execution_count": 83,
   "metadata": {},
   "outputs": [
    {
     "data": {
      "text/html": [
       "<div>\n",
       "<style scoped>\n",
       "    .dataframe tbody tr th:only-of-type {\n",
       "        vertical-align: middle;\n",
       "    }\n",
       "\n",
       "    .dataframe tbody tr th {\n",
       "        vertical-align: top;\n",
       "    }\n",
       "\n",
       "    .dataframe thead th {\n",
       "        text-align: right;\n",
       "    }\n",
       "</style>\n",
       "<table border=\"1\" class=\"dataframe\">\n",
       "  <thead>\n",
       "    <tr style=\"text-align: right;\">\n",
       "      <th></th>\n",
       "      <th>four</th>\n",
       "      <th>one</th>\n",
       "      <th>two</th>\n",
       "    </tr>\n",
       "  </thead>\n",
       "  <tbody>\n",
       "    <tr>\n",
       "      <th>Caladan</th>\n",
       "      <td>7</td>\n",
       "      <td>4</td>\n",
       "      <td>5</td>\n",
       "    </tr>\n",
       "    <tr>\n",
       "      <th>Giedi Prime</th>\n",
       "      <td>11</td>\n",
       "      <td>8</td>\n",
       "      <td>9</td>\n",
       "    </tr>\n",
       "  </tbody>\n",
       "</table>\n",
       "</div>"
      ],
      "text/plain": [
       "             four  one  two\n",
       "Caladan         7    4    5\n",
       "Giedi Prime    11    8    9"
      ]
     },
     "execution_count": 83,
     "metadata": {},
     "output_type": "execute_result"
    }
   ],
   "source": [
    "data.loc[ ['Caladan', 'Giedi Prime'], data.columns[[3,0,1]] ]"
   ]
  },
  {
   "cell_type": "code",
   "execution_count": 84,
   "metadata": {},
   "outputs": [
    {
     "data": {
      "text/plain": [
       "one       8\n",
       "two       9\n",
       "three    10\n",
       "four     11\n",
       "Name: Giedi Prime, dtype: int64"
      ]
     },
     "execution_count": 84,
     "metadata": {},
     "output_type": "execute_result"
    }
   ],
   "source": [
    "data.iloc[2]"
   ]
  },
  {
   "cell_type": "code",
   "execution_count": 85,
   "metadata": {},
   "outputs": [
    {
     "data": {
      "text/plain": [
       "Ix             1\n",
       "Caladan        5\n",
       "Giedi Prime    9\n",
       "Name: two, dtype: int64"
      ]
     },
     "execution_count": 85,
     "metadata": {},
     "output_type": "execute_result"
    }
   ],
   "source": [
    "data.loc[ :'Giedi Prime', 'two' ]"
   ]
  },
  {
   "cell_type": "code",
   "execution_count": 86,
   "metadata": {},
   "outputs": [
    {
     "data": {
      "text/html": [
       "<div>\n",
       "<style scoped>\n",
       "    .dataframe tbody tr th:only-of-type {\n",
       "        vertical-align: middle;\n",
       "    }\n",
       "\n",
       "    .dataframe tbody tr th {\n",
       "        vertical-align: top;\n",
       "    }\n",
       "\n",
       "    .dataframe thead th {\n",
       "        text-align: right;\n",
       "    }\n",
       "</style>\n",
       "<table border=\"1\" class=\"dataframe\">\n",
       "  <thead>\n",
       "    <tr style=\"text-align: right;\">\n",
       "      <th></th>\n",
       "      <th>one</th>\n",
       "      <th>two</th>\n",
       "      <th>three</th>\n",
       "    </tr>\n",
       "  </thead>\n",
       "  <tbody>\n",
       "    <tr>\n",
       "      <th>Caladan</th>\n",
       "      <td>4</td>\n",
       "      <td>5</td>\n",
       "      <td>6</td>\n",
       "    </tr>\n",
       "    <tr>\n",
       "      <th>Giedi Prime</th>\n",
       "      <td>8</td>\n",
       "      <td>9</td>\n",
       "      <td>10</td>\n",
       "    </tr>\n",
       "    <tr>\n",
       "      <th>Corrin</th>\n",
       "      <td>12</td>\n",
       "      <td>13</td>\n",
       "      <td>14</td>\n",
       "    </tr>\n",
       "  </tbody>\n",
       "</table>\n",
       "</div>"
      ],
      "text/plain": [
       "             one  two  three\n",
       "Caladan        4    5      6\n",
       "Giedi Prime    8    9     10\n",
       "Corrin        12   13     14"
      ]
     },
     "execution_count": 86,
     "metadata": {},
     "output_type": "execute_result"
    }
   ],
   "source": [
    "data.loc[ data.three > 5, data.columns[:3] ]"
   ]
  },
  {
   "cell_type": "markdown",
   "metadata": {},
   "source": [
    "### Arithmetic and data alignment"
   ]
  },
  {
   "cell_type": "markdown",
   "metadata": {},
   "source": [
    "When operating on Pandas objects indices are taken into account, so that if any difference exists between the indices of the operands, the index of the resulting object will be the union of the original ones:"
   ]
  },
  {
   "cell_type": "code",
   "execution_count": 87,
   "metadata": {},
   "outputs": [
    {
     "data": {
      "text/plain": [
       "a    7.3\n",
       "c   -2.5\n",
       "d    3.4\n",
       "e    1.5\n",
       "dtype: float64"
      ]
     },
     "execution_count": 87,
     "metadata": {},
     "output_type": "execute_result"
    }
   ],
   "source": [
    "s1 = Series( [7.3, -2.5, 3.4, 1.5], index=['a', 'c', 'd', 'e'] )\n",
    "s1"
   ]
  },
  {
   "cell_type": "code",
   "execution_count": 88,
   "metadata": {},
   "outputs": [
    {
     "data": {
      "text/plain": [
       "a   -2.1\n",
       "c    3.6\n",
       "e   -1.5\n",
       "f    4.0\n",
       "g    3.1\n",
       "dtype: float64"
      ]
     },
     "execution_count": 88,
     "metadata": {},
     "output_type": "execute_result"
    }
   ],
   "source": [
    "s2 = Series( [-2.1, 3.6, -1.5, 4, 3.1], index=['a', 'c', 'e', 'f', 'g'] )\n",
    "s2"
   ]
  },
  {
   "cell_type": "code",
   "execution_count": 89,
   "metadata": {},
   "outputs": [
    {
     "data": {
      "text/plain": [
       "a    5.2\n",
       "c    1.1\n",
       "d    NaN\n",
       "e    0.0\n",
       "f    NaN\n",
       "g    NaN\n",
       "dtype: float64"
      ]
     },
     "execution_count": 89,
     "metadata": {},
     "output_type": "execute_result"
    }
   ],
   "source": [
    "s1 + s2"
   ]
  },
  {
   "cell_type": "markdown",
   "metadata": {},
   "source": [
    "The internal index alignment performed by Pandas inserts $NaN$ values where appropriate. Unknown values are propagated when performing arithmetic operations. In the DataFrame case, the alignment is performed both over the rows and the columns of the object:"
   ]
  },
  {
   "cell_type": "code",
   "execution_count": 90,
   "metadata": {},
   "outputs": [
    {
     "data": {
      "text/html": [
       "<div>\n",
       "<style scoped>\n",
       "    .dataframe tbody tr th:only-of-type {\n",
       "        vertical-align: middle;\n",
       "    }\n",
       "\n",
       "    .dataframe tbody tr th {\n",
       "        vertical-align: top;\n",
       "    }\n",
       "\n",
       "    .dataframe thead th {\n",
       "        text-align: right;\n",
       "    }\n",
       "</style>\n",
       "<table border=\"1\" class=\"dataframe\">\n",
       "  <thead>\n",
       "    <tr style=\"text-align: right;\">\n",
       "      <th></th>\n",
       "      <th>b</th>\n",
       "      <th>c</th>\n",
       "      <th>d</th>\n",
       "    </tr>\n",
       "  </thead>\n",
       "  <tbody>\n",
       "    <tr>\n",
       "      <th>Caladan</th>\n",
       "      <td>0</td>\n",
       "      <td>1</td>\n",
       "      <td>2</td>\n",
       "    </tr>\n",
       "    <tr>\n",
       "      <th>Ix</th>\n",
       "      <td>3</td>\n",
       "      <td>4</td>\n",
       "      <td>5</td>\n",
       "    </tr>\n",
       "    <tr>\n",
       "      <th>Corrin</th>\n",
       "      <td>6</td>\n",
       "      <td>7</td>\n",
       "      <td>8</td>\n",
       "    </tr>\n",
       "  </tbody>\n",
       "</table>\n",
       "</div>"
      ],
      "text/plain": [
       "         b  c  d\n",
       "Caladan  0  1  2\n",
       "Ix       3  4  5\n",
       "Corrin   6  7  8"
      ]
     },
     "execution_count": 90,
     "metadata": {},
     "output_type": "execute_result"
    }
   ],
   "source": [
    "df1 = DataFrame( np.arange(9).reshape((3,3)), columns=list('bcd'), index=['Caladan', 'Ix', 'Corrin'] )\n",
    "df1"
   ]
  },
  {
   "cell_type": "code",
   "execution_count": 91,
   "metadata": {},
   "outputs": [
    {
     "data": {
      "text/html": [
       "<div>\n",
       "<style scoped>\n",
       "    .dataframe tbody tr th:only-of-type {\n",
       "        vertical-align: middle;\n",
       "    }\n",
       "\n",
       "    .dataframe tbody tr th {\n",
       "        vertical-align: top;\n",
       "    }\n",
       "\n",
       "    .dataframe thead th {\n",
       "        text-align: right;\n",
       "    }\n",
       "</style>\n",
       "<table border=\"1\" class=\"dataframe\">\n",
       "  <thead>\n",
       "    <tr style=\"text-align: right;\">\n",
       "      <th></th>\n",
       "      <th>b</th>\n",
       "      <th>d</th>\n",
       "      <th>e</th>\n",
       "    </tr>\n",
       "  </thead>\n",
       "  <tbody>\n",
       "    <tr>\n",
       "      <th>Giedi Prime</th>\n",
       "      <td>0</td>\n",
       "      <td>1</td>\n",
       "      <td>2</td>\n",
       "    </tr>\n",
       "    <tr>\n",
       "      <th>Caladan</th>\n",
       "      <td>3</td>\n",
       "      <td>4</td>\n",
       "      <td>5</td>\n",
       "    </tr>\n",
       "    <tr>\n",
       "      <th>Ix</th>\n",
       "      <td>6</td>\n",
       "      <td>7</td>\n",
       "      <td>8</td>\n",
       "    </tr>\n",
       "    <tr>\n",
       "      <th>Kaitain</th>\n",
       "      <td>9</td>\n",
       "      <td>10</td>\n",
       "      <td>11</td>\n",
       "    </tr>\n",
       "  </tbody>\n",
       "</table>\n",
       "</div>"
      ],
      "text/plain": [
       "             b   d   e\n",
       "Giedi Prime  0   1   2\n",
       "Caladan      3   4   5\n",
       "Ix           6   7   8\n",
       "Kaitain      9  10  11"
      ]
     },
     "execution_count": 91,
     "metadata": {},
     "output_type": "execute_result"
    }
   ],
   "source": [
    "df2 = DataFrame( np.arange(12).reshape((4,3)), columns=list('bde'), index=['Giedi Prime', 'Caladan', 'Ix', 'Kaitain'] )\n",
    "df2"
   ]
  },
  {
   "cell_type": "code",
   "execution_count": 92,
   "metadata": {},
   "outputs": [
    {
     "data": {
      "text/html": [
       "<div>\n",
       "<style scoped>\n",
       "    .dataframe tbody tr th:only-of-type {\n",
       "        vertical-align: middle;\n",
       "    }\n",
       "\n",
       "    .dataframe tbody tr th {\n",
       "        vertical-align: top;\n",
       "    }\n",
       "\n",
       "    .dataframe thead th {\n",
       "        text-align: right;\n",
       "    }\n",
       "</style>\n",
       "<table border=\"1\" class=\"dataframe\">\n",
       "  <thead>\n",
       "    <tr style=\"text-align: right;\">\n",
       "      <th></th>\n",
       "      <th>b</th>\n",
       "      <th>c</th>\n",
       "      <th>d</th>\n",
       "      <th>e</th>\n",
       "    </tr>\n",
       "  </thead>\n",
       "  <tbody>\n",
       "    <tr>\n",
       "      <th>Caladan</th>\n",
       "      <td>3.0</td>\n",
       "      <td>NaN</td>\n",
       "      <td>6.0</td>\n",
       "      <td>NaN</td>\n",
       "    </tr>\n",
       "    <tr>\n",
       "      <th>Corrin</th>\n",
       "      <td>NaN</td>\n",
       "      <td>NaN</td>\n",
       "      <td>NaN</td>\n",
       "      <td>NaN</td>\n",
       "    </tr>\n",
       "    <tr>\n",
       "      <th>Giedi Prime</th>\n",
       "      <td>NaN</td>\n",
       "      <td>NaN</td>\n",
       "      <td>NaN</td>\n",
       "      <td>NaN</td>\n",
       "    </tr>\n",
       "    <tr>\n",
       "      <th>Ix</th>\n",
       "      <td>9.0</td>\n",
       "      <td>NaN</td>\n",
       "      <td>12.0</td>\n",
       "      <td>NaN</td>\n",
       "    </tr>\n",
       "    <tr>\n",
       "      <th>Kaitain</th>\n",
       "      <td>NaN</td>\n",
       "      <td>NaN</td>\n",
       "      <td>NaN</td>\n",
       "      <td>NaN</td>\n",
       "    </tr>\n",
       "  </tbody>\n",
       "</table>\n",
       "</div>"
      ],
      "text/plain": [
       "               b   c     d   e\n",
       "Caladan      3.0 NaN   6.0 NaN\n",
       "Corrin       NaN NaN   NaN NaN\n",
       "Giedi Prime  NaN NaN   NaN NaN\n",
       "Ix           9.0 NaN  12.0 NaN\n",
       "Kaitain      NaN NaN   NaN NaN"
      ]
     },
     "execution_count": 92,
     "metadata": {},
     "output_type": "execute_result"
    }
   ],
   "source": [
    "df1 + df2"
   ]
  },
  {
   "cell_type": "markdown",
   "metadata": {},
   "source": [
    "Frequently we wish to fill unknown values not with $NaN$, but with different values. We can do so through the equivalent class methods, such as add():"
   ]
  },
  {
   "cell_type": "code",
   "execution_count": 93,
   "metadata": {},
   "outputs": [
    {
     "data": {
      "text/html": [
       "<div>\n",
       "<style scoped>\n",
       "    .dataframe tbody tr th:only-of-type {\n",
       "        vertical-align: middle;\n",
       "    }\n",
       "\n",
       "    .dataframe tbody tr th {\n",
       "        vertical-align: top;\n",
       "    }\n",
       "\n",
       "    .dataframe thead th {\n",
       "        text-align: right;\n",
       "    }\n",
       "</style>\n",
       "<table border=\"1\" class=\"dataframe\">\n",
       "  <thead>\n",
       "    <tr style=\"text-align: right;\">\n",
       "      <th></th>\n",
       "      <th>b</th>\n",
       "      <th>c</th>\n",
       "      <th>d</th>\n",
       "      <th>e</th>\n",
       "    </tr>\n",
       "  </thead>\n",
       "  <tbody>\n",
       "    <tr>\n",
       "      <th>Caladan</th>\n",
       "      <td>3.0</td>\n",
       "      <td>1.0</td>\n",
       "      <td>6.0</td>\n",
       "      <td>5.0</td>\n",
       "    </tr>\n",
       "    <tr>\n",
       "      <th>Corrin</th>\n",
       "      <td>6.0</td>\n",
       "      <td>7.0</td>\n",
       "      <td>8.0</td>\n",
       "      <td>NaN</td>\n",
       "    </tr>\n",
       "    <tr>\n",
       "      <th>Giedi Prime</th>\n",
       "      <td>0.0</td>\n",
       "      <td>NaN</td>\n",
       "      <td>1.0</td>\n",
       "      <td>2.0</td>\n",
       "    </tr>\n",
       "    <tr>\n",
       "      <th>Ix</th>\n",
       "      <td>9.0</td>\n",
       "      <td>4.0</td>\n",
       "      <td>12.0</td>\n",
       "      <td>8.0</td>\n",
       "    </tr>\n",
       "    <tr>\n",
       "      <th>Kaitain</th>\n",
       "      <td>9.0</td>\n",
       "      <td>NaN</td>\n",
       "      <td>10.0</td>\n",
       "      <td>11.0</td>\n",
       "    </tr>\n",
       "  </tbody>\n",
       "</table>\n",
       "</div>"
      ],
      "text/plain": [
       "               b    c     d     e\n",
       "Caladan      3.0  1.0   6.0   5.0\n",
       "Corrin       6.0  7.0   8.0   NaN\n",
       "Giedi Prime  0.0  NaN   1.0   2.0\n",
       "Ix           9.0  4.0  12.0   8.0\n",
       "Kaitain      9.0  NaN  10.0  11.0"
      ]
     },
     "execution_count": 93,
     "metadata": {},
     "output_type": "execute_result"
    }
   ],
   "source": [
    "df1.add( df2, fill_value=0 )"
   ]
  },
  {
   "cell_type": "markdown",
   "metadata": {},
   "source": [
    "Note that $NaN$ is still used for data which do not belong to any of the input objects.\n",
    "\n",
    "Arithmetic between DataFrame and Series is well defined, and is performed by broadcasting the Series as necessary:"
   ]
  },
  {
   "cell_type": "code",
   "execution_count": 94,
   "metadata": {},
   "outputs": [
    {
     "data": {
      "text/html": [
       "<div>\n",
       "<style scoped>\n",
       "    .dataframe tbody tr th:only-of-type {\n",
       "        vertical-align: middle;\n",
       "    }\n",
       "\n",
       "    .dataframe tbody tr th {\n",
       "        vertical-align: top;\n",
       "    }\n",
       "\n",
       "    .dataframe thead th {\n",
       "        text-align: right;\n",
       "    }\n",
       "</style>\n",
       "<table border=\"1\" class=\"dataframe\">\n",
       "  <thead>\n",
       "    <tr style=\"text-align: right;\">\n",
       "      <th></th>\n",
       "      <th>b</th>\n",
       "      <th>d</th>\n",
       "      <th>e</th>\n",
       "    </tr>\n",
       "  </thead>\n",
       "  <tbody>\n",
       "    <tr>\n",
       "      <th>Giedi Prime</th>\n",
       "      <td>0</td>\n",
       "      <td>1</td>\n",
       "      <td>2</td>\n",
       "    </tr>\n",
       "    <tr>\n",
       "      <th>Caladan</th>\n",
       "      <td>3</td>\n",
       "      <td>4</td>\n",
       "      <td>5</td>\n",
       "    </tr>\n",
       "    <tr>\n",
       "      <th>Ix</th>\n",
       "      <td>6</td>\n",
       "      <td>7</td>\n",
       "      <td>8</td>\n",
       "    </tr>\n",
       "    <tr>\n",
       "      <th>Kaitain</th>\n",
       "      <td>9</td>\n",
       "      <td>10</td>\n",
       "      <td>11</td>\n",
       "    </tr>\n",
       "  </tbody>\n",
       "</table>\n",
       "</div>"
      ],
      "text/plain": [
       "             b   d   e\n",
       "Giedi Prime  0   1   2\n",
       "Caladan      3   4   5\n",
       "Ix           6   7   8\n",
       "Kaitain      9  10  11"
      ]
     },
     "execution_count": 94,
     "metadata": {},
     "output_type": "execute_result"
    }
   ],
   "source": [
    "frame=df2.copy()\n",
    "frame"
   ]
  },
  {
   "cell_type": "code",
   "execution_count": 95,
   "metadata": {},
   "outputs": [
    {
     "data": {
      "text/plain": [
       "b    0\n",
       "d    1\n",
       "e    2\n",
       "Name: Giedi Prime, dtype: int64"
      ]
     },
     "execution_count": 95,
     "metadata": {},
     "output_type": "execute_result"
    }
   ],
   "source": [
    "series = frame.iloc[0]\n",
    "series"
   ]
  },
  {
   "cell_type": "markdown",
   "metadata": {},
   "source": [
    "By default, arithmetic operations between Series and DataFrame align the Series index over the DataFrame columns, and broadcasting over the rows:"
   ]
  },
  {
   "cell_type": "code",
   "execution_count": 96,
   "metadata": {},
   "outputs": [
    {
     "data": {
      "text/html": [
       "<div>\n",
       "<style scoped>\n",
       "    .dataframe tbody tr th:only-of-type {\n",
       "        vertical-align: middle;\n",
       "    }\n",
       "\n",
       "    .dataframe tbody tr th {\n",
       "        vertical-align: top;\n",
       "    }\n",
       "\n",
       "    .dataframe thead th {\n",
       "        text-align: right;\n",
       "    }\n",
       "</style>\n",
       "<table border=\"1\" class=\"dataframe\">\n",
       "  <thead>\n",
       "    <tr style=\"text-align: right;\">\n",
       "      <th></th>\n",
       "      <th>b</th>\n",
       "      <th>d</th>\n",
       "      <th>e</th>\n",
       "    </tr>\n",
       "  </thead>\n",
       "  <tbody>\n",
       "    <tr>\n",
       "      <th>Giedi Prime</th>\n",
       "      <td>0</td>\n",
       "      <td>0</td>\n",
       "      <td>0</td>\n",
       "    </tr>\n",
       "    <tr>\n",
       "      <th>Caladan</th>\n",
       "      <td>3</td>\n",
       "      <td>3</td>\n",
       "      <td>3</td>\n",
       "    </tr>\n",
       "    <tr>\n",
       "      <th>Ix</th>\n",
       "      <td>6</td>\n",
       "      <td>6</td>\n",
       "      <td>6</td>\n",
       "    </tr>\n",
       "    <tr>\n",
       "      <th>Kaitain</th>\n",
       "      <td>9</td>\n",
       "      <td>9</td>\n",
       "      <td>9</td>\n",
       "    </tr>\n",
       "  </tbody>\n",
       "</table>\n",
       "</div>"
      ],
      "text/plain": [
       "             b  d  e\n",
       "Giedi Prime  0  0  0\n",
       "Caladan      3  3  3\n",
       "Ix           6  6  6\n",
       "Kaitain      9  9  9"
      ]
     },
     "execution_count": 96,
     "metadata": {},
     "output_type": "execute_result"
    }
   ],
   "source": [
    "frame - series"
   ]
  },
  {
   "cell_type": "markdown",
   "metadata": {},
   "source": [
    "As when performing homogeneous arithmetic operations, the resulting index is the union of the input ones:"
   ]
  },
  {
   "cell_type": "code",
   "execution_count": 97,
   "metadata": {},
   "outputs": [
    {
     "data": {
      "text/plain": [
       "b    0\n",
       "e    1\n",
       "f    2\n",
       "dtype: int64"
      ]
     },
     "execution_count": 97,
     "metadata": {},
     "output_type": "execute_result"
    }
   ],
   "source": [
    "series2 = Series( range(3), index=['b', 'e', 'f'])\n",
    "series2"
   ]
  },
  {
   "cell_type": "code",
   "execution_count": 98,
   "metadata": {},
   "outputs": [
    {
     "data": {
      "text/html": [
       "<div>\n",
       "<style scoped>\n",
       "    .dataframe tbody tr th:only-of-type {\n",
       "        vertical-align: middle;\n",
       "    }\n",
       "\n",
       "    .dataframe tbody tr th {\n",
       "        vertical-align: top;\n",
       "    }\n",
       "\n",
       "    .dataframe thead th {\n",
       "        text-align: right;\n",
       "    }\n",
       "</style>\n",
       "<table border=\"1\" class=\"dataframe\">\n",
       "  <thead>\n",
       "    <tr style=\"text-align: right;\">\n",
       "      <th></th>\n",
       "      <th>b</th>\n",
       "      <th>d</th>\n",
       "      <th>e</th>\n",
       "      <th>f</th>\n",
       "    </tr>\n",
       "  </thead>\n",
       "  <tbody>\n",
       "    <tr>\n",
       "      <th>Giedi Prime</th>\n",
       "      <td>0.0</td>\n",
       "      <td>NaN</td>\n",
       "      <td>3.0</td>\n",
       "      <td>NaN</td>\n",
       "    </tr>\n",
       "    <tr>\n",
       "      <th>Caladan</th>\n",
       "      <td>3.0</td>\n",
       "      <td>NaN</td>\n",
       "      <td>6.0</td>\n",
       "      <td>NaN</td>\n",
       "    </tr>\n",
       "    <tr>\n",
       "      <th>Ix</th>\n",
       "      <td>6.0</td>\n",
       "      <td>NaN</td>\n",
       "      <td>9.0</td>\n",
       "      <td>NaN</td>\n",
       "    </tr>\n",
       "    <tr>\n",
       "      <th>Kaitain</th>\n",
       "      <td>9.0</td>\n",
       "      <td>NaN</td>\n",
       "      <td>12.0</td>\n",
       "      <td>NaN</td>\n",
       "    </tr>\n",
       "  </tbody>\n",
       "</table>\n",
       "</div>"
      ],
      "text/plain": [
       "               b   d     e   f\n",
       "Giedi Prime  0.0 NaN   3.0 NaN\n",
       "Caladan      3.0 NaN   6.0 NaN\n",
       "Ix           6.0 NaN   9.0 NaN\n",
       "Kaitain      9.0 NaN  12.0 NaN"
      ]
     },
     "execution_count": 98,
     "metadata": {},
     "output_type": "execute_result"
    }
   ],
   "source": [
    "frame + series2"
   ]
  },
  {
   "cell_type": "markdown",
   "metadata": {},
   "source": [
    "If the broadcasting of the Series should be performed over the DataFrame columns, we need to use class methods:"
   ]
  },
  {
   "cell_type": "code",
   "execution_count": 99,
   "metadata": {},
   "outputs": [
    {
     "data": {
      "text/plain": [
       "Giedi Prime     1\n",
       "Caladan         4\n",
       "Ix              7\n",
       "Kaitain        10\n",
       "Name: d, dtype: int64"
      ]
     },
     "execution_count": 99,
     "metadata": {},
     "output_type": "execute_result"
    }
   ],
   "source": [
    "series3 = frame['d']\n",
    "series3"
   ]
  },
  {
   "cell_type": "code",
   "execution_count": 100,
   "metadata": {},
   "outputs": [
    {
     "data": {
      "text/html": [
       "<div>\n",
       "<style scoped>\n",
       "    .dataframe tbody tr th:only-of-type {\n",
       "        vertical-align: middle;\n",
       "    }\n",
       "\n",
       "    .dataframe tbody tr th {\n",
       "        vertical-align: top;\n",
       "    }\n",
       "\n",
       "    .dataframe thead th {\n",
       "        text-align: right;\n",
       "    }\n",
       "</style>\n",
       "<table border=\"1\" class=\"dataframe\">\n",
       "  <thead>\n",
       "    <tr style=\"text-align: right;\">\n",
       "      <th></th>\n",
       "      <th>b</th>\n",
       "      <th>d</th>\n",
       "      <th>e</th>\n",
       "    </tr>\n",
       "  </thead>\n",
       "  <tbody>\n",
       "    <tr>\n",
       "      <th>Giedi Prime</th>\n",
       "      <td>-1</td>\n",
       "      <td>0</td>\n",
       "      <td>1</td>\n",
       "    </tr>\n",
       "    <tr>\n",
       "      <th>Caladan</th>\n",
       "      <td>-1</td>\n",
       "      <td>0</td>\n",
       "      <td>1</td>\n",
       "    </tr>\n",
       "    <tr>\n",
       "      <th>Ix</th>\n",
       "      <td>-1</td>\n",
       "      <td>0</td>\n",
       "      <td>1</td>\n",
       "    </tr>\n",
       "    <tr>\n",
       "      <th>Kaitain</th>\n",
       "      <td>-1</td>\n",
       "      <td>0</td>\n",
       "      <td>1</td>\n",
       "    </tr>\n",
       "  </tbody>\n",
       "</table>\n",
       "</div>"
      ],
      "text/plain": [
       "             b  d  e\n",
       "Giedi Prime -1  0  1\n",
       "Caladan     -1  0  1\n",
       "Ix          -1  0  1\n",
       "Kaitain     -1  0  1"
      ]
     },
     "execution_count": 100,
     "metadata": {},
     "output_type": "execute_result"
    }
   ],
   "source": [
    "frame.sub(series3, axis=0)"
   ]
  },
  {
   "cell_type": "markdown",
   "metadata": {},
   "source": [
    "The $axis$ parameter specifies the axis to align on."
   ]
  },
  {
   "cell_type": "markdown",
   "metadata": {},
   "source": [
    "### Functional application and mapping"
   ]
  },
  {
   "cell_type": "markdown",
   "metadata": {},
   "source": [
    "NumPy ufuncs work with Pandas objects:"
   ]
  },
  {
   "cell_type": "code",
   "execution_count": 101,
   "metadata": {},
   "outputs": [
    {
     "data": {
      "text/html": [
       "<div>\n",
       "<style scoped>\n",
       "    .dataframe tbody tr th:only-of-type {\n",
       "        vertical-align: middle;\n",
       "    }\n",
       "\n",
       "    .dataframe tbody tr th {\n",
       "        vertical-align: top;\n",
       "    }\n",
       "\n",
       "    .dataframe thead th {\n",
       "        text-align: right;\n",
       "    }\n",
       "</style>\n",
       "<table border=\"1\" class=\"dataframe\">\n",
       "  <thead>\n",
       "    <tr style=\"text-align: right;\">\n",
       "      <th></th>\n",
       "      <th>b</th>\n",
       "      <th>d</th>\n",
       "      <th>e</th>\n",
       "    </tr>\n",
       "  </thead>\n",
       "  <tbody>\n",
       "    <tr>\n",
       "      <th>Giedi Prime</th>\n",
       "      <td>-0.488473</td>\n",
       "      <td>0.753399</td>\n",
       "      <td>0.309556</td>\n",
       "    </tr>\n",
       "    <tr>\n",
       "      <th>Caladan</th>\n",
       "      <td>-0.512552</td>\n",
       "      <td>-0.439403</td>\n",
       "      <td>-2.284529</td>\n",
       "    </tr>\n",
       "    <tr>\n",
       "      <th>Ix</th>\n",
       "      <td>-0.281700</td>\n",
       "      <td>1.315653</td>\n",
       "      <td>0.870472</td>\n",
       "    </tr>\n",
       "    <tr>\n",
       "      <th>Kaitain</th>\n",
       "      <td>-0.423916</td>\n",
       "      <td>-1.657225</td>\n",
       "      <td>-0.432558</td>\n",
       "    </tr>\n",
       "  </tbody>\n",
       "</table>\n",
       "</div>"
      ],
      "text/plain": [
       "                    b         d         e\n",
       "Giedi Prime -0.488473  0.753399  0.309556\n",
       "Caladan     -0.512552 -0.439403 -2.284529\n",
       "Ix          -0.281700  1.315653  0.870472\n",
       "Kaitain     -0.423916 -1.657225 -0.432558"
      ]
     },
     "execution_count": 101,
     "metadata": {},
     "output_type": "execute_result"
    }
   ],
   "source": [
    "frame = DataFrame( np.random.randn(4, 3), columns=list('bde'), index=['Giedi Prime', 'Caladan', 'Ix', 'Kaitain'] )\n",
    "frame"
   ]
  },
  {
   "cell_type": "code",
   "execution_count": 102,
   "metadata": {},
   "outputs": [
    {
     "data": {
      "text/html": [
       "<div>\n",
       "<style scoped>\n",
       "    .dataframe tbody tr th:only-of-type {\n",
       "        vertical-align: middle;\n",
       "    }\n",
       "\n",
       "    .dataframe tbody tr th {\n",
       "        vertical-align: top;\n",
       "    }\n",
       "\n",
       "    .dataframe thead th {\n",
       "        text-align: right;\n",
       "    }\n",
       "</style>\n",
       "<table border=\"1\" class=\"dataframe\">\n",
       "  <thead>\n",
       "    <tr style=\"text-align: right;\">\n",
       "      <th></th>\n",
       "      <th>b</th>\n",
       "      <th>d</th>\n",
       "      <th>e</th>\n",
       "    </tr>\n",
       "  </thead>\n",
       "  <tbody>\n",
       "    <tr>\n",
       "      <th>Giedi Prime</th>\n",
       "      <td>0.488473</td>\n",
       "      <td>0.753399</td>\n",
       "      <td>0.309556</td>\n",
       "    </tr>\n",
       "    <tr>\n",
       "      <th>Caladan</th>\n",
       "      <td>0.512552</td>\n",
       "      <td>0.439403</td>\n",
       "      <td>2.284529</td>\n",
       "    </tr>\n",
       "    <tr>\n",
       "      <th>Ix</th>\n",
       "      <td>0.281700</td>\n",
       "      <td>1.315653</td>\n",
       "      <td>0.870472</td>\n",
       "    </tr>\n",
       "    <tr>\n",
       "      <th>Kaitain</th>\n",
       "      <td>0.423916</td>\n",
       "      <td>1.657225</td>\n",
       "      <td>0.432558</td>\n",
       "    </tr>\n",
       "  </tbody>\n",
       "</table>\n",
       "</div>"
      ],
      "text/plain": [
       "                    b         d         e\n",
       "Giedi Prime  0.488473  0.753399  0.309556\n",
       "Caladan      0.512552  0.439403  2.284529\n",
       "Ix           0.281700  1.315653  0.870472\n",
       "Kaitain      0.423916  1.657225  0.432558"
      ]
     },
     "execution_count": 102,
     "metadata": {},
     "output_type": "execute_result"
    }
   ],
   "source": [
    "np.abs(frame)"
   ]
  },
  {
   "cell_type": "markdown",
   "metadata": {},
   "source": [
    "We can apply a 1D function over the rows or columns of a table, using the apply() class method:"
   ]
  },
  {
   "cell_type": "code",
   "execution_count": 103,
   "metadata": {},
   "outputs": [
    {
     "data": {
      "text/plain": [
       "b    0.230853\n",
       "d    2.972878\n",
       "e    3.155001\n",
       "dtype: float64"
      ]
     },
     "execution_count": 103,
     "metadata": {},
     "output_type": "execute_result"
    }
   ],
   "source": [
    "f = lambda x: x.max() - x.min()\n",
    "frame.apply(f)"
   ]
  },
  {
   "cell_type": "code",
   "execution_count": 104,
   "metadata": {},
   "outputs": [
    {
     "data": {
      "text/plain": [
       "Giedi Prime    1.241872\n",
       "Caladan        1.845126\n",
       "Ix             1.597353\n",
       "Kaitain        1.233309\n",
       "dtype: float64"
      ]
     },
     "execution_count": 104,
     "metadata": {},
     "output_type": "execute_result"
    }
   ],
   "source": [
    "frame.apply(f, axis=1) # The axis= parameter marks the axis to reduce"
   ]
  },
  {
   "cell_type": "markdown",
   "metadata": {},
   "source": [
    "Many of the most common statistics are implemented as class methods in DataFrame, so it is not required to explicitly call apply():"
   ]
  },
  {
   "cell_type": "code",
   "execution_count": 105,
   "metadata": {},
   "outputs": [
    {
     "data": {
      "text/plain": [
       "b   -0.426660\n",
       "d   -0.006894\n",
       "e   -0.384265\n",
       "dtype: float64"
      ]
     },
     "execution_count": 105,
     "metadata": {},
     "output_type": "execute_result"
    }
   ],
   "source": [
    "frame.mean()"
   ]
  },
  {
   "cell_type": "code",
   "execution_count": 106,
   "metadata": {},
   "outputs": [
    {
     "data": {
      "text/plain": [
       "Giedi Prime    0.191494\n",
       "Caladan       -1.078828\n",
       "Ix             0.634809\n",
       "Kaitain       -0.837899\n",
       "dtype: float64"
      ]
     },
     "execution_count": 106,
     "metadata": {},
     "output_type": "execute_result"
    }
   ],
   "source": [
    "frame.mean(axis=1)"
   ]
  },
  {
   "cell_type": "code",
   "execution_count": 107,
   "metadata": {},
   "outputs": [
    {
     "data": {
      "text/plain": [
       "b    0.103633\n",
       "d    1.321342\n",
       "e    1.374662\n",
       "dtype: float64"
      ]
     },
     "execution_count": 107,
     "metadata": {},
     "output_type": "execute_result"
    }
   ],
   "source": [
    "frame.std()"
   ]
  },
  {
   "cell_type": "code",
   "execution_count": 108,
   "metadata": {},
   "outputs": [
    {
     "data": {
      "text/plain": [
       "b   -1.706641\n",
       "d   -0.027576\n",
       "e   -1.537059\n",
       "dtype: float64"
      ]
     },
     "execution_count": 108,
     "metadata": {},
     "output_type": "execute_result"
    }
   ],
   "source": [
    "frame.sum()"
   ]
  },
  {
   "cell_type": "markdown",
   "metadata": {},
   "source": [
    "Functions passed to apply() need not return a scalar value. They may also return a Series with multiple values:"
   ]
  },
  {
   "cell_type": "code",
   "execution_count": 109,
   "metadata": {},
   "outputs": [
    {
     "data": {
      "text/html": [
       "<div>\n",
       "<style scoped>\n",
       "    .dataframe tbody tr th:only-of-type {\n",
       "        vertical-align: middle;\n",
       "    }\n",
       "\n",
       "    .dataframe tbody tr th {\n",
       "        vertical-align: top;\n",
       "    }\n",
       "\n",
       "    .dataframe thead th {\n",
       "        text-align: right;\n",
       "    }\n",
       "</style>\n",
       "<table border=\"1\" class=\"dataframe\">\n",
       "  <thead>\n",
       "    <tr style=\"text-align: right;\">\n",
       "      <th></th>\n",
       "      <th>b</th>\n",
       "      <th>d</th>\n",
       "      <th>e</th>\n",
       "    </tr>\n",
       "  </thead>\n",
       "  <tbody>\n",
       "    <tr>\n",
       "      <th>min</th>\n",
       "      <td>-0.512552</td>\n",
       "      <td>-1.657225</td>\n",
       "      <td>-2.284529</td>\n",
       "    </tr>\n",
       "    <tr>\n",
       "      <th>max</th>\n",
       "      <td>-0.281700</td>\n",
       "      <td>1.315653</td>\n",
       "      <td>0.870472</td>\n",
       "    </tr>\n",
       "  </tbody>\n",
       "</table>\n",
       "</div>"
      ],
      "text/plain": [
       "            b         d         e\n",
       "min -0.512552 -1.657225 -2.284529\n",
       "max -0.281700  1.315653  0.870472"
      ]
     },
     "execution_count": 109,
     "metadata": {},
     "output_type": "execute_result"
    }
   ],
   "source": [
    "def f(x): return Series( [x.min(), x.max()], index=['min', 'max'] )\n",
    "frame.apply(f)"
   ]
  },
  {
   "cell_type": "markdown",
   "metadata": {},
   "source": [
    "Element-wise Python funtions can be applied using applymap():"
   ]
  },
  {
   "cell_type": "code",
   "execution_count": 110,
   "metadata": {},
   "outputs": [
    {
     "data": {
      "text/html": [
       "<div>\n",
       "<style scoped>\n",
       "    .dataframe tbody tr th:only-of-type {\n",
       "        vertical-align: middle;\n",
       "    }\n",
       "\n",
       "    .dataframe tbody tr th {\n",
       "        vertical-align: top;\n",
       "    }\n",
       "\n",
       "    .dataframe thead th {\n",
       "        text-align: right;\n",
       "    }\n",
       "</style>\n",
       "<table border=\"1\" class=\"dataframe\">\n",
       "  <thead>\n",
       "    <tr style=\"text-align: right;\">\n",
       "      <th></th>\n",
       "      <th>b</th>\n",
       "      <th>d</th>\n",
       "      <th>e</th>\n",
       "    </tr>\n",
       "  </thead>\n",
       "  <tbody>\n",
       "    <tr>\n",
       "      <th>Giedi Prime</th>\n",
       "      <td>-0.49</td>\n",
       "      <td>0.75</td>\n",
       "      <td>0.31</td>\n",
       "    </tr>\n",
       "    <tr>\n",
       "      <th>Caladan</th>\n",
       "      <td>-0.51</td>\n",
       "      <td>-0.44</td>\n",
       "      <td>-2.28</td>\n",
       "    </tr>\n",
       "    <tr>\n",
       "      <th>Ix</th>\n",
       "      <td>-0.28</td>\n",
       "      <td>1.32</td>\n",
       "      <td>0.87</td>\n",
       "    </tr>\n",
       "    <tr>\n",
       "      <th>Kaitain</th>\n",
       "      <td>-0.42</td>\n",
       "      <td>-1.66</td>\n",
       "      <td>-0.43</td>\n",
       "    </tr>\n",
       "  </tbody>\n",
       "</table>\n",
       "</div>"
      ],
      "text/plain": [
       "                 b      d      e\n",
       "Giedi Prime  -0.49   0.75   0.31\n",
       "Caladan      -0.51  -0.44  -2.28\n",
       "Ix           -0.28   1.32   0.87\n",
       "Kaitain      -0.42  -1.66  -0.43"
      ]
     },
     "execution_count": 110,
     "metadata": {},
     "output_type": "execute_result"
    }
   ],
   "source": [
    "format = lambda x: '%.2f' % x\n",
    "frame.applymap( format )"
   ]
  },
  {
   "cell_type": "markdown",
   "metadata": {},
   "source": [
    "This function is called $applymap()$ because Series has a $map()$ method which applies a function in an element-wise fashion:"
   ]
  },
  {
   "cell_type": "code",
   "execution_count": 111,
   "metadata": {},
   "outputs": [
    {
     "data": {
      "text/plain": [
       "Giedi Prime     0.31\n",
       "Caladan        -2.28\n",
       "Ix              0.87\n",
       "Kaitain        -0.43\n",
       "Name: e, dtype: object"
      ]
     },
     "execution_count": 111,
     "metadata": {},
     "output_type": "execute_result"
    }
   ],
   "source": [
    "frame['e'].map(format)"
   ]
  },
  {
   "cell_type": "markdown",
   "metadata": {},
   "source": [
    "### Sorting and ranking"
   ]
  },
  {
   "cell_type": "markdown",
   "metadata": {},
   "source": [
    "Sorting a dataset is also natively supported by Pandas objects. In order to lexicographically sort by index or columns, returning a new object, sort_index() is provided:"
   ]
  },
  {
   "cell_type": "code",
   "execution_count": 112,
   "metadata": {},
   "outputs": [
    {
     "data": {
      "text/plain": [
       "d    0\n",
       "a    1\n",
       "b    2\n",
       "c    3\n",
       "dtype: int64"
      ]
     },
     "execution_count": 112,
     "metadata": {},
     "output_type": "execute_result"
    }
   ],
   "source": [
    "obj = Series( range(4), index=list('dabc') )\n",
    "obj"
   ]
  },
  {
   "cell_type": "code",
   "execution_count": 113,
   "metadata": {},
   "outputs": [
    {
     "data": {
      "text/plain": [
       "a    1\n",
       "b    2\n",
       "c    3\n",
       "d    0\n",
       "dtype: int64"
      ]
     },
     "execution_count": 113,
     "metadata": {},
     "output_type": "execute_result"
    }
   ],
   "source": [
    "obj.sort_index()"
   ]
  },
  {
   "cell_type": "markdown",
   "metadata": {},
   "source": [
    "When working with DataFrame we can specify the axis to sort:"
   ]
  },
  {
   "cell_type": "code",
   "execution_count": 114,
   "metadata": {},
   "outputs": [
    {
     "data": {
      "text/html": [
       "<div>\n",
       "<style scoped>\n",
       "    .dataframe tbody tr th:only-of-type {\n",
       "        vertical-align: middle;\n",
       "    }\n",
       "\n",
       "    .dataframe tbody tr th {\n",
       "        vertical-align: top;\n",
       "    }\n",
       "\n",
       "    .dataframe thead th {\n",
       "        text-align: right;\n",
       "    }\n",
       "</style>\n",
       "<table border=\"1\" class=\"dataframe\">\n",
       "  <thead>\n",
       "    <tr style=\"text-align: right;\">\n",
       "      <th></th>\n",
       "      <th>d</th>\n",
       "      <th>a</th>\n",
       "      <th>b</th>\n",
       "      <th>c</th>\n",
       "    </tr>\n",
       "  </thead>\n",
       "  <tbody>\n",
       "    <tr>\n",
       "      <th>one</th>\n",
       "      <td>0</td>\n",
       "      <td>1</td>\n",
       "      <td>2</td>\n",
       "      <td>3</td>\n",
       "    </tr>\n",
       "    <tr>\n",
       "      <th>three</th>\n",
       "      <td>4</td>\n",
       "      <td>5</td>\n",
       "      <td>6</td>\n",
       "      <td>7</td>\n",
       "    </tr>\n",
       "  </tbody>\n",
       "</table>\n",
       "</div>"
      ],
      "text/plain": [
       "       d  a  b  c\n",
       "one    0  1  2  3\n",
       "three  4  5  6  7"
      ]
     },
     "execution_count": 114,
     "metadata": {},
     "output_type": "execute_result"
    }
   ],
   "source": [
    "frame = DataFrame( np.arange(8).reshape((2,4)), index=['one','three'], columns=list('dabc') )\n",
    "frame"
   ]
  },
  {
   "cell_type": "code",
   "execution_count": 115,
   "metadata": {},
   "outputs": [
    {
     "data": {
      "text/html": [
       "<div>\n",
       "<style scoped>\n",
       "    .dataframe tbody tr th:only-of-type {\n",
       "        vertical-align: middle;\n",
       "    }\n",
       "\n",
       "    .dataframe tbody tr th {\n",
       "        vertical-align: top;\n",
       "    }\n",
       "\n",
       "    .dataframe thead th {\n",
       "        text-align: right;\n",
       "    }\n",
       "</style>\n",
       "<table border=\"1\" class=\"dataframe\">\n",
       "  <thead>\n",
       "    <tr style=\"text-align: right;\">\n",
       "      <th></th>\n",
       "      <th>d</th>\n",
       "      <th>a</th>\n",
       "      <th>b</th>\n",
       "      <th>c</th>\n",
       "    </tr>\n",
       "  </thead>\n",
       "  <tbody>\n",
       "    <tr>\n",
       "      <th>one</th>\n",
       "      <td>0</td>\n",
       "      <td>1</td>\n",
       "      <td>2</td>\n",
       "      <td>3</td>\n",
       "    </tr>\n",
       "    <tr>\n",
       "      <th>three</th>\n",
       "      <td>4</td>\n",
       "      <td>5</td>\n",
       "      <td>6</td>\n",
       "      <td>7</td>\n",
       "    </tr>\n",
       "  </tbody>\n",
       "</table>\n",
       "</div>"
      ],
      "text/plain": [
       "       d  a  b  c\n",
       "one    0  1  2  3\n",
       "three  4  5  6  7"
      ]
     },
     "execution_count": 115,
     "metadata": {},
     "output_type": "execute_result"
    }
   ],
   "source": [
    "frame.sort_index()"
   ]
  },
  {
   "cell_type": "code",
   "execution_count": 116,
   "metadata": {},
   "outputs": [
    {
     "data": {
      "text/html": [
       "<div>\n",
       "<style scoped>\n",
       "    .dataframe tbody tr th:only-of-type {\n",
       "        vertical-align: middle;\n",
       "    }\n",
       "\n",
       "    .dataframe tbody tr th {\n",
       "        vertical-align: top;\n",
       "    }\n",
       "\n",
       "    .dataframe thead th {\n",
       "        text-align: right;\n",
       "    }\n",
       "</style>\n",
       "<table border=\"1\" class=\"dataframe\">\n",
       "  <thead>\n",
       "    <tr style=\"text-align: right;\">\n",
       "      <th></th>\n",
       "      <th>a</th>\n",
       "      <th>b</th>\n",
       "      <th>c</th>\n",
       "      <th>d</th>\n",
       "    </tr>\n",
       "  </thead>\n",
       "  <tbody>\n",
       "    <tr>\n",
       "      <th>one</th>\n",
       "      <td>1</td>\n",
       "      <td>2</td>\n",
       "      <td>3</td>\n",
       "      <td>0</td>\n",
       "    </tr>\n",
       "    <tr>\n",
       "      <th>three</th>\n",
       "      <td>5</td>\n",
       "      <td>6</td>\n",
       "      <td>7</td>\n",
       "      <td>4</td>\n",
       "    </tr>\n",
       "  </tbody>\n",
       "</table>\n",
       "</div>"
      ],
      "text/plain": [
       "       a  b  c  d\n",
       "one    1  2  3  0\n",
       "three  5  6  7  4"
      ]
     },
     "execution_count": 116,
     "metadata": {},
     "output_type": "execute_result"
    }
   ],
   "source": [
    "frame.sort_index(axis=1)"
   ]
  },
  {
   "cell_type": "markdown",
   "metadata": {},
   "source": [
    "Ascending order is used by default, but this behavior can be changed through the $ascending$ parameter:"
   ]
  },
  {
   "cell_type": "code",
   "execution_count": 117,
   "metadata": {},
   "outputs": [
    {
     "data": {
      "text/html": [
       "<div>\n",
       "<style scoped>\n",
       "    .dataframe tbody tr th:only-of-type {\n",
       "        vertical-align: middle;\n",
       "    }\n",
       "\n",
       "    .dataframe tbody tr th {\n",
       "        vertical-align: top;\n",
       "    }\n",
       "\n",
       "    .dataframe thead th {\n",
       "        text-align: right;\n",
       "    }\n",
       "</style>\n",
       "<table border=\"1\" class=\"dataframe\">\n",
       "  <thead>\n",
       "    <tr style=\"text-align: right;\">\n",
       "      <th></th>\n",
       "      <th>d</th>\n",
       "      <th>c</th>\n",
       "      <th>b</th>\n",
       "      <th>a</th>\n",
       "    </tr>\n",
       "  </thead>\n",
       "  <tbody>\n",
       "    <tr>\n",
       "      <th>one</th>\n",
       "      <td>0</td>\n",
       "      <td>3</td>\n",
       "      <td>2</td>\n",
       "      <td>1</td>\n",
       "    </tr>\n",
       "    <tr>\n",
       "      <th>three</th>\n",
       "      <td>4</td>\n",
       "      <td>7</td>\n",
       "      <td>6</td>\n",
       "      <td>5</td>\n",
       "    </tr>\n",
       "  </tbody>\n",
       "</table>\n",
       "</div>"
      ],
      "text/plain": [
       "       d  c  b  a\n",
       "one    0  3  2  1\n",
       "three  4  7  6  5"
      ]
     },
     "execution_count": 117,
     "metadata": {},
     "output_type": "execute_result"
    }
   ],
   "source": [
    "frame.sort_index( axis=1, ascending=False )"
   ]
  },
  {
   "cell_type": "markdown",
   "metadata": {},
   "source": [
    "To sort by data values, sort_values() is used:"
   ]
  },
  {
   "cell_type": "code",
   "execution_count": 118,
   "metadata": {},
   "outputs": [
    {
     "data": {
      "text/plain": [
       "0    4\n",
       "1    7\n",
       "2   -3\n",
       "3   -2\n",
       "dtype: int64"
      ]
     },
     "execution_count": 118,
     "metadata": {},
     "output_type": "execute_result"
    }
   ],
   "source": [
    "obj = Series( [4, 7, -3, -2 ] )\n",
    "obj"
   ]
  },
  {
   "cell_type": "code",
   "execution_count": 119,
   "metadata": {},
   "outputs": [
    {
     "data": {
      "text/plain": [
       "2   -3\n",
       "3   -2\n",
       "0    4\n",
       "1    7\n",
       "dtype: int64"
      ]
     },
     "execution_count": 119,
     "metadata": {},
     "output_type": "execute_result"
    }
   ],
   "source": [
    "obj.sort_values()"
   ]
  },
  {
   "cell_type": "markdown",
   "metadata": {},
   "source": [
    "Unknown values are placed at the end:"
   ]
  },
  {
   "cell_type": "code",
   "execution_count": 120,
   "metadata": {},
   "outputs": [
    {
     "data": {
      "text/plain": [
       "0    4.0\n",
       "1    NaN\n",
       "2    7.0\n",
       "3    NaN\n",
       "4   -3.0\n",
       "5    2.0\n",
       "dtype: float64"
      ]
     },
     "execution_count": 120,
     "metadata": {},
     "output_type": "execute_result"
    }
   ],
   "source": [
    "obj = Series( [4, np.nan, 7, np.nan, -3, 2] )\n",
    "obj"
   ]
  },
  {
   "cell_type": "code",
   "execution_count": 121,
   "metadata": {},
   "outputs": [
    {
     "data": {
      "text/plain": [
       "4   -3.0\n",
       "5    2.0\n",
       "0    4.0\n",
       "2    7.0\n",
       "1    NaN\n",
       "3    NaN\n",
       "dtype: float64"
      ]
     },
     "execution_count": 121,
     "metadata": {},
     "output_type": "execute_result"
    }
   ],
   "source": [
    "obj.sort_values()"
   ]
  },
  {
   "cell_type": "markdown",
   "metadata": {},
   "source": [
    "Working with DataFrame, we need to choose the column or set of columns that contain the values to sort. This can be done using the $by$ parameter of sort_values():"
   ]
  },
  {
   "cell_type": "code",
   "execution_count": 122,
   "metadata": {},
   "outputs": [
    {
     "data": {
      "text/html": [
       "<div>\n",
       "<style scoped>\n",
       "    .dataframe tbody tr th:only-of-type {\n",
       "        vertical-align: middle;\n",
       "    }\n",
       "\n",
       "    .dataframe tbody tr th {\n",
       "        vertical-align: top;\n",
       "    }\n",
       "\n",
       "    .dataframe thead th {\n",
       "        text-align: right;\n",
       "    }\n",
       "</style>\n",
       "<table border=\"1\" class=\"dataframe\">\n",
       "  <thead>\n",
       "    <tr style=\"text-align: right;\">\n",
       "      <th></th>\n",
       "      <th>b</th>\n",
       "      <th>a</th>\n",
       "    </tr>\n",
       "  </thead>\n",
       "  <tbody>\n",
       "    <tr>\n",
       "      <th>0</th>\n",
       "      <td>4</td>\n",
       "      <td>0</td>\n",
       "    </tr>\n",
       "    <tr>\n",
       "      <th>1</th>\n",
       "      <td>7</td>\n",
       "      <td>1</td>\n",
       "    </tr>\n",
       "    <tr>\n",
       "      <th>2</th>\n",
       "      <td>-3</td>\n",
       "      <td>0</td>\n",
       "    </tr>\n",
       "    <tr>\n",
       "      <th>3</th>\n",
       "      <td>2</td>\n",
       "      <td>1</td>\n",
       "    </tr>\n",
       "  </tbody>\n",
       "</table>\n",
       "</div>"
      ],
      "text/plain": [
       "   b  a\n",
       "0  4  0\n",
       "1  7  1\n",
       "2 -3  0\n",
       "3  2  1"
      ]
     },
     "execution_count": 122,
     "metadata": {},
     "output_type": "execute_result"
    }
   ],
   "source": [
    "frame = DataFrame( {'b': [4, 7, -3, 2], 'a': [0, 1, 0, 1]} )\n",
    "frame"
   ]
  },
  {
   "cell_type": "code",
   "execution_count": 123,
   "metadata": {},
   "outputs": [
    {
     "data": {
      "text/html": [
       "<div>\n",
       "<style scoped>\n",
       "    .dataframe tbody tr th:only-of-type {\n",
       "        vertical-align: middle;\n",
       "    }\n",
       "\n",
       "    .dataframe tbody tr th {\n",
       "        vertical-align: top;\n",
       "    }\n",
       "\n",
       "    .dataframe thead th {\n",
       "        text-align: right;\n",
       "    }\n",
       "</style>\n",
       "<table border=\"1\" class=\"dataframe\">\n",
       "  <thead>\n",
       "    <tr style=\"text-align: right;\">\n",
       "      <th></th>\n",
       "      <th>b</th>\n",
       "      <th>a</th>\n",
       "    </tr>\n",
       "  </thead>\n",
       "  <tbody>\n",
       "    <tr>\n",
       "      <th>0</th>\n",
       "      <td>4</td>\n",
       "      <td>0</td>\n",
       "    </tr>\n",
       "    <tr>\n",
       "      <th>2</th>\n",
       "      <td>-3</td>\n",
       "      <td>0</td>\n",
       "    </tr>\n",
       "    <tr>\n",
       "      <th>1</th>\n",
       "      <td>7</td>\n",
       "      <td>1</td>\n",
       "    </tr>\n",
       "    <tr>\n",
       "      <th>3</th>\n",
       "      <td>2</td>\n",
       "      <td>1</td>\n",
       "    </tr>\n",
       "  </tbody>\n",
       "</table>\n",
       "</div>"
      ],
      "text/plain": [
       "   b  a\n",
       "0  4  0\n",
       "2 -3  0\n",
       "1  7  1\n",
       "3  2  1"
      ]
     },
     "execution_count": 123,
     "metadata": {},
     "output_type": "execute_result"
    }
   ],
   "source": [
    "frame.sort_values( by='a' )"
   ]
  },
  {
   "cell_type": "code",
   "execution_count": 124,
   "metadata": {},
   "outputs": [
    {
     "data": {
      "text/html": [
       "<div>\n",
       "<style scoped>\n",
       "    .dataframe tbody tr th:only-of-type {\n",
       "        vertical-align: middle;\n",
       "    }\n",
       "\n",
       "    .dataframe tbody tr th {\n",
       "        vertical-align: top;\n",
       "    }\n",
       "\n",
       "    .dataframe thead th {\n",
       "        text-align: right;\n",
       "    }\n",
       "</style>\n",
       "<table border=\"1\" class=\"dataframe\">\n",
       "  <thead>\n",
       "    <tr style=\"text-align: right;\">\n",
       "      <th></th>\n",
       "      <th>b</th>\n",
       "      <th>a</th>\n",
       "    </tr>\n",
       "  </thead>\n",
       "  <tbody>\n",
       "    <tr>\n",
       "      <th>2</th>\n",
       "      <td>-3</td>\n",
       "      <td>0</td>\n",
       "    </tr>\n",
       "    <tr>\n",
       "      <th>3</th>\n",
       "      <td>2</td>\n",
       "      <td>1</td>\n",
       "    </tr>\n",
       "    <tr>\n",
       "      <th>0</th>\n",
       "      <td>4</td>\n",
       "      <td>0</td>\n",
       "    </tr>\n",
       "    <tr>\n",
       "      <th>1</th>\n",
       "      <td>7</td>\n",
       "      <td>1</td>\n",
       "    </tr>\n",
       "  </tbody>\n",
       "</table>\n",
       "</div>"
      ],
      "text/plain": [
       "   b  a\n",
       "2 -3  0\n",
       "3  2  1\n",
       "0  4  0\n",
       "1  7  1"
      ]
     },
     "execution_count": 124,
     "metadata": {},
     "output_type": "execute_result"
    }
   ],
   "source": [
    "frame.sort_values( by='b' )"
   ]
  },
  {
   "cell_type": "code",
   "execution_count": 125,
   "metadata": {},
   "outputs": [
    {
     "data": {
      "text/html": [
       "<div>\n",
       "<style scoped>\n",
       "    .dataframe tbody tr th:only-of-type {\n",
       "        vertical-align: middle;\n",
       "    }\n",
       "\n",
       "    .dataframe tbody tr th {\n",
       "        vertical-align: top;\n",
       "    }\n",
       "\n",
       "    .dataframe thead th {\n",
       "        text-align: right;\n",
       "    }\n",
       "</style>\n",
       "<table border=\"1\" class=\"dataframe\">\n",
       "  <thead>\n",
       "    <tr style=\"text-align: right;\">\n",
       "      <th></th>\n",
       "      <th>b</th>\n",
       "      <th>a</th>\n",
       "    </tr>\n",
       "  </thead>\n",
       "  <tbody>\n",
       "    <tr>\n",
       "      <th>2</th>\n",
       "      <td>-3</td>\n",
       "      <td>0</td>\n",
       "    </tr>\n",
       "    <tr>\n",
       "      <th>0</th>\n",
       "      <td>4</td>\n",
       "      <td>0</td>\n",
       "    </tr>\n",
       "    <tr>\n",
       "      <th>3</th>\n",
       "      <td>2</td>\n",
       "      <td>1</td>\n",
       "    </tr>\n",
       "    <tr>\n",
       "      <th>1</th>\n",
       "      <td>7</td>\n",
       "      <td>1</td>\n",
       "    </tr>\n",
       "  </tbody>\n",
       "</table>\n",
       "</div>"
      ],
      "text/plain": [
       "   b  a\n",
       "2 -3  0\n",
       "0  4  0\n",
       "3  2  1\n",
       "1  7  1"
      ]
     },
     "execution_count": 125,
     "metadata": {},
     "output_type": "execute_result"
    }
   ],
   "source": [
    "frame.sort_values( by=['a','b'] )"
   ]
  },
  {
   "cell_type": "markdown",
   "metadata": {},
   "source": [
    "Ranking is related to sorting. It is the assignment of numerical values, from 1 to N, to each data point in the object. Series and DataFrame provide a rank() method implementing this operation. By default, ties are broken by assigning the mean value to each group:"
   ]
  },
  {
   "cell_type": "code",
   "execution_count": 126,
   "metadata": {},
   "outputs": [
    {
     "data": {
      "text/plain": [
       "0    7\n",
       "1   -5\n",
       "2    7\n",
       "3    4\n",
       "4    2\n",
       "5    0\n",
       "6    4\n",
       "dtype: int64"
      ]
     },
     "execution_count": 126,
     "metadata": {},
     "output_type": "execute_result"
    }
   ],
   "source": [
    "obj = Series( [7, -5, 7, 4, 2, 0, 4] )\n",
    "obj"
   ]
  },
  {
   "cell_type": "code",
   "execution_count": 127,
   "metadata": {},
   "outputs": [
    {
     "data": {
      "text/plain": [
       "0    6.5\n",
       "1    1.0\n",
       "2    6.5\n",
       "3    4.5\n",
       "4    3.0\n",
       "5    2.0\n",
       "6    4.5\n",
       "dtype: float64"
      ]
     },
     "execution_count": 127,
     "metadata": {},
     "output_type": "execute_result"
    }
   ],
   "source": [
    "obj.rank()"
   ]
  },
  {
   "cell_type": "markdown",
   "metadata": {},
   "source": [
    "A new Series is returned sharing its index with the original one, but with values corresponding to the position each index would be placed on in a sorted version of the Series.\n",
    "\n",
    "Ties can also be broken by making values observed first have a lower rank:"
   ]
  },
  {
   "cell_type": "code",
   "execution_count": 128,
   "metadata": {},
   "outputs": [
    {
     "data": {
      "text/plain": [
       "0    6.0\n",
       "1    1.0\n",
       "2    7.0\n",
       "3    4.0\n",
       "4    3.0\n",
       "5    2.0\n",
       "6    5.0\n",
       "dtype: float64"
      ]
     },
     "execution_count": 128,
     "metadata": {},
     "output_type": "execute_result"
    }
   ],
   "source": [
    "obj.rank( method='first' )"
   ]
  },
  {
   "cell_type": "markdown",
   "metadata": {},
   "source": [
    "We can rank in descending order:"
   ]
  },
  {
   "cell_type": "code",
   "execution_count": 129,
   "metadata": {},
   "outputs": [
    {
     "data": {
      "text/plain": [
       "0    2.0\n",
       "1    7.0\n",
       "2    2.0\n",
       "3    4.0\n",
       "4    5.0\n",
       "5    6.0\n",
       "6    4.0\n",
       "dtype: float64"
      ]
     },
     "execution_count": 129,
     "metadata": {},
     "output_type": "execute_result"
    }
   ],
   "source": [
    "obj.rank( ascending=False, method=\"max\" )"
   ]
  },
  {
   "cell_type": "markdown",
   "metadata": {},
   "source": [
    "Working with DataFrame we can rank on rows or columns:"
   ]
  },
  {
   "cell_type": "code",
   "execution_count": 130,
   "metadata": {},
   "outputs": [
    {
     "data": {
      "text/html": [
       "<div>\n",
       "<style scoped>\n",
       "    .dataframe tbody tr th:only-of-type {\n",
       "        vertical-align: middle;\n",
       "    }\n",
       "\n",
       "    .dataframe tbody tr th {\n",
       "        vertical-align: top;\n",
       "    }\n",
       "\n",
       "    .dataframe thead th {\n",
       "        text-align: right;\n",
       "    }\n",
       "</style>\n",
       "<table border=\"1\" class=\"dataframe\">\n",
       "  <thead>\n",
       "    <tr style=\"text-align: right;\">\n",
       "      <th></th>\n",
       "      <th>b</th>\n",
       "      <th>a</th>\n",
       "      <th>c</th>\n",
       "    </tr>\n",
       "  </thead>\n",
       "  <tbody>\n",
       "    <tr>\n",
       "      <th>0</th>\n",
       "      <td>4.3</td>\n",
       "      <td>0</td>\n",
       "      <td>-2.0</td>\n",
       "    </tr>\n",
       "    <tr>\n",
       "      <th>1</th>\n",
       "      <td>7.0</td>\n",
       "      <td>1</td>\n",
       "      <td>5.0</td>\n",
       "    </tr>\n",
       "    <tr>\n",
       "      <th>2</th>\n",
       "      <td>-3.0</td>\n",
       "      <td>0</td>\n",
       "      <td>8.0</td>\n",
       "    </tr>\n",
       "    <tr>\n",
       "      <th>3</th>\n",
       "      <td>2.0</td>\n",
       "      <td>1</td>\n",
       "      <td>-2.5</td>\n",
       "    </tr>\n",
       "  </tbody>\n",
       "</table>\n",
       "</div>"
      ],
      "text/plain": [
       "     b  a    c\n",
       "0  4.3  0 -2.0\n",
       "1  7.0  1  5.0\n",
       "2 -3.0  0  8.0\n",
       "3  2.0  1 -2.5"
      ]
     },
     "execution_count": 130,
     "metadata": {},
     "output_type": "execute_result"
    }
   ],
   "source": [
    "frame = DataFrame( {'b': [4.3, 7, -3, 2], 'a': [0, 1, 0, 1], 'c': [-2, 5, 8, -2.5]} )\n",
    "frame"
   ]
  },
  {
   "cell_type": "code",
   "execution_count": 131,
   "metadata": {},
   "outputs": [
    {
     "data": {
      "text/html": [
       "<div>\n",
       "<style scoped>\n",
       "    .dataframe tbody tr th:only-of-type {\n",
       "        vertical-align: middle;\n",
       "    }\n",
       "\n",
       "    .dataframe tbody tr th {\n",
       "        vertical-align: top;\n",
       "    }\n",
       "\n",
       "    .dataframe thead th {\n",
       "        text-align: right;\n",
       "    }\n",
       "</style>\n",
       "<table border=\"1\" class=\"dataframe\">\n",
       "  <thead>\n",
       "    <tr style=\"text-align: right;\">\n",
       "      <th></th>\n",
       "      <th>b</th>\n",
       "      <th>a</th>\n",
       "      <th>c</th>\n",
       "    </tr>\n",
       "  </thead>\n",
       "  <tbody>\n",
       "    <tr>\n",
       "      <th>0</th>\n",
       "      <td>3.0</td>\n",
       "      <td>1.5</td>\n",
       "      <td>2.0</td>\n",
       "    </tr>\n",
       "    <tr>\n",
       "      <th>1</th>\n",
       "      <td>4.0</td>\n",
       "      <td>3.5</td>\n",
       "      <td>3.0</td>\n",
       "    </tr>\n",
       "    <tr>\n",
       "      <th>2</th>\n",
       "      <td>1.0</td>\n",
       "      <td>1.5</td>\n",
       "      <td>4.0</td>\n",
       "    </tr>\n",
       "    <tr>\n",
       "      <th>3</th>\n",
       "      <td>2.0</td>\n",
       "      <td>3.5</td>\n",
       "      <td>1.0</td>\n",
       "    </tr>\n",
       "  </tbody>\n",
       "</table>\n",
       "</div>"
      ],
      "text/plain": [
       "     b    a    c\n",
       "0  3.0  1.5  2.0\n",
       "1  4.0  3.5  3.0\n",
       "2  1.0  1.5  4.0\n",
       "3  2.0  3.5  1.0"
      ]
     },
     "execution_count": 131,
     "metadata": {},
     "output_type": "execute_result"
    }
   ],
   "source": [
    "frame.rank()"
   ]
  },
  {
   "cell_type": "code",
   "execution_count": 132,
   "metadata": {},
   "outputs": [
    {
     "data": {
      "text/html": [
       "<div>\n",
       "<style scoped>\n",
       "    .dataframe tbody tr th:only-of-type {\n",
       "        vertical-align: middle;\n",
       "    }\n",
       "\n",
       "    .dataframe tbody tr th {\n",
       "        vertical-align: top;\n",
       "    }\n",
       "\n",
       "    .dataframe thead th {\n",
       "        text-align: right;\n",
       "    }\n",
       "</style>\n",
       "<table border=\"1\" class=\"dataframe\">\n",
       "  <thead>\n",
       "    <tr style=\"text-align: right;\">\n",
       "      <th></th>\n",
       "      <th>b</th>\n",
       "      <th>a</th>\n",
       "      <th>c</th>\n",
       "    </tr>\n",
       "  </thead>\n",
       "  <tbody>\n",
       "    <tr>\n",
       "      <th>0</th>\n",
       "      <td>3.0</td>\n",
       "      <td>2.0</td>\n",
       "      <td>1.0</td>\n",
       "    </tr>\n",
       "    <tr>\n",
       "      <th>1</th>\n",
       "      <td>3.0</td>\n",
       "      <td>1.0</td>\n",
       "      <td>2.0</td>\n",
       "    </tr>\n",
       "    <tr>\n",
       "      <th>2</th>\n",
       "      <td>1.0</td>\n",
       "      <td>2.0</td>\n",
       "      <td>3.0</td>\n",
       "    </tr>\n",
       "    <tr>\n",
       "      <th>3</th>\n",
       "      <td>3.0</td>\n",
       "      <td>2.0</td>\n",
       "      <td>1.0</td>\n",
       "    </tr>\n",
       "  </tbody>\n",
       "</table>\n",
       "</div>"
      ],
      "text/plain": [
       "     b    a    c\n",
       "0  3.0  2.0  1.0\n",
       "1  3.0  1.0  2.0\n",
       "2  1.0  2.0  3.0\n",
       "3  3.0  2.0  1.0"
      ]
     },
     "execution_count": 132,
     "metadata": {},
     "output_type": "execute_result"
    }
   ],
   "source": [
    "frame.rank(axis=1)"
   ]
  },
  {
   "cell_type": "markdown",
   "metadata": {},
   "source": [
    "### Indices with duplicated values"
   ]
  },
  {
   "cell_type": "markdown",
   "metadata": {},
   "source": [
    "In all the previous examples, indices have always had unique values. Many Pandas functions (such as reindex()) require that this is the case, but it is not compulsory in the general case. Let us consider the following example:"
   ]
  },
  {
   "cell_type": "code",
   "execution_count": 133,
   "metadata": {},
   "outputs": [
    {
     "data": {
      "text/plain": [
       "a    0\n",
       "a    1\n",
       "b    2\n",
       "b    3\n",
       "c    4\n",
       "dtype: int64"
      ]
     },
     "execution_count": 133,
     "metadata": {},
     "output_type": "execute_result"
    }
   ],
   "source": [
    "obj = Series( range(5), index=list('aabbc') )\n",
    "obj"
   ]
  },
  {
   "cell_type": "code",
   "execution_count": 134,
   "metadata": {},
   "outputs": [
    {
     "data": {
      "text/plain": [
       "False"
      ]
     },
     "execution_count": 134,
     "metadata": {},
     "output_type": "execute_result"
    }
   ],
   "source": [
    "obj.index.is_unique"
   ]
  },
  {
   "cell_type": "markdown",
   "metadata": {},
   "source": [
    "Selecting data is one of the main differences when working with duplicate indices, as a Series is returned, instead of a scalar value:"
   ]
  },
  {
   "cell_type": "code",
   "execution_count": 135,
   "metadata": {},
   "outputs": [
    {
     "data": {
      "text/plain": [
       "a    0\n",
       "a    1\n",
       "dtype: int64"
      ]
     },
     "execution_count": 135,
     "metadata": {},
     "output_type": "execute_result"
    }
   ],
   "source": [
    "obj['a']"
   ]
  },
  {
   "cell_type": "code",
   "execution_count": 136,
   "metadata": {},
   "outputs": [
    {
     "data": {
      "text/plain": [
       "4"
      ]
     },
     "execution_count": 136,
     "metadata": {},
     "output_type": "execute_result"
    }
   ],
   "source": [
    "obj['c']"
   ]
  },
  {
   "cell_type": "markdown",
   "metadata": {},
   "source": [
    "The same logic applies to DataFrame:"
   ]
  },
  {
   "cell_type": "code",
   "execution_count": 137,
   "metadata": {},
   "outputs": [
    {
     "data": {
      "text/html": [
       "<div>\n",
       "<style scoped>\n",
       "    .dataframe tbody tr th:only-of-type {\n",
       "        vertical-align: middle;\n",
       "    }\n",
       "\n",
       "    .dataframe tbody tr th {\n",
       "        vertical-align: top;\n",
       "    }\n",
       "\n",
       "    .dataframe thead th {\n",
       "        text-align: right;\n",
       "    }\n",
       "</style>\n",
       "<table border=\"1\" class=\"dataframe\">\n",
       "  <thead>\n",
       "    <tr style=\"text-align: right;\">\n",
       "      <th></th>\n",
       "      <th>0</th>\n",
       "      <th>1</th>\n",
       "      <th>2</th>\n",
       "    </tr>\n",
       "  </thead>\n",
       "  <tbody>\n",
       "    <tr>\n",
       "      <th>a</th>\n",
       "      <td>-0.174431</td>\n",
       "      <td>-0.403840</td>\n",
       "      <td>0.526421</td>\n",
       "    </tr>\n",
       "    <tr>\n",
       "      <th>a</th>\n",
       "      <td>-0.582957</td>\n",
       "      <td>-0.119994</td>\n",
       "      <td>-0.718873</td>\n",
       "    </tr>\n",
       "    <tr>\n",
       "      <th>b</th>\n",
       "      <td>-0.883303</td>\n",
       "      <td>0.024816</td>\n",
       "      <td>-0.571058</td>\n",
       "    </tr>\n",
       "    <tr>\n",
       "      <th>b</th>\n",
       "      <td>2.617552</td>\n",
       "      <td>1.460085</td>\n",
       "      <td>-2.681335</td>\n",
       "    </tr>\n",
       "  </tbody>\n",
       "</table>\n",
       "</div>"
      ],
      "text/plain": [
       "          0         1         2\n",
       "a -0.174431 -0.403840  0.526421\n",
       "a -0.582957 -0.119994 -0.718873\n",
       "b -0.883303  0.024816 -0.571058\n",
       "b  2.617552  1.460085 -2.681335"
      ]
     },
     "execution_count": 137,
     "metadata": {},
     "output_type": "execute_result"
    }
   ],
   "source": [
    "df = DataFrame( np.random.randn( 4, 3 ), index=['a', 'a', 'b', 'b'] )\n",
    "df"
   ]
  },
  {
   "cell_type": "code",
   "execution_count": 138,
   "metadata": {},
   "outputs": [
    {
     "data": {
      "text/html": [
       "<div>\n",
       "<style scoped>\n",
       "    .dataframe tbody tr th:only-of-type {\n",
       "        vertical-align: middle;\n",
       "    }\n",
       "\n",
       "    .dataframe tbody tr th {\n",
       "        vertical-align: top;\n",
       "    }\n",
       "\n",
       "    .dataframe thead th {\n",
       "        text-align: right;\n",
       "    }\n",
       "</style>\n",
       "<table border=\"1\" class=\"dataframe\">\n",
       "  <thead>\n",
       "    <tr style=\"text-align: right;\">\n",
       "      <th></th>\n",
       "      <th>0</th>\n",
       "      <th>1</th>\n",
       "      <th>2</th>\n",
       "    </tr>\n",
       "  </thead>\n",
       "  <tbody>\n",
       "    <tr>\n",
       "      <th>b</th>\n",
       "      <td>-0.883303</td>\n",
       "      <td>0.024816</td>\n",
       "      <td>-0.571058</td>\n",
       "    </tr>\n",
       "    <tr>\n",
       "      <th>b</th>\n",
       "      <td>2.617552</td>\n",
       "      <td>1.460085</td>\n",
       "      <td>-2.681335</td>\n",
       "    </tr>\n",
       "  </tbody>\n",
       "</table>\n",
       "</div>"
      ],
      "text/plain": [
       "          0         1         2\n",
       "b -0.883303  0.024816 -0.571058\n",
       "b  2.617552  1.460085 -2.681335"
      ]
     },
     "execution_count": 138,
     "metadata": {},
     "output_type": "execute_result"
    }
   ],
   "source": [
    "df.loc['b']"
   ]
  },
  {
   "cell_type": "markdown",
   "metadata": {},
   "source": [
    "## Descriptive statistics"
   ]
  },
  {
   "cell_type": "markdown",
   "metadata": {},
   "source": [
    "We have already seen how reduction functions work in Pandas:"
   ]
  },
  {
   "cell_type": "code",
   "execution_count": 139,
   "metadata": {},
   "outputs": [
    {
     "data": {
      "text/html": [
       "<div>\n",
       "<style scoped>\n",
       "    .dataframe tbody tr th:only-of-type {\n",
       "        vertical-align: middle;\n",
       "    }\n",
       "\n",
       "    .dataframe tbody tr th {\n",
       "        vertical-align: top;\n",
       "    }\n",
       "\n",
       "    .dataframe thead th {\n",
       "        text-align: right;\n",
       "    }\n",
       "</style>\n",
       "<table border=\"1\" class=\"dataframe\">\n",
       "  <thead>\n",
       "    <tr style=\"text-align: right;\">\n",
       "      <th></th>\n",
       "      <th>one</th>\n",
       "      <th>two</th>\n",
       "    </tr>\n",
       "  </thead>\n",
       "  <tbody>\n",
       "    <tr>\n",
       "      <th>a</th>\n",
       "      <td>1.40</td>\n",
       "      <td>NaN</td>\n",
       "    </tr>\n",
       "    <tr>\n",
       "      <th>b</th>\n",
       "      <td>7.10</td>\n",
       "      <td>-4.5</td>\n",
       "    </tr>\n",
       "    <tr>\n",
       "      <th>c</th>\n",
       "      <td>NaN</td>\n",
       "      <td>NaN</td>\n",
       "    </tr>\n",
       "    <tr>\n",
       "      <th>d</th>\n",
       "      <td>0.75</td>\n",
       "      <td>-1.3</td>\n",
       "    </tr>\n",
       "  </tbody>\n",
       "</table>\n",
       "</div>"
      ],
      "text/plain": [
       "    one  two\n",
       "a  1.40  NaN\n",
       "b  7.10 -4.5\n",
       "c   NaN  NaN\n",
       "d  0.75 -1.3"
      ]
     },
     "execution_count": 139,
     "metadata": {},
     "output_type": "execute_result"
    }
   ],
   "source": [
    "df = DataFrame( [[1.4, np.nan], [7.1, -4.5], [np.nan, np.nan], [0.75, -1.3]], index=['a', 'b', 'c', 'd'], \n",
    "                columns=['one', 'two'] )\n",
    "df"
   ]
  },
  {
   "cell_type": "code",
   "execution_count": 140,
   "metadata": {},
   "outputs": [
    {
     "data": {
      "text/plain": [
       "one    9.25\n",
       "two   -5.80\n",
       "dtype: float64"
      ]
     },
     "execution_count": 140,
     "metadata": {},
     "output_type": "execute_result"
    }
   ],
   "source": [
    "df.sum()"
   ]
  },
  {
   "cell_type": "markdown",
   "metadata": {},
   "source": [
    "The $axis$ parameter specifies which axis to reduce over:"
   ]
  },
  {
   "cell_type": "code",
   "execution_count": 141,
   "metadata": {},
   "outputs": [
    {
     "data": {
      "text/plain": [
       "a    1.40\n",
       "b    2.60\n",
       "c    0.00\n",
       "d   -0.55\n",
       "dtype: float64"
      ]
     },
     "execution_count": 141,
     "metadata": {},
     "output_type": "execute_result"
    }
   ],
   "source": [
    "df.sum( axis=1 )"
   ]
  },
  {
   "cell_type": "markdown",
   "metadata": {},
   "source": [
    "These functions ignore unknown values by default, except if the entire row/column consists of unknown values. This behavior can be deactivated using the $skipna$ parameter:"
   ]
  },
  {
   "cell_type": "code",
   "execution_count": 142,
   "metadata": {},
   "outputs": [
    {
     "data": {
      "text/plain": [
       "a      NaN\n",
       "b    1.300\n",
       "c      NaN\n",
       "d   -0.275\n",
       "dtype: float64"
      ]
     },
     "execution_count": 142,
     "metadata": {},
     "output_type": "execute_result"
    }
   ],
   "source": [
    "df.mean( axis=1, skipna=False )"
   ]
  },
  {
   "cell_type": "markdown",
   "metadata": {},
   "source": [
    "Some methods return indirect descriptive values, such as idxmin() and idxmax(), which return the index at which the minimum and maximum values are located, respectively:"
   ]
  },
  {
   "cell_type": "code",
   "execution_count": 143,
   "metadata": {},
   "outputs": [
    {
     "data": {
      "text/plain": [
       "one    d\n",
       "two    b\n",
       "dtype: object"
      ]
     },
     "execution_count": 143,
     "metadata": {},
     "output_type": "execute_result"
    }
   ],
   "source": [
    "df.idxmin()"
   ]
  },
  {
   "cell_type": "code",
   "execution_count": 144,
   "metadata": {},
   "outputs": [
    {
     "data": {
      "text/plain": [
       "one    b\n",
       "two    d\n",
       "dtype: object"
      ]
     },
     "execution_count": 144,
     "metadata": {},
     "output_type": "execute_result"
    }
   ],
   "source": [
    "df.idxmax()"
   ]
  },
  {
   "cell_type": "markdown",
   "metadata": {},
   "source": [
    "Other methods do not implement reductions, but a set of descriptive values:"
   ]
  },
  {
   "cell_type": "code",
   "execution_count": 145,
   "metadata": {},
   "outputs": [
    {
     "data": {
      "text/html": [
       "<div>\n",
       "<style scoped>\n",
       "    .dataframe tbody tr th:only-of-type {\n",
       "        vertical-align: middle;\n",
       "    }\n",
       "\n",
       "    .dataframe tbody tr th {\n",
       "        vertical-align: top;\n",
       "    }\n",
       "\n",
       "    .dataframe thead th {\n",
       "        text-align: right;\n",
       "    }\n",
       "</style>\n",
       "<table border=\"1\" class=\"dataframe\">\n",
       "  <thead>\n",
       "    <tr style=\"text-align: right;\">\n",
       "      <th></th>\n",
       "      <th>one</th>\n",
       "      <th>two</th>\n",
       "    </tr>\n",
       "  </thead>\n",
       "  <tbody>\n",
       "    <tr>\n",
       "      <th>count</th>\n",
       "      <td>3.000000</td>\n",
       "      <td>2.000000</td>\n",
       "    </tr>\n",
       "    <tr>\n",
       "      <th>mean</th>\n",
       "      <td>3.083333</td>\n",
       "      <td>-2.900000</td>\n",
       "    </tr>\n",
       "    <tr>\n",
       "      <th>std</th>\n",
       "      <td>3.493685</td>\n",
       "      <td>2.262742</td>\n",
       "    </tr>\n",
       "    <tr>\n",
       "      <th>min</th>\n",
       "      <td>0.750000</td>\n",
       "      <td>-4.500000</td>\n",
       "    </tr>\n",
       "    <tr>\n",
       "      <th>25%</th>\n",
       "      <td>1.075000</td>\n",
       "      <td>-3.700000</td>\n",
       "    </tr>\n",
       "    <tr>\n",
       "      <th>50%</th>\n",
       "      <td>1.400000</td>\n",
       "      <td>-2.900000</td>\n",
       "    </tr>\n",
       "    <tr>\n",
       "      <th>75%</th>\n",
       "      <td>4.250000</td>\n",
       "      <td>-2.100000</td>\n",
       "    </tr>\n",
       "    <tr>\n",
       "      <th>max</th>\n",
       "      <td>7.100000</td>\n",
       "      <td>-1.300000</td>\n",
       "    </tr>\n",
       "  </tbody>\n",
       "</table>\n",
       "</div>"
      ],
      "text/plain": [
       "            one       two\n",
       "count  3.000000  2.000000\n",
       "mean   3.083333 -2.900000\n",
       "std    3.493685  2.262742\n",
       "min    0.750000 -4.500000\n",
       "25%    1.075000 -3.700000\n",
       "50%    1.400000 -2.900000\n",
       "75%    4.250000 -2.100000\n",
       "max    7.100000 -1.300000"
      ]
     },
     "execution_count": 145,
     "metadata": {},
     "output_type": "execute_result"
    }
   ],
   "source": [
    "df.describe()"
   ]
  },
  {
   "cell_type": "markdown",
   "metadata": {},
   "source": [
    "Used on non-numerical data, describe() provides relevant descriptive statistics:"
   ]
  },
  {
   "cell_type": "code",
   "execution_count": 146,
   "metadata": {},
   "outputs": [
    {
     "data": {
      "text/plain": [
       "0     a\n",
       "1     a\n",
       "2     b\n",
       "3     c\n",
       "4     a\n",
       "5     a\n",
       "6     b\n",
       "7     c\n",
       "8     a\n",
       "9     a\n",
       "10    b\n",
       "11    c\n",
       "12    a\n",
       "13    a\n",
       "14    b\n",
       "15    c\n",
       "dtype: object"
      ]
     },
     "execution_count": 146,
     "metadata": {},
     "output_type": "execute_result"
    }
   ],
   "source": [
    "obj = Series( ['a', 'a', 'b', 'c'] *4 )\n",
    "obj"
   ]
  },
  {
   "cell_type": "code",
   "execution_count": 147,
   "metadata": {},
   "outputs": [
    {
     "data": {
      "text/plain": [
       "count     16\n",
       "unique     3\n",
       "top        a\n",
       "freq       8\n",
       "dtype: object"
      ]
     },
     "execution_count": 147,
     "metadata": {},
     "output_type": "execute_result"
    }
   ],
   "source": [
    "obj.describe()"
   ]
  },
  {
   "cell_type": "markdown",
   "metadata": {},
   "source": [
    "### Correlation and covariance"
   ]
  },
  {
   "cell_type": "markdown",
   "metadata": {},
   "source": [
    "Some statistics are computed from pairs of arguments. Let us consider several DataFrame containing stock prices and trade volumes obtained through Yahoo! Finance:"
   ]
  },
  {
   "cell_type": "code",
   "execution_count": 148,
   "metadata": {},
   "outputs": [],
   "source": [
    "import pandas_datareader.data as web"
   ]
  },
  {
   "cell_type": "code",
   "execution_count": 149,
   "metadata": {},
   "outputs": [
    {
     "data": {
      "text/html": [
       "<div>\n",
       "<style scoped>\n",
       "    .dataframe tbody tr th:only-of-type {\n",
       "        vertical-align: middle;\n",
       "    }\n",
       "\n",
       "    .dataframe tbody tr th {\n",
       "        vertical-align: top;\n",
       "    }\n",
       "\n",
       "    .dataframe thead th {\n",
       "        text-align: right;\n",
       "    }\n",
       "</style>\n",
       "<table border=\"1\" class=\"dataframe\">\n",
       "  <thead>\n",
       "    <tr style=\"text-align: right;\">\n",
       "      <th></th>\n",
       "      <th>TSLA</th>\n",
       "      <th>IBM</th>\n",
       "      <th>MSFT</th>\n",
       "      <th>GOOG</th>\n",
       "    </tr>\n",
       "    <tr>\n",
       "      <th>Date</th>\n",
       "      <th></th>\n",
       "      <th></th>\n",
       "      <th></th>\n",
       "      <th></th>\n",
       "    </tr>\n",
       "  </thead>\n",
       "  <tbody>\n",
       "    <tr>\n",
       "      <th>2015-03-25</th>\n",
       "      <td>-0.036784</td>\n",
       "      <td>-0.023313</td>\n",
       "      <td>-0.033566</td>\n",
       "      <td>-0.020002</td>\n",
       "    </tr>\n",
       "    <tr>\n",
       "      <th>2015-03-26</th>\n",
       "      <td>-0.020021</td>\n",
       "      <td>0.008731</td>\n",
       "      <td>-0.006030</td>\n",
       "      <td>-0.006469</td>\n",
       "    </tr>\n",
       "    <tr>\n",
       "      <th>2015-03-27</th>\n",
       "      <td>-0.028412</td>\n",
       "      <td>-0.001183</td>\n",
       "      <td>-0.005824</td>\n",
       "      <td>-0.012303</td>\n",
       "    </tr>\n",
       "    <tr>\n",
       "      <th>2015-03-30</th>\n",
       "      <td>0.030108</td>\n",
       "      <td>0.014152</td>\n",
       "      <td>-0.000244</td>\n",
       "      <td>0.006729</td>\n",
       "    </tr>\n",
       "    <tr>\n",
       "      <th>2015-03-31</th>\n",
       "      <td>-0.009445</td>\n",
       "      <td>-0.013340</td>\n",
       "      <td>-0.007324</td>\n",
       "      <td>-0.007300</td>\n",
       "    </tr>\n",
       "  </tbody>\n",
       "</table>\n",
       "</div>"
      ],
      "text/plain": [
       "                TSLA       IBM      MSFT      GOOG\n",
       "Date                                              \n",
       "2015-03-25 -0.036784 -0.023313 -0.033566 -0.020002\n",
       "2015-03-26 -0.020021  0.008731 -0.006030 -0.006469\n",
       "2015-03-27 -0.028412 -0.001183 -0.005824 -0.012303\n",
       "2015-03-30  0.030108  0.014152 -0.000244  0.006729\n",
       "2015-03-31 -0.009445 -0.013340 -0.007324 -0.007300"
      ]
     },
     "execution_count": 149,
     "metadata": {},
     "output_type": "execute_result"
    }
   ],
   "source": [
    "all_data = {}\n",
    "for ticker in ['TSLA', 'IBM', 'MSFT', 'GOOG']:\n",
    "    all_data[ticker] = web.get_data_yahoo( ticker, '1/1/2010', '31/03/2015' )\n",
    "\n",
    "price = DataFrame( {tic: data['Close'] for tic, data in all_data.items()} )\n",
    "volume = DataFrame( {tic: data['Volume'] for tic, data in all_data.items()} )\n",
    "\n",
    "returns = price.pct_change() # Intra-day earnings\n",
    "returns.tail() # Returns last 5 values"
   ]
  },
  {
   "cell_type": "markdown",
   "metadata": {},
   "source": [
    "The Series.corr() method computes the correlation with a second Series provided as parameter, aligning both over their indices and ignoring unknown values. Series.cov() computes covariance in a similar way:"
   ]
  },
  {
   "cell_type": "code",
   "execution_count": 150,
   "metadata": {},
   "outputs": [
    {
     "data": {
      "text/plain": [
       "0.5003165367740456"
      ]
     },
     "execution_count": 150,
     "metadata": {},
     "output_type": "execute_result"
    }
   ],
   "source": [
    "returns.MSFT.corr( returns.IBM )"
   ]
  },
  {
   "cell_type": "code",
   "execution_count": 151,
   "metadata": {},
   "outputs": [
    {
     "data": {
      "text/plain": [
       "8.361637002757002e-05"
      ]
     },
     "execution_count": 151,
     "metadata": {},
     "output_type": "execute_result"
    }
   ],
   "source": [
    "returns.MSFT.cov( returns.IBM )"
   ]
  },
  {
   "cell_type": "markdown",
   "metadata": {},
   "source": [
    "DataFrame.corr() and DataFrame.cov() return a full correlation or covariance matrix, respectively, as a DataFrame:"
   ]
  },
  {
   "cell_type": "code",
   "execution_count": 152,
   "metadata": {},
   "outputs": [
    {
     "data": {
      "text/html": [
       "<div>\n",
       "<style scoped>\n",
       "    .dataframe tbody tr th:only-of-type {\n",
       "        vertical-align: middle;\n",
       "    }\n",
       "\n",
       "    .dataframe tbody tr th {\n",
       "        vertical-align: top;\n",
       "    }\n",
       "\n",
       "    .dataframe thead th {\n",
       "        text-align: right;\n",
       "    }\n",
       "</style>\n",
       "<table border=\"1\" class=\"dataframe\">\n",
       "  <thead>\n",
       "    <tr style=\"text-align: right;\">\n",
       "      <th></th>\n",
       "      <th>TSLA</th>\n",
       "      <th>IBM</th>\n",
       "      <th>MSFT</th>\n",
       "      <th>GOOG</th>\n",
       "    </tr>\n",
       "  </thead>\n",
       "  <tbody>\n",
       "    <tr>\n",
       "      <th>TSLA</th>\n",
       "      <td>1.000000</td>\n",
       "      <td>0.213381</td>\n",
       "      <td>0.212453</td>\n",
       "      <td>0.240710</td>\n",
       "    </tr>\n",
       "    <tr>\n",
       "      <th>IBM</th>\n",
       "      <td>0.213381</td>\n",
       "      <td>1.000000</td>\n",
       "      <td>0.500317</td>\n",
       "      <td>0.399658</td>\n",
       "    </tr>\n",
       "    <tr>\n",
       "      <th>MSFT</th>\n",
       "      <td>0.212453</td>\n",
       "      <td>0.500317</td>\n",
       "      <td>1.000000</td>\n",
       "      <td>0.414417</td>\n",
       "    </tr>\n",
       "    <tr>\n",
       "      <th>GOOG</th>\n",
       "      <td>0.240710</td>\n",
       "      <td>0.399658</td>\n",
       "      <td>0.414417</td>\n",
       "      <td>1.000000</td>\n",
       "    </tr>\n",
       "  </tbody>\n",
       "</table>\n",
       "</div>"
      ],
      "text/plain": [
       "          TSLA       IBM      MSFT      GOOG\n",
       "TSLA  1.000000  0.213381  0.212453  0.240710\n",
       "IBM   0.213381  1.000000  0.500317  0.399658\n",
       "MSFT  0.212453  0.500317  1.000000  0.414417\n",
       "GOOG  0.240710  0.399658  0.414417  1.000000"
      ]
     },
     "execution_count": 152,
     "metadata": {},
     "output_type": "execute_result"
    }
   ],
   "source": [
    "returns.corr()"
   ]
  },
  {
   "cell_type": "code",
   "execution_count": 153,
   "metadata": {},
   "outputs": [
    {
     "data": {
      "text/html": [
       "<div>\n",
       "<style scoped>\n",
       "    .dataframe tbody tr th:only-of-type {\n",
       "        vertical-align: middle;\n",
       "    }\n",
       "\n",
       "    .dataframe tbody tr th {\n",
       "        vertical-align: top;\n",
       "    }\n",
       "\n",
       "    .dataframe thead th {\n",
       "        text-align: right;\n",
       "    }\n",
       "</style>\n",
       "<table border=\"1\" class=\"dataframe\">\n",
       "  <thead>\n",
       "    <tr style=\"text-align: right;\">\n",
       "      <th></th>\n",
       "      <th>TSLA</th>\n",
       "      <th>IBM</th>\n",
       "      <th>MSFT</th>\n",
       "      <th>GOOG</th>\n",
       "    </tr>\n",
       "  </thead>\n",
       "  <tbody>\n",
       "    <tr>\n",
       "      <th>TSLA</th>\n",
       "      <td>0.001289</td>\n",
       "      <td>0.000090</td>\n",
       "      <td>0.000107</td>\n",
       "      <td>0.000133</td>\n",
       "    </tr>\n",
       "    <tr>\n",
       "      <th>IBM</th>\n",
       "      <td>0.000090</td>\n",
       "      <td>0.000139</td>\n",
       "      <td>0.000084</td>\n",
       "      <td>0.000074</td>\n",
       "    </tr>\n",
       "    <tr>\n",
       "      <th>MSFT</th>\n",
       "      <td>0.000107</td>\n",
       "      <td>0.000084</td>\n",
       "      <td>0.000201</td>\n",
       "      <td>0.000092</td>\n",
       "    </tr>\n",
       "    <tr>\n",
       "      <th>GOOG</th>\n",
       "      <td>0.000133</td>\n",
       "      <td>0.000074</td>\n",
       "      <td>0.000092</td>\n",
       "      <td>0.000244</td>\n",
       "    </tr>\n",
       "  </tbody>\n",
       "</table>\n",
       "</div>"
      ],
      "text/plain": [
       "          TSLA       IBM      MSFT      GOOG\n",
       "TSLA  0.001289  0.000090  0.000107  0.000133\n",
       "IBM   0.000090  0.000139  0.000084  0.000074\n",
       "MSFT  0.000107  0.000084  0.000201  0.000092\n",
       "GOOG  0.000133  0.000074  0.000092  0.000244"
      ]
     },
     "execution_count": 153,
     "metadata": {},
     "output_type": "execute_result"
    }
   ],
   "source": [
    "returns.cov()"
   ]
  },
  {
   "cell_type": "markdown",
   "metadata": {},
   "source": [
    "DataFrame.corrwith() computes the correlation of the columns in a frame with a Series or DataFrame provided as parameter. If a Series is provided, the correlation of each column with the Series is computed:"
   ]
  },
  {
   "cell_type": "code",
   "execution_count": 154,
   "metadata": {},
   "outputs": [
    {
     "data": {
      "text/plain": [
       "TSLA    0.213381\n",
       "IBM     1.000000\n",
       "MSFT    0.500317\n",
       "GOOG    0.399658\n",
       "dtype: float64"
      ]
     },
     "execution_count": 154,
     "metadata": {},
     "output_type": "execute_result"
    }
   ],
   "source": [
    "returns.corrwith( returns.IBM )"
   ]
  },
  {
   "cell_type": "markdown",
   "metadata": {},
   "source": [
    "If a DataFrame is provided, it computes the correlation between the identically labeled columns:"
   ]
  },
  {
   "cell_type": "code",
   "execution_count": 155,
   "metadata": {},
   "outputs": [
    {
     "data": {
      "text/plain": [
       "TSLA    0.072932\n",
       "IBM    -0.185076\n",
       "MSFT   -0.120040\n",
       "GOOG   -0.019196\n",
       "dtype: float64"
      ]
     },
     "execution_count": 155,
     "metadata": {},
     "output_type": "execute_result"
    }
   ],
   "source": [
    "returns.corrwith(volume)"
   ]
  },
  {
   "cell_type": "markdown",
   "metadata": {},
   "source": [
    "Using axis=1 would perform the calculation on the rows. In any case, data points are aligned using the index values before the computation."
   ]
  },
  {
   "cell_type": "markdown",
   "metadata": {},
   "source": [
    "### Unique values, value counts, and inclusion"
   ]
  },
  {
   "cell_type": "markdown",
   "metadata": {},
   "source": [
    "A class of related methods extract information about the values and frequencies in Series. Series.unique() calculates the number of unique values:"
   ]
  },
  {
   "cell_type": "code",
   "execution_count": 156,
   "metadata": {},
   "outputs": [
    {
     "data": {
      "text/plain": [
       "array(['c', 'a', 'd', 'b'], dtype=object)"
      ]
     },
     "execution_count": 156,
     "metadata": {},
     "output_type": "execute_result"
    }
   ],
   "source": [
    "obj = Series( list('cadaabbcc') )\n",
    "uniques = obj.unique()\n",
    "uniques"
   ]
  },
  {
   "cell_type": "markdown",
   "metadata": {},
   "source": [
    "Series.value_counts() computes the frequency of each value, and returns a sorted Series:"
   ]
  },
  {
   "cell_type": "code",
   "execution_count": 157,
   "metadata": {},
   "outputs": [
    {
     "data": {
      "text/plain": [
       "a    3\n",
       "c    3\n",
       "b    2\n",
       "d    1\n",
       "dtype: int64"
      ]
     },
     "execution_count": 157,
     "metadata": {},
     "output_type": "execute_result"
    }
   ],
   "source": [
    "obj.value_counts()"
   ]
  },
  {
   "cell_type": "markdown",
   "metadata": {},
   "source": [
    "value_counts() is also available as a first-order Pandas function, useful to apply over Python sequences of any kind:"
   ]
  },
  {
   "cell_type": "code",
   "execution_count": 158,
   "metadata": {},
   "outputs": [
    {
     "data": {
      "text/plain": [
       "a    3\n",
       "c    3\n",
       "b    2\n",
       "d    1\n",
       "dtype: int64"
      ]
     },
     "execution_count": 158,
     "metadata": {},
     "output_type": "execute_result"
    }
   ],
   "source": [
    "pd.value_counts( obj.values )"
   ]
  },
  {
   "cell_type": "markdown",
   "metadata": {},
   "source": [
    "Lastly, Series.isin() computes set inclusion in a vectorized way:"
   ]
  },
  {
   "cell_type": "code",
   "execution_count": 159,
   "metadata": {},
   "outputs": [
    {
     "data": {
      "text/plain": [
       "0     True\n",
       "1    False\n",
       "2    False\n",
       "3    False\n",
       "4    False\n",
       "5     True\n",
       "6     True\n",
       "7     True\n",
       "8     True\n",
       "dtype: bool"
      ]
     },
     "execution_count": 159,
     "metadata": {},
     "output_type": "execute_result"
    }
   ],
   "source": [
    "mask = obj.isin( ['b', 'c'] )\n",
    "mask"
   ]
  },
  {
   "cell_type": "code",
   "execution_count": 160,
   "metadata": {},
   "outputs": [
    {
     "data": {
      "text/plain": [
       "0    c\n",
       "5    b\n",
       "6    b\n",
       "7    c\n",
       "8    c\n",
       "dtype: object"
      ]
     },
     "execution_count": 160,
     "metadata": {},
     "output_type": "execute_result"
    }
   ],
   "source": [
    "obj[mask]"
   ]
  },
  {
   "cell_type": "markdown",
   "metadata": {},
   "source": [
    "Ocassionally we need to compute value counts to the columns of a DataFrame (e.g., to compute a histogram). That can be done using apply():"
   ]
  },
  {
   "cell_type": "code",
   "execution_count": 161,
   "metadata": {},
   "outputs": [
    {
     "data": {
      "text/html": [
       "<div>\n",
       "<style scoped>\n",
       "    .dataframe tbody tr th:only-of-type {\n",
       "        vertical-align: middle;\n",
       "    }\n",
       "\n",
       "    .dataframe tbody tr th {\n",
       "        vertical-align: top;\n",
       "    }\n",
       "\n",
       "    .dataframe thead th {\n",
       "        text-align: right;\n",
       "    }\n",
       "</style>\n",
       "<table border=\"1\" class=\"dataframe\">\n",
       "  <thead>\n",
       "    <tr style=\"text-align: right;\">\n",
       "      <th></th>\n",
       "      <th>C1</th>\n",
       "      <th>C2</th>\n",
       "      <th>C3</th>\n",
       "    </tr>\n",
       "  </thead>\n",
       "  <tbody>\n",
       "    <tr>\n",
       "      <th>0</th>\n",
       "      <td>1</td>\n",
       "      <td>2</td>\n",
       "      <td>1</td>\n",
       "    </tr>\n",
       "    <tr>\n",
       "      <th>1</th>\n",
       "      <td>3</td>\n",
       "      <td>3</td>\n",
       "      <td>5</td>\n",
       "    </tr>\n",
       "    <tr>\n",
       "      <th>2</th>\n",
       "      <td>4</td>\n",
       "      <td>1</td>\n",
       "      <td>2</td>\n",
       "    </tr>\n",
       "    <tr>\n",
       "      <th>3</th>\n",
       "      <td>3</td>\n",
       "      <td>2</td>\n",
       "      <td>4</td>\n",
       "    </tr>\n",
       "    <tr>\n",
       "      <th>4</th>\n",
       "      <td>4</td>\n",
       "      <td>3</td>\n",
       "      <td>4</td>\n",
       "    </tr>\n",
       "  </tbody>\n",
       "</table>\n",
       "</div>"
      ],
      "text/plain": [
       "   C1  C2  C3\n",
       "0   1   2   1\n",
       "1   3   3   5\n",
       "2   4   1   2\n",
       "3   3   2   4\n",
       "4   4   3   4"
      ]
     },
     "execution_count": 161,
     "metadata": {},
     "output_type": "execute_result"
    }
   ],
   "source": [
    "data = DataFrame( {'C1': [1, 3, 4, 3, 4],\n",
    "                   'C2': [2, 3, 1, 2, 3],\n",
    "                   'C3': [1, 5, 2, 4, 4]} )\n",
    "data"
   ]
  },
  {
   "cell_type": "code",
   "execution_count": 162,
   "metadata": {},
   "outputs": [
    {
     "data": {
      "text/html": [
       "<div>\n",
       "<style scoped>\n",
       "    .dataframe tbody tr th:only-of-type {\n",
       "        vertical-align: middle;\n",
       "    }\n",
       "\n",
       "    .dataframe tbody tr th {\n",
       "        vertical-align: top;\n",
       "    }\n",
       "\n",
       "    .dataframe thead th {\n",
       "        text-align: right;\n",
       "    }\n",
       "</style>\n",
       "<table border=\"1\" class=\"dataframe\">\n",
       "  <thead>\n",
       "    <tr style=\"text-align: right;\">\n",
       "      <th></th>\n",
       "      <th>C1</th>\n",
       "      <th>C2</th>\n",
       "      <th>C3</th>\n",
       "    </tr>\n",
       "  </thead>\n",
       "  <tbody>\n",
       "    <tr>\n",
       "      <th>1</th>\n",
       "      <td>1.0</td>\n",
       "      <td>1.0</td>\n",
       "      <td>1.0</td>\n",
       "    </tr>\n",
       "    <tr>\n",
       "      <th>2</th>\n",
       "      <td>0.0</td>\n",
       "      <td>2.0</td>\n",
       "      <td>1.0</td>\n",
       "    </tr>\n",
       "    <tr>\n",
       "      <th>3</th>\n",
       "      <td>2.0</td>\n",
       "      <td>2.0</td>\n",
       "      <td>0.0</td>\n",
       "    </tr>\n",
       "    <tr>\n",
       "      <th>4</th>\n",
       "      <td>2.0</td>\n",
       "      <td>0.0</td>\n",
       "      <td>2.0</td>\n",
       "    </tr>\n",
       "    <tr>\n",
       "      <th>5</th>\n",
       "      <td>0.0</td>\n",
       "      <td>0.0</td>\n",
       "      <td>1.0</td>\n",
       "    </tr>\n",
       "  </tbody>\n",
       "</table>\n",
       "</div>"
      ],
      "text/plain": [
       "    C1   C2   C3\n",
       "1  1.0  1.0  1.0\n",
       "2  0.0  2.0  1.0\n",
       "3  2.0  2.0  0.0\n",
       "4  2.0  0.0  2.0\n",
       "5  0.0  0.0  1.0"
      ]
     },
     "execution_count": 162,
     "metadata": {},
     "output_type": "execute_result"
    }
   ],
   "source": [
    "data.apply( pd.value_counts ).fillna( 0 )"
   ]
  },
  {
   "cell_type": "markdown",
   "metadata": {},
   "source": [
    "## Unknown data"
   ]
  },
  {
   "cell_type": "markdown",
   "metadata": {},
   "source": [
    "### Filtering"
   ]
  },
  {
   "cell_type": "markdown",
   "metadata": {},
   "source": [
    "The dropna() method returns a copy of the object after calling drop() for its unknown values:"
   ]
  },
  {
   "cell_type": "code",
   "execution_count": 163,
   "metadata": {},
   "outputs": [
    {
     "data": {
      "text/plain": [
       "0    1.0\n",
       "1    NaN\n",
       "2    3.5\n",
       "3    NaN\n",
       "4    7.0\n",
       "dtype: float64"
      ]
     },
     "execution_count": 163,
     "metadata": {},
     "output_type": "execute_result"
    }
   ],
   "source": [
    "data = Series( [1, np.nan, 3.5, None, 7] )\n",
    "data"
   ]
  },
  {
   "cell_type": "code",
   "execution_count": 164,
   "metadata": {},
   "outputs": [
    {
     "data": {
      "text/plain": [
       "0    1.0\n",
       "2    3.5\n",
       "4    7.0\n",
       "dtype: float64"
      ]
     },
     "execution_count": 164,
     "metadata": {},
     "output_type": "execute_result"
    }
   ],
   "source": [
    "data.dropna()"
   ]
  },
  {
   "cell_type": "markdown",
   "metadata": {},
   "source": [
    "It is similar to using boolean indexing with notnull():"
   ]
  },
  {
   "cell_type": "code",
   "execution_count": 165,
   "metadata": {},
   "outputs": [
    {
     "data": {
      "text/plain": [
       "0    1.0\n",
       "2    3.5\n",
       "4    7.0\n",
       "dtype: float64"
      ]
     },
     "execution_count": 165,
     "metadata": {},
     "output_type": "execute_result"
    }
   ],
   "source": [
    "data[data.notnull()]"
   ]
  },
  {
   "cell_type": "markdown",
   "metadata": {},
   "source": [
    "The problem gets more complicated with DataFrame. It is not possible to drop isolated data points, but only full rows or columns. By default, DataFrame.dropna() removes any row containing unknown values:"
   ]
  },
  {
   "cell_type": "code",
   "execution_count": 166,
   "metadata": {},
   "outputs": [
    {
     "data": {
      "text/html": [
       "<div>\n",
       "<style scoped>\n",
       "    .dataframe tbody tr th:only-of-type {\n",
       "        vertical-align: middle;\n",
       "    }\n",
       "\n",
       "    .dataframe tbody tr th {\n",
       "        vertical-align: top;\n",
       "    }\n",
       "\n",
       "    .dataframe thead th {\n",
       "        text-align: right;\n",
       "    }\n",
       "</style>\n",
       "<table border=\"1\" class=\"dataframe\">\n",
       "  <thead>\n",
       "    <tr style=\"text-align: right;\">\n",
       "      <th></th>\n",
       "      <th>0</th>\n",
       "      <th>1</th>\n",
       "      <th>2</th>\n",
       "    </tr>\n",
       "  </thead>\n",
       "  <tbody>\n",
       "    <tr>\n",
       "      <th>0</th>\n",
       "      <td>1.0</td>\n",
       "      <td>6.5</td>\n",
       "      <td>3.0</td>\n",
       "    </tr>\n",
       "    <tr>\n",
       "      <th>1</th>\n",
       "      <td>1.0</td>\n",
       "      <td>NaN</td>\n",
       "      <td>NaN</td>\n",
       "    </tr>\n",
       "    <tr>\n",
       "      <th>2</th>\n",
       "      <td>NaN</td>\n",
       "      <td>NaN</td>\n",
       "      <td>NaN</td>\n",
       "    </tr>\n",
       "    <tr>\n",
       "      <th>3</th>\n",
       "      <td>NaN</td>\n",
       "      <td>6.5</td>\n",
       "      <td>3.0</td>\n",
       "    </tr>\n",
       "  </tbody>\n",
       "</table>\n",
       "</div>"
      ],
      "text/plain": [
       "     0    1    2\n",
       "0  1.0  6.5  3.0\n",
       "1  1.0  NaN  NaN\n",
       "2  NaN  NaN  NaN\n",
       "3  NaN  6.5  3.0"
      ]
     },
     "execution_count": 166,
     "metadata": {},
     "output_type": "execute_result"
    }
   ],
   "source": [
    "data = DataFrame( [[1, 6.5, 3], [1, np.nan, np.nan], [np.nan, np.nan, np.nan], [np.nan, 6.5, 3]] )\n",
    "data"
   ]
  },
  {
   "cell_type": "code",
   "execution_count": 167,
   "metadata": {},
   "outputs": [
    {
     "data": {
      "text/html": [
       "<div>\n",
       "<style scoped>\n",
       "    .dataframe tbody tr th:only-of-type {\n",
       "        vertical-align: middle;\n",
       "    }\n",
       "\n",
       "    .dataframe tbody tr th {\n",
       "        vertical-align: top;\n",
       "    }\n",
       "\n",
       "    .dataframe thead th {\n",
       "        text-align: right;\n",
       "    }\n",
       "</style>\n",
       "<table border=\"1\" class=\"dataframe\">\n",
       "  <thead>\n",
       "    <tr style=\"text-align: right;\">\n",
       "      <th></th>\n",
       "      <th>0</th>\n",
       "      <th>1</th>\n",
       "      <th>2</th>\n",
       "    </tr>\n",
       "  </thead>\n",
       "  <tbody>\n",
       "    <tr>\n",
       "      <th>0</th>\n",
       "      <td>1.0</td>\n",
       "      <td>6.5</td>\n",
       "      <td>3.0</td>\n",
       "    </tr>\n",
       "  </tbody>\n",
       "</table>\n",
       "</div>"
      ],
      "text/plain": [
       "     0    1    2\n",
       "0  1.0  6.5  3.0"
      ]
     },
     "execution_count": 167,
     "metadata": {},
     "output_type": "execute_result"
    }
   ],
   "source": [
    "data.dropna()"
   ]
  },
  {
   "cell_type": "markdown",
   "metadata": {},
   "source": [
    "Passing $how=\"all\"$ indicates that only rows containing unknown values only should be dropped:"
   ]
  },
  {
   "cell_type": "code",
   "execution_count": 168,
   "metadata": {},
   "outputs": [
    {
     "data": {
      "text/html": [
       "<div>\n",
       "<style scoped>\n",
       "    .dataframe tbody tr th:only-of-type {\n",
       "        vertical-align: middle;\n",
       "    }\n",
       "\n",
       "    .dataframe tbody tr th {\n",
       "        vertical-align: top;\n",
       "    }\n",
       "\n",
       "    .dataframe thead th {\n",
       "        text-align: right;\n",
       "    }\n",
       "</style>\n",
       "<table border=\"1\" class=\"dataframe\">\n",
       "  <thead>\n",
       "    <tr style=\"text-align: right;\">\n",
       "      <th></th>\n",
       "      <th>0</th>\n",
       "      <th>1</th>\n",
       "      <th>2</th>\n",
       "    </tr>\n",
       "  </thead>\n",
       "  <tbody>\n",
       "    <tr>\n",
       "      <th>0</th>\n",
       "      <td>1.0</td>\n",
       "      <td>6.5</td>\n",
       "      <td>3.0</td>\n",
       "    </tr>\n",
       "    <tr>\n",
       "      <th>1</th>\n",
       "      <td>1.0</td>\n",
       "      <td>NaN</td>\n",
       "      <td>NaN</td>\n",
       "    </tr>\n",
       "    <tr>\n",
       "      <th>3</th>\n",
       "      <td>NaN</td>\n",
       "      <td>6.5</td>\n",
       "      <td>3.0</td>\n",
       "    </tr>\n",
       "  </tbody>\n",
       "</table>\n",
       "</div>"
      ],
      "text/plain": [
       "     0    1    2\n",
       "0  1.0  6.5  3.0\n",
       "1  1.0  NaN  NaN\n",
       "3  NaN  6.5  3.0"
      ]
     },
     "execution_count": 168,
     "metadata": {},
     "output_type": "execute_result"
    }
   ],
   "source": [
    "data.dropna( how=\"all\" )"
   ]
  },
  {
   "cell_type": "markdown",
   "metadata": {},
   "source": [
    "As with other methods, $axis$ specifies whether the operation should be applied over the rows or the columns:"
   ]
  },
  {
   "cell_type": "code",
   "execution_count": 169,
   "metadata": {},
   "outputs": [
    {
     "data": {
      "text/html": [
       "<div>\n",
       "<style scoped>\n",
       "    .dataframe tbody tr th:only-of-type {\n",
       "        vertical-align: middle;\n",
       "    }\n",
       "\n",
       "    .dataframe tbody tr th {\n",
       "        vertical-align: top;\n",
       "    }\n",
       "\n",
       "    .dataframe thead th {\n",
       "        text-align: right;\n",
       "    }\n",
       "</style>\n",
       "<table border=\"1\" class=\"dataframe\">\n",
       "  <thead>\n",
       "    <tr style=\"text-align: right;\">\n",
       "      <th></th>\n",
       "      <th>0</th>\n",
       "      <th>1</th>\n",
       "      <th>2</th>\n",
       "      <th>4</th>\n",
       "    </tr>\n",
       "  </thead>\n",
       "  <tbody>\n",
       "    <tr>\n",
       "      <th>0</th>\n",
       "      <td>1.0</td>\n",
       "      <td>6.5</td>\n",
       "      <td>3.0</td>\n",
       "      <td>NaN</td>\n",
       "    </tr>\n",
       "    <tr>\n",
       "      <th>1</th>\n",
       "      <td>1.0</td>\n",
       "      <td>NaN</td>\n",
       "      <td>NaN</td>\n",
       "      <td>NaN</td>\n",
       "    </tr>\n",
       "    <tr>\n",
       "      <th>2</th>\n",
       "      <td>NaN</td>\n",
       "      <td>NaN</td>\n",
       "      <td>NaN</td>\n",
       "      <td>NaN</td>\n",
       "    </tr>\n",
       "    <tr>\n",
       "      <th>3</th>\n",
       "      <td>NaN</td>\n",
       "      <td>6.5</td>\n",
       "      <td>3.0</td>\n",
       "      <td>NaN</td>\n",
       "    </tr>\n",
       "  </tbody>\n",
       "</table>\n",
       "</div>"
      ],
      "text/plain": [
       "     0    1    2   4\n",
       "0  1.0  6.5  3.0 NaN\n",
       "1  1.0  NaN  NaN NaN\n",
       "2  NaN  NaN  NaN NaN\n",
       "3  NaN  6.5  3.0 NaN"
      ]
     },
     "execution_count": 169,
     "metadata": {},
     "output_type": "execute_result"
    }
   ],
   "source": [
    "data[4] = np.nan\n",
    "data"
   ]
  },
  {
   "cell_type": "code",
   "execution_count": 170,
   "metadata": {},
   "outputs": [
    {
     "data": {
      "text/html": [
       "<div>\n",
       "<style scoped>\n",
       "    .dataframe tbody tr th:only-of-type {\n",
       "        vertical-align: middle;\n",
       "    }\n",
       "\n",
       "    .dataframe tbody tr th {\n",
       "        vertical-align: top;\n",
       "    }\n",
       "\n",
       "    .dataframe thead th {\n",
       "        text-align: right;\n",
       "    }\n",
       "</style>\n",
       "<table border=\"1\" class=\"dataframe\">\n",
       "  <thead>\n",
       "    <tr style=\"text-align: right;\">\n",
       "      <th></th>\n",
       "      <th>0</th>\n",
       "      <th>1</th>\n",
       "      <th>2</th>\n",
       "    </tr>\n",
       "  </thead>\n",
       "  <tbody>\n",
       "    <tr>\n",
       "      <th>0</th>\n",
       "      <td>1.0</td>\n",
       "      <td>6.5</td>\n",
       "      <td>3.0</td>\n",
       "    </tr>\n",
       "    <tr>\n",
       "      <th>1</th>\n",
       "      <td>1.0</td>\n",
       "      <td>NaN</td>\n",
       "      <td>NaN</td>\n",
       "    </tr>\n",
       "    <tr>\n",
       "      <th>2</th>\n",
       "      <td>NaN</td>\n",
       "      <td>NaN</td>\n",
       "      <td>NaN</td>\n",
       "    </tr>\n",
       "    <tr>\n",
       "      <th>3</th>\n",
       "      <td>NaN</td>\n",
       "      <td>6.5</td>\n",
       "      <td>3.0</td>\n",
       "    </tr>\n",
       "  </tbody>\n",
       "</table>\n",
       "</div>"
      ],
      "text/plain": [
       "     0    1    2\n",
       "0  1.0  6.5  3.0\n",
       "1  1.0  NaN  NaN\n",
       "2  NaN  NaN  NaN\n",
       "3  NaN  6.5  3.0"
      ]
     },
     "execution_count": 170,
     "metadata": {},
     "output_type": "execute_result"
    }
   ],
   "source": [
    "data.dropna( axis=1, how=\"all\" )"
   ]
  },
  {
   "cell_type": "markdown",
   "metadata": {},
   "source": [
    "Lastly, dropna() allows to specify the number of unknown values required to drop a row or column using the $thresh$ parameter:"
   ]
  },
  {
   "cell_type": "code",
   "execution_count": 171,
   "metadata": {},
   "outputs": [
    {
     "data": {
      "text/html": [
       "<div>\n",
       "<style scoped>\n",
       "    .dataframe tbody tr th:only-of-type {\n",
       "        vertical-align: middle;\n",
       "    }\n",
       "\n",
       "    .dataframe tbody tr th {\n",
       "        vertical-align: top;\n",
       "    }\n",
       "\n",
       "    .dataframe thead th {\n",
       "        text-align: right;\n",
       "    }\n",
       "</style>\n",
       "<table border=\"1\" class=\"dataframe\">\n",
       "  <thead>\n",
       "    <tr style=\"text-align: right;\">\n",
       "      <th></th>\n",
       "      <th>0</th>\n",
       "      <th>1</th>\n",
       "      <th>2</th>\n",
       "    </tr>\n",
       "  </thead>\n",
       "  <tbody>\n",
       "    <tr>\n",
       "      <th>0</th>\n",
       "      <td>0.304402</td>\n",
       "      <td>-0.330883</td>\n",
       "      <td>-1.337833</td>\n",
       "    </tr>\n",
       "    <tr>\n",
       "      <th>1</th>\n",
       "      <td>-0.233666</td>\n",
       "      <td>-0.094779</td>\n",
       "      <td>-0.993863</td>\n",
       "    </tr>\n",
       "    <tr>\n",
       "      <th>2</th>\n",
       "      <td>1.209602</td>\n",
       "      <td>-0.086271</td>\n",
       "      <td>-0.536390</td>\n",
       "    </tr>\n",
       "    <tr>\n",
       "      <th>3</th>\n",
       "      <td>-0.433164</td>\n",
       "      <td>-0.638127</td>\n",
       "      <td>0.244402</td>\n",
       "    </tr>\n",
       "    <tr>\n",
       "      <th>4</th>\n",
       "      <td>-0.162483</td>\n",
       "      <td>0.055893</td>\n",
       "      <td>0.075059</td>\n",
       "    </tr>\n",
       "    <tr>\n",
       "      <th>5</th>\n",
       "      <td>-0.359819</td>\n",
       "      <td>1.025684</td>\n",
       "      <td>-2.733309</td>\n",
       "    </tr>\n",
       "    <tr>\n",
       "      <th>6</th>\n",
       "      <td>0.022355</td>\n",
       "      <td>1.076137</td>\n",
       "      <td>0.569620</td>\n",
       "    </tr>\n",
       "  </tbody>\n",
       "</table>\n",
       "</div>"
      ],
      "text/plain": [
       "          0         1         2\n",
       "0  0.304402 -0.330883 -1.337833\n",
       "1 -0.233666 -0.094779 -0.993863\n",
       "2  1.209602 -0.086271 -0.536390\n",
       "3 -0.433164 -0.638127  0.244402\n",
       "4 -0.162483  0.055893  0.075059\n",
       "5 -0.359819  1.025684 -2.733309\n",
       "6  0.022355  1.076137  0.569620"
      ]
     },
     "execution_count": 171,
     "metadata": {},
     "output_type": "execute_result"
    }
   ],
   "source": [
    "df = DataFrame( np.random.randn(7,3) )\n",
    "df"
   ]
  },
  {
   "cell_type": "code",
   "execution_count": 172,
   "metadata": {},
   "outputs": [
    {
     "data": {
      "text/html": [
       "<div>\n",
       "<style scoped>\n",
       "    .dataframe tbody tr th:only-of-type {\n",
       "        vertical-align: middle;\n",
       "    }\n",
       "\n",
       "    .dataframe tbody tr th {\n",
       "        vertical-align: top;\n",
       "    }\n",
       "\n",
       "    .dataframe thead th {\n",
       "        text-align: right;\n",
       "    }\n",
       "</style>\n",
       "<table border=\"1\" class=\"dataframe\">\n",
       "  <thead>\n",
       "    <tr style=\"text-align: right;\">\n",
       "      <th></th>\n",
       "      <th>0</th>\n",
       "      <th>1</th>\n",
       "      <th>2</th>\n",
       "    </tr>\n",
       "  </thead>\n",
       "  <tbody>\n",
       "    <tr>\n",
       "      <th>0</th>\n",
       "      <td>0.304402</td>\n",
       "      <td>NaN</td>\n",
       "      <td>NaN</td>\n",
       "    </tr>\n",
       "    <tr>\n",
       "      <th>1</th>\n",
       "      <td>-0.233666</td>\n",
       "      <td>NaN</td>\n",
       "      <td>NaN</td>\n",
       "    </tr>\n",
       "    <tr>\n",
       "      <th>2</th>\n",
       "      <td>1.209602</td>\n",
       "      <td>NaN</td>\n",
       "      <td>-0.536390</td>\n",
       "    </tr>\n",
       "    <tr>\n",
       "      <th>3</th>\n",
       "      <td>-0.433164</td>\n",
       "      <td>NaN</td>\n",
       "      <td>0.244402</td>\n",
       "    </tr>\n",
       "    <tr>\n",
       "      <th>4</th>\n",
       "      <td>-0.162483</td>\n",
       "      <td>0.055893</td>\n",
       "      <td>0.075059</td>\n",
       "    </tr>\n",
       "    <tr>\n",
       "      <th>5</th>\n",
       "      <td>-0.359819</td>\n",
       "      <td>1.025684</td>\n",
       "      <td>-2.733309</td>\n",
       "    </tr>\n",
       "    <tr>\n",
       "      <th>6</th>\n",
       "      <td>0.022355</td>\n",
       "      <td>1.076137</td>\n",
       "      <td>0.569620</td>\n",
       "    </tr>\n",
       "  </tbody>\n",
       "</table>\n",
       "</div>"
      ],
      "text/plain": [
       "          0         1         2\n",
       "0  0.304402       NaN       NaN\n",
       "1 -0.233666       NaN       NaN\n",
       "2  1.209602       NaN -0.536390\n",
       "3 -0.433164       NaN  0.244402\n",
       "4 -0.162483  0.055893  0.075059\n",
       "5 -0.359819  1.025684 -2.733309\n",
       "6  0.022355  1.076137  0.569620"
      ]
     },
     "execution_count": 172,
     "metadata": {},
     "output_type": "execute_result"
    }
   ],
   "source": [
    "df.iloc[:4,1] = np.nan\n",
    "df.iloc[:2,2] = np.nan\n",
    "df"
   ]
  },
  {
   "cell_type": "code",
   "execution_count": 173,
   "metadata": {},
   "outputs": [
    {
     "data": {
      "text/html": [
       "<div>\n",
       "<style scoped>\n",
       "    .dataframe tbody tr th:only-of-type {\n",
       "        vertical-align: middle;\n",
       "    }\n",
       "\n",
       "    .dataframe tbody tr th {\n",
       "        vertical-align: top;\n",
       "    }\n",
       "\n",
       "    .dataframe thead th {\n",
       "        text-align: right;\n",
       "    }\n",
       "</style>\n",
       "<table border=\"1\" class=\"dataframe\">\n",
       "  <thead>\n",
       "    <tr style=\"text-align: right;\">\n",
       "      <th></th>\n",
       "      <th>0</th>\n",
       "      <th>1</th>\n",
       "      <th>2</th>\n",
       "    </tr>\n",
       "  </thead>\n",
       "  <tbody>\n",
       "    <tr>\n",
       "      <th>4</th>\n",
       "      <td>-0.162483</td>\n",
       "      <td>0.055893</td>\n",
       "      <td>0.075059</td>\n",
       "    </tr>\n",
       "    <tr>\n",
       "      <th>5</th>\n",
       "      <td>-0.359819</td>\n",
       "      <td>1.025684</td>\n",
       "      <td>-2.733309</td>\n",
       "    </tr>\n",
       "    <tr>\n",
       "      <th>6</th>\n",
       "      <td>0.022355</td>\n",
       "      <td>1.076137</td>\n",
       "      <td>0.569620</td>\n",
       "    </tr>\n",
       "  </tbody>\n",
       "</table>\n",
       "</div>"
      ],
      "text/plain": [
       "          0         1         2\n",
       "4 -0.162483  0.055893  0.075059\n",
       "5 -0.359819  1.025684 -2.733309\n",
       "6  0.022355  1.076137  0.569620"
      ]
     },
     "execution_count": 173,
     "metadata": {},
     "output_type": "execute_result"
    }
   ],
   "source": [
    "df.dropna( thresh=3 )"
   ]
  },
  {
   "cell_type": "markdown",
   "metadata": {},
   "source": [
    "### Filling unknown values"
   ]
  },
  {
   "cell_type": "markdown",
   "metadata": {},
   "source": [
    "Instead of filtering unknown values, we can fill the voids in different ways. The fillna() function provides this functionality:"
   ]
  },
  {
   "cell_type": "code",
   "execution_count": 174,
   "metadata": {},
   "outputs": [
    {
     "data": {
      "text/html": [
       "<div>\n",
       "<style scoped>\n",
       "    .dataframe tbody tr th:only-of-type {\n",
       "        vertical-align: middle;\n",
       "    }\n",
       "\n",
       "    .dataframe tbody tr th {\n",
       "        vertical-align: top;\n",
       "    }\n",
       "\n",
       "    .dataframe thead th {\n",
       "        text-align: right;\n",
       "    }\n",
       "</style>\n",
       "<table border=\"1\" class=\"dataframe\">\n",
       "  <thead>\n",
       "    <tr style=\"text-align: right;\">\n",
       "      <th></th>\n",
       "      <th>0</th>\n",
       "      <th>1</th>\n",
       "      <th>2</th>\n",
       "    </tr>\n",
       "  </thead>\n",
       "  <tbody>\n",
       "    <tr>\n",
       "      <th>0</th>\n",
       "      <td>0.304402</td>\n",
       "      <td>0.000000</td>\n",
       "      <td>0.000000</td>\n",
       "    </tr>\n",
       "    <tr>\n",
       "      <th>1</th>\n",
       "      <td>-0.233666</td>\n",
       "      <td>0.000000</td>\n",
       "      <td>0.000000</td>\n",
       "    </tr>\n",
       "    <tr>\n",
       "      <th>2</th>\n",
       "      <td>1.209602</td>\n",
       "      <td>0.000000</td>\n",
       "      <td>-0.536390</td>\n",
       "    </tr>\n",
       "    <tr>\n",
       "      <th>3</th>\n",
       "      <td>-0.433164</td>\n",
       "      <td>0.000000</td>\n",
       "      <td>0.244402</td>\n",
       "    </tr>\n",
       "    <tr>\n",
       "      <th>4</th>\n",
       "      <td>-0.162483</td>\n",
       "      <td>0.055893</td>\n",
       "      <td>0.075059</td>\n",
       "    </tr>\n",
       "    <tr>\n",
       "      <th>5</th>\n",
       "      <td>-0.359819</td>\n",
       "      <td>1.025684</td>\n",
       "      <td>-2.733309</td>\n",
       "    </tr>\n",
       "    <tr>\n",
       "      <th>6</th>\n",
       "      <td>0.022355</td>\n",
       "      <td>1.076137</td>\n",
       "      <td>0.569620</td>\n",
       "    </tr>\n",
       "  </tbody>\n",
       "</table>\n",
       "</div>"
      ],
      "text/plain": [
       "          0         1         2\n",
       "0  0.304402  0.000000  0.000000\n",
       "1 -0.233666  0.000000  0.000000\n",
       "2  1.209602  0.000000 -0.536390\n",
       "3 -0.433164  0.000000  0.244402\n",
       "4 -0.162483  0.055893  0.075059\n",
       "5 -0.359819  1.025684 -2.733309\n",
       "6  0.022355  1.076137  0.569620"
      ]
     },
     "execution_count": 174,
     "metadata": {},
     "output_type": "execute_result"
    }
   ],
   "source": [
    "df.fillna(0)"
   ]
  },
  {
   "cell_type": "markdown",
   "metadata": {},
   "source": [
    "Passing a dictionary as parameter we can provided different fill values for different values:"
   ]
  },
  {
   "cell_type": "code",
   "execution_count": 175,
   "metadata": {},
   "outputs": [
    {
     "data": {
      "text/html": [
       "<div>\n",
       "<style scoped>\n",
       "    .dataframe tbody tr th:only-of-type {\n",
       "        vertical-align: middle;\n",
       "    }\n",
       "\n",
       "    .dataframe tbody tr th {\n",
       "        vertical-align: top;\n",
       "    }\n",
       "\n",
       "    .dataframe thead th {\n",
       "        text-align: right;\n",
       "    }\n",
       "</style>\n",
       "<table border=\"1\" class=\"dataframe\">\n",
       "  <thead>\n",
       "    <tr style=\"text-align: right;\">\n",
       "      <th></th>\n",
       "      <th>0</th>\n",
       "      <th>1</th>\n",
       "      <th>2</th>\n",
       "    </tr>\n",
       "  </thead>\n",
       "  <tbody>\n",
       "    <tr>\n",
       "      <th>0</th>\n",
       "      <td>0.304402</td>\n",
       "      <td>0.500000</td>\n",
       "      <td>NaN</td>\n",
       "    </tr>\n",
       "    <tr>\n",
       "      <th>1</th>\n",
       "      <td>-0.233666</td>\n",
       "      <td>0.500000</td>\n",
       "      <td>NaN</td>\n",
       "    </tr>\n",
       "    <tr>\n",
       "      <th>2</th>\n",
       "      <td>1.209602</td>\n",
       "      <td>0.500000</td>\n",
       "      <td>-0.536390</td>\n",
       "    </tr>\n",
       "    <tr>\n",
       "      <th>3</th>\n",
       "      <td>-0.433164</td>\n",
       "      <td>0.500000</td>\n",
       "      <td>0.244402</td>\n",
       "    </tr>\n",
       "    <tr>\n",
       "      <th>4</th>\n",
       "      <td>-0.162483</td>\n",
       "      <td>0.055893</td>\n",
       "      <td>0.075059</td>\n",
       "    </tr>\n",
       "    <tr>\n",
       "      <th>5</th>\n",
       "      <td>-0.359819</td>\n",
       "      <td>1.025684</td>\n",
       "      <td>-2.733309</td>\n",
       "    </tr>\n",
       "    <tr>\n",
       "      <th>6</th>\n",
       "      <td>0.022355</td>\n",
       "      <td>1.076137</td>\n",
       "      <td>0.569620</td>\n",
       "    </tr>\n",
       "  </tbody>\n",
       "</table>\n",
       "</div>"
      ],
      "text/plain": [
       "          0         1         2\n",
       "0  0.304402  0.500000       NaN\n",
       "1 -0.233666  0.500000       NaN\n",
       "2  1.209602  0.500000 -0.536390\n",
       "3 -0.433164  0.500000  0.244402\n",
       "4 -0.162483  0.055893  0.075059\n",
       "5 -0.359819  1.025684 -2.733309\n",
       "6  0.022355  1.076137  0.569620"
      ]
     },
     "execution_count": 175,
     "metadata": {},
     "output_type": "execute_result"
    }
   ],
   "source": [
    "df.fillna( {1: 0.5, 3: -1} )"
   ]
  },
  {
   "cell_type": "markdown",
   "metadata": {},
   "source": [
    "By default fillna() returns a new object, but the $inplace$ parameter can be used to modify the existing one:"
   ]
  },
  {
   "cell_type": "code",
   "execution_count": 176,
   "metadata": {},
   "outputs": [
    {
     "data": {
      "text/html": [
       "<div>\n",
       "<style scoped>\n",
       "    .dataframe tbody tr th:only-of-type {\n",
       "        vertical-align: middle;\n",
       "    }\n",
       "\n",
       "    .dataframe tbody tr th {\n",
       "        vertical-align: top;\n",
       "    }\n",
       "\n",
       "    .dataframe thead th {\n",
       "        text-align: right;\n",
       "    }\n",
       "</style>\n",
       "<table border=\"1\" class=\"dataframe\">\n",
       "  <thead>\n",
       "    <tr style=\"text-align: right;\">\n",
       "      <th></th>\n",
       "      <th>0</th>\n",
       "      <th>1</th>\n",
       "      <th>2</th>\n",
       "    </tr>\n",
       "  </thead>\n",
       "  <tbody>\n",
       "    <tr>\n",
       "      <th>0</th>\n",
       "      <td>0.304402</td>\n",
       "      <td>0.000000</td>\n",
       "      <td>0.000000</td>\n",
       "    </tr>\n",
       "    <tr>\n",
       "      <th>1</th>\n",
       "      <td>-0.233666</td>\n",
       "      <td>0.000000</td>\n",
       "      <td>0.000000</td>\n",
       "    </tr>\n",
       "    <tr>\n",
       "      <th>2</th>\n",
       "      <td>1.209602</td>\n",
       "      <td>0.000000</td>\n",
       "      <td>-0.536390</td>\n",
       "    </tr>\n",
       "    <tr>\n",
       "      <th>3</th>\n",
       "      <td>-0.433164</td>\n",
       "      <td>0.000000</td>\n",
       "      <td>0.244402</td>\n",
       "    </tr>\n",
       "    <tr>\n",
       "      <th>4</th>\n",
       "      <td>-0.162483</td>\n",
       "      <td>0.055893</td>\n",
       "      <td>0.075059</td>\n",
       "    </tr>\n",
       "    <tr>\n",
       "      <th>5</th>\n",
       "      <td>-0.359819</td>\n",
       "      <td>1.025684</td>\n",
       "      <td>-2.733309</td>\n",
       "    </tr>\n",
       "    <tr>\n",
       "      <th>6</th>\n",
       "      <td>0.022355</td>\n",
       "      <td>1.076137</td>\n",
       "      <td>0.569620</td>\n",
       "    </tr>\n",
       "  </tbody>\n",
       "</table>\n",
       "</div>"
      ],
      "text/plain": [
       "          0         1         2\n",
       "0  0.304402  0.000000  0.000000\n",
       "1 -0.233666  0.000000  0.000000\n",
       "2  1.209602  0.000000 -0.536390\n",
       "3 -0.433164  0.000000  0.244402\n",
       "4 -0.162483  0.055893  0.075059\n",
       "5 -0.359819  1.025684 -2.733309\n",
       "6  0.022355  1.076137  0.569620"
      ]
     },
     "execution_count": 176,
     "metadata": {},
     "output_type": "execute_result"
    }
   ],
   "source": [
    "df.fillna(0, inplace=True)\n",
    "df"
   ]
  },
  {
   "cell_type": "markdown",
   "metadata": {},
   "source": [
    "Instead of providing an ad-hoc value, we can use the same interpolation methods in fillna():"
   ]
  },
  {
   "cell_type": "code",
   "execution_count": 177,
   "metadata": {},
   "outputs": [
    {
     "data": {
      "text/html": [
       "<div>\n",
       "<style scoped>\n",
       "    .dataframe tbody tr th:only-of-type {\n",
       "        vertical-align: middle;\n",
       "    }\n",
       "\n",
       "    .dataframe tbody tr th {\n",
       "        vertical-align: top;\n",
       "    }\n",
       "\n",
       "    .dataframe thead th {\n",
       "        text-align: right;\n",
       "    }\n",
       "</style>\n",
       "<table border=\"1\" class=\"dataframe\">\n",
       "  <thead>\n",
       "    <tr style=\"text-align: right;\">\n",
       "      <th></th>\n",
       "      <th>0</th>\n",
       "      <th>1</th>\n",
       "      <th>2</th>\n",
       "    </tr>\n",
       "  </thead>\n",
       "  <tbody>\n",
       "    <tr>\n",
       "      <th>0</th>\n",
       "      <td>1.009829</td>\n",
       "      <td>0.177966</td>\n",
       "      <td>1.488304</td>\n",
       "    </tr>\n",
       "    <tr>\n",
       "      <th>1</th>\n",
       "      <td>2.593826</td>\n",
       "      <td>-0.516656</td>\n",
       "      <td>-0.585320</td>\n",
       "    </tr>\n",
       "    <tr>\n",
       "      <th>2</th>\n",
       "      <td>-0.154490</td>\n",
       "      <td>NaN</td>\n",
       "      <td>1.906218</td>\n",
       "    </tr>\n",
       "    <tr>\n",
       "      <th>3</th>\n",
       "      <td>0.209451</td>\n",
       "      <td>NaN</td>\n",
       "      <td>0.089482</td>\n",
       "    </tr>\n",
       "    <tr>\n",
       "      <th>4</th>\n",
       "      <td>1.076311</td>\n",
       "      <td>NaN</td>\n",
       "      <td>NaN</td>\n",
       "    </tr>\n",
       "    <tr>\n",
       "      <th>5</th>\n",
       "      <td>-0.231412</td>\n",
       "      <td>NaN</td>\n",
       "      <td>NaN</td>\n",
       "    </tr>\n",
       "  </tbody>\n",
       "</table>\n",
       "</div>"
      ],
      "text/plain": [
       "          0         1         2\n",
       "0  1.009829  0.177966  1.488304\n",
       "1  2.593826 -0.516656 -0.585320\n",
       "2 -0.154490       NaN  1.906218\n",
       "3  0.209451       NaN  0.089482\n",
       "4  1.076311       NaN       NaN\n",
       "5 -0.231412       NaN       NaN"
      ]
     },
     "execution_count": 177,
     "metadata": {},
     "output_type": "execute_result"
    }
   ],
   "source": [
    "df = DataFrame( np.random.randn(6, 3) )\n",
    "df.iloc[2:, 1] = np.nan\n",
    "df.iloc[4:, 2] = np.nan\n",
    "df"
   ]
  },
  {
   "cell_type": "code",
   "execution_count": 178,
   "metadata": {},
   "outputs": [
    {
     "data": {
      "text/html": [
       "<div>\n",
       "<style scoped>\n",
       "    .dataframe tbody tr th:only-of-type {\n",
       "        vertical-align: middle;\n",
       "    }\n",
       "\n",
       "    .dataframe tbody tr th {\n",
       "        vertical-align: top;\n",
       "    }\n",
       "\n",
       "    .dataframe thead th {\n",
       "        text-align: right;\n",
       "    }\n",
       "</style>\n",
       "<table border=\"1\" class=\"dataframe\">\n",
       "  <thead>\n",
       "    <tr style=\"text-align: right;\">\n",
       "      <th></th>\n",
       "      <th>0</th>\n",
       "      <th>1</th>\n",
       "      <th>2</th>\n",
       "    </tr>\n",
       "  </thead>\n",
       "  <tbody>\n",
       "    <tr>\n",
       "      <th>0</th>\n",
       "      <td>1.009829</td>\n",
       "      <td>0.177966</td>\n",
       "      <td>1.488304</td>\n",
       "    </tr>\n",
       "    <tr>\n",
       "      <th>1</th>\n",
       "      <td>2.593826</td>\n",
       "      <td>-0.516656</td>\n",
       "      <td>-0.585320</td>\n",
       "    </tr>\n",
       "    <tr>\n",
       "      <th>2</th>\n",
       "      <td>-0.154490</td>\n",
       "      <td>-0.516656</td>\n",
       "      <td>1.906218</td>\n",
       "    </tr>\n",
       "    <tr>\n",
       "      <th>3</th>\n",
       "      <td>0.209451</td>\n",
       "      <td>-0.516656</td>\n",
       "      <td>0.089482</td>\n",
       "    </tr>\n",
       "    <tr>\n",
       "      <th>4</th>\n",
       "      <td>1.076311</td>\n",
       "      <td>-0.516656</td>\n",
       "      <td>0.089482</td>\n",
       "    </tr>\n",
       "    <tr>\n",
       "      <th>5</th>\n",
       "      <td>-0.231412</td>\n",
       "      <td>-0.516656</td>\n",
       "      <td>0.089482</td>\n",
       "    </tr>\n",
       "  </tbody>\n",
       "</table>\n",
       "</div>"
      ],
      "text/plain": [
       "          0         1         2\n",
       "0  1.009829  0.177966  1.488304\n",
       "1  2.593826 -0.516656 -0.585320\n",
       "2 -0.154490 -0.516656  1.906218\n",
       "3  0.209451 -0.516656  0.089482\n",
       "4  1.076311 -0.516656  0.089482\n",
       "5 -0.231412 -0.516656  0.089482"
      ]
     },
     "execution_count": 178,
     "metadata": {},
     "output_type": "execute_result"
    }
   ],
   "source": [
    "df.fillna( method='ffill' )"
   ]
  },
  {
   "cell_type": "code",
   "execution_count": 179,
   "metadata": {},
   "outputs": [
    {
     "data": {
      "text/html": [
       "<div>\n",
       "<style scoped>\n",
       "    .dataframe tbody tr th:only-of-type {\n",
       "        vertical-align: middle;\n",
       "    }\n",
       "\n",
       "    .dataframe tbody tr th {\n",
       "        vertical-align: top;\n",
       "    }\n",
       "\n",
       "    .dataframe thead th {\n",
       "        text-align: right;\n",
       "    }\n",
       "</style>\n",
       "<table border=\"1\" class=\"dataframe\">\n",
       "  <thead>\n",
       "    <tr style=\"text-align: right;\">\n",
       "      <th></th>\n",
       "      <th>0</th>\n",
       "      <th>1</th>\n",
       "      <th>2</th>\n",
       "    </tr>\n",
       "  </thead>\n",
       "  <tbody>\n",
       "    <tr>\n",
       "      <th>0</th>\n",
       "      <td>1.009829</td>\n",
       "      <td>0.177966</td>\n",
       "      <td>1.488304</td>\n",
       "    </tr>\n",
       "    <tr>\n",
       "      <th>1</th>\n",
       "      <td>2.593826</td>\n",
       "      <td>-0.516656</td>\n",
       "      <td>-0.585320</td>\n",
       "    </tr>\n",
       "    <tr>\n",
       "      <th>2</th>\n",
       "      <td>-0.154490</td>\n",
       "      <td>-0.516656</td>\n",
       "      <td>1.906218</td>\n",
       "    </tr>\n",
       "    <tr>\n",
       "      <th>3</th>\n",
       "      <td>0.209451</td>\n",
       "      <td>-0.516656</td>\n",
       "      <td>0.089482</td>\n",
       "    </tr>\n",
       "    <tr>\n",
       "      <th>4</th>\n",
       "      <td>1.076311</td>\n",
       "      <td>NaN</td>\n",
       "      <td>0.089482</td>\n",
       "    </tr>\n",
       "    <tr>\n",
       "      <th>5</th>\n",
       "      <td>-0.231412</td>\n",
       "      <td>NaN</td>\n",
       "      <td>0.089482</td>\n",
       "    </tr>\n",
       "  </tbody>\n",
       "</table>\n",
       "</div>"
      ],
      "text/plain": [
       "          0         1         2\n",
       "0  1.009829  0.177966  1.488304\n",
       "1  2.593826 -0.516656 -0.585320\n",
       "2 -0.154490 -0.516656  1.906218\n",
       "3  0.209451 -0.516656  0.089482\n",
       "4  1.076311       NaN  0.089482\n",
       "5 -0.231412       NaN  0.089482"
      ]
     },
     "execution_count": 179,
     "metadata": {},
     "output_type": "execute_result"
    }
   ],
   "source": [
    "df.fillna( method=\"ffill\", limit=2 )"
   ]
  },
  {
   "cell_type": "markdown",
   "metadata": {},
   "source": [
    "## Hierarchical indices"
   ]
  },
  {
   "cell_type": "markdown",
   "metadata": {},
   "source": [
    "The simplest method to create a table with hierarchical indices is to pass nested lists as indices to the Series() or DataFrame() constructors:"
   ]
  },
  {
   "cell_type": "code",
   "execution_count": 180,
   "metadata": {},
   "outputs": [
    {
     "data": {
      "text/plain": [
       "a  1   -1.317260\n",
       "   2   -0.029162\n",
       "   3   -0.776470\n",
       "b  1    1.620066\n",
       "   2   -0.337660\n",
       "   3   -1.756155\n",
       "c  1    0.841098\n",
       "   2    1.310826\n",
       "d  2   -0.208839\n",
       "   3   -0.043051\n",
       "dtype: float64"
      ]
     },
     "execution_count": 180,
     "metadata": {},
     "output_type": "execute_result"
    }
   ],
   "source": [
    "data = Series( np.random.randn(10),\n",
    "               index=[['a', 'a', 'a', 'b', 'b', 'b', 'c', 'c', 'd', 'd'], [1, 2, 3, 1, 2, 3, 1, 2, 2, 3]] )\n",
    "data"
   ]
  },
  {
   "cell_type": "markdown",
   "metadata": {},
   "source": [
    "Now two different levels of indices exist. The numerical indices are located in a lower level with respect to the alphabetical indices. With this kind of objects we can use *partial indexing* to select subsets of data:"
   ]
  },
  {
   "cell_type": "code",
   "execution_count": 181,
   "metadata": {},
   "outputs": [
    {
     "data": {
      "text/plain": [
       "1    1.620066\n",
       "2   -0.337660\n",
       "3   -1.756155\n",
       "dtype: float64"
      ]
     },
     "execution_count": 181,
     "metadata": {},
     "output_type": "execute_result"
    }
   ],
   "source": [
    "data['b']"
   ]
  },
  {
   "cell_type": "code",
   "execution_count": 182,
   "metadata": {},
   "outputs": [
    {
     "data": {
      "text/plain": [
       "b  1    1.620066\n",
       "   2   -0.337660\n",
       "   3   -1.756155\n",
       "c  1    0.841098\n",
       "   2    1.310826\n",
       "dtype: float64"
      ]
     },
     "execution_count": 182,
     "metadata": {},
     "output_type": "execute_result"
    }
   ],
   "source": [
    "data['b':'c']"
   ]
  },
  {
   "cell_type": "code",
   "execution_count": 183,
   "metadata": {},
   "outputs": [
    {
     "data": {
      "text/plain": [
       "b  1    1.620066\n",
       "   2   -0.337660\n",
       "   3   -1.756155\n",
       "d  2   -0.208839\n",
       "   3   -0.043051\n",
       "dtype: float64"
      ]
     },
     "execution_count": 183,
     "metadata": {},
     "output_type": "execute_result"
    }
   ],
   "source": [
    "data[['b','d']]"
   ]
  },
  {
   "cell_type": "code",
   "execution_count": 184,
   "metadata": {},
   "outputs": [
    {
     "data": {
      "text/plain": [
       "a   -0.029162\n",
       "b   -0.337660\n",
       "c    1.310826\n",
       "d   -0.208839\n",
       "dtype: float64"
      ]
     },
     "execution_count": 184,
     "metadata": {},
     "output_type": "execute_result"
    }
   ],
   "source": [
    "data[:,2]"
   ]
  },
  {
   "cell_type": "markdown",
   "metadata": {},
   "source": [
    "We can \"pivot\" the Series, reorganizing the elements in a 2D table, using unstack():"
   ]
  },
  {
   "cell_type": "code",
   "execution_count": 185,
   "metadata": {},
   "outputs": [
    {
     "data": {
      "text/html": [
       "<div>\n",
       "<style scoped>\n",
       "    .dataframe tbody tr th:only-of-type {\n",
       "        vertical-align: middle;\n",
       "    }\n",
       "\n",
       "    .dataframe tbody tr th {\n",
       "        vertical-align: top;\n",
       "    }\n",
       "\n",
       "    .dataframe thead th {\n",
       "        text-align: right;\n",
       "    }\n",
       "</style>\n",
       "<table border=\"1\" class=\"dataframe\">\n",
       "  <thead>\n",
       "    <tr style=\"text-align: right;\">\n",
       "      <th></th>\n",
       "      <th>1</th>\n",
       "      <th>2</th>\n",
       "      <th>3</th>\n",
       "    </tr>\n",
       "  </thead>\n",
       "  <tbody>\n",
       "    <tr>\n",
       "      <th>a</th>\n",
       "      <td>-1.317260</td>\n",
       "      <td>-0.029162</td>\n",
       "      <td>-0.776470</td>\n",
       "    </tr>\n",
       "    <tr>\n",
       "      <th>b</th>\n",
       "      <td>1.620066</td>\n",
       "      <td>-0.337660</td>\n",
       "      <td>-1.756155</td>\n",
       "    </tr>\n",
       "    <tr>\n",
       "      <th>c</th>\n",
       "      <td>0.841098</td>\n",
       "      <td>1.310826</td>\n",
       "      <td>NaN</td>\n",
       "    </tr>\n",
       "    <tr>\n",
       "      <th>d</th>\n",
       "      <td>NaN</td>\n",
       "      <td>-0.208839</td>\n",
       "      <td>-0.043051</td>\n",
       "    </tr>\n",
       "  </tbody>\n",
       "</table>\n",
       "</div>"
      ],
      "text/plain": [
       "          1         2         3\n",
       "a -1.317260 -0.029162 -0.776470\n",
       "b  1.620066 -0.337660 -1.756155\n",
       "c  0.841098  1.310826       NaN\n",
       "d       NaN -0.208839 -0.043051"
      ]
     },
     "execution_count": 185,
     "metadata": {},
     "output_type": "execute_result"
    }
   ],
   "source": [
    "data.unstack()"
   ]
  },
  {
   "cell_type": "markdown",
   "metadata": {},
   "source": [
    "The reverse operation is stack():"
   ]
  },
  {
   "cell_type": "code",
   "execution_count": 186,
   "metadata": {},
   "outputs": [
    {
     "data": {
      "text/plain": [
       "a  1   -1.317260\n",
       "   2   -0.029162\n",
       "   3   -0.776470\n",
       "b  1    1.620066\n",
       "   2   -0.337660\n",
       "   3   -1.756155\n",
       "c  1    0.841098\n",
       "   2    1.310826\n",
       "d  2   -0.208839\n",
       "   3   -0.043051\n",
       "dtype: float64"
      ]
     },
     "execution_count": 186,
     "metadata": {},
     "output_type": "execute_result"
    }
   ],
   "source": [
    "data.unstack().stack()"
   ]
  },
  {
   "cell_type": "markdown",
   "metadata": {},
   "source": [
    "We will explore these operations in more depth when we talk about cleaning and transforming data (wrangling).\n",
    "\n",
    "Working with DataFrame, any of both axes can have hierarchical indices:"
   ]
  },
  {
   "cell_type": "code",
   "execution_count": 187,
   "metadata": {},
   "outputs": [
    {
     "data": {
      "text/html": [
       "<div>\n",
       "<style scoped>\n",
       "    .dataframe tbody tr th:only-of-type {\n",
       "        vertical-align: middle;\n",
       "    }\n",
       "\n",
       "    .dataframe tbody tr th {\n",
       "        vertical-align: top;\n",
       "    }\n",
       "\n",
       "    .dataframe thead tr th {\n",
       "        text-align: left;\n",
       "    }\n",
       "</style>\n",
       "<table border=\"1\" class=\"dataframe\">\n",
       "  <thead>\n",
       "    <tr>\n",
       "      <th></th>\n",
       "      <th></th>\n",
       "      <th colspan=\"2\" halign=\"left\">Caladan</th>\n",
       "      <th>Corrin</th>\n",
       "    </tr>\n",
       "    <tr>\n",
       "      <th></th>\n",
       "      <th></th>\n",
       "      <th>Green</th>\n",
       "      <th>Red</th>\n",
       "      <th>Green</th>\n",
       "    </tr>\n",
       "  </thead>\n",
       "  <tbody>\n",
       "    <tr>\n",
       "      <th rowspan=\"2\" valign=\"top\">a</th>\n",
       "      <th>1</th>\n",
       "      <td>0</td>\n",
       "      <td>1</td>\n",
       "      <td>2</td>\n",
       "    </tr>\n",
       "    <tr>\n",
       "      <th>2</th>\n",
       "      <td>3</td>\n",
       "      <td>4</td>\n",
       "      <td>5</td>\n",
       "    </tr>\n",
       "    <tr>\n",
       "      <th rowspan=\"2\" valign=\"top\">b</th>\n",
       "      <th>1</th>\n",
       "      <td>6</td>\n",
       "      <td>7</td>\n",
       "      <td>8</td>\n",
       "    </tr>\n",
       "    <tr>\n",
       "      <th>2</th>\n",
       "      <td>9</td>\n",
       "      <td>10</td>\n",
       "      <td>11</td>\n",
       "    </tr>\n",
       "  </tbody>\n",
       "</table>\n",
       "</div>"
      ],
      "text/plain": [
       "    Caladan     Corrin\n",
       "      Green Red  Green\n",
       "a 1       0   1      2\n",
       "  2       3   4      5\n",
       "b 1       6   7      8\n",
       "  2       9  10     11"
      ]
     },
     "execution_count": 187,
     "metadata": {},
     "output_type": "execute_result"
    }
   ],
   "source": [
    "frame = DataFrame( np.arange(12).reshape((4,3)),\n",
    "                   index=[['a', 'a', 'b', 'b'], [1, 2, 1, 2]],\n",
    "                   columns=[['Caladan', 'Caladan', 'Corrin'], ['Green', 'Red', 'Green']] )\n",
    "frame"
   ]
  },
  {
   "cell_type": "markdown",
   "metadata": {},
   "source": [
    "Hierarhical levels can be named:"
   ]
  },
  {
   "cell_type": "code",
   "execution_count": 188,
   "metadata": {},
   "outputs": [
    {
     "data": {
      "text/html": [
       "<div>\n",
       "<style scoped>\n",
       "    .dataframe tbody tr th:only-of-type {\n",
       "        vertical-align: middle;\n",
       "    }\n",
       "\n",
       "    .dataframe tbody tr th {\n",
       "        vertical-align: top;\n",
       "    }\n",
       "\n",
       "    .dataframe thead tr th {\n",
       "        text-align: left;\n",
       "    }\n",
       "\n",
       "    .dataframe thead tr:last-of-type th {\n",
       "        text-align: right;\n",
       "    }\n",
       "</style>\n",
       "<table border=\"1\" class=\"dataframe\">\n",
       "  <thead>\n",
       "    <tr>\n",
       "      <th></th>\n",
       "      <th>planet</th>\n",
       "      <th colspan=\"2\" halign=\"left\">Caladan</th>\n",
       "      <th>Corrin</th>\n",
       "    </tr>\n",
       "    <tr>\n",
       "      <th></th>\n",
       "      <th>color</th>\n",
       "      <th>Green</th>\n",
       "      <th>Red</th>\n",
       "      <th>Green</th>\n",
       "    </tr>\n",
       "    <tr>\n",
       "      <th>key1</th>\n",
       "      <th>key2</th>\n",
       "      <th></th>\n",
       "      <th></th>\n",
       "      <th></th>\n",
       "    </tr>\n",
       "  </thead>\n",
       "  <tbody>\n",
       "    <tr>\n",
       "      <th rowspan=\"2\" valign=\"top\">a</th>\n",
       "      <th>1</th>\n",
       "      <td>0</td>\n",
       "      <td>1</td>\n",
       "      <td>2</td>\n",
       "    </tr>\n",
       "    <tr>\n",
       "      <th>2</th>\n",
       "      <td>3</td>\n",
       "      <td>4</td>\n",
       "      <td>5</td>\n",
       "    </tr>\n",
       "    <tr>\n",
       "      <th rowspan=\"2\" valign=\"top\">b</th>\n",
       "      <th>1</th>\n",
       "      <td>6</td>\n",
       "      <td>7</td>\n",
       "      <td>8</td>\n",
       "    </tr>\n",
       "    <tr>\n",
       "      <th>2</th>\n",
       "      <td>9</td>\n",
       "      <td>10</td>\n",
       "      <td>11</td>\n",
       "    </tr>\n",
       "  </tbody>\n",
       "</table>\n",
       "</div>"
      ],
      "text/plain": [
       "planet    Caladan     Corrin\n",
       "color       Green Red  Green\n",
       "key1 key2                   \n",
       "a    1          0   1      2\n",
       "     2          3   4      5\n",
       "b    1          6   7      8\n",
       "     2          9  10     11"
      ]
     },
     "execution_count": 188,
     "metadata": {},
     "output_type": "execute_result"
    }
   ],
   "source": [
    "frame.index.names = ['key1', 'key2']\n",
    "frame.columns.names = ['planet', 'color']\n",
    "frame"
   ]
  },
  {
   "cell_type": "markdown",
   "metadata": {},
   "source": [
    "Partial indexing works over the columns, too:"
   ]
  },
  {
   "cell_type": "code",
   "execution_count": 189,
   "metadata": {},
   "outputs": [
    {
     "data": {
      "text/html": [
       "<div>\n",
       "<style scoped>\n",
       "    .dataframe tbody tr th:only-of-type {\n",
       "        vertical-align: middle;\n",
       "    }\n",
       "\n",
       "    .dataframe tbody tr th {\n",
       "        vertical-align: top;\n",
       "    }\n",
       "\n",
       "    .dataframe thead th {\n",
       "        text-align: right;\n",
       "    }\n",
       "</style>\n",
       "<table border=\"1\" class=\"dataframe\">\n",
       "  <thead>\n",
       "    <tr style=\"text-align: right;\">\n",
       "      <th></th>\n",
       "      <th>color</th>\n",
       "      <th>Green</th>\n",
       "      <th>Red</th>\n",
       "    </tr>\n",
       "    <tr>\n",
       "      <th>key1</th>\n",
       "      <th>key2</th>\n",
       "      <th></th>\n",
       "      <th></th>\n",
       "    </tr>\n",
       "  </thead>\n",
       "  <tbody>\n",
       "    <tr>\n",
       "      <th rowspan=\"2\" valign=\"top\">a</th>\n",
       "      <th>1</th>\n",
       "      <td>0</td>\n",
       "      <td>1</td>\n",
       "    </tr>\n",
       "    <tr>\n",
       "      <th>2</th>\n",
       "      <td>3</td>\n",
       "      <td>4</td>\n",
       "    </tr>\n",
       "    <tr>\n",
       "      <th rowspan=\"2\" valign=\"top\">b</th>\n",
       "      <th>1</th>\n",
       "      <td>6</td>\n",
       "      <td>7</td>\n",
       "    </tr>\n",
       "    <tr>\n",
       "      <th>2</th>\n",
       "      <td>9</td>\n",
       "      <td>10</td>\n",
       "    </tr>\n",
       "  </tbody>\n",
       "</table>\n",
       "</div>"
      ],
      "text/plain": [
       "color      Green  Red\n",
       "key1 key2            \n",
       "a    1         0    1\n",
       "     2         3    4\n",
       "b    1         6    7\n",
       "     2         9   10"
      ]
     },
     "execution_count": 189,
     "metadata": {},
     "output_type": "execute_result"
    }
   ],
   "source": [
    "frame['Caladan']"
   ]
  },
  {
   "cell_type": "markdown",
   "metadata": {},
   "source": [
    "We can create a MultiIndex object and use it when creating objects:"
   ]
  },
  {
   "cell_type": "code",
   "execution_count": 190,
   "metadata": {},
   "outputs": [],
   "source": [
    "from pandas import MultiIndex"
   ]
  },
  {
   "cell_type": "code",
   "execution_count": 191,
   "metadata": {},
   "outputs": [
    {
     "data": {
      "text/plain": [
       "MultiIndex(levels=[['Caladan', 'Corrin'], ['Green', 'Red']],\n",
       "           labels=[[0, 0, 1], [0, 1, 0]],\n",
       "           names=['planet', 'color'])"
      ]
     },
     "execution_count": 191,
     "metadata": {},
     "output_type": "execute_result"
    }
   ],
   "source": [
    "MultiIndex.from_arrays( [['Caladan', 'Caladan', 'Corrin'], ['Green', 'Red', 'Green']], names=['planet', 'color'] )"
   ]
  },
  {
   "cell_type": "markdown",
   "metadata": {},
   "source": [
    "### Sorting and reshaping hierarchical index levels"
   ]
  },
  {
   "cell_type": "markdown",
   "metadata": {},
   "source": [
    "The swaplevel() method interchanges two index levels:"
   ]
  },
  {
   "cell_type": "code",
   "execution_count": 192,
   "metadata": {},
   "outputs": [
    {
     "data": {
      "text/html": [
       "<div>\n",
       "<style scoped>\n",
       "    .dataframe tbody tr th:only-of-type {\n",
       "        vertical-align: middle;\n",
       "    }\n",
       "\n",
       "    .dataframe tbody tr th {\n",
       "        vertical-align: top;\n",
       "    }\n",
       "\n",
       "    .dataframe thead tr th {\n",
       "        text-align: left;\n",
       "    }\n",
       "\n",
       "    .dataframe thead tr:last-of-type th {\n",
       "        text-align: right;\n",
       "    }\n",
       "</style>\n",
       "<table border=\"1\" class=\"dataframe\">\n",
       "  <thead>\n",
       "    <tr>\n",
       "      <th></th>\n",
       "      <th>planet</th>\n",
       "      <th colspan=\"2\" halign=\"left\">Caladan</th>\n",
       "      <th>Corrin</th>\n",
       "    </tr>\n",
       "    <tr>\n",
       "      <th></th>\n",
       "      <th>color</th>\n",
       "      <th>Green</th>\n",
       "      <th>Red</th>\n",
       "      <th>Green</th>\n",
       "    </tr>\n",
       "    <tr>\n",
       "      <th>key2</th>\n",
       "      <th>key1</th>\n",
       "      <th></th>\n",
       "      <th></th>\n",
       "      <th></th>\n",
       "    </tr>\n",
       "  </thead>\n",
       "  <tbody>\n",
       "    <tr>\n",
       "      <th>1</th>\n",
       "      <th>a</th>\n",
       "      <td>0</td>\n",
       "      <td>1</td>\n",
       "      <td>2</td>\n",
       "    </tr>\n",
       "    <tr>\n",
       "      <th>2</th>\n",
       "      <th>a</th>\n",
       "      <td>3</td>\n",
       "      <td>4</td>\n",
       "      <td>5</td>\n",
       "    </tr>\n",
       "    <tr>\n",
       "      <th>1</th>\n",
       "      <th>b</th>\n",
       "      <td>6</td>\n",
       "      <td>7</td>\n",
       "      <td>8</td>\n",
       "    </tr>\n",
       "    <tr>\n",
       "      <th>2</th>\n",
       "      <th>b</th>\n",
       "      <td>9</td>\n",
       "      <td>10</td>\n",
       "      <td>11</td>\n",
       "    </tr>\n",
       "  </tbody>\n",
       "</table>\n",
       "</div>"
      ],
      "text/plain": [
       "planet    Caladan     Corrin\n",
       "color       Green Red  Green\n",
       "key2 key1                   \n",
       "1    a          0   1      2\n",
       "2    a          3   4      5\n",
       "1    b          6   7      8\n",
       "2    b          9  10     11"
      ]
     },
     "execution_count": 192,
     "metadata": {},
     "output_type": "execute_result"
    }
   ],
   "source": [
    "frame.swaplevel( 'key1', 'key2' )"
   ]
  },
  {
   "cell_type": "markdown",
   "metadata": {},
   "source": [
    "The $level$ parameter of sort_index() reorders data using the values of a single level. It is useful in combination with swaplevel() to guarantee that the results are lexicographically ordered:"
   ]
  },
  {
   "cell_type": "code",
   "execution_count": 193,
   "metadata": {},
   "outputs": [
    {
     "data": {
      "text/html": [
       "<div>\n",
       "<style scoped>\n",
       "    .dataframe tbody tr th:only-of-type {\n",
       "        vertical-align: middle;\n",
       "    }\n",
       "\n",
       "    .dataframe tbody tr th {\n",
       "        vertical-align: top;\n",
       "    }\n",
       "\n",
       "    .dataframe thead tr th {\n",
       "        text-align: left;\n",
       "    }\n",
       "\n",
       "    .dataframe thead tr:last-of-type th {\n",
       "        text-align: right;\n",
       "    }\n",
       "</style>\n",
       "<table border=\"1\" class=\"dataframe\">\n",
       "  <thead>\n",
       "    <tr>\n",
       "      <th></th>\n",
       "      <th>planet</th>\n",
       "      <th colspan=\"2\" halign=\"left\">Caladan</th>\n",
       "      <th>Corrin</th>\n",
       "    </tr>\n",
       "    <tr>\n",
       "      <th></th>\n",
       "      <th>color</th>\n",
       "      <th>Green</th>\n",
       "      <th>Red</th>\n",
       "      <th>Green</th>\n",
       "    </tr>\n",
       "    <tr>\n",
       "      <th>key1</th>\n",
       "      <th>key2</th>\n",
       "      <th></th>\n",
       "      <th></th>\n",
       "      <th></th>\n",
       "    </tr>\n",
       "  </thead>\n",
       "  <tbody>\n",
       "    <tr>\n",
       "      <th>a</th>\n",
       "      <th>1</th>\n",
       "      <td>0</td>\n",
       "      <td>1</td>\n",
       "      <td>2</td>\n",
       "    </tr>\n",
       "    <tr>\n",
       "      <th>b</th>\n",
       "      <th>1</th>\n",
       "      <td>6</td>\n",
       "      <td>7</td>\n",
       "      <td>8</td>\n",
       "    </tr>\n",
       "    <tr>\n",
       "      <th>a</th>\n",
       "      <th>2</th>\n",
       "      <td>3</td>\n",
       "      <td>4</td>\n",
       "      <td>5</td>\n",
       "    </tr>\n",
       "    <tr>\n",
       "      <th>b</th>\n",
       "      <th>2</th>\n",
       "      <td>9</td>\n",
       "      <td>10</td>\n",
       "      <td>11</td>\n",
       "    </tr>\n",
       "  </tbody>\n",
       "</table>\n",
       "</div>"
      ],
      "text/plain": [
       "planet    Caladan     Corrin\n",
       "color       Green Red  Green\n",
       "key1 key2                   \n",
       "a    1          0   1      2\n",
       "b    1          6   7      8\n",
       "a    2          3   4      5\n",
       "b    2          9  10     11"
      ]
     },
     "execution_count": 193,
     "metadata": {},
     "output_type": "execute_result"
    }
   ],
   "source": [
    "frame.sort_index(level=1)"
   ]
  },
  {
   "cell_type": "code",
   "execution_count": 194,
   "metadata": {},
   "outputs": [
    {
     "data": {
      "text/html": [
       "<div>\n",
       "<style scoped>\n",
       "    .dataframe tbody tr th:only-of-type {\n",
       "        vertical-align: middle;\n",
       "    }\n",
       "\n",
       "    .dataframe tbody tr th {\n",
       "        vertical-align: top;\n",
       "    }\n",
       "\n",
       "    .dataframe thead tr th {\n",
       "        text-align: left;\n",
       "    }\n",
       "\n",
       "    .dataframe thead tr:last-of-type th {\n",
       "        text-align: right;\n",
       "    }\n",
       "</style>\n",
       "<table border=\"1\" class=\"dataframe\">\n",
       "  <thead>\n",
       "    <tr>\n",
       "      <th></th>\n",
       "      <th>planet</th>\n",
       "      <th colspan=\"2\" halign=\"left\">Caladan</th>\n",
       "      <th>Corrin</th>\n",
       "    </tr>\n",
       "    <tr>\n",
       "      <th></th>\n",
       "      <th>color</th>\n",
       "      <th>Green</th>\n",
       "      <th>Red</th>\n",
       "      <th>Green</th>\n",
       "    </tr>\n",
       "    <tr>\n",
       "      <th>key2</th>\n",
       "      <th>key1</th>\n",
       "      <th></th>\n",
       "      <th></th>\n",
       "      <th></th>\n",
       "    </tr>\n",
       "  </thead>\n",
       "  <tbody>\n",
       "    <tr>\n",
       "      <th rowspan=\"2\" valign=\"top\">1</th>\n",
       "      <th>a</th>\n",
       "      <td>0</td>\n",
       "      <td>1</td>\n",
       "      <td>2</td>\n",
       "    </tr>\n",
       "    <tr>\n",
       "      <th>b</th>\n",
       "      <td>6</td>\n",
       "      <td>7</td>\n",
       "      <td>8</td>\n",
       "    </tr>\n",
       "    <tr>\n",
       "      <th rowspan=\"2\" valign=\"top\">2</th>\n",
       "      <th>a</th>\n",
       "      <td>3</td>\n",
       "      <td>4</td>\n",
       "      <td>5</td>\n",
       "    </tr>\n",
       "    <tr>\n",
       "      <th>b</th>\n",
       "      <td>9</td>\n",
       "      <td>10</td>\n",
       "      <td>11</td>\n",
       "    </tr>\n",
       "  </tbody>\n",
       "</table>\n",
       "</div>"
      ],
      "text/plain": [
       "planet    Caladan     Corrin\n",
       "color       Green Red  Green\n",
       "key2 key1                   \n",
       "1    a          0   1      2\n",
       "     b          6   7      8\n",
       "2    a          3   4      5\n",
       "     b          9  10     11"
      ]
     },
     "execution_count": 194,
     "metadata": {},
     "output_type": "execute_result"
    }
   ],
   "source": [
    "frame.swaplevel(0,1).sort_index(level=0)"
   ]
  },
  {
   "cell_type": "markdown",
   "metadata": {},
   "source": [
    "Beyond aesthetics, selection operations on hierarchically indexed objects perform much better when working with lexicographically sorted indices."
   ]
  },
  {
   "cell_type": "markdown",
   "metadata": {},
   "source": [
    "### Descriptive statistics by levels"
   ]
  },
  {
   "cell_type": "markdown",
   "metadata": {},
   "source": [
    "The descriptive statistics methods we saw before include a $level$ attribute which specifies the hierarchical level of the index over which to reduce:"
   ]
  },
  {
   "cell_type": "code",
   "execution_count": 195,
   "metadata": {},
   "outputs": [
    {
     "data": {
      "text/html": [
       "<div>\n",
       "<style scoped>\n",
       "    .dataframe tbody tr th:only-of-type {\n",
       "        vertical-align: middle;\n",
       "    }\n",
       "\n",
       "    .dataframe tbody tr th {\n",
       "        vertical-align: top;\n",
       "    }\n",
       "\n",
       "    .dataframe thead tr th {\n",
       "        text-align: left;\n",
       "    }\n",
       "\n",
       "    .dataframe thead tr:last-of-type th {\n",
       "        text-align: right;\n",
       "    }\n",
       "</style>\n",
       "<table border=\"1\" class=\"dataframe\">\n",
       "  <thead>\n",
       "    <tr>\n",
       "      <th>planet</th>\n",
       "      <th colspan=\"2\" halign=\"left\">Caladan</th>\n",
       "      <th>Corrin</th>\n",
       "    </tr>\n",
       "    <tr>\n",
       "      <th>color</th>\n",
       "      <th>Green</th>\n",
       "      <th>Red</th>\n",
       "      <th>Green</th>\n",
       "    </tr>\n",
       "    <tr>\n",
       "      <th>key2</th>\n",
       "      <th></th>\n",
       "      <th></th>\n",
       "      <th></th>\n",
       "    </tr>\n",
       "  </thead>\n",
       "  <tbody>\n",
       "    <tr>\n",
       "      <th>1</th>\n",
       "      <td>6</td>\n",
       "      <td>8</td>\n",
       "      <td>10</td>\n",
       "    </tr>\n",
       "    <tr>\n",
       "      <th>2</th>\n",
       "      <td>12</td>\n",
       "      <td>14</td>\n",
       "      <td>16</td>\n",
       "    </tr>\n",
       "  </tbody>\n",
       "</table>\n",
       "</div>"
      ],
      "text/plain": [
       "planet Caladan     Corrin\n",
       "color    Green Red  Green\n",
       "key2                     \n",
       "1            6   8     10\n",
       "2           12  14     16"
      ]
     },
     "execution_count": 195,
     "metadata": {},
     "output_type": "execute_result"
    }
   ],
   "source": [
    "frame.sum( level='key2' )"
   ]
  },
  {
   "cell_type": "code",
   "execution_count": 196,
   "metadata": {},
   "outputs": [
    {
     "data": {
      "text/html": [
       "<div>\n",
       "<style scoped>\n",
       "    .dataframe tbody tr th:only-of-type {\n",
       "        vertical-align: middle;\n",
       "    }\n",
       "\n",
       "    .dataframe tbody tr th {\n",
       "        vertical-align: top;\n",
       "    }\n",
       "\n",
       "    .dataframe thead th {\n",
       "        text-align: right;\n",
       "    }\n",
       "</style>\n",
       "<table border=\"1\" class=\"dataframe\">\n",
       "  <thead>\n",
       "    <tr style=\"text-align: right;\">\n",
       "      <th></th>\n",
       "      <th>color</th>\n",
       "      <th>Green</th>\n",
       "      <th>Red</th>\n",
       "    </tr>\n",
       "    <tr>\n",
       "      <th>key1</th>\n",
       "      <th>key2</th>\n",
       "      <th></th>\n",
       "      <th></th>\n",
       "    </tr>\n",
       "  </thead>\n",
       "  <tbody>\n",
       "    <tr>\n",
       "      <th rowspan=\"2\" valign=\"top\">a</th>\n",
       "      <th>1</th>\n",
       "      <td>2</td>\n",
       "      <td>1</td>\n",
       "    </tr>\n",
       "    <tr>\n",
       "      <th>2</th>\n",
       "      <td>8</td>\n",
       "      <td>4</td>\n",
       "    </tr>\n",
       "    <tr>\n",
       "      <th rowspan=\"2\" valign=\"top\">b</th>\n",
       "      <th>1</th>\n",
       "      <td>14</td>\n",
       "      <td>7</td>\n",
       "    </tr>\n",
       "    <tr>\n",
       "      <th>2</th>\n",
       "      <td>20</td>\n",
       "      <td>10</td>\n",
       "    </tr>\n",
       "  </tbody>\n",
       "</table>\n",
       "</div>"
      ],
      "text/plain": [
       "color      Green  Red\n",
       "key1 key2            \n",
       "a    1         2    1\n",
       "     2         8    4\n",
       "b    1        14    7\n",
       "     2        20   10"
      ]
     },
     "execution_count": 196,
     "metadata": {},
     "output_type": "execute_result"
    }
   ],
   "source": [
    "frame.sum( level='color', axis=1 )"
   ]
  },
  {
   "cell_type": "markdown",
   "metadata": {},
   "source": [
    "On the inside, these functions use groupby(), which we will study further down the road."
   ]
  },
  {
   "cell_type": "markdown",
   "metadata": {},
   "source": [
    "### Using a DataFrame columns"
   ]
  },
  {
   "cell_type": "markdown",
   "metadata": {},
   "source": [
    "It is often useful to use the columns of a DataFrame as an index over its rows. In other occasions, we wish to reshape data so that row indices are interpreted as columns:"
   ]
  },
  {
   "cell_type": "code",
   "execution_count": 197,
   "metadata": {},
   "outputs": [
    {
     "data": {
      "text/html": [
       "<div>\n",
       "<style scoped>\n",
       "    .dataframe tbody tr th:only-of-type {\n",
       "        vertical-align: middle;\n",
       "    }\n",
       "\n",
       "    .dataframe tbody tr th {\n",
       "        vertical-align: top;\n",
       "    }\n",
       "\n",
       "    .dataframe thead th {\n",
       "        text-align: right;\n",
       "    }\n",
       "</style>\n",
       "<table border=\"1\" class=\"dataframe\">\n",
       "  <thead>\n",
       "    <tr style=\"text-align: right;\">\n",
       "      <th></th>\n",
       "      <th>a</th>\n",
       "      <th>b</th>\n",
       "      <th>c</th>\n",
       "      <th>d</th>\n",
       "    </tr>\n",
       "  </thead>\n",
       "  <tbody>\n",
       "    <tr>\n",
       "      <th>0</th>\n",
       "      <td>0</td>\n",
       "      <td>7</td>\n",
       "      <td>one</td>\n",
       "      <td>0</td>\n",
       "    </tr>\n",
       "    <tr>\n",
       "      <th>1</th>\n",
       "      <td>1</td>\n",
       "      <td>6</td>\n",
       "      <td>one</td>\n",
       "      <td>1</td>\n",
       "    </tr>\n",
       "    <tr>\n",
       "      <th>2</th>\n",
       "      <td>2</td>\n",
       "      <td>5</td>\n",
       "      <td>one</td>\n",
       "      <td>2</td>\n",
       "    </tr>\n",
       "    <tr>\n",
       "      <th>3</th>\n",
       "      <td>3</td>\n",
       "      <td>4</td>\n",
       "      <td>two</td>\n",
       "      <td>0</td>\n",
       "    </tr>\n",
       "    <tr>\n",
       "      <th>4</th>\n",
       "      <td>4</td>\n",
       "      <td>3</td>\n",
       "      <td>two</td>\n",
       "      <td>1</td>\n",
       "    </tr>\n",
       "    <tr>\n",
       "      <th>5</th>\n",
       "      <td>5</td>\n",
       "      <td>2</td>\n",
       "      <td>two</td>\n",
       "      <td>2</td>\n",
       "    </tr>\n",
       "    <tr>\n",
       "      <th>6</th>\n",
       "      <td>6</td>\n",
       "      <td>1</td>\n",
       "      <td>two</td>\n",
       "      <td>3</td>\n",
       "    </tr>\n",
       "  </tbody>\n",
       "</table>\n",
       "</div>"
      ],
      "text/plain": [
       "   a  b    c  d\n",
       "0  0  7  one  0\n",
       "1  1  6  one  1\n",
       "2  2  5  one  2\n",
       "3  3  4  two  0\n",
       "4  4  3  two  1\n",
       "5  5  2  two  2\n",
       "6  6  1  two  3"
      ]
     },
     "execution_count": 197,
     "metadata": {},
     "output_type": "execute_result"
    }
   ],
   "source": [
    "frame = DataFrame( {'a': range(7), 'b': range(7,0,-1), 'c': ['one', 'one', 'one', 'two', 'two', 'two', 'two'],\n",
    "                    'd': [0, 1, 2, 0, 1, 2, 3]} )\n",
    "frame"
   ]
  },
  {
   "cell_type": "markdown",
   "metadata": {},
   "source": [
    "The set_index() method creates a new DataFrame using one or more columns as indices:"
   ]
  },
  {
   "cell_type": "code",
   "execution_count": 198,
   "metadata": {},
   "outputs": [
    {
     "data": {
      "text/html": [
       "<div>\n",
       "<style scoped>\n",
       "    .dataframe tbody tr th:only-of-type {\n",
       "        vertical-align: middle;\n",
       "    }\n",
       "\n",
       "    .dataframe tbody tr th {\n",
       "        vertical-align: top;\n",
       "    }\n",
       "\n",
       "    .dataframe thead th {\n",
       "        text-align: right;\n",
       "    }\n",
       "</style>\n",
       "<table border=\"1\" class=\"dataframe\">\n",
       "  <thead>\n",
       "    <tr style=\"text-align: right;\">\n",
       "      <th></th>\n",
       "      <th></th>\n",
       "      <th>a</th>\n",
       "      <th>b</th>\n",
       "    </tr>\n",
       "    <tr>\n",
       "      <th>c</th>\n",
       "      <th>d</th>\n",
       "      <th></th>\n",
       "      <th></th>\n",
       "    </tr>\n",
       "  </thead>\n",
       "  <tbody>\n",
       "    <tr>\n",
       "      <th rowspan=\"3\" valign=\"top\">one</th>\n",
       "      <th>0</th>\n",
       "      <td>0</td>\n",
       "      <td>7</td>\n",
       "    </tr>\n",
       "    <tr>\n",
       "      <th>1</th>\n",
       "      <td>1</td>\n",
       "      <td>6</td>\n",
       "    </tr>\n",
       "    <tr>\n",
       "      <th>2</th>\n",
       "      <td>2</td>\n",
       "      <td>5</td>\n",
       "    </tr>\n",
       "    <tr>\n",
       "      <th rowspan=\"4\" valign=\"top\">two</th>\n",
       "      <th>0</th>\n",
       "      <td>3</td>\n",
       "      <td>4</td>\n",
       "    </tr>\n",
       "    <tr>\n",
       "      <th>1</th>\n",
       "      <td>4</td>\n",
       "      <td>3</td>\n",
       "    </tr>\n",
       "    <tr>\n",
       "      <th>2</th>\n",
       "      <td>5</td>\n",
       "      <td>2</td>\n",
       "    </tr>\n",
       "    <tr>\n",
       "      <th>3</th>\n",
       "      <td>6</td>\n",
       "      <td>1</td>\n",
       "    </tr>\n",
       "  </tbody>\n",
       "</table>\n",
       "</div>"
      ],
      "text/plain": [
       "       a  b\n",
       "c   d      \n",
       "one 0  0  7\n",
       "    1  1  6\n",
       "    2  2  5\n",
       "two 0  3  4\n",
       "    1  4  3\n",
       "    2  5  2\n",
       "    3  6  1"
      ]
     },
     "execution_count": 198,
     "metadata": {},
     "output_type": "execute_result"
    }
   ],
   "source": [
    "frame2 = frame.set_index( ['c', 'd'] )\n",
    "frame2"
   ]
  },
  {
   "cell_type": "markdown",
   "metadata": {},
   "source": [
    "reset_index() performs the opposite operation: row indices are moved to the columns:"
   ]
  },
  {
   "cell_type": "code",
   "execution_count": 199,
   "metadata": {},
   "outputs": [
    {
     "data": {
      "text/html": [
       "<div>\n",
       "<style scoped>\n",
       "    .dataframe tbody tr th:only-of-type {\n",
       "        vertical-align: middle;\n",
       "    }\n",
       "\n",
       "    .dataframe tbody tr th {\n",
       "        vertical-align: top;\n",
       "    }\n",
       "\n",
       "    .dataframe thead th {\n",
       "        text-align: right;\n",
       "    }\n",
       "</style>\n",
       "<table border=\"1\" class=\"dataframe\">\n",
       "  <thead>\n",
       "    <tr style=\"text-align: right;\">\n",
       "      <th></th>\n",
       "      <th>c</th>\n",
       "      <th>d</th>\n",
       "      <th>a</th>\n",
       "      <th>b</th>\n",
       "    </tr>\n",
       "  </thead>\n",
       "  <tbody>\n",
       "    <tr>\n",
       "      <th>0</th>\n",
       "      <td>one</td>\n",
       "      <td>0</td>\n",
       "      <td>0</td>\n",
       "      <td>7</td>\n",
       "    </tr>\n",
       "    <tr>\n",
       "      <th>1</th>\n",
       "      <td>one</td>\n",
       "      <td>1</td>\n",
       "      <td>1</td>\n",
       "      <td>6</td>\n",
       "    </tr>\n",
       "    <tr>\n",
       "      <th>2</th>\n",
       "      <td>one</td>\n",
       "      <td>2</td>\n",
       "      <td>2</td>\n",
       "      <td>5</td>\n",
       "    </tr>\n",
       "    <tr>\n",
       "      <th>3</th>\n",
       "      <td>two</td>\n",
       "      <td>0</td>\n",
       "      <td>3</td>\n",
       "      <td>4</td>\n",
       "    </tr>\n",
       "    <tr>\n",
       "      <th>4</th>\n",
       "      <td>two</td>\n",
       "      <td>1</td>\n",
       "      <td>4</td>\n",
       "      <td>3</td>\n",
       "    </tr>\n",
       "    <tr>\n",
       "      <th>5</th>\n",
       "      <td>two</td>\n",
       "      <td>2</td>\n",
       "      <td>5</td>\n",
       "      <td>2</td>\n",
       "    </tr>\n",
       "    <tr>\n",
       "      <th>6</th>\n",
       "      <td>two</td>\n",
       "      <td>3</td>\n",
       "      <td>6</td>\n",
       "      <td>1</td>\n",
       "    </tr>\n",
       "  </tbody>\n",
       "</table>\n",
       "</div>"
      ],
      "text/plain": [
       "     c  d  a  b\n",
       "0  one  0  0  7\n",
       "1  one  1  1  6\n",
       "2  one  2  2  5\n",
       "3  two  0  3  4\n",
       "4  two  1  4  3\n",
       "5  two  2  5  2\n",
       "6  two  3  6  1"
      ]
     },
     "execution_count": 199,
     "metadata": {},
     "output_type": "execute_result"
    }
   ],
   "source": [
    "frame2.reset_index()"
   ]
  },
  {
   "cell_type": "markdown",
   "metadata": {},
   "source": [
    "## Revisiting the bit.ly case study"
   ]
  },
  {
   "cell_type": "markdown",
   "metadata": {},
   "source": [
    "It is trivial to create a DataFrame from the JSON records (dictionaries):"
   ]
  },
  {
   "cell_type": "code",
   "execution_count": 200,
   "metadata": {},
   "outputs": [
    {
     "data": {
      "text/html": [
       "<div>\n",
       "<style scoped>\n",
       "    .dataframe tbody tr th:only-of-type {\n",
       "        vertical-align: middle;\n",
       "    }\n",
       "\n",
       "    .dataframe tbody tr th {\n",
       "        vertical-align: top;\n",
       "    }\n",
       "\n",
       "    .dataframe thead th {\n",
       "        text-align: right;\n",
       "    }\n",
       "</style>\n",
       "<table border=\"1\" class=\"dataframe\">\n",
       "  <thead>\n",
       "    <tr style=\"text-align: right;\">\n",
       "      <th></th>\n",
       "      <th>_heartbeat_</th>\n",
       "      <th>a</th>\n",
       "      <th>al</th>\n",
       "      <th>c</th>\n",
       "      <th>cy</th>\n",
       "      <th>g</th>\n",
       "      <th>gr</th>\n",
       "      <th>h</th>\n",
       "      <th>hc</th>\n",
       "      <th>hh</th>\n",
       "      <th>kw</th>\n",
       "      <th>l</th>\n",
       "      <th>ll</th>\n",
       "      <th>nk</th>\n",
       "      <th>r</th>\n",
       "      <th>t</th>\n",
       "      <th>tz</th>\n",
       "      <th>u</th>\n",
       "    </tr>\n",
       "  </thead>\n",
       "  <tbody>\n",
       "    <tr>\n",
       "      <th>0</th>\n",
       "      <td>NaN</td>\n",
       "      <td>Mozilla/5.0 (Linux; U; Android 4.1.2; en-us; H...</td>\n",
       "      <td>en-US</td>\n",
       "      <td>US</td>\n",
       "      <td>Anaheim</td>\n",
       "      <td>15r91</td>\n",
       "      <td>CA</td>\n",
       "      <td>10OBm3W</td>\n",
       "      <td>1.365701e+09</td>\n",
       "      <td>j.mp</td>\n",
       "      <td>NaN</td>\n",
       "      <td>pontifier</td>\n",
       "      <td>[33.816101, -117.979401]</td>\n",
       "      <td>0.0</td>\n",
       "      <td>direct</td>\n",
       "      <td>1.368832e+09</td>\n",
       "      <td>America/Los_Angeles</td>\n",
       "      <td>http://www.nsa.gov/</td>\n",
       "    </tr>\n",
       "    <tr>\n",
       "      <th>1</th>\n",
       "      <td>NaN</td>\n",
       "      <td>Mozilla/4.0 (compatible; MSIE 7.0; Windows NT ...</td>\n",
       "      <td>en-us</td>\n",
       "      <td>None</td>\n",
       "      <td>NaN</td>\n",
       "      <td>ifIpBW</td>\n",
       "      <td>NaN</td>\n",
       "      <td>ifIpBW</td>\n",
       "      <td>1.302189e+09</td>\n",
       "      <td>1.usa.gov</td>\n",
       "      <td>NaN</td>\n",
       "      <td>bitly</td>\n",
       "      <td>NaN</td>\n",
       "      <td>0.0</td>\n",
       "      <td>http://www.usa.gov/</td>\n",
       "      <td>1.368832e+09</td>\n",
       "      <td></td>\n",
       "      <td>http://answers.usa.gov/system/selfservice.cont...</td>\n",
       "    </tr>\n",
       "    <tr>\n",
       "      <th>2</th>\n",
       "      <td>NaN</td>\n",
       "      <td>Mozilla/5.0 (Windows NT 6.1; rv:21.0) Gecko/20...</td>\n",
       "      <td>en-US,en;q=0.5</td>\n",
       "      <td>US</td>\n",
       "      <td>Fort Huachuca</td>\n",
       "      <td>10DaxOu</td>\n",
       "      <td>AZ</td>\n",
       "      <td>10DaxOt</td>\n",
       "      <td>1.368815e+09</td>\n",
       "      <td>1.usa.gov</td>\n",
       "      <td>NaN</td>\n",
       "      <td>jaxstrong</td>\n",
       "      <td>[31.5273, -110.360703]</td>\n",
       "      <td>1.0</td>\n",
       "      <td>http://www.facebook.com/l.php?u=http%3A%2F%2F1...</td>\n",
       "      <td>1.368832e+09</td>\n",
       "      <td>America/Phoenix</td>\n",
       "      <td>http://www.saj.usace.army.mil/Media/NewsReleas...</td>\n",
       "    </tr>\n",
       "    <tr>\n",
       "      <th>3</th>\n",
       "      <td>NaN</td>\n",
       "      <td>Mozilla/5.0 (Linux; U; Android 4.1.2; en-us; S...</td>\n",
       "      <td>en-US</td>\n",
       "      <td>US</td>\n",
       "      <td>Houston</td>\n",
       "      <td>TysVFU</td>\n",
       "      <td>TX</td>\n",
       "      <td>TChsoQ</td>\n",
       "      <td>1.354719e+09</td>\n",
       "      <td>1.usa.gov</td>\n",
       "      <td>NaN</td>\n",
       "      <td>o_5004fs3lvd</td>\n",
       "      <td>[29.7633, -95.363297]</td>\n",
       "      <td>1.0</td>\n",
       "      <td>http://m.facebook.com/l.php?u=http%3A%2F%2F1.u...</td>\n",
       "      <td>1.368832e+09</td>\n",
       "      <td>America/Chicago</td>\n",
       "      <td>https://nationalregistry.fmcsa.dot.gov/</td>\n",
       "    </tr>\n",
       "    <tr>\n",
       "      <th>4</th>\n",
       "      <td>NaN</td>\n",
       "      <td>Opera/9.80 (Android; Opera Mini/7.5.33286/29.3...</td>\n",
       "      <td>en</td>\n",
       "      <td>None</td>\n",
       "      <td>NaN</td>\n",
       "      <td>10IGW7m</td>\n",
       "      <td>NaN</td>\n",
       "      <td>10IGW7l</td>\n",
       "      <td>1.368738e+09</td>\n",
       "      <td>1.usa.gov</td>\n",
       "      <td>NaN</td>\n",
       "      <td>peacecorps</td>\n",
       "      <td>NaN</td>\n",
       "      <td>0.0</td>\n",
       "      <td>http://t.co/CDO9hLTtNT</td>\n",
       "      <td>1.368832e+09</td>\n",
       "      <td></td>\n",
       "      <td>http://www.peacecorps.gov/learn/howvol/ab530gr...</td>\n",
       "    </tr>\n",
       "    <tr>\n",
       "      <th>5</th>\n",
       "      <td>NaN</td>\n",
       "      <td>Mozilla/5.0 (compatible; MSIE 10.0; Windows NT...</td>\n",
       "      <td>en-US</td>\n",
       "      <td>US</td>\n",
       "      <td>Mishawaka</td>\n",
       "      <td>13GrCeP</td>\n",
       "      <td>IN</td>\n",
       "      <td>13GrCeP</td>\n",
       "      <td>1.368131e+09</td>\n",
       "      <td>1.usa.gov</td>\n",
       "      <td>NaN</td>\n",
       "      <td>bitly</td>\n",
       "      <td>[41.612301, -86.1381]</td>\n",
       "      <td>0.0</td>\n",
       "      <td>direct</td>\n",
       "      <td>1.368832e+09</td>\n",
       "      <td>America/Indianapolis</td>\n",
       "      <td>https://petitions.whitehouse.gov/petition/repe...</td>\n",
       "    </tr>\n",
       "    <tr>\n",
       "      <th>6</th>\n",
       "      <td>NaN</td>\n",
       "      <td>Mozilla/5.0 (Windows NT 6.1; WOW64; rv:20.0) G...</td>\n",
       "      <td>en-US,en;q=0.5</td>\n",
       "      <td>US</td>\n",
       "      <td>Hammond</td>\n",
       "      <td>YmtpnZ</td>\n",
       "      <td>WI</td>\n",
       "      <td>YmtpnZ</td>\n",
       "      <td>1.363712e+09</td>\n",
       "      <td>1.usa.gov</td>\n",
       "      <td>NaN</td>\n",
       "      <td>bitly</td>\n",
       "      <td>[45.007, -92.459099]</td>\n",
       "      <td>1.0</td>\n",
       "      <td>http://www.bwsd.k12.wi.us/SitePages/Home.aspx</td>\n",
       "      <td>1.368832e+09</td>\n",
       "      <td>America/Chicago</td>\n",
       "      <td>http://pld.dpi.wi.gov/files/pld/images/LinkWI.png</td>\n",
       "    </tr>\n",
       "    <tr>\n",
       "      <th>7</th>\n",
       "      <td>NaN</td>\n",
       "      <td>Mozilla/5.0 (iPhone; U; CPU iPhone OS 4_3_5 li...</td>\n",
       "      <td>en-us</td>\n",
       "      <td>None</td>\n",
       "      <td>NaN</td>\n",
       "      <td>13oM0hV</td>\n",
       "      <td>NaN</td>\n",
       "      <td>15PUeH0</td>\n",
       "      <td>1.368714e+09</td>\n",
       "      <td>go.nasa.gov</td>\n",
       "      <td>NaN</td>\n",
       "      <td>nasatwitter</td>\n",
       "      <td>NaN</td>\n",
       "      <td>0.0</td>\n",
       "      <td>http://t.co/YIsVhFDLj2</td>\n",
       "      <td>1.368832e+09</td>\n",
       "      <td></td>\n",
       "      <td>http://www.nasa.gov/multimedia/imagegallery/im...</td>\n",
       "    </tr>\n",
       "    <tr>\n",
       "      <th>8</th>\n",
       "      <td>NaN</td>\n",
       "      <td>Mozilla/5.0 (iPhone; CPU iPhone OS 6_1_3 like ...</td>\n",
       "      <td>en-us</td>\n",
       "      <td>AU</td>\n",
       "      <td>Sydney</td>\n",
       "      <td>15r91</td>\n",
       "      <td>02</td>\n",
       "      <td>10OBm3W</td>\n",
       "      <td>1.365701e+09</td>\n",
       "      <td>j.mp</td>\n",
       "      <td>NaN</td>\n",
       "      <td>pontifier</td>\n",
       "      <td>[-33.8615, 151.205505]</td>\n",
       "      <td>0.0</td>\n",
       "      <td>direct</td>\n",
       "      <td>1.368832e+09</td>\n",
       "      <td>Australia/NSW</td>\n",
       "      <td>http://www.nsa.gov/</td>\n",
       "    </tr>\n",
       "    <tr>\n",
       "      <th>9</th>\n",
       "      <td>NaN</td>\n",
       "      <td>Mozilla/5.0 (Windows NT 6.1; WOW64) AppleWebKi...</td>\n",
       "      <td>en-US,en;q=0.8</td>\n",
       "      <td>None</td>\n",
       "      <td>NaN</td>\n",
       "      <td>109LtDc</td>\n",
       "      <td>NaN</td>\n",
       "      <td>109LtDb</td>\n",
       "      <td>1.368822e+09</td>\n",
       "      <td>go.nasa.gov</td>\n",
       "      <td>NaN</td>\n",
       "      <td>nasatwitter</td>\n",
       "      <td>NaN</td>\n",
       "      <td>0.0</td>\n",
       "      <td>http://t.co/yPSKO2t5v1</td>\n",
       "      <td>1.368832e+09</td>\n",
       "      <td></td>\n",
       "      <td>http://www.nasa.gov/mission_pages/sunearth/new...</td>\n",
       "    </tr>\n",
       "    <tr>\n",
       "      <th>10</th>\n",
       "      <td>NaN</td>\n",
       "      <td>Mozilla/5.0 (iPhone; CPU iPhone OS 6_1_3 like ...</td>\n",
       "      <td>en-us</td>\n",
       "      <td>US</td>\n",
       "      <td>Middletown</td>\n",
       "      <td>109ar5F</td>\n",
       "      <td>OH</td>\n",
       "      <td>109ar5E</td>\n",
       "      <td>1.368804e+09</td>\n",
       "      <td>1.usa.gov</td>\n",
       "      <td>NaN</td>\n",
       "      <td>usairforce</td>\n",
       "      <td>[39.515099, -84.3983]</td>\n",
       "      <td>1.0</td>\n",
       "      <td>https://m.facebook.com</td>\n",
       "      <td>1.368832e+09</td>\n",
       "      <td>America/New_York</td>\n",
       "      <td>http://www.dodlive.mil/index.php/2013/05/the-2...</td>\n",
       "    </tr>\n",
       "    <tr>\n",
       "      <th>11</th>\n",
       "      <td>NaN</td>\n",
       "      <td>Mozilla/5.0 (iPhone; CPU iPhone OS 6_1_3 like ...</td>\n",
       "      <td>en-us</td>\n",
       "      <td>US</td>\n",
       "      <td>Germantown</td>\n",
       "      <td>107xZnW</td>\n",
       "      <td>MD</td>\n",
       "      <td>107xZnW</td>\n",
       "      <td>1.368815e+09</td>\n",
       "      <td>1.usa.gov</td>\n",
       "      <td>NaN</td>\n",
       "      <td>bitly</td>\n",
       "      <td>[39.131699, -77.288002]</td>\n",
       "      <td>0.0</td>\n",
       "      <td>http://t.co/u8qVCKx8RK</td>\n",
       "      <td>1.368832e+09</td>\n",
       "      <td>America/New_York</td>\n",
       "      <td>http://doggett.house.gov/index.php/news/571-do...</td>\n",
       "    </tr>\n",
       "    <tr>\n",
       "      <th>12</th>\n",
       "      <td>NaN</td>\n",
       "      <td>Mozilla/5.0 (iPad; CPU OS 6_1_2 like Mac OS X)...</td>\n",
       "      <td>en-us</td>\n",
       "      <td>US</td>\n",
       "      <td>Richmond</td>\n",
       "      <td>19AcekS</td>\n",
       "      <td>KY</td>\n",
       "      <td>19AcekR</td>\n",
       "      <td>1.368738e+09</td>\n",
       "      <td>1.usa.gov</td>\n",
       "      <td>NaN</td>\n",
       "      <td>peacecorps</td>\n",
       "      <td>[37.766602, -84.303101]</td>\n",
       "      <td>1.0</td>\n",
       "      <td>http://www.facebook.com/l.php?u=http%3A%2F%2F1...</td>\n",
       "      <td>1.368832e+09</td>\n",
       "      <td>America/New_York</td>\n",
       "      <td>http://www.peacecorps.gov/learn/howvol/ab530gr...</td>\n",
       "    </tr>\n",
       "    <tr>\n",
       "      <th>13</th>\n",
       "      <td>NaN</td>\n",
       "      <td>Mozilla/5.0 (Windows NT 5.1; rv:20.0) Gecko/20...</td>\n",
       "      <td>en-US,en;q=0.5</td>\n",
       "      <td>US</td>\n",
       "      <td>Portland</td>\n",
       "      <td>16mY628</td>\n",
       "      <td>OR</td>\n",
       "      <td>16mY627</td>\n",
       "      <td>1.368744e+09</td>\n",
       "      <td>1.usa.gov</td>\n",
       "      <td>NaN</td>\n",
       "      <td>pbierce</td>\n",
       "      <td>[45.529499, -122.643204]</td>\n",
       "      <td>1.0</td>\n",
       "      <td>http://t.co/T8EyBbUBJ8</td>\n",
       "      <td>1.368832e+09</td>\n",
       "      <td>America/Los_Angeles</td>\n",
       "      <td>http://www.fws.gov/cno/press/release.cfm?rid=493</td>\n",
       "    </tr>\n",
       "    <tr>\n",
       "      <th>14</th>\n",
       "      <td>NaN</td>\n",
       "      <td>Mozilla/4.0 (compatible; MSIE 7.0; Windows NT ...</td>\n",
       "      <td>en-us</td>\n",
       "      <td>US</td>\n",
       "      <td>Aurora</td>\n",
       "      <td>YRyW8K</td>\n",
       "      <td>IL</td>\n",
       "      <td>YRyW8K</td>\n",
       "      <td>1.368476e+09</td>\n",
       "      <td>1.usa.gov</td>\n",
       "      <td>NaN</td>\n",
       "      <td>bitly</td>\n",
       "      <td>[41.760601, -88.320099]</td>\n",
       "      <td>0.0</td>\n",
       "      <td>http://www.z2systems.com/np/clients/kca/news.j...</td>\n",
       "      <td>1.368832e+09</td>\n",
       "      <td>America/Chicago</td>\n",
       "      <td>http://www.cancer.gov/PublishedContent/Images/...</td>\n",
       "    </tr>\n",
       "    <tr>\n",
       "      <th>15</th>\n",
       "      <td>NaN</td>\n",
       "      <td>Mozilla/5.0 (Macintosh; Intel Mac OS X 10.6; r...</td>\n",
       "      <td>en-US,en;q=0.5</td>\n",
       "      <td>US</td>\n",
       "      <td>Houston</td>\n",
       "      <td>18NUp44</td>\n",
       "      <td>TX</td>\n",
       "      <td>18NUoNR</td>\n",
       "      <td>1.368727e+09</td>\n",
       "      <td>1.usa.gov</td>\n",
       "      <td>NaN</td>\n",
       "      <td>o_1fs5ea3lim</td>\n",
       "      <td>[29.7633, -95.363297]</td>\n",
       "      <td>0.0</td>\n",
       "      <td>http://t.co/s307mx2qGk</td>\n",
       "      <td>1.368832e+09</td>\n",
       "      <td>America/Chicago</td>\n",
       "      <td>http://www.army.mil/article/103380/</td>\n",
       "    </tr>\n",
       "    <tr>\n",
       "      <th>16</th>\n",
       "      <td>NaN</td>\n",
       "      <td>Mozilla/5.0 (Windows NT 6.1; WOW64) AppleWebKi...</td>\n",
       "      <td>en-US,en;q=0.8</td>\n",
       "      <td>US</td>\n",
       "      <td>Muskego</td>\n",
       "      <td>YmtpnZ</td>\n",
       "      <td>WI</td>\n",
       "      <td>YmtpnZ</td>\n",
       "      <td>1.363712e+09</td>\n",
       "      <td>1.usa.gov</td>\n",
       "      <td>NaN</td>\n",
       "      <td>bitly</td>\n",
       "      <td>[42.877602, -88.133797]</td>\n",
       "      <td>0.0</td>\n",
       "      <td>http://www.cudahy.k12.wi.us/</td>\n",
       "      <td>1.368832e+09</td>\n",
       "      <td>America/Chicago</td>\n",
       "      <td>http://pld.dpi.wi.gov/files/pld/images/LinkWI.png</td>\n",
       "    </tr>\n",
       "    <tr>\n",
       "      <th>17</th>\n",
       "      <td>NaN</td>\n",
       "      <td>Mozilla/5.0 (Macintosh; Intel Mac OS X 10_6_8)...</td>\n",
       "      <td>en-us</td>\n",
       "      <td>US</td>\n",
       "      <td>Arvada</td>\n",
       "      <td>ZPictr</td>\n",
       "      <td>CO</td>\n",
       "      <td>ZPictq</td>\n",
       "      <td>1.366901e+09</td>\n",
       "      <td>1.usa.gov</td>\n",
       "      <td>NaN</td>\n",
       "      <td>o_d63rn9enb</td>\n",
       "      <td>[39.802799, -105.087502]</td>\n",
       "      <td>1.0</td>\n",
       "      <td>direct</td>\n",
       "      <td>1.368832e+09</td>\n",
       "      <td>America/Denver</td>\n",
       "      <td>http://www.nws.noaa.gov/com/weatherreadynation...</td>\n",
       "    </tr>\n",
       "    <tr>\n",
       "      <th>18</th>\n",
       "      <td>NaN</td>\n",
       "      <td>Mozilla/5.0 (Macintosh; Intel Mac OS X 10_8_3)...</td>\n",
       "      <td>en-us</td>\n",
       "      <td>US</td>\n",
       "      <td>Bend</td>\n",
       "      <td>11C6yJk</td>\n",
       "      <td>OR</td>\n",
       "      <td>19oVtZN</td>\n",
       "      <td>1.368558e+09</td>\n",
       "      <td>1.usa.gov</td>\n",
       "      <td>NaN</td>\n",
       "      <td>raylahood</td>\n",
       "      <td>[44.074402, -121.257401]</td>\n",
       "      <td>1.0</td>\n",
       "      <td>direct</td>\n",
       "      <td>1.368832e+09</td>\n",
       "      <td>America/Los_Angeles</td>\n",
       "      <td>http://fastlane.dot.gov/2013/05/new-locomotive...</td>\n",
       "    </tr>\n",
       "    <tr>\n",
       "      <th>19</th>\n",
       "      <td>NaN</td>\n",
       "      <td>Mozilla/5.0 (Windows NT 6.1; WOW64; rv:20.0) G...</td>\n",
       "      <td>en-US,en;q=0.5</td>\n",
       "      <td>US</td>\n",
       "      <td>Laurel</td>\n",
       "      <td>15RP5hF</td>\n",
       "      <td>MD</td>\n",
       "      <td>16Ewvc4</td>\n",
       "      <td>1.368818e+09</td>\n",
       "      <td>1.usa.gov</td>\n",
       "      <td>NaN</td>\n",
       "      <td>rebroth</td>\n",
       "      <td>[39.135799, -76.872002]</td>\n",
       "      <td>0.0</td>\n",
       "      <td>http://t.co/Dv6Jqbwu8H</td>\n",
       "      <td>1.368832e+09</td>\n",
       "      <td>America/New_York</td>\n",
       "      <td>http://apod.nasa.gov/apod/ap130517.html</td>\n",
       "    </tr>\n",
       "    <tr>\n",
       "      <th>20</th>\n",
       "      <td>NaN</td>\n",
       "      <td>Mozilla/5.0 (compatible; MSIE 9.0; Windows NT ...</td>\n",
       "      <td>en-us</td>\n",
       "      <td>US</td>\n",
       "      <td>Seattle</td>\n",
       "      <td>12yP2Cx</td>\n",
       "      <td>WA</td>\n",
       "      <td>12yP2Cw</td>\n",
       "      <td>1.368742e+09</td>\n",
       "      <td>1.usa.gov</td>\n",
       "      <td>NaN</td>\n",
       "      <td>o_6vo5h05abv</td>\n",
       "      <td>[47.606201, -122.3321]</td>\n",
       "      <td>1.0</td>\n",
       "      <td>http://t.co/7K9urpYyc6</td>\n",
       "      <td>1.368832e+09</td>\n",
       "      <td>America/Los_Angeles</td>\n",
       "      <td>http://www.ice.gov/news/releases/1305/130516sa...</td>\n",
       "    </tr>\n",
       "    <tr>\n",
       "      <th>21</th>\n",
       "      <td>NaN</td>\n",
       "      <td>Mozilla/5.0 (Windows NT 6.1; WOW64) AppleWebKi...</td>\n",
       "      <td>en-US,en;q=0.8</td>\n",
       "      <td>None</td>\n",
       "      <td>NaN</td>\n",
       "      <td>109ar5F</td>\n",
       "      <td>NaN</td>\n",
       "      <td>109ar5E</td>\n",
       "      <td>1.368804e+09</td>\n",
       "      <td>1.usa.gov</td>\n",
       "      <td>NaN</td>\n",
       "      <td>usairforce</td>\n",
       "      <td>NaN</td>\n",
       "      <td>0.0</td>\n",
       "      <td>https://www.facebook.com/</td>\n",
       "      <td>1.368832e+09</td>\n",
       "      <td></td>\n",
       "      <td>http://www.dodlive.mil/index.php/2013/05/the-2...</td>\n",
       "    </tr>\n",
       "    <tr>\n",
       "      <th>22</th>\n",
       "      <td>NaN</td>\n",
       "      <td>Mozilla/5.0 (Windows NT 6.1; WOW64) AppleWebKi...</td>\n",
       "      <td>en-US,en;q=0.8</td>\n",
       "      <td>US</td>\n",
       "      <td>Durand</td>\n",
       "      <td>YmtpnZ</td>\n",
       "      <td>WI</td>\n",
       "      <td>YmtpnZ</td>\n",
       "      <td>1.363712e+09</td>\n",
       "      <td>1.usa.gov</td>\n",
       "      <td>NaN</td>\n",
       "      <td>bitly</td>\n",
       "      <td>[44.590698, -91.891197]</td>\n",
       "      <td>0.0</td>\n",
       "      <td>http://www.alma.k12.wi.us/</td>\n",
       "      <td>1.368832e+09</td>\n",
       "      <td>America/Chicago</td>\n",
       "      <td>http://pld.dpi.wi.gov/files/pld/images/LinkWI.png</td>\n",
       "    </tr>\n",
       "    <tr>\n",
       "      <th>23</th>\n",
       "      <td>NaN</td>\n",
       "      <td>Mozilla/5.0 (Linux; U; Android 2.3.7; en-us; L...</td>\n",
       "      <td>en-us,en;q=0.9</td>\n",
       "      <td>None</td>\n",
       "      <td>NaN</td>\n",
       "      <td>107xZnW</td>\n",
       "      <td>NaN</td>\n",
       "      <td>107xZnW</td>\n",
       "      <td>1.368815e+09</td>\n",
       "      <td>1.usa.gov</td>\n",
       "      <td>NaN</td>\n",
       "      <td>bitly</td>\n",
       "      <td>NaN</td>\n",
       "      <td>0.0</td>\n",
       "      <td>http://m.facebook.com/l.php?u=http%3A%2F%2F1.u...</td>\n",
       "      <td>1.368832e+09</td>\n",
       "      <td></td>\n",
       "      <td>http://doggett.house.gov/index.php/news/571-do...</td>\n",
       "    </tr>\n",
       "    <tr>\n",
       "      <th>24</th>\n",
       "      <td>NaN</td>\n",
       "      <td>Mozilla/5.0 (Windows NT 5.1) AppleWebKit/537.3...</td>\n",
       "      <td>NaN</td>\n",
       "      <td>None</td>\n",
       "      <td>NaN</td>\n",
       "      <td>YmtpnZ</td>\n",
       "      <td>NaN</td>\n",
       "      <td>YmtpnZ</td>\n",
       "      <td>1.363712e+09</td>\n",
       "      <td>1.usa.gov</td>\n",
       "      <td>NaN</td>\n",
       "      <td>bitly</td>\n",
       "      <td>NaN</td>\n",
       "      <td>0.0</td>\n",
       "      <td>http://www.wabeno.k12.wi.us/</td>\n",
       "      <td>1.368832e+09</td>\n",
       "      <td></td>\n",
       "      <td>http://pld.dpi.wi.gov/files/pld/images/LinkWI.png</td>\n",
       "    </tr>\n",
       "    <tr>\n",
       "      <th>25</th>\n",
       "      <td>NaN</td>\n",
       "      <td>Mozilla/4.0 (compatible; MSIE 8.0; Windows NT ...</td>\n",
       "      <td>en-us,en;q=0.5</td>\n",
       "      <td>None</td>\n",
       "      <td>NaN</td>\n",
       "      <td>ifIpBW</td>\n",
       "      <td>NaN</td>\n",
       "      <td>ifIpBW</td>\n",
       "      <td>1.302189e+09</td>\n",
       "      <td>1.usa.gov</td>\n",
       "      <td>NaN</td>\n",
       "      <td>bitly</td>\n",
       "      <td>NaN</td>\n",
       "      <td>0.0</td>\n",
       "      <td>http://addthis.com/hemmings</td>\n",
       "      <td>1.368832e+09</td>\n",
       "      <td></td>\n",
       "      <td>http://answers.usa.gov/system/selfservice.cont...</td>\n",
       "    </tr>\n",
       "    <tr>\n",
       "      <th>26</th>\n",
       "      <td>NaN</td>\n",
       "      <td>Mozilla/4.0 (compatible; MSIE 8.0; Windows NT ...</td>\n",
       "      <td>en-us,en;q=0.5</td>\n",
       "      <td>None</td>\n",
       "      <td>NaN</td>\n",
       "      <td>ifIpBW</td>\n",
       "      <td>NaN</td>\n",
       "      <td>ifIpBW</td>\n",
       "      <td>1.302189e+09</td>\n",
       "      <td>1.usa.gov</td>\n",
       "      <td>NaN</td>\n",
       "      <td>bitly</td>\n",
       "      <td>NaN</td>\n",
       "      <td>0.0</td>\n",
       "      <td>http://addthis.com/hemmings</td>\n",
       "      <td>1.368832e+09</td>\n",
       "      <td></td>\n",
       "      <td>http://answers.usa.gov/system/selfservice.cont...</td>\n",
       "    </tr>\n",
       "    <tr>\n",
       "      <th>27</th>\n",
       "      <td>NaN</td>\n",
       "      <td>Mozilla/4.0 (compatible; MSIE 8.0; Windows NT ...</td>\n",
       "      <td>en-us,en;q=0.5</td>\n",
       "      <td>None</td>\n",
       "      <td>NaN</td>\n",
       "      <td>ifIpBW</td>\n",
       "      <td>NaN</td>\n",
       "      <td>ifIpBW</td>\n",
       "      <td>1.302189e+09</td>\n",
       "      <td>1.usa.gov</td>\n",
       "      <td>NaN</td>\n",
       "      <td>bitly</td>\n",
       "      <td>NaN</td>\n",
       "      <td>0.0</td>\n",
       "      <td>http://addthis.com/hemmings</td>\n",
       "      <td>1.368832e+09</td>\n",
       "      <td></td>\n",
       "      <td>http://answers.usa.gov/system/selfservice.cont...</td>\n",
       "    </tr>\n",
       "    <tr>\n",
       "      <th>28</th>\n",
       "      <td>NaN</td>\n",
       "      <td>Mozilla/4.0 (compatible; MSIE 8.0; Windows NT ...</td>\n",
       "      <td>en-us,en;q=0.5</td>\n",
       "      <td>None</td>\n",
       "      <td>NaN</td>\n",
       "      <td>ifIpBW</td>\n",
       "      <td>NaN</td>\n",
       "      <td>ifIpBW</td>\n",
       "      <td>1.302189e+09</td>\n",
       "      <td>1.usa.gov</td>\n",
       "      <td>NaN</td>\n",
       "      <td>bitly</td>\n",
       "      <td>NaN</td>\n",
       "      <td>0.0</td>\n",
       "      <td>http://addthis.com/hemmings</td>\n",
       "      <td>1.368832e+09</td>\n",
       "      <td></td>\n",
       "      <td>http://answers.usa.gov/system/selfservice.cont...</td>\n",
       "    </tr>\n",
       "    <tr>\n",
       "      <th>29</th>\n",
       "      <td>NaN</td>\n",
       "      <td>Mozilla/4.0 (compatible; MSIE 8.0; Windows NT ...</td>\n",
       "      <td>en-us,en;q=0.5</td>\n",
       "      <td>None</td>\n",
       "      <td>NaN</td>\n",
       "      <td>ifIpBW</td>\n",
       "      <td>NaN</td>\n",
       "      <td>ifIpBW</td>\n",
       "      <td>1.302189e+09</td>\n",
       "      <td>1.usa.gov</td>\n",
       "      <td>NaN</td>\n",
       "      <td>bitly</td>\n",
       "      <td>NaN</td>\n",
       "      <td>0.0</td>\n",
       "      <td>http://addthis.com/hemmings</td>\n",
       "      <td>1.368832e+09</td>\n",
       "      <td></td>\n",
       "      <td>http://answers.usa.gov/system/selfservice.cont...</td>\n",
       "    </tr>\n",
       "    <tr>\n",
       "      <th>...</th>\n",
       "      <td>...</td>\n",
       "      <td>...</td>\n",
       "      <td>...</td>\n",
       "      <td>...</td>\n",
       "      <td>...</td>\n",
       "      <td>...</td>\n",
       "      <td>...</td>\n",
       "      <td>...</td>\n",
       "      <td>...</td>\n",
       "      <td>...</td>\n",
       "      <td>...</td>\n",
       "      <td>...</td>\n",
       "      <td>...</td>\n",
       "      <td>...</td>\n",
       "      <td>...</td>\n",
       "      <td>...</td>\n",
       "      <td>...</td>\n",
       "      <td>...</td>\n",
       "    </tr>\n",
       "    <tr>\n",
       "      <th>3929</th>\n",
       "      <td>NaN</td>\n",
       "      <td>Mozilla/5.0 (Windows NT 6.1; WOW64) AppleWebKi...</td>\n",
       "      <td>ja,en-US;q=0.8,en;q=0.6</td>\n",
       "      <td>None</td>\n",
       "      <td>NaN</td>\n",
       "      <td>10Kc32m</td>\n",
       "      <td>NaN</td>\n",
       "      <td>10Kc32l</td>\n",
       "      <td>1.368809e+09</td>\n",
       "      <td>go.nasa.gov</td>\n",
       "      <td>NaN</td>\n",
       "      <td>nasatwitter</td>\n",
       "      <td>NaN</td>\n",
       "      <td>1.0</td>\n",
       "      <td>http://t.co/HgiLLFRDtE</td>\n",
       "      <td>1.368836e+09</td>\n",
       "      <td></td>\n",
       "      <td>http://www.nasa.gov/mission_pages/station/expe...</td>\n",
       "    </tr>\n",
       "    <tr>\n",
       "      <th>3930</th>\n",
       "      <td>NaN</td>\n",
       "      <td>Mozilla/5.0 (Macintosh; Intel Mac OS X 10.8; r...</td>\n",
       "      <td>fr,fr-fr;q=0.8,en-us;q=0.5,en;q=0.3</td>\n",
       "      <td>CH</td>\n",
       "      <td>Chambesy</td>\n",
       "      <td>14bmsHn</td>\n",
       "      <td>07</td>\n",
       "      <td>14bmsHn</td>\n",
       "      <td>1.368224e+09</td>\n",
       "      <td>1.usa.gov</td>\n",
       "      <td>NaN</td>\n",
       "      <td>bitly</td>\n",
       "      <td>[46.242401, 6.1435]</td>\n",
       "      <td>0.0</td>\n",
       "      <td>direct</td>\n",
       "      <td>1.368836e+09</td>\n",
       "      <td>Europe/Zurich</td>\n",
       "      <td>http://gsaauctions.gov/gsaauctions/aucdsclnk?s...</td>\n",
       "    </tr>\n",
       "    <tr>\n",
       "      <th>3931</th>\n",
       "      <td>NaN</td>\n",
       "      <td>Mozilla/5.0 (Macintosh; Intel Mac OS X 10_8_3)...</td>\n",
       "      <td>en-us</td>\n",
       "      <td>US</td>\n",
       "      <td>Rockville</td>\n",
       "      <td>14bmsHn</td>\n",
       "      <td>MD</td>\n",
       "      <td>14bmsHn</td>\n",
       "      <td>1.368224e+09</td>\n",
       "      <td>1.usa.gov</td>\n",
       "      <td>NaN</td>\n",
       "      <td>bitly</td>\n",
       "      <td>[39.089199, -77.183502]</td>\n",
       "      <td>1.0</td>\n",
       "      <td>direct</td>\n",
       "      <td>1.368836e+09</td>\n",
       "      <td>America/New_York</td>\n",
       "      <td>http://gsaauctions.gov/gsaauctions/aucdsclnk?s...</td>\n",
       "    </tr>\n",
       "    <tr>\n",
       "      <th>3932</th>\n",
       "      <td>NaN</td>\n",
       "      <td>Mozilla/5.0 (Windows NT 6.0) AppleWebKit/537.3...</td>\n",
       "      <td>en-US,en;q=0.8</td>\n",
       "      <td>None</td>\n",
       "      <td>NaN</td>\n",
       "      <td>15r91</td>\n",
       "      <td>NaN</td>\n",
       "      <td>10OBm3W</td>\n",
       "      <td>1.365701e+09</td>\n",
       "      <td>j.mp</td>\n",
       "      <td>NaN</td>\n",
       "      <td>pontifier</td>\n",
       "      <td>NaN</td>\n",
       "      <td>0.0</td>\n",
       "      <td>direct</td>\n",
       "      <td>1.368836e+09</td>\n",
       "      <td></td>\n",
       "      <td>http://www.nsa.gov/</td>\n",
       "    </tr>\n",
       "    <tr>\n",
       "      <th>3933</th>\n",
       "      <td>NaN</td>\n",
       "      <td>Mozilla/5.0 (iPhone; CPU iPhone OS 6_1_3 like ...</td>\n",
       "      <td>en-us</td>\n",
       "      <td>US</td>\n",
       "      <td>Ann Arbor</td>\n",
       "      <td>1084Psg</td>\n",
       "      <td>MI</td>\n",
       "      <td>1084Psg</td>\n",
       "      <td>1.368756e+09</td>\n",
       "      <td>j.mp</td>\n",
       "      <td>NaN</td>\n",
       "      <td>bitly</td>\n",
       "      <td>[42.216702, -83.740601]</td>\n",
       "      <td>1.0</td>\n",
       "      <td>http://t.co/orOTdRX5aF</td>\n",
       "      <td>1.368836e+09</td>\n",
       "      <td>America/New_York</td>\n",
       "      <td>http://science.nasa.gov/science-news/science-a...</td>\n",
       "    </tr>\n",
       "    <tr>\n",
       "      <th>3934</th>\n",
       "      <td>NaN</td>\n",
       "      <td>Mozilla/5.0 (Windows NT 6.1; WOW64; rv:20.0) G...</td>\n",
       "      <td>en-US,en;q=0.5</td>\n",
       "      <td>US</td>\n",
       "      <td>Thomasville</td>\n",
       "      <td>15r91</td>\n",
       "      <td>NC</td>\n",
       "      <td>10OBm3W</td>\n",
       "      <td>1.365701e+09</td>\n",
       "      <td>j.mp</td>\n",
       "      <td>NaN</td>\n",
       "      <td>pontifier</td>\n",
       "      <td>[35.882599, -80.082001]</td>\n",
       "      <td>0.0</td>\n",
       "      <td>direct</td>\n",
       "      <td>1.368836e+09</td>\n",
       "      <td>America/New_York</td>\n",
       "      <td>http://www.nsa.gov/</td>\n",
       "    </tr>\n",
       "    <tr>\n",
       "      <th>3935</th>\n",
       "      <td>NaN</td>\n",
       "      <td>Mozilla/5.0 (Windows NT 6.1; WOW64) AppleWebKi...</td>\n",
       "      <td>en-US,en;q=0.8</td>\n",
       "      <td>US</td>\n",
       "      <td>Coronado Ntl Forest</td>\n",
       "      <td>186NWQK</td>\n",
       "      <td>AZ</td>\n",
       "      <td>186NWQK</td>\n",
       "      <td>1.368829e+09</td>\n",
       "      <td>1.usa.gov</td>\n",
       "      <td>NaN</td>\n",
       "      <td>bitly</td>\n",
       "      <td>[31.9582, -110.693001]</td>\n",
       "      <td>0.0</td>\n",
       "      <td>https://www.facebook.com/</td>\n",
       "      <td>1.368836e+09</td>\n",
       "      <td>America/Phoenix</td>\n",
       "      <td>http://cms3.tucsonaz.gov/files/police/media-re...</td>\n",
       "    </tr>\n",
       "    <tr>\n",
       "      <th>3936</th>\n",
       "      <td>NaN</td>\n",
       "      <td>Mozilla/5.0 (compatible; Genieo/1.0 http://www...</td>\n",
       "      <td>NaN</td>\n",
       "      <td>US</td>\n",
       "      <td>Manhattan Beach</td>\n",
       "      <td>YYv1XQ</td>\n",
       "      <td>CA</td>\n",
       "      <td>YYv1XQ</td>\n",
       "      <td>1.368711e+09</td>\n",
       "      <td>1.usa.gov</td>\n",
       "      <td>NaN</td>\n",
       "      <td>bitly</td>\n",
       "      <td>[33.889301, -118.401001]</td>\n",
       "      <td>0.0</td>\n",
       "      <td>direct</td>\n",
       "      <td>1.368836e+09</td>\n",
       "      <td>America/Los_Angeles</td>\n",
       "      <td>http://www.irs.gov/uac/Newsroom/Tax-Relief-for...</td>\n",
       "    </tr>\n",
       "    <tr>\n",
       "      <th>3937</th>\n",
       "      <td>NaN</td>\n",
       "      <td>Mozilla/5.0 (Linux; U; Android 4.0.3; en-gb; H...</td>\n",
       "      <td>en-GB, en-US</td>\n",
       "      <td>None</td>\n",
       "      <td>NaN</td>\n",
       "      <td>12AyUk2</td>\n",
       "      <td>NaN</td>\n",
       "      <td>12AyUk1</td>\n",
       "      <td>1.368808e+09</td>\n",
       "      <td>go.nasa.gov</td>\n",
       "      <td>NaN</td>\n",
       "      <td>nasatwitter</td>\n",
       "      <td>NaN</td>\n",
       "      <td>1.0</td>\n",
       "      <td>direct</td>\n",
       "      <td>1.368836e+09</td>\n",
       "      <td></td>\n",
       "      <td>http://www.jpl.nasa.gov/news/news.php?release=...</td>\n",
       "    </tr>\n",
       "    <tr>\n",
       "      <th>3938</th>\n",
       "      <td>NaN</td>\n",
       "      <td>Mozilla/5.0 (Linux; U; Android 4.1.2; es-es; G...</td>\n",
       "      <td>es-ES, en-US</td>\n",
       "      <td>None</td>\n",
       "      <td>NaN</td>\n",
       "      <td>12AyUk2</td>\n",
       "      <td>NaN</td>\n",
       "      <td>12AyUk1</td>\n",
       "      <td>1.368808e+09</td>\n",
       "      <td>go.nasa.gov</td>\n",
       "      <td>NaN</td>\n",
       "      <td>nasatwitter</td>\n",
       "      <td>NaN</td>\n",
       "      <td>1.0</td>\n",
       "      <td>http://t.co/q6402O6lFC</td>\n",
       "      <td>1.368836e+09</td>\n",
       "      <td></td>\n",
       "      <td>http://www.jpl.nasa.gov/news/news.php?release=...</td>\n",
       "    </tr>\n",
       "    <tr>\n",
       "      <th>3939</th>\n",
       "      <td>NaN</td>\n",
       "      <td>ShortLinkTranslate</td>\n",
       "      <td>NaN</td>\n",
       "      <td>JP</td>\n",
       "      <td>Kashiwa</td>\n",
       "      <td>YPnFn4</td>\n",
       "      <td>04</td>\n",
       "      <td>YPnFn3</td>\n",
       "      <td>1.368833e+09</td>\n",
       "      <td>1.usa.gov</td>\n",
       "      <td>NaN</td>\n",
       "      <td>hayano</td>\n",
       "      <td>[35.854401, 139.968903]</td>\n",
       "      <td>0.0</td>\n",
       "      <td>direct</td>\n",
       "      <td>1.368836e+09</td>\n",
       "      <td>Asia/Tokyo</td>\n",
       "      <td>http://www.doe.gov/articles/energy-department-...</td>\n",
       "    </tr>\n",
       "    <tr>\n",
       "      <th>3940</th>\n",
       "      <td>NaN</td>\n",
       "      <td>Mozilla/5.0 (Linux; U; Android 2.3.6; en-us; L...</td>\n",
       "      <td>en-US</td>\n",
       "      <td>None</td>\n",
       "      <td>NaN</td>\n",
       "      <td>15r91</td>\n",
       "      <td>NaN</td>\n",
       "      <td>10OBm3W</td>\n",
       "      <td>1.365701e+09</td>\n",
       "      <td>j.mp</td>\n",
       "      <td>NaN</td>\n",
       "      <td>pontifier</td>\n",
       "      <td>NaN</td>\n",
       "      <td>0.0</td>\n",
       "      <td>direct</td>\n",
       "      <td>1.368836e+09</td>\n",
       "      <td></td>\n",
       "      <td>http://www.nsa.gov/</td>\n",
       "    </tr>\n",
       "    <tr>\n",
       "      <th>3941</th>\n",
       "      <td>NaN</td>\n",
       "      <td>Mozilla/5.0 (iPad; CPU OS 6_1_3 like Mac OS X)...</td>\n",
       "      <td>en-us</td>\n",
       "      <td>US</td>\n",
       "      <td>Marshfield</td>\n",
       "      <td>YmtpnZ</td>\n",
       "      <td>WI</td>\n",
       "      <td>YmtpnZ</td>\n",
       "      <td>1.363712e+09</td>\n",
       "      <td>1.usa.gov</td>\n",
       "      <td>NaN</td>\n",
       "      <td>bitly</td>\n",
       "      <td>[44.6688, -90.171799]</td>\n",
       "      <td>0.0</td>\n",
       "      <td>http://www.colby.k12.wi.us/</td>\n",
       "      <td>1.368836e+09</td>\n",
       "      <td>America/Chicago</td>\n",
       "      <td>http://pld.dpi.wi.gov/files/pld/images/LinkWI.png</td>\n",
       "    </tr>\n",
       "    <tr>\n",
       "      <th>3942</th>\n",
       "      <td>NaN</td>\n",
       "      <td>Mozilla/5.0 (iPad; CPU OS 6_1_3 like Mac OS X)...</td>\n",
       "      <td>en-US,en;q=0.8</td>\n",
       "      <td>US</td>\n",
       "      <td>Vaughn</td>\n",
       "      <td>16uqtLe</td>\n",
       "      <td>WA</td>\n",
       "      <td>16uqtLd</td>\n",
       "      <td>1.368455e+09</td>\n",
       "      <td>1.usa.gov</td>\n",
       "      <td>NaN</td>\n",
       "      <td>o_33avl0ri1b</td>\n",
       "      <td>[47.314499, -122.778503]</td>\n",
       "      <td>0.0</td>\n",
       "      <td>http://fwp.mt.gov/</td>\n",
       "      <td>1.368836e+09</td>\n",
       "      <td>America/Los_Angeles</td>\n",
       "      <td>http://fwp.mt.gov/hunting/hunterAccess/openFie...</td>\n",
       "    </tr>\n",
       "    <tr>\n",
       "      <th>3943</th>\n",
       "      <td>NaN</td>\n",
       "      <td>Mozilla/5.0 (compatible; MSIE 9.0; Windows NT ...</td>\n",
       "      <td>en-US</td>\n",
       "      <td>US</td>\n",
       "      <td>Orlando</td>\n",
       "      <td>10WMBv9</td>\n",
       "      <td>FL</td>\n",
       "      <td>10WMBv9</td>\n",
       "      <td>1.368827e+09</td>\n",
       "      <td>1.usa.gov</td>\n",
       "      <td>NaN</td>\n",
       "      <td>bitly</td>\n",
       "      <td>[28.3899, -81.4366]</td>\n",
       "      <td>0.0</td>\n",
       "      <td>http://www.elnuevodia.com/brillanteexplosionen...</td>\n",
       "      <td>1.368836e+09</td>\n",
       "      <td>America/New_York</td>\n",
       "      <td>http://science.nasa.gov/media/medialibrary/201...</td>\n",
       "    </tr>\n",
       "    <tr>\n",
       "      <th>3944</th>\n",
       "      <td>NaN</td>\n",
       "      <td>Mozilla/5.0 (Linux; U; Android 2.3.4; en-us; D...</td>\n",
       "      <td>en-US</td>\n",
       "      <td>US</td>\n",
       "      <td>Lakewood</td>\n",
       "      <td>14bmsHn</td>\n",
       "      <td>OH</td>\n",
       "      <td>14bmsHn</td>\n",
       "      <td>1.368224e+09</td>\n",
       "      <td>1.usa.gov</td>\n",
       "      <td>NaN</td>\n",
       "      <td>bitly</td>\n",
       "      <td>[41.481701, -81.802399]</td>\n",
       "      <td>0.0</td>\n",
       "      <td>direct</td>\n",
       "      <td>1.368836e+09</td>\n",
       "      <td>America/New_York</td>\n",
       "      <td>http://gsaauctions.gov/gsaauctions/aucdsclnk?s...</td>\n",
       "    </tr>\n",
       "    <tr>\n",
       "      <th>3945</th>\n",
       "      <td>NaN</td>\n",
       "      <td>Mozilla/5.0 (Windows NT 6.1; WOW64; rv:20.0) G...</td>\n",
       "      <td>en-US,en;q=0.5</td>\n",
       "      <td>US</td>\n",
       "      <td>Boone</td>\n",
       "      <td>10X5IW8</td>\n",
       "      <td>NC</td>\n",
       "      <td>10X5IW7</td>\n",
       "      <td>1.368835e+09</td>\n",
       "      <td>1.usa.gov</td>\n",
       "      <td>NaN</td>\n",
       "      <td>inws</td>\n",
       "      <td>[36.219101, -81.656303]</td>\n",
       "      <td>0.0</td>\n",
       "      <td>http://www.facebook.com/l.php?u=http%3A%2F%2F1...</td>\n",
       "      <td>1.368836e+09</td>\n",
       "      <td>America/New_York</td>\n",
       "      <td>http://inws.wrh.noaa.gov/weather/alertinfo/103...</td>\n",
       "    </tr>\n",
       "    <tr>\n",
       "      <th>3946</th>\n",
       "      <td>NaN</td>\n",
       "      <td>Mozilla/5.0 (Windows NT 6.1) AppleWebKit/537.3...</td>\n",
       "      <td>en-US,en;q=0.8</td>\n",
       "      <td>None</td>\n",
       "      <td>NaN</td>\n",
       "      <td>YmtpnZ</td>\n",
       "      <td>NaN</td>\n",
       "      <td>YmtpnZ</td>\n",
       "      <td>1.363712e+09</td>\n",
       "      <td>1.usa.gov</td>\n",
       "      <td>NaN</td>\n",
       "      <td>bitly</td>\n",
       "      <td>NaN</td>\n",
       "      <td>1.0</td>\n",
       "      <td>http://www.cudahy.k12.wi.us/</td>\n",
       "      <td>1.368836e+09</td>\n",
       "      <td></td>\n",
       "      <td>http://pld.dpi.wi.gov/files/pld/images/LinkWI.png</td>\n",
       "    </tr>\n",
       "    <tr>\n",
       "      <th>3947</th>\n",
       "      <td>NaN</td>\n",
       "      <td>Mozilla/5.0 (Macintosh; Intel Mac OS X 10_8_3)...</td>\n",
       "      <td>en-US,en;q=0.8</td>\n",
       "      <td>US</td>\n",
       "      <td>Logan</td>\n",
       "      <td>107xZnW</td>\n",
       "      <td>UT</td>\n",
       "      <td>107xZnW</td>\n",
       "      <td>1.368815e+09</td>\n",
       "      <td>1.usa.gov</td>\n",
       "      <td>NaN</td>\n",
       "      <td>bitly</td>\n",
       "      <td>[41.641201, -111.896599]</td>\n",
       "      <td>0.0</td>\n",
       "      <td>https://www.facebook.com/</td>\n",
       "      <td>1.368836e+09</td>\n",
       "      <td>America/Denver</td>\n",
       "      <td>http://doggett.house.gov/index.php/news/571-do...</td>\n",
       "    </tr>\n",
       "    <tr>\n",
       "      <th>3948</th>\n",
       "      <td>NaN</td>\n",
       "      <td>Mozilla/5.0 (Linux; Android 4.0.4; SO-03D Buil...</td>\n",
       "      <td>ja,en-US;q=0.8,en;q=0.6</td>\n",
       "      <td>JP</td>\n",
       "      <td>Tokyo</td>\n",
       "      <td>15TFyGK</td>\n",
       "      <td>40</td>\n",
       "      <td>15TFyGJ</td>\n",
       "      <td>1.368810e+09</td>\n",
       "      <td>go.nasa.gov</td>\n",
       "      <td>NaN</td>\n",
       "      <td>nasatwitter</td>\n",
       "      <td>[35.685001, 139.751404]</td>\n",
       "      <td>1.0</td>\n",
       "      <td>direct</td>\n",
       "      <td>1.368836e+09</td>\n",
       "      <td>Asia/Tokyo</td>\n",
       "      <td>http://www.nasa.gov/mission_pages/mer/news/mer...</td>\n",
       "    </tr>\n",
       "    <tr>\n",
       "      <th>3949</th>\n",
       "      <td>NaN</td>\n",
       "      <td>Mozilla/5.0 (Windows NT 6.1; WOW64; rv:17.0) G...</td>\n",
       "      <td>en-gb,en;q=0.5</td>\n",
       "      <td>US</td>\n",
       "      <td>Castro Valley</td>\n",
       "      <td>11C6yJk</td>\n",
       "      <td>CA</td>\n",
       "      <td>19oVtZN</td>\n",
       "      <td>1.368558e+09</td>\n",
       "      <td>1.usa.gov</td>\n",
       "      <td>NaN</td>\n",
       "      <td>raylahood</td>\n",
       "      <td>[37.709, -122.088501]</td>\n",
       "      <td>0.0</td>\n",
       "      <td>http://www.cahighspeedrail.ca.gov/</td>\n",
       "      <td>1.368836e+09</td>\n",
       "      <td>America/Los_Angeles</td>\n",
       "      <td>http://fastlane.dot.gov/2013/05/new-locomotive...</td>\n",
       "    </tr>\n",
       "    <tr>\n",
       "      <th>3950</th>\n",
       "      <td>NaN</td>\n",
       "      <td>Mozilla/5.0 (iPhone; CPU iPhone OS 6_1_4 like ...</td>\n",
       "      <td>en-us</td>\n",
       "      <td>US</td>\n",
       "      <td>Fayetteville</td>\n",
       "      <td>10ydrrV</td>\n",
       "      <td>GA</td>\n",
       "      <td>10ydrrU</td>\n",
       "      <td>1.368806e+09</td>\n",
       "      <td>1.usa.gov</td>\n",
       "      <td>NaN</td>\n",
       "      <td>fsanewmedia</td>\n",
       "      <td>[33.481098, -84.479797]</td>\n",
       "      <td>0.0</td>\n",
       "      <td>http://t.co/psBn8njvIB</td>\n",
       "      <td>1.368836e+09</td>\n",
       "      <td>America/New_York</td>\n",
       "      <td>http://studentaid.ed.gov/repay-loans/understan...</td>\n",
       "    </tr>\n",
       "    <tr>\n",
       "      <th>3951</th>\n",
       "      <td>NaN</td>\n",
       "      <td>Mozilla/5.0 (Macintosh; Intel Mac OS X 10_6_8)...</td>\n",
       "      <td>en-us</td>\n",
       "      <td>US</td>\n",
       "      <td>Salem</td>\n",
       "      <td>107xZnW</td>\n",
       "      <td>VA</td>\n",
       "      <td>107xZnW</td>\n",
       "      <td>1.368815e+09</td>\n",
       "      <td>1.usa.gov</td>\n",
       "      <td>NaN</td>\n",
       "      <td>bitly</td>\n",
       "      <td>[37.2906, -80.101402]</td>\n",
       "      <td>0.0</td>\n",
       "      <td>http://www.facebook.com/l.php?u=http%3A%2F%2F1...</td>\n",
       "      <td>1.368836e+09</td>\n",
       "      <td>America/New_York</td>\n",
       "      <td>http://doggett.house.gov/index.php/news/571-do...</td>\n",
       "    </tr>\n",
       "    <tr>\n",
       "      <th>3952</th>\n",
       "      <td>NaN</td>\n",
       "      <td>Mozilla/5.0 (iPad; CPU OS 6_1_3 like Mac OS X)...</td>\n",
       "      <td>en-us</td>\n",
       "      <td>US</td>\n",
       "      <td>Grayson</td>\n",
       "      <td>107xZnW</td>\n",
       "      <td>KY</td>\n",
       "      <td>107xZnW</td>\n",
       "      <td>1.368815e+09</td>\n",
       "      <td>1.usa.gov</td>\n",
       "      <td>NaN</td>\n",
       "      <td>bitly</td>\n",
       "      <td>[38.336399, -82.992401]</td>\n",
       "      <td>0.0</td>\n",
       "      <td>http://www.facebook.com/l.php?u=http%3A%2F%2F1...</td>\n",
       "      <td>1.368836e+09</td>\n",
       "      <td>America/New_York</td>\n",
       "      <td>http://doggett.house.gov/index.php/news/571-do...</td>\n",
       "    </tr>\n",
       "    <tr>\n",
       "      <th>3953</th>\n",
       "      <td>1.368836e+09</td>\n",
       "      <td>NaN</td>\n",
       "      <td>NaN</td>\n",
       "      <td>NaN</td>\n",
       "      <td>NaN</td>\n",
       "      <td>NaN</td>\n",
       "      <td>NaN</td>\n",
       "      <td>NaN</td>\n",
       "      <td>NaN</td>\n",
       "      <td>NaN</td>\n",
       "      <td>NaN</td>\n",
       "      <td>NaN</td>\n",
       "      <td>NaN</td>\n",
       "      <td>NaN</td>\n",
       "      <td>NaN</td>\n",
       "      <td>NaN</td>\n",
       "      <td>NaN</td>\n",
       "      <td>NaN</td>\n",
       "    </tr>\n",
       "    <tr>\n",
       "      <th>3954</th>\n",
       "      <td>NaN</td>\n",
       "      <td>Mozilla/5.0 (Linux; U; Android 2.3.6; en-us; M...</td>\n",
       "      <td>en-US</td>\n",
       "      <td>US</td>\n",
       "      <td>Mobile</td>\n",
       "      <td>10WWSaR</td>\n",
       "      <td>AL</td>\n",
       "      <td>10WWSaQ</td>\n",
       "      <td>1.368831e+09</td>\n",
       "      <td>1.usa.gov</td>\n",
       "      <td>NaN</td>\n",
       "      <td>inws</td>\n",
       "      <td>[30.657499, -88.1586]</td>\n",
       "      <td>1.0</td>\n",
       "      <td>http://m.facebook.com/l.php?u=http%3A%2F%2F1.u...</td>\n",
       "      <td>1.368836e+09</td>\n",
       "      <td>America/Chicago</td>\n",
       "      <td>http://inws.wrh.noaa.gov/weather/alertinfo/103...</td>\n",
       "    </tr>\n",
       "    <tr>\n",
       "      <th>3955</th>\n",
       "      <td>NaN</td>\n",
       "      <td>Mozilla/5.0 (Macintosh; Intel Mac OS X 10_8_3)...</td>\n",
       "      <td>en-us</td>\n",
       "      <td>US</td>\n",
       "      <td>Brookfield</td>\n",
       "      <td>YmtpnZ</td>\n",
       "      <td>WI</td>\n",
       "      <td>YmtpnZ</td>\n",
       "      <td>1.363712e+09</td>\n",
       "      <td>1.usa.gov</td>\n",
       "      <td>NaN</td>\n",
       "      <td>bitly</td>\n",
       "      <td>[43.060799, -88.1558]</td>\n",
       "      <td>0.0</td>\n",
       "      <td>http://www.cudahy.k12.wi.us/</td>\n",
       "      <td>1.368836e+09</td>\n",
       "      <td>America/Chicago</td>\n",
       "      <td>http://pld.dpi.wi.gov/files/pld/images/LinkWI.png</td>\n",
       "    </tr>\n",
       "    <tr>\n",
       "      <th>3956</th>\n",
       "      <td>NaN</td>\n",
       "      <td>ShortLinkTranslate</td>\n",
       "      <td>NaN</td>\n",
       "      <td>JP</td>\n",
       "      <td>Tsukuba</td>\n",
       "      <td>YPnFn4</td>\n",
       "      <td>14</td>\n",
       "      <td>YPnFn3</td>\n",
       "      <td>1.368833e+09</td>\n",
       "      <td>1.usa.gov</td>\n",
       "      <td>NaN</td>\n",
       "      <td>hayano</td>\n",
       "      <td>[36.083302, 140.116699]</td>\n",
       "      <td>0.0</td>\n",
       "      <td>direct</td>\n",
       "      <td>1.368836e+09</td>\n",
       "      <td>Asia/Tokyo</td>\n",
       "      <td>http://www.doe.gov/articles/energy-department-...</td>\n",
       "    </tr>\n",
       "    <tr>\n",
       "      <th>3957</th>\n",
       "      <td>NaN</td>\n",
       "      <td>Mozilla/5.0 (iPhone; CPU iPhone OS 6_1_4 like ...</td>\n",
       "      <td>en-us</td>\n",
       "      <td>None</td>\n",
       "      <td>NaN</td>\n",
       "      <td>17B6VoC</td>\n",
       "      <td>NaN</td>\n",
       "      <td>16n91ZK</td>\n",
       "      <td>1.368747e+09</td>\n",
       "      <td>go.nasa.gov</td>\n",
       "      <td>NaN</td>\n",
       "      <td>nasatwitter</td>\n",
       "      <td>NaN</td>\n",
       "      <td>0.0</td>\n",
       "      <td>http://t.co/XLS75r3BCB</td>\n",
       "      <td>1.368836e+09</td>\n",
       "      <td></td>\n",
       "      <td>http://www.jpl.nasa.gov/news/news.php?release=...</td>\n",
       "    </tr>\n",
       "    <tr>\n",
       "      <th>3958</th>\n",
       "      <td>NaN</td>\n",
       "      <td>Mozilla/5.0 (Macintosh; Intel Mac OS X 10_6_8)...</td>\n",
       "      <td>en-us</td>\n",
       "      <td>PR</td>\n",
       "      <td>Guaynabo</td>\n",
       "      <td>10WMBv9</td>\n",
       "      <td>00</td>\n",
       "      <td>10WMBv9</td>\n",
       "      <td>1.368827e+09</td>\n",
       "      <td>1.usa.gov</td>\n",
       "      <td>NaN</td>\n",
       "      <td>bitly</td>\n",
       "      <td>[18.3876, -66.110802]</td>\n",
       "      <td>1.0</td>\n",
       "      <td>http://www.elnuevodia.com/brillanteexplosionen...</td>\n",
       "      <td>1.368836e+09</td>\n",
       "      <td>America/Puerto_Rico</td>\n",
       "      <td>http://science.nasa.gov/media/medialibrary/201...</td>\n",
       "    </tr>\n",
       "  </tbody>\n",
       "</table>\n",
       "<p>3959 rows × 18 columns</p>\n",
       "</div>"
      ],
      "text/plain": [
       "       _heartbeat_                                                  a  \\\n",
       "0              NaN  Mozilla/5.0 (Linux; U; Android 4.1.2; en-us; H...   \n",
       "1              NaN  Mozilla/4.0 (compatible; MSIE 7.0; Windows NT ...   \n",
       "2              NaN  Mozilla/5.0 (Windows NT 6.1; rv:21.0) Gecko/20...   \n",
       "3              NaN  Mozilla/5.0 (Linux; U; Android 4.1.2; en-us; S...   \n",
       "4              NaN  Opera/9.80 (Android; Opera Mini/7.5.33286/29.3...   \n",
       "5              NaN  Mozilla/5.0 (compatible; MSIE 10.0; Windows NT...   \n",
       "6              NaN  Mozilla/5.0 (Windows NT 6.1; WOW64; rv:20.0) G...   \n",
       "7              NaN  Mozilla/5.0 (iPhone; U; CPU iPhone OS 4_3_5 li...   \n",
       "8              NaN  Mozilla/5.0 (iPhone; CPU iPhone OS 6_1_3 like ...   \n",
       "9              NaN  Mozilla/5.0 (Windows NT 6.1; WOW64) AppleWebKi...   \n",
       "10             NaN  Mozilla/5.0 (iPhone; CPU iPhone OS 6_1_3 like ...   \n",
       "11             NaN  Mozilla/5.0 (iPhone; CPU iPhone OS 6_1_3 like ...   \n",
       "12             NaN  Mozilla/5.0 (iPad; CPU OS 6_1_2 like Mac OS X)...   \n",
       "13             NaN  Mozilla/5.0 (Windows NT 5.1; rv:20.0) Gecko/20...   \n",
       "14             NaN  Mozilla/4.0 (compatible; MSIE 7.0; Windows NT ...   \n",
       "15             NaN  Mozilla/5.0 (Macintosh; Intel Mac OS X 10.6; r...   \n",
       "16             NaN  Mozilla/5.0 (Windows NT 6.1; WOW64) AppleWebKi...   \n",
       "17             NaN  Mozilla/5.0 (Macintosh; Intel Mac OS X 10_6_8)...   \n",
       "18             NaN  Mozilla/5.0 (Macintosh; Intel Mac OS X 10_8_3)...   \n",
       "19             NaN  Mozilla/5.0 (Windows NT 6.1; WOW64; rv:20.0) G...   \n",
       "20             NaN  Mozilla/5.0 (compatible; MSIE 9.0; Windows NT ...   \n",
       "21             NaN  Mozilla/5.0 (Windows NT 6.1; WOW64) AppleWebKi...   \n",
       "22             NaN  Mozilla/5.0 (Windows NT 6.1; WOW64) AppleWebKi...   \n",
       "23             NaN  Mozilla/5.0 (Linux; U; Android 2.3.7; en-us; L...   \n",
       "24             NaN  Mozilla/5.0 (Windows NT 5.1) AppleWebKit/537.3...   \n",
       "25             NaN  Mozilla/4.0 (compatible; MSIE 8.0; Windows NT ...   \n",
       "26             NaN  Mozilla/4.0 (compatible; MSIE 8.0; Windows NT ...   \n",
       "27             NaN  Mozilla/4.0 (compatible; MSIE 8.0; Windows NT ...   \n",
       "28             NaN  Mozilla/4.0 (compatible; MSIE 8.0; Windows NT ...   \n",
       "29             NaN  Mozilla/4.0 (compatible; MSIE 8.0; Windows NT ...   \n",
       "...            ...                                                ...   \n",
       "3929           NaN  Mozilla/5.0 (Windows NT 6.1; WOW64) AppleWebKi...   \n",
       "3930           NaN  Mozilla/5.0 (Macintosh; Intel Mac OS X 10.8; r...   \n",
       "3931           NaN  Mozilla/5.0 (Macintosh; Intel Mac OS X 10_8_3)...   \n",
       "3932           NaN  Mozilla/5.0 (Windows NT 6.0) AppleWebKit/537.3...   \n",
       "3933           NaN  Mozilla/5.0 (iPhone; CPU iPhone OS 6_1_3 like ...   \n",
       "3934           NaN  Mozilla/5.0 (Windows NT 6.1; WOW64; rv:20.0) G...   \n",
       "3935           NaN  Mozilla/5.0 (Windows NT 6.1; WOW64) AppleWebKi...   \n",
       "3936           NaN  Mozilla/5.0 (compatible; Genieo/1.0 http://www...   \n",
       "3937           NaN  Mozilla/5.0 (Linux; U; Android 4.0.3; en-gb; H...   \n",
       "3938           NaN  Mozilla/5.0 (Linux; U; Android 4.1.2; es-es; G...   \n",
       "3939           NaN                                 ShortLinkTranslate   \n",
       "3940           NaN  Mozilla/5.0 (Linux; U; Android 2.3.6; en-us; L...   \n",
       "3941           NaN  Mozilla/5.0 (iPad; CPU OS 6_1_3 like Mac OS X)...   \n",
       "3942           NaN  Mozilla/5.0 (iPad; CPU OS 6_1_3 like Mac OS X)...   \n",
       "3943           NaN  Mozilla/5.0 (compatible; MSIE 9.0; Windows NT ...   \n",
       "3944           NaN  Mozilla/5.0 (Linux; U; Android 2.3.4; en-us; D...   \n",
       "3945           NaN  Mozilla/5.0 (Windows NT 6.1; WOW64; rv:20.0) G...   \n",
       "3946           NaN  Mozilla/5.0 (Windows NT 6.1) AppleWebKit/537.3...   \n",
       "3947           NaN  Mozilla/5.0 (Macintosh; Intel Mac OS X 10_8_3)...   \n",
       "3948           NaN  Mozilla/5.0 (Linux; Android 4.0.4; SO-03D Buil...   \n",
       "3949           NaN  Mozilla/5.0 (Windows NT 6.1; WOW64; rv:17.0) G...   \n",
       "3950           NaN  Mozilla/5.0 (iPhone; CPU iPhone OS 6_1_4 like ...   \n",
       "3951           NaN  Mozilla/5.0 (Macintosh; Intel Mac OS X 10_6_8)...   \n",
       "3952           NaN  Mozilla/5.0 (iPad; CPU OS 6_1_3 like Mac OS X)...   \n",
       "3953  1.368836e+09                                                NaN   \n",
       "3954           NaN  Mozilla/5.0 (Linux; U; Android 2.3.6; en-us; M...   \n",
       "3955           NaN  Mozilla/5.0 (Macintosh; Intel Mac OS X 10_8_3)...   \n",
       "3956           NaN                                 ShortLinkTranslate   \n",
       "3957           NaN  Mozilla/5.0 (iPhone; CPU iPhone OS 6_1_4 like ...   \n",
       "3958           NaN  Mozilla/5.0 (Macintosh; Intel Mac OS X 10_6_8)...   \n",
       "\n",
       "                                       al     c                   cy        g  \\\n",
       "0                                   en-US    US              Anaheim    15r91   \n",
       "1                                   en-us  None                  NaN   ifIpBW   \n",
       "2                          en-US,en;q=0.5    US        Fort Huachuca  10DaxOu   \n",
       "3                                   en-US    US              Houston   TysVFU   \n",
       "4                                      en  None                  NaN  10IGW7m   \n",
       "5                                   en-US    US            Mishawaka  13GrCeP   \n",
       "6                          en-US,en;q=0.5    US              Hammond   YmtpnZ   \n",
       "7                                   en-us  None                  NaN  13oM0hV   \n",
       "8                                   en-us    AU               Sydney    15r91   \n",
       "9                          en-US,en;q=0.8  None                  NaN  109LtDc   \n",
       "10                                  en-us    US           Middletown  109ar5F   \n",
       "11                                  en-us    US           Germantown  107xZnW   \n",
       "12                                  en-us    US             Richmond  19AcekS   \n",
       "13                         en-US,en;q=0.5    US             Portland  16mY628   \n",
       "14                                  en-us    US               Aurora   YRyW8K   \n",
       "15                         en-US,en;q=0.5    US              Houston  18NUp44   \n",
       "16                         en-US,en;q=0.8    US              Muskego   YmtpnZ   \n",
       "17                                  en-us    US               Arvada   ZPictr   \n",
       "18                                  en-us    US                 Bend  11C6yJk   \n",
       "19                         en-US,en;q=0.5    US               Laurel  15RP5hF   \n",
       "20                                  en-us    US              Seattle  12yP2Cx   \n",
       "21                         en-US,en;q=0.8  None                  NaN  109ar5F   \n",
       "22                         en-US,en;q=0.8    US               Durand   YmtpnZ   \n",
       "23                         en-us,en;q=0.9  None                  NaN  107xZnW   \n",
       "24                                    NaN  None                  NaN   YmtpnZ   \n",
       "25                         en-us,en;q=0.5  None                  NaN   ifIpBW   \n",
       "26                         en-us,en;q=0.5  None                  NaN   ifIpBW   \n",
       "27                         en-us,en;q=0.5  None                  NaN   ifIpBW   \n",
       "28                         en-us,en;q=0.5  None                  NaN   ifIpBW   \n",
       "29                         en-us,en;q=0.5  None                  NaN   ifIpBW   \n",
       "...                                   ...   ...                  ...      ...   \n",
       "3929              ja,en-US;q=0.8,en;q=0.6  None                  NaN  10Kc32m   \n",
       "3930  fr,fr-fr;q=0.8,en-us;q=0.5,en;q=0.3    CH             Chambesy  14bmsHn   \n",
       "3931                                en-us    US            Rockville  14bmsHn   \n",
       "3932                       en-US,en;q=0.8  None                  NaN    15r91   \n",
       "3933                                en-us    US            Ann Arbor  1084Psg   \n",
       "3934                       en-US,en;q=0.5    US          Thomasville    15r91   \n",
       "3935                       en-US,en;q=0.8    US  Coronado Ntl Forest  186NWQK   \n",
       "3936                                  NaN    US      Manhattan Beach   YYv1XQ   \n",
       "3937                         en-GB, en-US  None                  NaN  12AyUk2   \n",
       "3938                         es-ES, en-US  None                  NaN  12AyUk2   \n",
       "3939                                  NaN    JP              Kashiwa   YPnFn4   \n",
       "3940                                en-US  None                  NaN    15r91   \n",
       "3941                                en-us    US           Marshfield   YmtpnZ   \n",
       "3942                       en-US,en;q=0.8    US               Vaughn  16uqtLe   \n",
       "3943                                en-US    US              Orlando  10WMBv9   \n",
       "3944                                en-US    US             Lakewood  14bmsHn   \n",
       "3945                       en-US,en;q=0.5    US                Boone  10X5IW8   \n",
       "3946                       en-US,en;q=0.8  None                  NaN   YmtpnZ   \n",
       "3947                       en-US,en;q=0.8    US                Logan  107xZnW   \n",
       "3948              ja,en-US;q=0.8,en;q=0.6    JP                Tokyo  15TFyGK   \n",
       "3949                       en-gb,en;q=0.5    US        Castro Valley  11C6yJk   \n",
       "3950                                en-us    US         Fayetteville  10ydrrV   \n",
       "3951                                en-us    US                Salem  107xZnW   \n",
       "3952                                en-us    US              Grayson  107xZnW   \n",
       "3953                                  NaN   NaN                  NaN      NaN   \n",
       "3954                                en-US    US               Mobile  10WWSaR   \n",
       "3955                                en-us    US           Brookfield   YmtpnZ   \n",
       "3956                                  NaN    JP              Tsukuba   YPnFn4   \n",
       "3957                                en-us  None                  NaN  17B6VoC   \n",
       "3958                                en-us    PR             Guaynabo  10WMBv9   \n",
       "\n",
       "       gr        h            hc           hh   kw             l  \\\n",
       "0      CA  10OBm3W  1.365701e+09         j.mp  NaN     pontifier   \n",
       "1     NaN   ifIpBW  1.302189e+09    1.usa.gov  NaN         bitly   \n",
       "2      AZ  10DaxOt  1.368815e+09    1.usa.gov  NaN     jaxstrong   \n",
       "3      TX   TChsoQ  1.354719e+09    1.usa.gov  NaN  o_5004fs3lvd   \n",
       "4     NaN  10IGW7l  1.368738e+09    1.usa.gov  NaN    peacecorps   \n",
       "5      IN  13GrCeP  1.368131e+09    1.usa.gov  NaN         bitly   \n",
       "6      WI   YmtpnZ  1.363712e+09    1.usa.gov  NaN         bitly   \n",
       "7     NaN  15PUeH0  1.368714e+09  go.nasa.gov  NaN   nasatwitter   \n",
       "8      02  10OBm3W  1.365701e+09         j.mp  NaN     pontifier   \n",
       "9     NaN  109LtDb  1.368822e+09  go.nasa.gov  NaN   nasatwitter   \n",
       "10     OH  109ar5E  1.368804e+09    1.usa.gov  NaN    usairforce   \n",
       "11     MD  107xZnW  1.368815e+09    1.usa.gov  NaN         bitly   \n",
       "12     KY  19AcekR  1.368738e+09    1.usa.gov  NaN    peacecorps   \n",
       "13     OR  16mY627  1.368744e+09    1.usa.gov  NaN       pbierce   \n",
       "14     IL   YRyW8K  1.368476e+09    1.usa.gov  NaN         bitly   \n",
       "15     TX  18NUoNR  1.368727e+09    1.usa.gov  NaN  o_1fs5ea3lim   \n",
       "16     WI   YmtpnZ  1.363712e+09    1.usa.gov  NaN         bitly   \n",
       "17     CO   ZPictq  1.366901e+09    1.usa.gov  NaN   o_d63rn9enb   \n",
       "18     OR  19oVtZN  1.368558e+09    1.usa.gov  NaN     raylahood   \n",
       "19     MD  16Ewvc4  1.368818e+09    1.usa.gov  NaN       rebroth   \n",
       "20     WA  12yP2Cw  1.368742e+09    1.usa.gov  NaN  o_6vo5h05abv   \n",
       "21    NaN  109ar5E  1.368804e+09    1.usa.gov  NaN    usairforce   \n",
       "22     WI   YmtpnZ  1.363712e+09    1.usa.gov  NaN         bitly   \n",
       "23    NaN  107xZnW  1.368815e+09    1.usa.gov  NaN         bitly   \n",
       "24    NaN   YmtpnZ  1.363712e+09    1.usa.gov  NaN         bitly   \n",
       "25    NaN   ifIpBW  1.302189e+09    1.usa.gov  NaN         bitly   \n",
       "26    NaN   ifIpBW  1.302189e+09    1.usa.gov  NaN         bitly   \n",
       "27    NaN   ifIpBW  1.302189e+09    1.usa.gov  NaN         bitly   \n",
       "28    NaN   ifIpBW  1.302189e+09    1.usa.gov  NaN         bitly   \n",
       "29    NaN   ifIpBW  1.302189e+09    1.usa.gov  NaN         bitly   \n",
       "...   ...      ...           ...          ...  ...           ...   \n",
       "3929  NaN  10Kc32l  1.368809e+09  go.nasa.gov  NaN   nasatwitter   \n",
       "3930   07  14bmsHn  1.368224e+09    1.usa.gov  NaN         bitly   \n",
       "3931   MD  14bmsHn  1.368224e+09    1.usa.gov  NaN         bitly   \n",
       "3932  NaN  10OBm3W  1.365701e+09         j.mp  NaN     pontifier   \n",
       "3933   MI  1084Psg  1.368756e+09         j.mp  NaN         bitly   \n",
       "3934   NC  10OBm3W  1.365701e+09         j.mp  NaN     pontifier   \n",
       "3935   AZ  186NWQK  1.368829e+09    1.usa.gov  NaN         bitly   \n",
       "3936   CA   YYv1XQ  1.368711e+09    1.usa.gov  NaN         bitly   \n",
       "3937  NaN  12AyUk1  1.368808e+09  go.nasa.gov  NaN   nasatwitter   \n",
       "3938  NaN  12AyUk1  1.368808e+09  go.nasa.gov  NaN   nasatwitter   \n",
       "3939   04   YPnFn3  1.368833e+09    1.usa.gov  NaN        hayano   \n",
       "3940  NaN  10OBm3W  1.365701e+09         j.mp  NaN     pontifier   \n",
       "3941   WI   YmtpnZ  1.363712e+09    1.usa.gov  NaN         bitly   \n",
       "3942   WA  16uqtLd  1.368455e+09    1.usa.gov  NaN  o_33avl0ri1b   \n",
       "3943   FL  10WMBv9  1.368827e+09    1.usa.gov  NaN         bitly   \n",
       "3944   OH  14bmsHn  1.368224e+09    1.usa.gov  NaN         bitly   \n",
       "3945   NC  10X5IW7  1.368835e+09    1.usa.gov  NaN          inws   \n",
       "3946  NaN   YmtpnZ  1.363712e+09    1.usa.gov  NaN         bitly   \n",
       "3947   UT  107xZnW  1.368815e+09    1.usa.gov  NaN         bitly   \n",
       "3948   40  15TFyGJ  1.368810e+09  go.nasa.gov  NaN   nasatwitter   \n",
       "3949   CA  19oVtZN  1.368558e+09    1.usa.gov  NaN     raylahood   \n",
       "3950   GA  10ydrrU  1.368806e+09    1.usa.gov  NaN   fsanewmedia   \n",
       "3951   VA  107xZnW  1.368815e+09    1.usa.gov  NaN         bitly   \n",
       "3952   KY  107xZnW  1.368815e+09    1.usa.gov  NaN         bitly   \n",
       "3953  NaN      NaN           NaN          NaN  NaN           NaN   \n",
       "3954   AL  10WWSaQ  1.368831e+09    1.usa.gov  NaN          inws   \n",
       "3955   WI   YmtpnZ  1.363712e+09    1.usa.gov  NaN         bitly   \n",
       "3956   14   YPnFn3  1.368833e+09    1.usa.gov  NaN        hayano   \n",
       "3957  NaN  16n91ZK  1.368747e+09  go.nasa.gov  NaN   nasatwitter   \n",
       "3958   00  10WMBv9  1.368827e+09    1.usa.gov  NaN         bitly   \n",
       "\n",
       "                            ll   nk  \\\n",
       "0     [33.816101, -117.979401]  0.0   \n",
       "1                          NaN  0.0   \n",
       "2       [31.5273, -110.360703]  1.0   \n",
       "3        [29.7633, -95.363297]  1.0   \n",
       "4                          NaN  0.0   \n",
       "5        [41.612301, -86.1381]  0.0   \n",
       "6         [45.007, -92.459099]  1.0   \n",
       "7                          NaN  0.0   \n",
       "8       [-33.8615, 151.205505]  0.0   \n",
       "9                          NaN  0.0   \n",
       "10       [39.515099, -84.3983]  1.0   \n",
       "11     [39.131699, -77.288002]  0.0   \n",
       "12     [37.766602, -84.303101]  1.0   \n",
       "13    [45.529499, -122.643204]  1.0   \n",
       "14     [41.760601, -88.320099]  0.0   \n",
       "15       [29.7633, -95.363297]  0.0   \n",
       "16     [42.877602, -88.133797]  0.0   \n",
       "17    [39.802799, -105.087502]  1.0   \n",
       "18    [44.074402, -121.257401]  1.0   \n",
       "19     [39.135799, -76.872002]  0.0   \n",
       "20      [47.606201, -122.3321]  1.0   \n",
       "21                         NaN  0.0   \n",
       "22     [44.590698, -91.891197]  0.0   \n",
       "23                         NaN  0.0   \n",
       "24                         NaN  0.0   \n",
       "25                         NaN  0.0   \n",
       "26                         NaN  0.0   \n",
       "27                         NaN  0.0   \n",
       "28                         NaN  0.0   \n",
       "29                         NaN  0.0   \n",
       "...                        ...  ...   \n",
       "3929                       NaN  1.0   \n",
       "3930       [46.242401, 6.1435]  0.0   \n",
       "3931   [39.089199, -77.183502]  1.0   \n",
       "3932                       NaN  0.0   \n",
       "3933   [42.216702, -83.740601]  1.0   \n",
       "3934   [35.882599, -80.082001]  0.0   \n",
       "3935    [31.9582, -110.693001]  0.0   \n",
       "3936  [33.889301, -118.401001]  0.0   \n",
       "3937                       NaN  1.0   \n",
       "3938                       NaN  1.0   \n",
       "3939   [35.854401, 139.968903]  0.0   \n",
       "3940                       NaN  0.0   \n",
       "3941     [44.6688, -90.171799]  0.0   \n",
       "3942  [47.314499, -122.778503]  0.0   \n",
       "3943       [28.3899, -81.4366]  0.0   \n",
       "3944   [41.481701, -81.802399]  0.0   \n",
       "3945   [36.219101, -81.656303]  0.0   \n",
       "3946                       NaN  1.0   \n",
       "3947  [41.641201, -111.896599]  0.0   \n",
       "3948   [35.685001, 139.751404]  1.0   \n",
       "3949     [37.709, -122.088501]  0.0   \n",
       "3950   [33.481098, -84.479797]  0.0   \n",
       "3951     [37.2906, -80.101402]  0.0   \n",
       "3952   [38.336399, -82.992401]  0.0   \n",
       "3953                       NaN  NaN   \n",
       "3954     [30.657499, -88.1586]  1.0   \n",
       "3955     [43.060799, -88.1558]  0.0   \n",
       "3956   [36.083302, 140.116699]  0.0   \n",
       "3957                       NaN  0.0   \n",
       "3958     [18.3876, -66.110802]  1.0   \n",
       "\n",
       "                                                      r             t  \\\n",
       "0                                                direct  1.368832e+09   \n",
       "1                                   http://www.usa.gov/  1.368832e+09   \n",
       "2     http://www.facebook.com/l.php?u=http%3A%2F%2F1...  1.368832e+09   \n",
       "3     http://m.facebook.com/l.php?u=http%3A%2F%2F1.u...  1.368832e+09   \n",
       "4                                http://t.co/CDO9hLTtNT  1.368832e+09   \n",
       "5                                                direct  1.368832e+09   \n",
       "6         http://www.bwsd.k12.wi.us/SitePages/Home.aspx  1.368832e+09   \n",
       "7                                http://t.co/YIsVhFDLj2  1.368832e+09   \n",
       "8                                                direct  1.368832e+09   \n",
       "9                                http://t.co/yPSKO2t5v1  1.368832e+09   \n",
       "10                               https://m.facebook.com  1.368832e+09   \n",
       "11                               http://t.co/u8qVCKx8RK  1.368832e+09   \n",
       "12    http://www.facebook.com/l.php?u=http%3A%2F%2F1...  1.368832e+09   \n",
       "13                               http://t.co/T8EyBbUBJ8  1.368832e+09   \n",
       "14    http://www.z2systems.com/np/clients/kca/news.j...  1.368832e+09   \n",
       "15                               http://t.co/s307mx2qGk  1.368832e+09   \n",
       "16                         http://www.cudahy.k12.wi.us/  1.368832e+09   \n",
       "17                                               direct  1.368832e+09   \n",
       "18                                               direct  1.368832e+09   \n",
       "19                               http://t.co/Dv6Jqbwu8H  1.368832e+09   \n",
       "20                               http://t.co/7K9urpYyc6  1.368832e+09   \n",
       "21                            https://www.facebook.com/  1.368832e+09   \n",
       "22                           http://www.alma.k12.wi.us/  1.368832e+09   \n",
       "23    http://m.facebook.com/l.php?u=http%3A%2F%2F1.u...  1.368832e+09   \n",
       "24                         http://www.wabeno.k12.wi.us/  1.368832e+09   \n",
       "25                          http://addthis.com/hemmings  1.368832e+09   \n",
       "26                          http://addthis.com/hemmings  1.368832e+09   \n",
       "27                          http://addthis.com/hemmings  1.368832e+09   \n",
       "28                          http://addthis.com/hemmings  1.368832e+09   \n",
       "29                          http://addthis.com/hemmings  1.368832e+09   \n",
       "...                                                 ...           ...   \n",
       "3929                             http://t.co/HgiLLFRDtE  1.368836e+09   \n",
       "3930                                             direct  1.368836e+09   \n",
       "3931                                             direct  1.368836e+09   \n",
       "3932                                             direct  1.368836e+09   \n",
       "3933                             http://t.co/orOTdRX5aF  1.368836e+09   \n",
       "3934                                             direct  1.368836e+09   \n",
       "3935                          https://www.facebook.com/  1.368836e+09   \n",
       "3936                                             direct  1.368836e+09   \n",
       "3937                                             direct  1.368836e+09   \n",
       "3938                             http://t.co/q6402O6lFC  1.368836e+09   \n",
       "3939                                             direct  1.368836e+09   \n",
       "3940                                             direct  1.368836e+09   \n",
       "3941                        http://www.colby.k12.wi.us/  1.368836e+09   \n",
       "3942                                 http://fwp.mt.gov/  1.368836e+09   \n",
       "3943  http://www.elnuevodia.com/brillanteexplosionen...  1.368836e+09   \n",
       "3944                                             direct  1.368836e+09   \n",
       "3945  http://www.facebook.com/l.php?u=http%3A%2F%2F1...  1.368836e+09   \n",
       "3946                       http://www.cudahy.k12.wi.us/  1.368836e+09   \n",
       "3947                          https://www.facebook.com/  1.368836e+09   \n",
       "3948                                             direct  1.368836e+09   \n",
       "3949                 http://www.cahighspeedrail.ca.gov/  1.368836e+09   \n",
       "3950                             http://t.co/psBn8njvIB  1.368836e+09   \n",
       "3951  http://www.facebook.com/l.php?u=http%3A%2F%2F1...  1.368836e+09   \n",
       "3952  http://www.facebook.com/l.php?u=http%3A%2F%2F1...  1.368836e+09   \n",
       "3953                                                NaN           NaN   \n",
       "3954  http://m.facebook.com/l.php?u=http%3A%2F%2F1.u...  1.368836e+09   \n",
       "3955                       http://www.cudahy.k12.wi.us/  1.368836e+09   \n",
       "3956                                             direct  1.368836e+09   \n",
       "3957                             http://t.co/XLS75r3BCB  1.368836e+09   \n",
       "3958  http://www.elnuevodia.com/brillanteexplosionen...  1.368836e+09   \n",
       "\n",
       "                        tz                                                  u  \n",
       "0      America/Los_Angeles                                http://www.nsa.gov/  \n",
       "1                           http://answers.usa.gov/system/selfservice.cont...  \n",
       "2          America/Phoenix  http://www.saj.usace.army.mil/Media/NewsReleas...  \n",
       "3          America/Chicago            https://nationalregistry.fmcsa.dot.gov/  \n",
       "4                           http://www.peacecorps.gov/learn/howvol/ab530gr...  \n",
       "5     America/Indianapolis  https://petitions.whitehouse.gov/petition/repe...  \n",
       "6          America/Chicago  http://pld.dpi.wi.gov/files/pld/images/LinkWI.png  \n",
       "7                           http://www.nasa.gov/multimedia/imagegallery/im...  \n",
       "8            Australia/NSW                                http://www.nsa.gov/  \n",
       "9                           http://www.nasa.gov/mission_pages/sunearth/new...  \n",
       "10        America/New_York  http://www.dodlive.mil/index.php/2013/05/the-2...  \n",
       "11        America/New_York  http://doggett.house.gov/index.php/news/571-do...  \n",
       "12        America/New_York  http://www.peacecorps.gov/learn/howvol/ab530gr...  \n",
       "13     America/Los_Angeles   http://www.fws.gov/cno/press/release.cfm?rid=493  \n",
       "14         America/Chicago  http://www.cancer.gov/PublishedContent/Images/...  \n",
       "15         America/Chicago                http://www.army.mil/article/103380/  \n",
       "16         America/Chicago  http://pld.dpi.wi.gov/files/pld/images/LinkWI.png  \n",
       "17          America/Denver  http://www.nws.noaa.gov/com/weatherreadynation...  \n",
       "18     America/Los_Angeles  http://fastlane.dot.gov/2013/05/new-locomotive...  \n",
       "19        America/New_York            http://apod.nasa.gov/apod/ap130517.html  \n",
       "20     America/Los_Angeles  http://www.ice.gov/news/releases/1305/130516sa...  \n",
       "21                          http://www.dodlive.mil/index.php/2013/05/the-2...  \n",
       "22         America/Chicago  http://pld.dpi.wi.gov/files/pld/images/LinkWI.png  \n",
       "23                          http://doggett.house.gov/index.php/news/571-do...  \n",
       "24                          http://pld.dpi.wi.gov/files/pld/images/LinkWI.png  \n",
       "25                          http://answers.usa.gov/system/selfservice.cont...  \n",
       "26                          http://answers.usa.gov/system/selfservice.cont...  \n",
       "27                          http://answers.usa.gov/system/selfservice.cont...  \n",
       "28                          http://answers.usa.gov/system/selfservice.cont...  \n",
       "29                          http://answers.usa.gov/system/selfservice.cont...  \n",
       "...                    ...                                                ...  \n",
       "3929                        http://www.nasa.gov/mission_pages/station/expe...  \n",
       "3930         Europe/Zurich  http://gsaauctions.gov/gsaauctions/aucdsclnk?s...  \n",
       "3931      America/New_York  http://gsaauctions.gov/gsaauctions/aucdsclnk?s...  \n",
       "3932                                                      http://www.nsa.gov/  \n",
       "3933      America/New_York  http://science.nasa.gov/science-news/science-a...  \n",
       "3934      America/New_York                                http://www.nsa.gov/  \n",
       "3935       America/Phoenix  http://cms3.tucsonaz.gov/files/police/media-re...  \n",
       "3936   America/Los_Angeles  http://www.irs.gov/uac/Newsroom/Tax-Relief-for...  \n",
       "3937                        http://www.jpl.nasa.gov/news/news.php?release=...  \n",
       "3938                        http://www.jpl.nasa.gov/news/news.php?release=...  \n",
       "3939            Asia/Tokyo  http://www.doe.gov/articles/energy-department-...  \n",
       "3940                                                      http://www.nsa.gov/  \n",
       "3941       America/Chicago  http://pld.dpi.wi.gov/files/pld/images/LinkWI.png  \n",
       "3942   America/Los_Angeles  http://fwp.mt.gov/hunting/hunterAccess/openFie...  \n",
       "3943      America/New_York  http://science.nasa.gov/media/medialibrary/201...  \n",
       "3944      America/New_York  http://gsaauctions.gov/gsaauctions/aucdsclnk?s...  \n",
       "3945      America/New_York  http://inws.wrh.noaa.gov/weather/alertinfo/103...  \n",
       "3946                        http://pld.dpi.wi.gov/files/pld/images/LinkWI.png  \n",
       "3947        America/Denver  http://doggett.house.gov/index.php/news/571-do...  \n",
       "3948            Asia/Tokyo  http://www.nasa.gov/mission_pages/mer/news/mer...  \n",
       "3949   America/Los_Angeles  http://fastlane.dot.gov/2013/05/new-locomotive...  \n",
       "3950      America/New_York  http://studentaid.ed.gov/repay-loans/understan...  \n",
       "3951      America/New_York  http://doggett.house.gov/index.php/news/571-do...  \n",
       "3952      America/New_York  http://doggett.house.gov/index.php/news/571-do...  \n",
       "3953                   NaN                                                NaN  \n",
       "3954       America/Chicago  http://inws.wrh.noaa.gov/weather/alertinfo/103...  \n",
       "3955       America/Chicago  http://pld.dpi.wi.gov/files/pld/images/LinkWI.png  \n",
       "3956            Asia/Tokyo  http://www.doe.gov/articles/energy-department-...  \n",
       "3957                        http://www.jpl.nasa.gov/news/news.php?release=...  \n",
       "3958   America/Puerto_Rico  http://science.nasa.gov/media/medialibrary/201...  \n",
       "\n",
       "[3959 rows x 18 columns]"
      ]
     },
     "execution_count": 200,
     "metadata": {},
     "output_type": "execute_result"
    }
   ],
   "source": [
    "import json\n",
    "json_file = open( \"Files-04/usagov_bitly_data2013-05-17-1368832207\" )\n",
    "records = [json.loads(line) for line in json_file]\n",
    "frame = DataFrame( records )\n",
    "frame"
   ]
  },
  {
   "cell_type": "markdown",
   "metadata": {},
   "source": [
    "Timezones are stored in the $tz$ columns:"
   ]
  },
  {
   "cell_type": "code",
   "execution_count": 201,
   "metadata": {},
   "outputs": [
    {
     "data": {
      "text/plain": [
       "0     America/Los_Angeles\n",
       "1                        \n",
       "2         America/Phoenix\n",
       "3         America/Chicago\n",
       "4                        \n",
       "5    America/Indianapolis\n",
       "6         America/Chicago\n",
       "7                        \n",
       "8           Australia/NSW\n",
       "9                        \n",
       "Name: tz, dtype: object"
      ]
     },
     "execution_count": 201,
     "metadata": {},
     "output_type": "execute_result"
    }
   ],
   "source": [
    "frame['tz'][:10]"
   ]
  },
  {
   "cell_type": "markdown",
   "metadata": {},
   "source": [
    "We can use value_counts() to directly obtain the timezone frequency:"
   ]
  },
  {
   "cell_type": "code",
   "execution_count": 202,
   "metadata": {},
   "outputs": [
    {
     "data": {
      "text/plain": [
       "America/New_York                  903\n",
       "America/Chicago                   686\n",
       "                                  636\n",
       "America/Los_Angeles               421\n",
       "America/Puerto_Rico               184\n",
       "Asia/Tokyo                        102\n",
       "America/Denver                     89\n",
       "Europe/London                      85\n",
       "America/Indianapolis               50\n",
       "America/Phoenix                    40\n",
       "Europe/Moscow                      35\n",
       "America/Rainy_River                33\n",
       "Australia/NSW                      32\n",
       "America/Sao_Paulo                  29\n",
       "Europe/Paris                       27\n",
       "Europe/Berlin                      24\n",
       "America/Vancouver                  23\n",
       "Australia/Victoria                 23\n",
       "America/Mexico_City                22\n",
       "Europe/Madrid                      21\n",
       "Europe/Rome                        19\n",
       "America/Bogota                     16\n",
       "Chile/Continental                  16\n",
       "Europe/Amsterdam                   15\n",
       "Europe/Brussels                    14\n",
       "America/Caracas                    13\n",
       "Pacific/Honolulu                   12\n",
       "America/Argentina/Buenos_Aires     11\n",
       "Australia/Queensland               10\n",
       "America/Edmonton                    9\n",
       "                                 ... \n",
       "Asia/Vladivostok                    1\n",
       "Europe/Riga                         1\n",
       "America/Nassau                      1\n",
       "Asia/Phnom_Penh                     1\n",
       "Europe/Sarajevo                     1\n",
       "America/Jamaica                     1\n",
       "Asia/Amman                          1\n",
       "America/St_Lucia                    1\n",
       "Asia/Pontianak                      1\n",
       "Atlantic/Reykjavik                  1\n",
       "Europe/Ljubljana                    1\n",
       "Europe/Skopje                       1\n",
       "Africa/Casablanca                   1\n",
       "Asia/Karachi                        1\n",
       "America/Guadeloupe                  1\n",
       "America/St_Johns                    1\n",
       "Asia/Novokuznetsk                   1\n",
       "Europe/Jersey                       1\n",
       "Europe/Zaporozhye                   1\n",
       "Europe/Tallinn                      1\n",
       "Europe/Sofia                        1\n",
       "Asia/Taipei                         1\n",
       "Europe/Prague                       1\n",
       "Asia/Qatar                          1\n",
       "Asia/Dubai                          1\n",
       "Europe/Athens                       1\n",
       "America/Argentina/Catamarca         1\n",
       "Africa/Gaborone                     1\n",
       "America/Tijuana                     1\n",
       "America/Port_of_Spain               1\n",
       "Name: tz, Length: 111, dtype: int64"
      ]
     },
     "execution_count": 202,
     "metadata": {},
     "output_type": "execute_result"
    }
   ],
   "source": [
    "frame['tz'].value_counts()"
   ]
  },
  {
   "cell_type": "markdown",
   "metadata": {},
   "source": [
    "We cna clean data to tell between records which have no timezone from those which have an empty string:"
   ]
  },
  {
   "cell_type": "code",
   "execution_count": 203,
   "metadata": {},
   "outputs": [
    {
     "data": {
      "text/plain": [
       "America/New_York        903\n",
       "America/Chicago         686\n",
       "Unknown                 636\n",
       "America/Los_Angeles     421\n",
       "America/Puerto_Rico     184\n",
       "N/A                     120\n",
       "Asia/Tokyo              102\n",
       "America/Denver           89\n",
       "Europe/London            85\n",
       "America/Indianapolis     50\n",
       "Name: tz, dtype: int64"
      ]
     },
     "execution_count": 203,
     "metadata": {},
     "output_type": "execute_result"
    }
   ],
   "source": [
    "clean_tz = frame['tz'].fillna( 'N/A' )\n",
    "clean_tz[ clean_tz == '' ] = \"Unknown\"\n",
    "tz_counts = clean_tz.value_counts()\n",
    "tz_counts[:10]"
   ]
  },
  {
   "cell_type": "markdown",
   "metadata": {},
   "source": [
    "We can plot the results directly from Pandas, without calling Matplotlib explicitly:"
   ]
  },
  {
   "cell_type": "code",
   "execution_count": 204,
   "metadata": {},
   "outputs": [
    {
     "data": {
      "text/plain": [
       "<matplotlib.axes._subplots.AxesSubplot at 0x7f3109b10550>"
      ]
     },
     "execution_count": 204,
     "metadata": {},
     "output_type": "execute_result"
    },
    {
     "data": {
      "image/png": "[encoded data removed]",
      "text/plain": [
       "<Figure size 1080x720 with 1 Axes>"
      ]
     },
     "metadata": {
      "needs_background": "light"
     },
     "output_type": "display_data"
    }
   ],
   "source": [
    "%matplotlib inline\n",
    "tz_counts[:10].plot( kind='barh', rot=0, figsize=(15,10) )"
   ]
  },
  {
   "cell_type": "markdown",
   "metadata": {},
   "source": [
    "We can analyze the available information about web browsers employed by the users (contained in the $a$ column):"
   ]
  },
  {
   "cell_type": "code",
   "execution_count": 205,
   "metadata": {},
   "outputs": [
    {
     "data": {
      "text/plain": [
       "0    Mozilla/5.0 (Linux; U; Android 4.1.2; en-us; H...\n",
       "1    Mozilla/4.0 (compatible; MSIE 7.0; Windows NT ...\n",
       "2    Mozilla/5.0 (Windows NT 6.1; rv:21.0) Gecko/20...\n",
       "3    Mozilla/5.0 (Linux; U; Android 4.1.2; en-us; S...\n",
       "4    Opera/9.80 (Android; Opera Mini/7.5.33286/29.3...\n",
       "5    Mozilla/5.0 (compatible; MSIE 10.0; Windows NT...\n",
       "6    Mozilla/5.0 (Windows NT 6.1; WOW64; rv:20.0) G...\n",
       "7    Mozilla/5.0 (iPhone; U; CPU iPhone OS 4_3_5 li...\n",
       "8    Mozilla/5.0 (iPhone; CPU iPhone OS 6_1_3 like ...\n",
       "9    Mozilla/5.0 (Windows NT 6.1; WOW64) AppleWebKi...\n",
       "Name: a, dtype: object"
      ]
     },
     "execution_count": 205,
     "metadata": {},
     "output_type": "execute_result"
    }
   ],
   "source": [
    "frame['a'][:10]"
   ]
  },
  {
   "cell_type": "markdown",
   "metadata": {},
   "source": [
    "At first glance it looks like a daunting task, but we can simplify the agent strings by extracting their first word (which corresponds, approximately, to the browser name and major version):"
   ]
  },
  {
   "cell_type": "code",
   "execution_count": 206,
   "metadata": {},
   "outputs": [
    {
     "data": {
      "text/plain": [
       "0    Mozilla/5.0\n",
       "1    Mozilla/4.0\n",
       "2    Mozilla/5.0\n",
       "3    Mozilla/5.0\n",
       "4     Opera/9.80\n",
       "5    Mozilla/5.0\n",
       "6    Mozilla/5.0\n",
       "7    Mozilla/5.0\n",
       "8    Mozilla/5.0\n",
       "9    Mozilla/5.0\n",
       "dtype: object"
      ]
     },
     "execution_count": 206,
     "metadata": {},
     "output_type": "execute_result"
    }
   ],
   "source": [
    "browsers = Series( [x.split()[0] for x in frame['a'].dropna()] )\n",
    "browsers[:10]"
   ]
  },
  {
   "cell_type": "code",
   "execution_count": 207,
   "metadata": {},
   "outputs": [
    {
     "data": {
      "text/plain": [
       "Mozilla/5.0                                                         3251\n",
       "Mozilla/4.0                                                          322\n",
       "CakePHP                                                               38\n",
       "ShortLinkTranslate                                                    36\n",
       "TVersity                                                              30\n",
       "Opera/9.80                                                            28\n",
       "Dalvik/1.6.0                                                          19\n",
       "Xenu                                                                  15\n",
       "GoogleProducer;                                                       13\n",
       "feedzirra                                                              8\n",
       "iCoreService                                                           7\n",
       "Android                                                                6\n",
       "Slurp                                                                  4\n",
       "Kml-Google;                                                            4\n",
       "Dalvik/1.5.1                                                           4\n",
       "w3m/0.5.3+cvs-1.1055                                                   4\n",
       "Microsoft                                                              4\n",
       "Goose/1.0                                                              3\n",
       "BlackBerry8520/5.0.0.681                                               2\n",
       "Blogtrottr/2.0                                                         2\n",
       "Mechanize/2.5.1                                                        2\n",
       "Tumblr/106                                                             2\n",
       "MOT-MB860/                                                             2\n",
       "NokiaC3-00/5.0                                                         2\n",
       "BlackBerry9300/5.0.0.845                                               1\n",
       "BlackBerry8330/4.5.0.131                                               1\n",
       "ichiro/3.0                                                             1\n",
       "IrssiUrlLog/1.1_nemo                                                   1\n",
       "Faraday                                                                1\n",
       "Tarantula                                                              1\n",
       "SAMSUNG-GT-E2370/E1055GJVKB3                                           1\n",
       "Tweetlogix/2.1.1                                                       1\n",
       "SearchBlox                                                             1\n",
       "python-requests/1.2.0                                                  1\n",
       "BlackBerry9630/5.0.0.975                                               1\n",
       "BlackBerry8520/5.0.0.592                                               1\n",
       "BlackBerry8350i/5.0.0.1051                                             1\n",
       "StatusNet/1.1.0-release                                                1\n",
       "PantechP7040/JLUS04042011                                              1\n",
       "Catapiller/http://strange-insect.com/catapiller.php?action=home        1\n",
       "BlackBerry8520/5.0.0.1036                                              1\n",
       "BlackBerry9550/5.0.0.1015                                              1\n",
       "Socialite/7845                                                         1\n",
       "sam-r261                                                               1\n",
       "Opera/9.52                                                             1\n",
       "BlackBerry8520/5.0.0.509                                               1\n",
       "SAMSUNG-SGH-T139/T139UVJC1                                             1\n",
       "Lynx/2.8.8dev.3                                                        1\n",
       "BlackBerry8520/5.0.0.900                                               1\n",
       "SAMSUNG-SGH-T528g/T528UDKJ2[TF355314048380402000000017874047829]       1\n",
       "Mozilla/1.22                                                           1\n",
       "NetFront/4.2                                                           1\n",
       "Opera/9.50                                                             1\n",
       "BlackBerry8520/5.0.0.1067                                              1\n",
       "sprd-GT-A7100/1.0                                                      1\n",
       "dtype: int64"
      ]
     },
     "execution_count": 207,
     "metadata": {},
     "output_type": "execute_result"
    }
   ],
   "source": [
    "browsers.value_counts()"
   ]
  }
 ],
 "metadata": {
  "kernelspec": {
   "display_name": "Python 3",
   "language": "python",
   "name": "python3"
  },
  "language_info": {
   "codemirror_mode": {
    "name": "ipython",
    "version": 3
   },
   "file_extension": ".py",
   "mimetype": "text/x-python",
   "name": "python",
   "nbconvert_exporter": "python",
   "pygments_lexer": "ipython3",
   "version": "3.7.1"
  }
 },
 "nbformat": 4,
 "nbformat_minor": 1
}
